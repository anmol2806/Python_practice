{
 "cells": [
  {
   "cell_type": "code",
   "execution_count": null,
   "metadata": {},
   "outputs": [],
   "source": [
    "#lambda function\n",
    "# nameless\n",
    "# small and restricted\n",
    "# it is an anonymous function\n",
    "# multiple arguement with one condition\n",
    "\n",
    "\n",
    "# 3 essential parts\n",
    "#     The lambda keyword\n",
    "#     the parameters\n",
    "#     the function body\n",
    "# it can have any number of parameters, but the function body\n",
    "# can only one line\n",
    "\n",
    "# eg\n",
    "\n",
    "# Lambda x: x+x\n",
    "#     words like\n",
    "# def(x):\n",
    "#     return x+x\n",
    "\n",
    "# Syntax:\n",
    "    \n",
    "#     lambda p1,p2:expression\n",
    "# p1,p2 are parameters and they can be as many"
   ]
  },
  {
   "cell_type": "code",
   "execution_count": 12,
   "metadata": {
    "scrolled": true
   },
   "outputs": [
    {
     "name": "stdout",
     "output_type": "stream",
     "text": [
      "3\n",
      "<function <lambda> at 0x00E71A90>\n",
      "ssdiff fff\n"
     ]
    }
   ],
   "source": [
    "#first example\n",
    "adder=lambda x,y:x+y\n",
    "print(adder(1,2))\n",
    "#output =3\n",
    "\n",
    "#2nd\n",
    "string='some kind of a useless lambda'\n",
    "print(lambda string:print(string))\n",
    "#output = <function <lambda> at 0x05C9CA48>\n",
    "\n",
    "#3rd\n",
    "x='ssdiff fff'\n",
    "(lambda x:print(x))(x)\n",
    "#output = ssdiff fff\n",
    "\n",
    "#4th\n",
    "# IIFE =immediately invoked function execution. it means \n",
    "# that a lambda function is callable as soon as it is defined\n"
   ]
  },
  {
   "cell_type": "code",
   "execution_count": 14,
   "metadata": {},
   "outputs": [
    {
     "name": "stdout",
     "output_type": "stream",
     "text": [
      "[10, 8, 7, 5, 11]\n"
     ]
    }
   ],
   "source": [
    "#lambdas in filter\n",
    "seq=[10,2,8,7,5,4,3,11,0,1]\n",
    "fl=filter(lambda x:x>4 ,seq)\n",
    "print(list(fl))"
   ]
  },
  {
   "cell_type": "code",
   "execution_count": 17,
   "metadata": {},
   "outputs": [
    {
     "name": "stdout",
     "output_type": "stream",
     "text": [
      "[100, 4, 64, 49, 25, 16, 9, 121, 0, 1]\n"
     ]
    }
   ],
   "source": [
    "#lambdas in map()\n",
    "mp=map(lambda x :x*x,seq)\n",
    "print(list(mp))"
   ]
  },
  {
   "cell_type": "code",
   "execution_count": 21,
   "metadata": {},
   "outputs": [
    {
     "name": "stdout",
     "output_type": "stream",
     "text": [
      "100\n",
      "4\n",
      "64\n",
      "49\n",
      "25\n",
      "16\n",
      "9\n",
      "121\n",
      "0\n",
      "1\n",
      "[10, 8, 7, 5, 11]\n"
     ]
    }
   ],
   "source": [
    "# without lambda function\n",
    "for x in seq:\n",
    "    x=x*x\n",
    "    print(x)\n",
    "    \n",
    "xp=[i for i in seq if i>4]\n",
    "print(xp)"
   ]
  },
  {
   "cell_type": "code",
   "execution_count": 31,
   "metadata": {},
   "outputs": [
    {
     "name": "stdout",
     "output_type": "stream",
     "text": [
      "120\n"
     ]
    }
   ],
   "source": [
    "# lambdas in reduce()\n",
    "from functools import reduce\n",
    "seq=[1,2,3,4,5]\n",
    "red= reduce (lambda x,y :x*y,seq)\n",
    "print(red)\n",
    "\n",
    "\n",
    "\n"
   ]
  },
  {
   "cell_type": "code",
   "execution_count": 34,
   "metadata": {},
   "outputs": [
    {
     "name": "stdout",
     "output_type": "stream",
     "text": [
      "Help on function gcd in module __main__:\n",
      "\n",
      "gcd(a, b)\n",
      "    Greatest common divisor is finding gcd\n",
      "\n"
     ]
    },
    {
     "data": {
      "text/plain": [
       "'Greatest common divisor is finding gcd'"
      ]
     },
     "execution_count": 34,
     "metadata": {},
     "output_type": "execute_result"
    }
   ],
   "source": [
    "def gcd(a,b):\n",
    "    \"\"\"Greatest common divisor is finding gcd\"\"\"\n",
    "    while a!=0:\n",
    "        a,b=b%a,a #parallel assignment\n",
    "    return b\n",
    "help(gcd)\n",
    "gcd.__doc__"
   ]
  },
  {
   "cell_type": "code",
   "execution_count": 37,
   "metadata": {},
   "outputs": [
    {
     "name": "stdout",
     "output_type": "stream",
     "text": [
      "[10, 20, 30, 67]\n",
      "97308168\n",
      "value outside function [10, 20, 30, 67]\n",
      "97308168\n"
     ]
    }
   ],
   "source": [
    "#pass by reference\n",
    "def changeme(mylist):\n",
    "    mylist.append(67)\n",
    "    print(mylist)\n",
    "    print(id(mylist))\n",
    "    \n",
    "    \n",
    "mylist=[10,20,30]\n",
    "changeme(mylist)\n",
    "print(\"value outside function\" ,mylist)\n",
    "print(id(mylist))"
   ]
  },
  {
   "cell_type": "code",
   "execution_count": 40,
   "metadata": {},
   "outputs": [
    {
     "name": "stdout",
     "output_type": "stream",
     "text": [
      "1411283152\n",
      "1411283152\n",
      "45\n",
      "1411282800\n",
      "value outside function 67\n",
      "1411283152\n"
     ]
    }
   ],
   "source": [
    "def changeme(mylist):\n",
    "    print(id(mylist))\n",
    "    mylist=45\n",
    "    print(mylist)\n",
    "    print(id(mylist))\n",
    "    \n",
    "mylist=67\n",
    "print(id(mylist))\n",
    "changeme(mylist)\n",
    "print(\"value outside function\" ,mylist)\n",
    "print(id(mylist))"
   ]
  },
  {
   "cell_type": "code",
   "execution_count": 45,
   "metadata": {},
   "outputs": [
    {
     "name": "stdout",
     "output_type": "stream",
     "text": [
      "a is 3 and b is  7 and c is 10\n",
      "a is 2 and b is  7 and c is 10\n"
     ]
    }
   ],
   "source": [
    "def fun(a,b=5,c=10):\n",
    "    print(\"a is\" ,a ,\"and b is \", b,\"and c is\",c)\n",
    "fun(3,7)\n",
    "fun(2,7)\n",
    "\n",
    "# a is 3 and b is  7 and c is 10\n",
    "# a is 2 and b is  7 and c is 10"
   ]
  },
  {
   "cell_type": "code",
   "execution_count": null,
   "metadata": {},
   "outputs": [],
   "source": [
    "# def fun(a=0,b,c=10):\n",
    "#     print(\"a is\" ,a ,\"and b is \", b,\"and c is\",c)\n",
    "# fun(3,7)\n",
    "# fun(2,7)\n",
    "# fun(8,7)\n",
    "# File \"<ipython-input-44-a10a9eb2e5cb>\", line 1\n",
    "#     def fun(a=0,b,c=10):\n",
    "#             ^\n",
    "# SyntaxError: non-default argument follows default argument\n",
    "\n",
    "\n"
   ]
  },
  {
   "cell_type": "code",
   "execution_count": 6,
   "metadata": {},
   "outputs": [
    {
     "name": "stdout",
     "output_type": "stream",
     "text": [
      "1\n",
      "1\n",
      "2\n",
      "3\n",
      "5\n",
      "8\n",
      "13\n",
      "21\n",
      "34\n",
      "55\n",
      "89\n",
      "144\n",
      "233\n",
      "377\n",
      "610\n",
      "987\n",
      "1597\n"
     ]
    }
   ],
   "source": [
    "def fib(n):\n",
    "    \"\"\"Print a Fibonacci series up to n.\"\"\" \n",
    "    a, b = 0, 1\n",
    "    while b < n:\n",
    "        print(b),\n",
    "        a, b = b, a+b\n",
    "fib(2000)"
   ]
  },
  {
   "cell_type": "code",
   "execution_count": 8,
   "metadata": {},
   "outputs": [
    {
     "name": "stdout",
     "output_type": "stream",
     "text": [
      "Values inside the function:  [1, 2, 3, 4]\n",
      "Values outside the function:  [10, 20, 30]\n"
     ]
    }
   ],
   "source": [
    "\n",
    "\n",
    "def changeme( mylist ):\n",
    "    \"This changes a passed list into this function\"\n",
    "    mylist = [1,2,3,4]; # This would assig new reference in mylist\n",
    "    print (\"Values inside the function: \", mylist)\n",
    "    return\n",
    "mylist = [10,20,30];\n",
    "changeme( mylist );\n",
    "print (\"Values outside the function: \", mylist)"
   ]
  },
  {
   "cell_type": "code",
   "execution_count": 11,
   "metadata": {},
   "outputs": [
    {
     "name": "stdout",
     "output_type": "stream",
     "text": [
      "10\n",
      "9\n",
      "8\n",
      "7\n",
      "6\n",
      "5\n",
      "4\n",
      "3\n",
      "2\n",
      "1\n",
      "0\n",
      "5\n",
      "4\n",
      "3\n",
      "2\n",
      "1\n",
      "0\n"
     ]
    }
   ],
   "source": [
    "def countdown(n=10):\n",
    "    for count in range(n, -1, -1):\n",
    "        print(count)\n",
    "countdown()\n",
    "countdown(5)"
   ]
  },
  {
   "cell_type": "code",
   "execution_count": 25,
   "metadata": {},
   "outputs": [
    {
     "name": "stdout",
     "output_type": "stream",
     "text": [
      "Output is: \n",
      "10\n",
      "Output is: \n",
      "70\n",
      "60\n",
      "50\n"
     ]
    }
   ],
   "source": [
    "#Variable-length arguments\n",
    "def printinfo( arg1 ,*vartuple ):\n",
    "    \"This prints a variable passed arguments\"\n",
    "    print (\"Output is: \")\n",
    "    print( arg1)\n",
    "    for var in vartuple:\n",
    "        print (var)\n",
    "    return;\n",
    "printinfo( 10 )\n",
    "printinfo( 70, 60, 50 )"
   ]
  },
  {
   "cell_type": "code",
   "execution_count": 24,
   "metadata": {},
   "outputs": [
    {
     "name": "stdout",
     "output_type": "stream",
     "text": [
      "166\n"
     ]
    }
   ],
   "source": [
    "def total(initial=10, *numbers, **keywords):\n",
    "    count = initial\n",
    "    for number in numbers:\n",
    "        count += number\n",
    "    for key in keywords:\n",
    "        count += keywords[key]\n",
    "    return count\n",
    "print(total(10, 1, 2, 3, vegetables=50, fruits=100))"
   ]
  },
  {
   "cell_type": "markdown",
   "metadata": {},
   "source": [
    "# Exception handling\n"
   ]
  },
  {
   "cell_type": "code",
   "execution_count": 27,
   "metadata": {},
   "outputs": [
    {
     "name": "stdout",
     "output_type": "stream",
     "text": [
      "enter a no5\n",
      "enter a no0\n"
     ]
    },
    {
     "ename": "ZeroDivisionError",
     "evalue": "division by zero",
     "output_type": "error",
     "traceback": [
      "\u001b[1;31m---------------------------------------------------------------------------\u001b[0m",
      "\u001b[1;31mZeroDivisionError\u001b[0m                         Traceback (most recent call last)",
      "\u001b[1;32m<ipython-input-27-8352b812dc0d>\u001b[0m in \u001b[0;36m<module>\u001b[1;34m\u001b[0m\n\u001b[0;32m      5\u001b[0m     \u001b[1;32mreturn\u001b[0m \u001b[0mresult\u001b[0m\u001b[1;33m\u001b[0m\u001b[1;33m\u001b[0m\u001b[0m\n\u001b[0;32m      6\u001b[0m \u001b[0mcalc\u001b[0m\u001b[1;33m(\u001b[0m\u001b[1;33m)\u001b[0m\u001b[1;33m\u001b[0m\u001b[1;33m\u001b[0m\u001b[0m\n\u001b[1;32m----> 7\u001b[1;33m \u001b[0mcalc\u001b[0m\u001b[1;33m(\u001b[0m\u001b[1;33m)\u001b[0m\u001b[1;33m\u001b[0m\u001b[1;33m\u001b[0m\u001b[0m\n\u001b[0m",
      "\u001b[1;32m<ipython-input-27-8352b812dc0d>\u001b[0m in \u001b[0;36mcalc\u001b[1;34m()\u001b[0m\n\u001b[0;32m      2\u001b[0m     \u001b[0mx\u001b[0m\u001b[1;33m=\u001b[0m\u001b[0mint\u001b[0m\u001b[1;33m(\u001b[0m\u001b[0minput\u001b[0m\u001b[1;33m(\u001b[0m\u001b[1;34m\"enter a no\"\u001b[0m\u001b[1;33m)\u001b[0m\u001b[1;33m)\u001b[0m\u001b[1;33m\u001b[0m\u001b[1;33m\u001b[0m\u001b[0m\n\u001b[0;32m      3\u001b[0m     \u001b[0my\u001b[0m\u001b[1;33m=\u001b[0m\u001b[1;36m20\u001b[0m\u001b[1;33m\u001b[0m\u001b[1;33m\u001b[0m\u001b[0m\n\u001b[1;32m----> 4\u001b[1;33m     \u001b[0mresult\u001b[0m\u001b[1;33m=\u001b[0m\u001b[0my\u001b[0m\u001b[1;33m/\u001b[0m\u001b[0mx\u001b[0m\u001b[1;33m\u001b[0m\u001b[1;33m\u001b[0m\u001b[0m\n\u001b[0m\u001b[0;32m      5\u001b[0m     \u001b[1;32mreturn\u001b[0m \u001b[0mresult\u001b[0m\u001b[1;33m\u001b[0m\u001b[1;33m\u001b[0m\u001b[0m\n\u001b[0;32m      6\u001b[0m \u001b[0mcalc\u001b[0m\u001b[1;33m(\u001b[0m\u001b[1;33m)\u001b[0m\u001b[1;33m\u001b[0m\u001b[1;33m\u001b[0m\u001b[0m\n",
      "\u001b[1;31mZeroDivisionError\u001b[0m: division by zero"
     ]
    }
   ],
   "source": [
    "def calc():\n",
    "    x=int(input(\"enter a no\"))\n",
    "    y=20\n",
    "    result=y/x\n",
    "    return result\n",
    "calc()\n",
    "calc()\n",
    "# if we enter 0\n",
    "# ---------------------------------------------------------------------------\n",
    "# ZeroDivisionError                         Traceback (most recent call last)\n",
    "# <ipython-input-27-8352b812dc0d> in <module>\n",
    "#       5     return result\n",
    "#       6 calc()\n",
    "# ----> 7 calc()\n",
    "\n",
    "# <ipython-input-27-8352b812dc0d> in calc()\n",
    "#       2     x=int(input(\"enter a no\"))\n",
    "#       3     y=20\n",
    "# ----> 4     result=y/x\n",
    "#       5     return result\n",
    "#       6 calc()\n",
    "\n",
    "# ZeroDivisionError: division by zero\n"
   ]
  },
  {
   "cell_type": "code",
   "execution_count": 30,
   "metadata": {},
   "outputs": [
    {
     "ename": "ZeroDivisionError",
     "evalue": "division by zero",
     "output_type": "error",
     "traceback": [
      "\u001b[1;31m---------------------------------------------------------------------------\u001b[0m",
      "\u001b[1;31mZeroDivisionError\u001b[0m                         Traceback (most recent call last)",
      "\u001b[1;32m<ipython-input-30-96cf8eb4b93d>\u001b[0m in \u001b[0;36m<module>\u001b[1;34m\u001b[0m\n\u001b[0;32m      8\u001b[0m     \u001b[0mcalc\u001b[0m\u001b[1;33m(\u001b[0m\u001b[0ma\u001b[0m\u001b[1;33m)\u001b[0m\u001b[1;33m\u001b[0m\u001b[1;33m\u001b[0m\u001b[0m\n\u001b[0;32m      9\u001b[0m \u001b[1;33m\u001b[0m\u001b[0m\n\u001b[1;32m---> 10\u001b[1;33m \u001b[0mdivide\u001b[0m\u001b[1;33m(\u001b[0m\u001b[1;33m)\u001b[0m\u001b[1;33m\u001b[0m\u001b[1;33m\u001b[0m\u001b[0m\n\u001b[0m",
      "\u001b[1;32m<ipython-input-30-96cf8eb4b93d>\u001b[0m in \u001b[0;36mdivide\u001b[1;34m()\u001b[0m\n\u001b[0;32m      6\u001b[0m \u001b[1;32mdef\u001b[0m \u001b[0mdivide\u001b[0m\u001b[1;33m(\u001b[0m\u001b[1;33m)\u001b[0m\u001b[1;33m:\u001b[0m\u001b[1;33m\u001b[0m\u001b[1;33m\u001b[0m\u001b[0m\n\u001b[0;32m      7\u001b[0m     \u001b[0ma\u001b[0m\u001b[1;33m=\u001b[0m\u001b[1;36m200\u001b[0m\u001b[1;33m//\u001b[0m\u001b[1;36m1000\u001b[0m\u001b[1;33m\u001b[0m\u001b[1;33m\u001b[0m\u001b[0m\n\u001b[1;32m----> 8\u001b[1;33m     \u001b[0mcalc\u001b[0m\u001b[1;33m(\u001b[0m\u001b[0ma\u001b[0m\u001b[1;33m)\u001b[0m\u001b[1;33m\u001b[0m\u001b[1;33m\u001b[0m\u001b[0m\n\u001b[0m\u001b[0;32m      9\u001b[0m \u001b[1;33m\u001b[0m\u001b[0m\n\u001b[0;32m     10\u001b[0m \u001b[0mdivide\u001b[0m\u001b[1;33m(\u001b[0m\u001b[1;33m)\u001b[0m\u001b[1;33m\u001b[0m\u001b[1;33m\u001b[0m\u001b[0m\n",
      "\u001b[1;32m<ipython-input-30-96cf8eb4b93d>\u001b[0m in \u001b[0;36mcalc\u001b[1;34m(x)\u001b[0m\n\u001b[0;32m      2\u001b[0m \u001b[1;33m\u001b[0m\u001b[0m\n\u001b[0;32m      3\u001b[0m     \u001b[0my\u001b[0m\u001b[1;33m=\u001b[0m\u001b[1;36m20\u001b[0m\u001b[1;33m\u001b[0m\u001b[1;33m\u001b[0m\u001b[0m\n\u001b[1;32m----> 4\u001b[1;33m     \u001b[0mresult\u001b[0m\u001b[1;33m=\u001b[0m\u001b[0my\u001b[0m\u001b[1;33m/\u001b[0m\u001b[0mx\u001b[0m\u001b[1;33m\u001b[0m\u001b[1;33m\u001b[0m\u001b[0m\n\u001b[0m\u001b[0;32m      5\u001b[0m     \u001b[1;32mreturn\u001b[0m \u001b[0mresult\u001b[0m\u001b[1;33m\u001b[0m\u001b[1;33m\u001b[0m\u001b[0m\n\u001b[0;32m      6\u001b[0m \u001b[1;32mdef\u001b[0m \u001b[0mdivide\u001b[0m\u001b[1;33m(\u001b[0m\u001b[1;33m)\u001b[0m\u001b[1;33m:\u001b[0m\u001b[1;33m\u001b[0m\u001b[1;33m\u001b[0m\u001b[0m\n",
      "\u001b[1;31mZeroDivisionError\u001b[0m: division by zero"
     ]
    }
   ],
   "source": [
    "def calc(x):\n",
    "    \n",
    "    y=20\n",
    "    result=y/x\n",
    "    return result\n",
    "def divide():\n",
    "    a=200//1000\n",
    "    calc(a)\n",
    "    \n",
    "divide()"
   ]
  },
  {
   "cell_type": "code",
   "execution_count": 45,
   "metadata": {},
   "outputs": [
    {
     "ename": "IndentationError",
     "evalue": "unexpected unindent (<ipython-input-45-ce50aae17ef9>, line 10)",
     "output_type": "error",
     "traceback": [
      "\u001b[1;36m  File \u001b[1;32m\"<ipython-input-45-ce50aae17ef9>\"\u001b[1;36m, line \u001b[1;32m10\u001b[0m\n\u001b[1;33m    calc()\u001b[0m\n\u001b[1;37m          ^\u001b[0m\n\u001b[1;31mIndentationError\u001b[0m\u001b[1;31m:\u001b[0m unexpected unindent\n"
     ]
    }
   ],
   "source": [
    "# handled exception of zero division error\n",
    "def calc():\n",
    "    try:\n",
    "        x=int(input(\"enter a no\"))\n",
    "        y=20\n",
    "        result=y/x\n",
    "        return result\n",
    "    except:\n",
    "        print('Exception occured')\n",
    "        \n",
    "calc()"
   ]
  },
  {
   "cell_type": "code",
   "execution_count": 38,
   "metadata": {},
   "outputs": [],
   "source": [
    "d={1:'anmol',2:'moksh',3:'kartik'}\n",
    "\n",
    "try :\n",
    "    d[4]\n",
    "except: KeyError"
   ]
  },
  {
   "cell_type": "code",
   "execution_count": 46,
   "metadata": {},
   "outputs": [
    {
     "name": "stdout",
     "output_type": "stream",
     "text": [
      "enter a no0\n"
     ]
    }
   ],
   "source": [
    "# handled exception of zero division error\n",
    "def calc():\n",
    "    try:\n",
    "        x=int(input(\"enter a no\"))\n",
    "        y=20\n",
    "        result=y/x\n",
    "        return result\n",
    "    except:\n",
    "        None\n",
    "        \n",
    "calc()"
   ]
  },
  {
   "cell_type": "code",
   "execution_count": 47,
   "metadata": {},
   "outputs": [
    {
     "name": "stdout",
     "output_type": "stream",
     "text": [
      "enter a no0\n"
     ]
    },
    {
     "ename": "NameError",
     "evalue": "name 'none' is not defined",
     "output_type": "error",
     "traceback": [
      "\u001b[1;31m---------------------------------------------------------------------------\u001b[0m",
      "\u001b[1;31mZeroDivisionError\u001b[0m                         Traceback (most recent call last)",
      "\u001b[1;32m<ipython-input-47-5174f0ed84f2>\u001b[0m in \u001b[0;36mcalc\u001b[1;34m()\u001b[0m\n\u001b[0;32m      5\u001b[0m         \u001b[0my\u001b[0m\u001b[1;33m=\u001b[0m\u001b[1;36m20\u001b[0m\u001b[1;33m\u001b[0m\u001b[1;33m\u001b[0m\u001b[0m\n\u001b[1;32m----> 6\u001b[1;33m         \u001b[0mresult\u001b[0m\u001b[1;33m=\u001b[0m\u001b[0my\u001b[0m\u001b[1;33m/\u001b[0m\u001b[0mx\u001b[0m\u001b[1;33m\u001b[0m\u001b[1;33m\u001b[0m\u001b[0m\n\u001b[0m\u001b[0;32m      7\u001b[0m         \u001b[1;32mreturn\u001b[0m \u001b[0mresult\u001b[0m\u001b[1;33m\u001b[0m\u001b[1;33m\u001b[0m\u001b[0m\n",
      "\u001b[1;31mZeroDivisionError\u001b[0m: division by zero",
      "\nDuring handling of the above exception, another exception occurred:\n",
      "\u001b[1;31mNameError\u001b[0m                                 Traceback (most recent call last)",
      "\u001b[1;32m<ipython-input-47-5174f0ed84f2>\u001b[0m in \u001b[0;36m<module>\u001b[1;34m\u001b[0m\n\u001b[0;32m      9\u001b[0m         \u001b[0mnone\u001b[0m\u001b[1;33m\u001b[0m\u001b[1;33m\u001b[0m\u001b[0m\n\u001b[0;32m     10\u001b[0m \u001b[1;33m\u001b[0m\u001b[0m\n\u001b[1;32m---> 11\u001b[1;33m \u001b[0mcalc\u001b[0m\u001b[1;33m(\u001b[0m\u001b[1;33m)\u001b[0m\u001b[1;33m\u001b[0m\u001b[1;33m\u001b[0m\u001b[0m\n\u001b[0m",
      "\u001b[1;32m<ipython-input-47-5174f0ed84f2>\u001b[0m in \u001b[0;36mcalc\u001b[1;34m()\u001b[0m\n\u001b[0;32m      7\u001b[0m         \u001b[1;32mreturn\u001b[0m \u001b[0mresult\u001b[0m\u001b[1;33m\u001b[0m\u001b[1;33m\u001b[0m\u001b[0m\n\u001b[0;32m      8\u001b[0m     \u001b[1;32mexcept\u001b[0m\u001b[1;33m:\u001b[0m\u001b[1;33m\u001b[0m\u001b[1;33m\u001b[0m\u001b[0m\n\u001b[1;32m----> 9\u001b[1;33m         \u001b[0mnone\u001b[0m\u001b[1;33m\u001b[0m\u001b[1;33m\u001b[0m\u001b[0m\n\u001b[0m\u001b[0;32m     10\u001b[0m \u001b[1;33m\u001b[0m\u001b[0m\n\u001b[0;32m     11\u001b[0m \u001b[0mcalc\u001b[0m\u001b[1;33m(\u001b[0m\u001b[1;33m)\u001b[0m\u001b[1;33m\u001b[0m\u001b[1;33m\u001b[0m\u001b[0m\n",
      "\u001b[1;31mNameError\u001b[0m: name 'none' is not defined"
     ]
    }
   ],
   "source": [
    "# handled exception of zero division error\n",
    "def calc():\n",
    "    try:\n",
    "        x=int(input(\"enter a no\"))\n",
    "        y=20\n",
    "        result=y/x\n",
    "        return result\n",
    "    except:\n",
    "        none\n",
    "        \n",
    "calc()\n",
    "\n",
    "# # enter a no0\n",
    "# ---------------------------------------------------------------------------\n",
    "# ZeroDivisionError                         Traceback (most recent call last)\n",
    "# <ipython-input-47-5174f0ed84f2> in calc()\n",
    "#       5         y=20\n",
    "# ----> 6         result=y/x\n",
    "#       7         return result\n",
    "\n",
    "# ZeroDivisionError: division by zero\n",
    "\n",
    "# During handling of the above exception, another exception occurred:\n",
    "\n",
    "# NameError                                 Traceback (most recent call last)\n",
    "# <ipython-input-47-5174f0ed84f2> in <module>\n",
    "#       9         none\n",
    "#      10 \n",
    "# ---> 11 calc()\n",
    "\n",
    "# <ipython-input-47-5174f0ed84f2> in calc()\n",
    "#       7         return result\n",
    "#       8     except:\n",
    "# ----> 9         none\n",
    "#      10 \n",
    "#      11 calc()\n",
    "\n",
    "# NameError: name 'none' is not defined"
   ]
  },
  {
   "cell_type": "code",
   "execution_count": 49,
   "metadata": {},
   "outputs": [
    {
     "name": "stdout",
     "output_type": "stream",
     "text": [
      "enter a no0\n",
      "Plz check ....divided by zero\n"
     ]
    }
   ],
   "source": [
    "# handled exception of zero division error\n",
    "def calc():\n",
    "    try:\n",
    "        x=int(input(\"enter a no\"))\n",
    "        y=20\n",
    "        result=y/x\n",
    "        return result\n",
    "    except ZeroDivisionError:\n",
    "        print('Plz check ....divided by zero')\n",
    "    except IndexError:\n",
    "        print('Plz check ....Index Error')\n",
    "        \n",
    "calc()"
   ]
  },
  {
   "cell_type": "code",
   "execution_count": 60,
   "metadata": {},
   "outputs": [
    {
     "name": "stdout",
     "output_type": "stream",
     "text": [
      "enter a no5.5\n",
      "Invalid input\n"
     ]
    }
   ],
   "source": [
    "#Check different exception \n",
    "import sys\n",
    "def calc():\n",
    "    try:\n",
    "        x=int(input(\"enter a no\"))\n",
    "        y=20\n",
    "        result=y/x\n",
    "        return result\n",
    "    except ValueError:\n",
    "        print(\"Invalid input\")\n",
    "    except ZeroDivisionError:\n",
    "       \n",
    "        print(\"the error is\" ,sys.exc_info()[1])\n",
    "        \n",
    "        print('Plz check ....divided by zero')\n",
    "    \n",
    "        \n",
    "calc()\n",
    "\n",
    "\n",
    "#output\n",
    "# enter a no0\n",
    "# the error is <class 'ZeroDivisionError'>\n",
    "# the error is division by zero\n",
    "# the error is <traceback object at 0x068A1B28>\n",
    "# Plz check ....divided by zero"
   ]
  },
  {
   "cell_type": "code",
   "execution_count": null,
   "metadata": {},
   "outputs": [],
   "source": [
    "#Check which exception has occured\n",
    "import sys\n",
    "def calc():\n",
    "    try:\n",
    "        x=int(input(\"enter a no\"))\n",
    "        y=20\n",
    "        result=y/x\n",
    "        return result\n",
    "    except :\n",
    "        print(\"the error is\" ,sys.exc_info()[0])\n",
    "        print(\"the error is\" ,sys.exc_info()[1])\n",
    "        print(\"the error is\" ,sys.exc_info()[2])\n",
    "        print('Plz check ....divided by zero')\n",
    "    \n",
    "        \n",
    "calc()"
   ]
  },
  {
   "cell_type": "code",
   "execution_count": 61,
   "metadata": {},
   "outputs": [
    {
     "ename": "ModuleNotFoundError",
     "evalue": "No module named 'collection'",
     "output_type": "error",
     "traceback": [
      "\u001b[1;31m---------------------------------------------------------------------------\u001b[0m",
      "\u001b[1;31mModuleNotFoundError\u001b[0m                       Traceback (most recent call last)",
      "\u001b[1;32m<ipython-input-61-e52d2f832642>\u001b[0m in \u001b[0;36m<module>\u001b[1;34m\u001b[0m\n\u001b[1;32m----> 1\u001b[1;33m \u001b[1;32mfrom\u001b[0m \u001b[0mcollection\u001b[0m \u001b[1;32mimport\u001b[0m  \u001b[0mcounter\u001b[0m\u001b[1;33m\u001b[0m\u001b[1;33m\u001b[0m\u001b[0m\n\u001b[0m\u001b[0;32m      2\u001b[0m \u001b[1;32mfrom\u001b[0m \u001b[0mcollection\u001b[0m \u001b[1;32mimport\u001b[0m  \u001b[0mdefaultdict\u001b[0m\u001b[1;33m\u001b[0m\u001b[1;33m\u001b[0m\u001b[0m\n",
      "\u001b[1;31mModuleNotFoundError\u001b[0m: No module named 'collection'"
     ]
    }
   ],
   "source": [
    "from collections import  Counter\n",
    "from collections import  defaultdict\n",
    "from heapq import nlargest"
   ]
  },
  {
   "cell_type": "code",
   "execution_count": 72,
   "metadata": {},
   "outputs": [
    {
     "name": "stdout",
     "output_type": "stream",
     "text": [
      "Enter the marks\n",
      "a\n",
      "input out of rnage\n"
     ]
    }
   ],
   "source": [
    "#raise an exception\n",
    "\n",
    "try:\n",
    "    print(\"Enter the marks\")\n",
    "    marks=int(input())\n",
    "    if marks<0 or marks >100:\n",
    "        raise ValueError\n",
    "    print(\"correct inout\")\n",
    "    #write code to calculate grade\n",
    "except ValueError:\n",
    "    print(\"input out of rnage\")\n"
   ]
  },
  {
   "cell_type": "code",
   "execution_count": 69,
   "metadata": {},
   "outputs": [
    {
     "name": "stdout",
     "output_type": "stream",
     "text": [
      "Enter the marks\n",
      "-8\n",
      "input out of rnage\n"
     ]
    },
    {
     "ename": "ValueError",
     "evalue": "",
     "output_type": "error",
     "traceback": [
      "\u001b[1;31m---------------------------------------------------------------------------\u001b[0m",
      "\u001b[1;31mValueError\u001b[0m                                Traceback (most recent call last)",
      "\u001b[1;32m<ipython-input-69-b87821f234e1>\u001b[0m in \u001b[0;36m<module>\u001b[1;34m\u001b[0m\n\u001b[0;32m      3\u001b[0m \u001b[1;32mif\u001b[0m \u001b[0mmarks\u001b[0m\u001b[1;33m<\u001b[0m\u001b[1;36m0\u001b[0m \u001b[1;32mor\u001b[0m \u001b[0mmarks\u001b[0m \u001b[1;33m>\u001b[0m\u001b[1;36m100\u001b[0m\u001b[1;33m:\u001b[0m\u001b[1;33m\u001b[0m\u001b[1;33m\u001b[0m\u001b[0m\n\u001b[0;32m      4\u001b[0m     \u001b[0mprint\u001b[0m\u001b[1;33m(\u001b[0m\u001b[1;34m\"input out of rnage\"\u001b[0m\u001b[1;33m)\u001b[0m\u001b[1;33m\u001b[0m\u001b[1;33m\u001b[0m\u001b[0m\n\u001b[1;32m----> 5\u001b[1;33m     \u001b[1;32mraise\u001b[0m \u001b[0mValueError\u001b[0m\u001b[1;33m\u001b[0m\u001b[1;33m\u001b[0m\u001b[0m\n\u001b[0m",
      "\u001b[1;31mValueError\u001b[0m: "
     ]
    }
   ],
   "source": [
    "print(\"Enter the marks\")\n",
    "marks=int(input())\n",
    "if marks<0 or marks >100:\n",
    "    print(\"input out of rnage\")\n",
    "    raise ValueError\n",
    "    "
   ]
  },
  {
   "cell_type": "code",
   "execution_count": 76,
   "metadata": {},
   "outputs": [
    {
     "name": "stdout",
     "output_type": "stream",
     "text": [
      "Enter the marks99\n",
      "Marks =  99\n"
     ]
    }
   ],
   "source": [
    "#user defined exception\n",
    "\n",
    "class InvalidRange(Exception):\n",
    "    pass\n",
    "try:\n",
    "    marks=input(\"Enter the marks\")\n",
    "    marks=int(marks)\n",
    "    if (marks<0 or marks>100):\n",
    "        raise InvalidRange\n",
    "    print(\"Marks = \", marks)\n",
    "except ValueError:\n",
    "    print(\"Invalid Input\")\n",
    "except InvalidRange:\n",
    "    print(\"input value out of range\")"
   ]
  }
 ],
 "metadata": {
  "kernelspec": {
   "display_name": "Python 3",
   "language": "python",
   "name": "python3"
  },
  "language_info": {
   "codemirror_mode": {
    "name": "ipython",
    "version": 3
   },
   "file_extension": ".py",
   "mimetype": "text/x-python",
   "name": "python",
   "nbconvert_exporter": "python",
   "pygments_lexer": "ipython3",
   "version": "3.8.5"
  }
 },
 "nbformat": 4,
 "nbformat_minor": 4
}
