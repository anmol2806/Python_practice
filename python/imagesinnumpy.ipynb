{
 "cells": [
  {
   "cell_type": "code",
   "execution_count": 1,
   "metadata": {},
   "outputs": [],
   "source": [
    "from PIL import Image\n",
    "import numpy as np"
   ]
  },
  {
   "cell_type": "code",
   "execution_count": 3,
   "metadata": {},
   "outputs": [
    {
     "data": {
      "text/plain": [
       "(640, 1024, 3)"
      ]
     },
     "execution_count": 3,
     "metadata": {},
     "output_type": "execute_result"
    }
   ],
   "source": [
    "im=np.array(Image.open(\"img/1.jpg\"))\n",
    "im.shape"
   ]
  },
  {
   "cell_type": "code",
   "execution_count": 4,
   "metadata": {},
   "outputs": [
    {
     "data": {
      "text/plain": [
       "(340, 600, 3)"
      ]
     },
     "execution_count": 4,
     "metadata": {},
     "output_type": "execute_result"
    }
   ],
   "source": [
    "im1=np.array(Image.open(\"img/2.jpg\"))\n",
    "im1.shape"
   ]
  },
  {
   "cell_type": "code",
   "execution_count": 5,
   "metadata": {},
   "outputs": [],
   "source": [
    "#convert image to grayscale\n",
    "im_gray=np.array(Image.open(\"img/1.jpg\").convert(\"L\"))"
   ]
  },
  {
   "cell_type": "code",
   "execution_count": 6,
   "metadata": {},
   "outputs": [],
   "source": [
    "#saving image\n",
    "data=Image.fromarray(im_gray)\n",
    "data.save(\"img/1n.jpg\")\n"
   ]
  },
  {
   "cell_type": "code",
   "execution_count": 8,
   "metadata": {},
   "outputs": [],
   "source": [
    "#changing the colors of picture\n",
    "im\n",
    "for i in range(120,160,1):\n",
    "    im[i]=45\n",
    "newimage=Image.fromarray(im)\n",
    "newimage.save(\"img/1nn.jpg\")"
   ]
  },
  {
   "cell_type": "code",
   "execution_count": 9,
   "metadata": {},
   "outputs": [],
   "source": [
    "#concatenation of images\n",
    "im1=np.array(Image.open(\"img/1.jpg\"))\n",
    "im1_r=im1.copy()\n",
    "im1_g=im1.copy()\n",
    "im1_b=im1.copy()\n",
    "#RGB\n",
    "im1_r[:,:,(1,2)]=0\n",
    "im1_g[:,:,(0,2)]=0\n",
    "im1_b[:,:,(0,1)]=0"
   ]
  },
  {
   "cell_type": "code",
   "execution_count": 10,
   "metadata": {},
   "outputs": [],
   "source": [
    "#concatenate\n",
    "im_news=np.concatenate((im1_r,im1_g,im1_b),axis=1)\n",
    "n1=Image.fromarray(im_news)\n",
    "n1.save(\"img/q.jpg\")"
   ]
  },
  {
   "cell_type": "code",
   "execution_count": 12,
   "metadata": {},
   "outputs": [],
   "source": [
    "#vstack\n",
    "im_news=np.vstack((im1_r,im1_g,im1_b))\n",
    "n1=Image.fromarray(im_news)\n",
    "n1.save(\"img/q3.jpg\")"
   ]
  },
  {
   "cell_type": "code",
   "execution_count": 13,
   "metadata": {},
   "outputs": [],
   "source": [
    "im=np.array(Image.open(\"img/1.jpg\"))\n",
    "im1=np.array(Image.open(\"img/2.jpg\"))"
   ]
  },
  {
   "cell_type": "code",
   "execution_count": 32,
   "metadata": {},
   "outputs": [],
   "source": [
    "im[20:80,5,1]=im1[280:340,5,1]\n"
   ]
  },
  {
   "cell_type": "code",
   "execution_count": 33,
   "metadata": {},
   "outputs": [
    {
     "data": {
      "text/plain": [
       "(640, 1024, 3)"
      ]
     },
     "execution_count": 33,
     "metadata": {},
     "output_type": "execute_result"
    }
   ],
   "source": [
    "im.shape"
   ]
  },
  {
   "cell_type": "code",
   "execution_count": 34,
   "metadata": {},
   "outputs": [],
   "source": [
    "data=Image.fromarray(im)\n",
    "data.save(\"img/1q.jpg\")"
   ]
  },
  {
   "cell_type": "code",
   "execution_count": 38,
   "metadata": {},
   "outputs": [],
   "source": [
    "im\n",
    "im1\n",
    "for i in range(160,1,1):\n",
    "    im[i]=im1[i]\n",
    "    \n",
    "newimage=Image.fromarray(im)\n",
    "newimage.save(\"img/1w.jpg\")"
   ]
  },
  {
   "cell_type": "code",
   "execution_count": 48,
   "metadata": {},
   "outputs": [
    {
     "data": {
      "text/plain": [
       "array([131, 132, 132, 132, 132, 133, 133, 133, 135, 134, 132, 131, 131,\n",
       "       131, 132, 133, 133, 132, 132, 131, 131, 132, 132, 133, 131, 133,\n",
       "       134, 136, 135, 135, 135, 135, 138, 137, 136, 135, 134, 135, 135,\n",
       "       134, 136, 136, 135, 135, 135, 136, 136, 136, 137, 138, 138, 138,\n",
       "       139, 140, 142, 145, 142, 141, 139, 141, 143, 145, 147, 146, 145,\n",
       "       144, 142, 142, 144, 144, 143, 142, 139, 140, 141, 140, 140, 140,\n",
       "       140, 141, 141, 142, 142, 143, 144, 144, 143, 142, 142, 143, 145,\n",
       "       144, 143, 141, 143, 144, 144, 146, 144, 143, 144, 141, 145, 157,\n",
       "       173, 164, 169, 167, 152, 155, 177, 188, 173, 153, 152, 150, 149,\n",
       "       153, 143, 143, 145, 144, 144, 148, 160, 171, 171, 165, 156, 153,\n",
       "       150, 151, 151, 149, 148, 149, 143, 143, 144, 144, 144, 144, 144,\n",
       "       144, 142, 141, 143, 145, 147, 149, 154, 158, 187, 215, 212, 167,\n",
       "       137, 145, 153, 146, 151, 150, 149, 149, 149, 149, 150, 153, 157,\n",
       "       154, 153, 154, 153, 150, 149, 149, 155, 153, 154, 156, 156, 155,\n",
       "       155, 157, 157, 156, 156, 158, 158, 156, 156, 157, 158, 159, 160,\n",
       "       160, 161, 161, 163, 163, 162, 162, 161, 160, 160, 159, 158, 158,\n",
       "       163, 163, 162, 163, 162, 164, 164, 164, 166, 165, 165, 166, 167,\n",
       "       167, 165, 163, 168, 168, 168, 167, 167, 167, 166, 165, 165, 166,\n",
       "       167, 167, 167, 167, 167, 165, 169, 169, 167, 167, 168, 168, 168,\n",
       "       169, 172, 167, 170, 172, 167, 168, 168, 161, 164, 163, 162, 158,\n",
       "       154, 152, 152, 153, 154, 156, 156, 156, 156, 157, 156, 153, 146,\n",
       "       144, 141, 140, 138, 139, 141, 142, 149, 150, 153, 159, 161, 161,\n",
       "       160, 161, 163, 165, 169, 172, 173, 173, 172, 170, 169, 165, 164,\n",
       "       160, 151, 149, 147, 141, 141, 143, 147, 150, 151, 150, 147, 145,\n",
       "       141, 139, 141, 144, 148, 155, 165, 175, 183, 188, 193, 194, 193,\n",
       "       195, 193, 190, 188, 184, 177, 177, 182, 185, 179, 170, 153, 150,\n",
       "       157, 166, 172, 177, 181, 181, 184, 182, 181, 180, 178, 176, 177,\n",
       "       178, 174, 178, 182, 184, 182, 178, 176, 175, 183, 182, 180, 178,\n",
       "       177, 175, 173, 173, 176, 174, 176, 174, 168, 168, 171, 171, 171,\n",
       "       174, 176, 175, 174, 171, 164, 158, 160, 157, 156, 159, 159, 156,\n",
       "       154, 153, 154, 153, 150, 149, 148, 150, 159, 169, 174, 175, 176,\n",
       "       174, 174, 175, 174, 174, 173, 171, 167, 168, 166, 165, 164, 165,\n",
       "       166, 169, 170, 171, 172, 172, 171, 172, 170, 171, 171, 171, 171,\n",
       "       171, 171, 171, 173, 172, 174, 175, 175, 175, 177, 182, 183, 182,\n",
       "       179, 160, 154, 150, 129, 123, 132, 129, 127, 152, 177, 174, 141,\n",
       "        85,  76,  63,  66,  62,  64,  77,  68,  61,  66,  71,  78,  78,\n",
       "        74,  70,  73,  79,  74, 140, 203, 148, 113,  80,  98,  86,  76,\n",
       "        68,  67,  80,  67,  86, 138, 132,  67,  67,  74,  78,  76,  77,\n",
       "        79,  78,  76,  75,  75,  75,  71,  71,  79,  91,  86,  75,  71,\n",
       "        73,  69,  69,  71,  71,  77,  83,  87,  89,  91,  85,  78,  78,\n",
       "        74,  73,  61,  59,  57,  55,  59,  47,  12,  16,  10,  32,  82,\n",
       "       101, 100, 112, 121, 121,  82,  75,  67,  51,  68,  64,  73,  78,\n",
       "        88, 101, 103,  85,  67,  66,  67,  72,  65,  71,  77,  75,  86,\n",
       "        92,  92,  97,  93,  91,  93,  91,  78,  68,  72,  77, 109, 155,\n",
       "       166, 187, 187, 113,  80,  77,  59,  51,  65,  78,  79,  81,  68,\n",
       "        74,  76,  82,  96, 100,  96,  98,  86,  72,  68,  71,  81, 102,\n",
       "       106,  85,  74,  82,  88,  85,  80,  76,  76,  78,  72,  81,  87,\n",
       "        76,  59,  62,  72,  74,  53,  69,  89,  88,  67,  54,  58,  64,\n",
       "        71,  64,  71,  76,  68,  66,  62,  44,  40,  24,  13,  11,  14,\n",
       "        22,  38,  53], dtype=uint8)"
      ]
     },
     "execution_count": 48,
     "metadata": {},
     "output_type": "execute_result"
    }
   ],
   "source": [
    "im[0:1000,1,1]\n"
   ]
  },
  {
   "cell_type": "code",
   "execution_count": 47,
   "metadata": {},
   "outputs": [
    {
     "data": {
      "text/plain": [
       "array([131, 132, 132, 132, 132, 133, 133, 133, 156, 164, 152, 154, 173,\n",
       "       177, 152, 176, 180, 179, 190, 190, 187, 194, 193, 191, 188, 187,\n",
       "       166, 159, 168, 172, 166, 145, 180, 195, 175, 144, 164, 177, 178,\n",
       "       163, 182, 176, 173, 157, 177, 166, 162, 142, 126, 121, 142, 128,\n",
       "       137, 142, 137, 149, 140, 134, 119, 139, 142, 144, 176, 167, 170,\n",
       "       170, 172, 174, 173, 171, 171, 172, 177, 187, 182, 183, 189, 176,\n",
       "       156, 136, 133, 140, 125, 126, 134, 127, 133, 151, 160, 148, 143,\n",
       "       137, 132, 131, 126, 126, 126, 132, 128, 126, 115, 130, 131, 127,\n",
       "       135, 141, 126, 120, 118, 112, 117, 131, 115, 113, 110, 118, 115,\n",
       "       107, 115, 118, 118, 117, 105, 111, 104, 116, 100, 111, 116, 127,\n",
       "       113,  92, 104, 109, 118, 110, 107, 106, 109, 116, 121, 125, 122,\n",
       "       111, 109, 103, 102, 110, 125, 126, 118, 128, 103, 119,  98, 109,\n",
       "       121, 101, 105, 115,  98, 109, 106, 104,  97,  84,  86,  91,  96,\n",
       "       100, 110, 125, 139, 112, 104, 104, 118, 111, 107, 100,  95, 101,\n",
       "       110, 105, 103, 104, 119, 127, 123, 120, 118, 126, 103,  98, 100,\n",
       "       106, 105, 102,  99,  95,  95, 104, 116, 110, 104,  97, 110,  98,\n",
       "       116, 104,  85,  85,  80,  92,  94, 102,  89,  85,  95,  90,  83,\n",
       "        83,  84, 103, 103, 109, 108, 102,  99,  96,  92,  93, 104,  98,\n",
       "        97,  91, 103,  98,  99,  96,  93,  79,  79,  85,  91,  90,  83,\n",
       "       109, 131,  90,  79,  83,  83,  86,  84,  79, 103, 177, 199, 185,\n",
       "       197, 177, 171, 126, 137, 123, 212,  84,  74,  77,  74,  82,  70,\n",
       "        71,  72,  74,  75,  73,  70,  69,  67,  68,  67,  64,  69,  91,\n",
       "       126, 158, 110,  92,  92,  72,  50,  54,  46, 116,  44,  55,  89,\n",
       "        77,  42,  44,  43,  34,  29,  22,  21,  19,  19,  22,  19,  17,\n",
       "        18,  22,  20,  21,  19,  14,  18,  15,  20,  12,  17,  16,  10,\n",
       "        14,  12,  12,   9,   7,   9,  12,  26,  29, 165, 176, 187, 159,\n",
       "       108,  81], dtype=uint8)"
      ]
     },
     "execution_count": 47,
     "metadata": {},
     "output_type": "execute_result"
    }
   ],
   "source": [
    "im1[0:1000,1,1]"
   ]
  },
  {
   "cell_type": "code",
   "execution_count": 54,
   "metadata": {},
   "outputs": [],
   "source": [
    "im2=im1\n",
    "im2[0:340,1,1]=0\n"
   ]
  },
  {
   "cell_type": "code",
   "execution_count": 68,
   "metadata": {},
   "outputs": [
    {
     "data": {
      "text/plain": [
       "array([0, 0, 0, 0, 0, 0, 0, 0, 0, 0, 0, 0, 0, 0, 0, 0, 0, 0, 0, 0, 0, 0,\n",
       "       0, 0, 0, 0, 0, 0, 0, 0, 0, 0, 0, 0, 0, 0, 0, 0, 0, 0, 0, 0, 0, 0,\n",
       "       0, 0, 0, 0, 0, 0, 0, 0, 0, 0, 0, 0, 0, 0, 0, 0, 0, 0, 0, 0, 0, 0,\n",
       "       0, 0, 0, 0, 0, 0, 0, 0, 0, 0, 0, 0, 0, 0, 0, 0, 0, 0, 0, 0, 0, 0,\n",
       "       0, 0, 0, 0, 0, 0, 0, 0, 0, 0, 0, 0, 0, 0, 0, 0, 0, 0, 0, 0, 0, 0,\n",
       "       0, 0, 0, 0, 0, 0, 0, 0, 0, 0, 0, 0, 0, 0, 0, 0, 0, 0, 0, 0, 0, 0,\n",
       "       0, 0, 0, 0, 0, 0, 0, 0, 0, 0, 0, 0, 0, 0, 0, 0, 0, 0, 0, 0, 0, 0,\n",
       "       0, 0, 0, 0, 0, 0, 0, 0, 0, 0, 0, 0, 0, 0, 0, 0, 0, 0, 0, 0, 0, 0,\n",
       "       0, 0, 0, 0, 0, 0, 0, 0, 0, 0, 0, 0, 0, 0, 0, 0, 0, 0, 0, 0, 0, 0,\n",
       "       0, 0, 0, 0, 0, 0, 0, 0, 0, 0, 0, 0, 0, 0, 0, 0, 0, 0, 0, 0, 0, 0,\n",
       "       0, 0, 0, 0, 0, 0, 0, 0, 0, 0, 0, 0, 0, 0, 0, 0, 0, 0, 0, 0, 0, 0,\n",
       "       0, 0, 0, 0, 0, 0, 0, 0, 0, 0, 0, 0, 0, 0, 0, 0, 0, 0, 0, 0, 0, 0,\n",
       "       0, 0, 0, 0, 0, 0, 0, 0, 0, 0, 0, 0, 0, 0, 0, 0, 0, 0, 0, 0, 0, 0,\n",
       "       0, 0, 0, 0, 0, 0, 0, 0, 0, 0, 0, 0, 0, 0, 0, 0, 0, 0, 0, 0, 0, 0,\n",
       "       0, 0, 0, 0, 0, 0, 0, 0, 0, 0, 0, 0, 0, 0, 0, 0, 0, 0, 0, 0, 0, 0,\n",
       "       0, 0, 0, 0, 0, 0, 0, 0, 0, 0], dtype=uint8)"
      ]
     },
     "execution_count": 68,
     "metadata": {},
     "output_type": "execute_result"
    }
   ],
   "source": [
    "im2\n",
    "for i in range(340,340,1):\n",
    "    im2[i]=45\n",
    "    \n",
    "im2[0:340,1,1]"
   ]
  },
  {
   "cell_type": "code",
   "execution_count": 69,
   "metadata": {},
   "outputs": [],
   "source": [
    "newimage=Image.fromarray(im2)\n",
    "newimage.save(\"img/23.jpg\")"
   ]
  },
  {
   "cell_type": "code",
   "execution_count": 90,
   "metadata": {},
   "outputs": [],
   "source": [
    "im2=np.array(Image.open(\"img/1.jpg\"))\n",
    "im=np.array(Image.open(\"img/2.jpg\"))"
   ]
  },
  {
   "cell_type": "code",
   "execution_count": 78,
   "metadata": {},
   "outputs": [
    {
     "data": {
      "text/plain": [
       "(640, 1024)"
      ]
     },
     "execution_count": 78,
     "metadata": {},
     "output_type": "execute_result"
    }
   ],
   "source": [
    "im2.shape\n"
   ]
  },
  {
   "cell_type": "code",
   "execution_count": 91,
   "metadata": {},
   "outputs": [],
   "source": [
    "im3=im2[0:340,0:600]"
   ]
  },
  {
   "cell_type": "code",
   "execution_count": 96,
   "metadata": {},
   "outputs": [
    {
     "data": {
      "text/plain": [
       "(340, 600, 3)"
      ]
     },
     "execution_count": 96,
     "metadata": {},
     "output_type": "execute_result"
    }
   ],
   "source": [
    "im.shape"
   ]
  },
  {
   "cell_type": "code",
   "execution_count": 88,
   "metadata": {},
   "outputs": [
    {
     "data": {
      "text/plain": [
       "(340, 600)"
      ]
     },
     "execution_count": 88,
     "metadata": {},
     "output_type": "execute_result"
    }
   ],
   "source": [
    "im3.shape"
   ]
  },
  {
   "cell_type": "code",
   "execution_count": 92,
   "metadata": {},
   "outputs": [],
   "source": [
    "im3\n",
    "for i in range(120,240,1):\n",
    "    im3[i]=im[i]\n",
    "newimage=Image.fromarray(im3)\n",
    "newimage.save(\"img/23.jpg\")"
   ]
  },
  {
   "cell_type": "code",
   "execution_count": 93,
   "metadata": {},
   "outputs": [],
   "source": [
    "im4=np.array(Image.open(\"img/3.jpg\"))"
   ]
  },
  {
   "cell_type": "code",
   "execution_count": 94,
   "metadata": {},
   "outputs": [
    {
     "data": {
      "text/plain": [
       "(900, 1600, 3)"
      ]
     },
     "execution_count": 94,
     "metadata": {},
     "output_type": "execute_result"
    }
   ],
   "source": [
    "im4.shape"
   ]
  },
  {
   "cell_type": "code",
   "execution_count": 100,
   "metadata": {},
   "outputs": [],
   "source": [
    "im5=im4[0:340,0:600]"
   ]
  },
  {
   "cell_type": "code",
   "execution_count": 101,
   "metadata": {},
   "outputs": [],
   "source": [
    "im5\n",
    "for i in range(120,240,1):\n",
    "    im5[i]=im[i]\n",
    "newimage=Image.fromarray(im5)\n",
    "newimage.save(\"img/24.jpg\")"
   ]
  },
  {
   "cell_type": "code",
   "execution_count": 102,
   "metadata": {},
   "outputs": [
    {
     "data": {
      "text/plain": [
       "(340, 600, 3)"
      ]
     },
     "execution_count": 102,
     "metadata": {},
     "output_type": "execute_result"
    }
   ],
   "source": [
    "im5.shape"
   ]
  },
  {
   "cell_type": "code",
   "execution_count": 105,
   "metadata": {},
   "outputs": [],
   "source": [
    "im5[120:,240:,1]=im2[0:220,0:360,1]"
   ]
  },
  {
   "cell_type": "code",
   "execution_count": 106,
   "metadata": {},
   "outputs": [],
   "source": [
    "newimage=Image.fromarray(im5)\n",
    "newimage.save(\"img/25.jpg\")"
   ]
  },
  {
   "cell_type": "code",
   "execution_count": 107,
   "metadata": {},
   "outputs": [
    {
     "ename": "ValueError",
     "evalue": "all the input array dimensions for the concatenation axis must match exactly, but along dimension 0, the array at index 0 has size 340 and the array at index 2 has size 900",
     "output_type": "error",
     "traceback": [
      "\u001b[1;31m---------------------------------------------------------------------------\u001b[0m",
      "\u001b[1;31mValueError\u001b[0m                                Traceback (most recent call last)",
      "\u001b[1;32m<ipython-input-107-92b0c70b189e>\u001b[0m in \u001b[0;36m<module>\u001b[1;34m\u001b[0m\n\u001b[0;32m      1\u001b[0m \u001b[1;31m#concatenate\u001b[0m\u001b[1;33m\u001b[0m\u001b[1;33m\u001b[0m\u001b[1;33m\u001b[0m\u001b[0m\n\u001b[1;32m----> 2\u001b[1;33m \u001b[0mim_news\u001b[0m\u001b[1;33m=\u001b[0m\u001b[0mnp\u001b[0m\u001b[1;33m.\u001b[0m\u001b[0mconcatenate\u001b[0m\u001b[1;33m(\u001b[0m\u001b[1;33m(\u001b[0m\u001b[0mim\u001b[0m\u001b[1;33m,\u001b[0m\u001b[0mim1\u001b[0m\u001b[1;33m,\u001b[0m\u001b[0mim4\u001b[0m\u001b[1;33m)\u001b[0m\u001b[1;33m,\u001b[0m\u001b[0maxis\u001b[0m\u001b[1;33m=\u001b[0m\u001b[1;36m1\u001b[0m\u001b[1;33m)\u001b[0m\u001b[1;33m\u001b[0m\u001b[1;33m\u001b[0m\u001b[0m\n\u001b[0m\u001b[0;32m      3\u001b[0m \u001b[0mn1\u001b[0m\u001b[1;33m=\u001b[0m\u001b[0mImage\u001b[0m\u001b[1;33m.\u001b[0m\u001b[0mfromarray\u001b[0m\u001b[1;33m(\u001b[0m\u001b[0mim_news\u001b[0m\u001b[1;33m)\u001b[0m\u001b[1;33m\u001b[0m\u001b[1;33m\u001b[0m\u001b[0m\n\u001b[0;32m      4\u001b[0m \u001b[0mn1\u001b[0m\u001b[1;33m.\u001b[0m\u001b[0msave\u001b[0m\u001b[1;33m(\u001b[0m\u001b[1;34m\"img/new.jpg\"\u001b[0m\u001b[1;33m)\u001b[0m\u001b[1;33m\u001b[0m\u001b[1;33m\u001b[0m\u001b[0m\n",
      "\u001b[1;32m<__array_function__ internals>\u001b[0m in \u001b[0;36mconcatenate\u001b[1;34m(*args, **kwargs)\u001b[0m\n",
      "\u001b[1;31mValueError\u001b[0m: all the input array dimensions for the concatenation axis must match exactly, but along dimension 0, the array at index 0 has size 340 and the array at index 2 has size 900"
     ]
    }
   ],
   "source": [
    "#concatenate\n",
    "im_news=np.concatenate((im,im1,im4),axis=1)\n",
    "n1=Image.fromarray(im_news)\n",
    "n1.save(\"img/new.jpg\")"
   ]
  },
  {
   "cell_type": "code",
   "execution_count": 109,
   "metadata": {},
   "outputs": [
    {
     "name": "stdout",
     "output_type": "stream",
     "text": [
      "(340, 600, 3)\n",
      "(340, 600, 3)\n",
      "(900, 1600, 3)\n"
     ]
    }
   ],
   "source": [
    "print(im.shape)\n",
    "print(im1.shape)\n",
    "print(im4.shape)"
   ]
  },
  {
   "cell_type": "code",
   "execution_count": 110,
   "metadata": {},
   "outputs": [],
   "source": [
    "im4=im4[0:340,0:600,0:]"
   ]
  },
  {
   "cell_type": "code",
   "execution_count": 111,
   "metadata": {},
   "outputs": [
    {
     "data": {
      "text/plain": [
       "(340, 600, 3)"
      ]
     },
     "execution_count": 111,
     "metadata": {},
     "output_type": "execute_result"
    }
   ],
   "source": [
    "im4.shape"
   ]
  },
  {
   "cell_type": "code",
   "execution_count": 112,
   "metadata": {},
   "outputs": [],
   "source": [
    "#concatenate\n",
    "im_news=np.concatenate((im,im1,im4),axis=1)\n",
    "n1=Image.fromarray(im_news)\n",
    "n1.save(\"img/new.jpg\")"
   ]
  },
  {
   "cell_type": "code",
   "execution_count": 131,
   "metadata": {},
   "outputs": [],
   "source": [
    "im2=np.array(Image.open(\"img/1.jpg\"))\n",
    "im=np.array(Image.open(\"img/2.jpg\"))\n",
    "im4=np.array(Image.open(\"img/3.jpg\"))\n"
   ]
  },
  {
   "cell_type": "code",
   "execution_count": 114,
   "metadata": {},
   "outputs": [
    {
     "name": "stdout",
     "output_type": "stream",
     "text": [
      "(340, 600, 3)\n",
      "(640, 1024, 3)\n",
      "(900, 1600, 3)\n"
     ]
    }
   ],
   "source": [
    "print(im.shape)\n",
    "print(im2.shape)\n",
    "print(im4.shape)"
   ]
  },
  {
   "cell_type": "code",
   "execution_count": 115,
   "metadata": {},
   "outputs": [],
   "source": [
    "im4=im4[0:340,0:600,0:]\n",
    "im2=im2[0:340,0:600,0:]"
   ]
  },
  {
   "cell_type": "code",
   "execution_count": 116,
   "metadata": {},
   "outputs": [
    {
     "name": "stdout",
     "output_type": "stream",
     "text": [
      "(340, 600, 3)\n",
      "(340, 600, 3)\n",
      "(340, 600, 3)\n"
     ]
    }
   ],
   "source": [
    "print(im.shape)\n",
    "print(im2.shape)\n",
    "print(im4.shape)"
   ]
  },
  {
   "cell_type": "code",
   "execution_count": 118,
   "metadata": {},
   "outputs": [],
   "source": [
    "#concatenate\n",
    "im_news=np.concatenate((im,im2,im4),axis=1)\n",
    "n1=Image.fromarray(im_news)\n",
    "n1.save(\"img/new.jpg\")"
   ]
  },
  {
   "cell_type": "code",
   "execution_count": null,
   "metadata": {},
   "outputs": [],
   "source": [
    "\n",
    "from  PIL import Image \n",
    "import numpy as np\n",
    " \n",
    "im = np.array(Image.open(\"img_tiger.jpg\"))\n",
    " \n",
    "im.shape\n",
    " \n",
    "#grey image\n",
    "im_gray = np.array(Image.open(\"img_tiger.jpg\").convert(\"L\"))\n",
    " \n",
    "data = Image.fromarray(im_gray) \n",
    "data.save(\"img_tiger_grey.jpg\") \n",
    " \n",
    "#chanages are not allowed\n",
    "im1 = np.array(Image.open(\"img_ganesha.jpg\"))\n",
    "print(type(im1))\n",
    " \n",
    "im1.flags.writeable\n",
    "astype\n",
    " \n",
    "#changing the colors of the pic\n",
    " \n",
    "for i in range(120,160,1):\n",
    "    im1[i]= 45\n",
    "    im1[0,1,1]=0\n",
    "    im1[0,100]=0\n",
    "    im1[1,100]=0\n",
    " \n",
    "newimage=Image.fromarray(im1)\n",
    "print(newimage)\n",
    "newimage.mode\n",
    "newimage.save(\"img_ganesha_change.jpg\")\n",
    " \n",
    " \n",
    " \n",
    "#Get the pixel values and set them\n",
    "t= im[90,190]\n",
    "t\n",
    " \n",
    "print(im[90,190,2])\n",
    " \n",
    "#concatenation of images\n",
    "im1 = np.array(Image.open(\"img_ganesha.jpg\"))\n",
    "im_r = im1.copy()\n",
    "im_g=im1.copy()\n",
    "im_b=im1.copy()\n",
    "#RGB\n",
    "im_r[:,:, (1,2)]=0\n",
    "im_g[:,:, (0,2)]=0\n",
    "im_b[:,:, (0,1)]=0\n",
    " \n",
    " \n",
    "#im_new = np.concatenate((im_r,im_g, im_b), axis=1)\n",
    "im_new =np.vstack((im_r,im_g, im_b))\n",
    "n1=Image.fromarray(im_new)\n",
    "n1.save(\"concat.jpg\")\n",
    " \n",
    " "
   ]
  },
  {
   "cell_type": "code",
   "execution_count": 119,
   "metadata": {},
   "outputs": [],
   "source": [
    "import os\n",
    "def get_imlist(path):\n",
    "    \n",
    "    \n",
    "    return [os.path.join(path,f) for f in os.listdir(path) if f.endswith('jpg')]"
   ]
  },
  {
   "cell_type": "code",
   "execution_count": 122,
   "metadata": {},
   "outputs": [
    {
     "name": "stdout",
     "output_type": "stream",
     "text": [
      "img/1.jpg\n",
      "img/1n.jpg\n",
      "img/1nn.jpg\n",
      "img/2.jpg\n",
      "img/23.jpg\n",
      "img/24.jpg\n",
      "img/25.jpg\n",
      "img/3.jpg\n",
      "img/new.jpg\n",
      "img/q.jpg\n",
      "img/q3.jpg\n"
     ]
    }
   ],
   "source": [
    "filelist=get_imlist(\"img/\")\n",
    "\n",
    "for infile in filelist:\n",
    "    outfile=os.path.splitext(infile)[0]+\".jpg\"\n",
    "    print(outfile)\n",
    "    if infile != outfile:\n",
    "        try:\n",
    "            Image.open(infile).save(outfile)\n",
    "        except IOError:\n",
    "            print(\"cannot convert\",infile)"
   ]
  },
  {
   "cell_type": "code",
   "execution_count": 123,
   "metadata": {},
   "outputs": [],
   "source": [
    "im2=255-im\n"
   ]
  },
  {
   "cell_type": "code",
   "execution_count": 124,
   "metadata": {},
   "outputs": [],
   "source": [
    "n1=Image.fromarray(im2)\n",
    "n1.save(\"img/w.jpg\")\n"
   ]
  },
  {
   "cell_type": "code",
   "execution_count": 127,
   "metadata": {},
   "outputs": [
    {
     "name": "stdout",
     "output_type": "stream",
     "text": [
      "(340, 600, 3)\n",
      "(640, 1024, 3)\n",
      "(900, 1600, 3)\n"
     ]
    }
   ],
   "source": [
    "print(im.shape)\n",
    "print(im2.shape)\n",
    "print(im4.shape)"
   ]
  },
  {
   "cell_type": "code",
   "execution_count": 129,
   "metadata": {},
   "outputs": [
    {
     "ename": "ValueError",
     "evalue": "cannot resize an array that references or is referenced\nby another array in this way.\nUse the np.resize function or refcheck=False",
     "output_type": "error",
     "traceback": [
      "\u001b[1;31m---------------------------------------------------------------------------\u001b[0m",
      "\u001b[1;31mValueError\u001b[0m                                Traceback (most recent call last)",
      "\u001b[1;32m<ipython-input-129-5e4bf6a34d98>\u001b[0m in \u001b[0;36m<module>\u001b[1;34m\u001b[0m\n\u001b[0;32m      1\u001b[0m \u001b[0mim\u001b[0m\u001b[1;33m.\u001b[0m\u001b[0mresize\u001b[0m\u001b[1;33m(\u001b[0m\u001b[1;36m340\u001b[0m\u001b[1;33m,\u001b[0m\u001b[1;36m600\u001b[0m\u001b[1;33m,\u001b[0m\u001b[1;36m3\u001b[0m\u001b[1;33m)\u001b[0m\u001b[1;33m\u001b[0m\u001b[1;33m\u001b[0m\u001b[0m\n\u001b[1;32m----> 2\u001b[1;33m \u001b[0mim2\u001b[0m\u001b[1;33m.\u001b[0m\u001b[0mresize\u001b[0m\u001b[1;33m(\u001b[0m\u001b[1;36m340\u001b[0m\u001b[1;33m,\u001b[0m\u001b[1;36m600\u001b[0m\u001b[1;33m,\u001b[0m\u001b[1;36m3\u001b[0m\u001b[1;33m)\u001b[0m\u001b[1;33m\u001b[0m\u001b[1;33m\u001b[0m\u001b[0m\n\u001b[0m\u001b[0;32m      3\u001b[0m \u001b[0mim4\u001b[0m\u001b[1;33m.\u001b[0m\u001b[0mresize\u001b[0m\u001b[1;33m(\u001b[0m\u001b[1;36m340\u001b[0m\u001b[1;33m,\u001b[0m\u001b[1;36m600\u001b[0m\u001b[1;33m,\u001b[0m\u001b[1;36m3\u001b[0m\u001b[1;33m)\u001b[0m\u001b[1;33m\u001b[0m\u001b[1;33m\u001b[0m\u001b[0m\n",
      "\u001b[1;31mValueError\u001b[0m: cannot resize an array that references or is referenced\nby another array in this way.\nUse the np.resize function or refcheck=False"
     ]
    }
   ],
   "source": [
    "im.resize(340,600,3)\n",
    "\n",
    "im4.resize(340,600,3)"
   ]
  },
  {
   "cell_type": "code",
   "execution_count": 133,
   "metadata": {},
   "outputs": [],
   "source": [
    "im4.resize(340,600,3)"
   ]
  },
  {
   "cell_type": "code",
   "execution_count": 132,
   "metadata": {},
   "outputs": [],
   "source": [
    "im2.resize(340,600,3)"
   ]
  },
  {
   "cell_type": "code",
   "execution_count": 134,
   "metadata": {},
   "outputs": [],
   "source": [
    "im_news=np.concatenate((im,im2,im4),axis=1)\n",
    "n1=Image.fromarray(im_news)\n",
    "n1.save(\"img/new1.jpg\")\n"
   ]
  },
  {
   "cell_type": "markdown",
   "metadata": {},
   "source": [
    "## Image Reduction"
   ]
  },
  {
   "cell_type": "code",
   "execution_count": 143,
   "metadata": {},
   "outputs": [],
   "source": [
    "#color reduction with loop\n",
    "im = np.array(Image.open(\"img/1.jpg\"))\n",
    "im_3=im\n",
    "im_5=im\n",
    "\n",
    "for i in range(190):\n",
    "    for j in range(250):\n",
    "        im_3[i,j]=im[i,j]//92\n",
    "        im_5[i,j]=im[i,j]//22\n",
    "        \n",
    "im_dec=np.concatenate((im,im_3,im_5),axis=1)    \n",
    "Image.fromarray(im_dec).save(\"img/qwe.jpg\")"
   ]
  },
  {
   "cell_type": "code",
   "execution_count": 144,
   "metadata": {},
   "outputs": [],
   "source": [
    "#color reduction without loop\n",
    "im = np.array(Image.open(\"img/1.jpg\"))\n",
    "im_3=im//92*92\n",
    "im_5=im//158*158\n",
    "im_dec=np.concatenate((im,im_3,im_5),axis=1)    \n",
    "Image.fromarray(im_dec).save(\"img/qwe1.jpg\")"
   ]
  },
  {
   "cell_type": "code",
   "execution_count": 149,
   "metadata": {},
   "outputs": [],
   "source": [
    "im = np.array(Image.open(\"img/1.jpg\").resize((256,256)))\n",
    "im_3=im//92*92\n",
    "im_5=im//158*158\n",
    "im_dec=np.concatenate((im,im_3,im_5),axis=1)    \n",
    "Image.fromarray(im_dec).save(\"img/qwe2.jpg\")"
   ]
  },
  {
   "cell_type": "code",
   "execution_count": 150,
   "metadata": {},
   "outputs": [],
   "source": [
    "im = np.array(Image.open(\"img/2.jpg\").resize((256,256)))\n",
    "im_3=im//92*92\n",
    "im_5=im//158*158\n",
    "im_dec=np.concatenate((im,im_3,im_5),axis=1)    \n",
    "Image.fromarray(im_dec).save(\"img/qwe3.jpg\")"
   ]
  },
  {
   "cell_type": "markdown",
   "metadata": {},
   "source": [
    "## Image trim\n"
   ]
  },
  {
   "cell_type": "code",
   "execution_count": 153,
   "metadata": {},
   "outputs": [
    {
     "name": "stdout",
     "output_type": "stream",
     "text": [
      "(640, 1024, 3)\n",
      "(100, 100, 3)\n"
     ]
    }
   ],
   "source": [
    "im = np.array(Image.open(\"img/1.jpg\"))\n",
    "print(im.shape)\n",
    "\n",
    "im_trim1=im[300:400,300:400]\n",
    "print(im_trim1.shape)\n",
    "Image.fromarray(im_trim1).save(\"img/1trim.jpg\")"
   ]
  },
  {
   "cell_type": "code",
   "execution_count": 156,
   "metadata": {},
   "outputs": [
    {
     "name": "stdout",
     "output_type": "stream",
     "text": [
      "(640, 1024, 3)\n",
      "(50, 50, 3)\n"
     ]
    }
   ],
   "source": [
    "def trim(array,x,y,w,h):\n",
    "    return array[y:y+h,x:x+h]\n",
    "print(im.shape)\n",
    "im_trim2=trim(im,50,50,50,50)\n",
    "print(im_trim2.shape)\n",
    "Image.fromarray(im_trim1).save(\"img/1trim2.jpg\")"
   ]
  },
  {
   "cell_type": "markdown",
   "metadata": {},
   "source": [
    "## Rotation\n"
   ]
  },
  {
   "cell_type": "code",
   "execution_count": 170,
   "metadata": {},
   "outputs": [],
   "source": [
    "Image.fromarray(np.rot90(im)).save(\"img/1rot90.jpg\")\n",
    "Image.fromarray(np.rot90(im,2)).save(\"img/1rot180.jpg\")\n",
    "Image.fromarray(np.rot90(im,3)).save(\"img/1rot270.jpg\")"
   ]
  },
  {
   "cell_type": "markdown",
   "metadata": {},
   "source": [
    "## Spliting"
   ]
  },
  {
   "cell_type": "code",
   "execution_count": 159,
   "metadata": {},
   "outputs": [
    {
     "name": "stdout",
     "output_type": "stream",
     "text": [
      "(640, 342, 3)\n",
      "(640, 341, 3)\n",
      "(640, 341, 3)\n"
     ]
    }
   ],
   "source": [
    "im_0,im_1,im_2=np.array_split(im,3,axis=1)\n",
    "print(im_0.shape)\n",
    "print(im_1.shape)\n",
    "print(im_2.shape)\n",
    "Image.fromarray(im_0).save(\"img/10.jpg\")\n",
    "Image.fromarray(im_1).save(\"img/11.jpg\")\n",
    "Image.fromarray(im_2).save(\"img/12.jpg\")"
   ]
  },
  {
   "cell_type": "markdown",
   "metadata": {},
   "source": [
    "## Overlapping"
   ]
  },
  {
   "cell_type": "code",
   "execution_count": 165,
   "metadata": {},
   "outputs": [
    {
     "name": "stdout",
     "output_type": "stream",
     "text": [
      "uint8\n",
      "uint8\n",
      "float64\n"
     ]
    }
   ],
   "source": [
    "im = np.array(Image.open(\"img/1.jpg\"))\n",
    "im1 = np.array(Image.open(\"img/2.jpg\").resize(im.shape[1::-1],Image.BILINEAR))\n",
    "print(im.dtype)\n",
    "print(im1.dtype)\n",
    "dst=im*0.5+im1*0.5\n",
    "print(dst.dtype)\n",
    "\n",
    "Image.fromarray(dst.astype(np.uint8)).save(\"img/after_blending.jpg\")"
   ]
  },
  {
   "cell_type": "code",
   "execution_count": 166,
   "metadata": {},
   "outputs": [
    {
     "name": "stdout",
     "output_type": "stream",
     "text": [
      "uint8\n",
      "uint8\n",
      "float64\n"
     ]
    }
   ],
   "source": [
    "im = np.array(Image.open(\"img/1.jpg\"))\n",
    "im1 = np.array(Image.open(\"img/2.jpg\").resize(im.shape[1::-1]))\n",
    "print(im.dtype)\n",
    "print(im1.dtype)\n",
    "dst=im*0.5+im1*0.5\n",
    "print(dst.dtype)\n",
    "\n",
    "Image.fromarray(dst.astype(np.uint8)).save(\"img/after_blending1.jpg\")"
   ]
  },
  {
   "cell_type": "markdown",
   "metadata": {},
   "source": [
    "## flip\n"
   ]
  },
  {
   "cell_type": "code",
   "execution_count": 175,
   "metadata": {},
   "outputs": [],
   "source": [
    "Image.fromarray(np.flipud(im)).save(\"img/1ud.jpg\")\n",
    "Image.fromarray(np.fliplr(im)).save(\"img/1lr.jpg\")\n",
    "Image.fromarray(np.flipud(im)).save(\"img/1ud.jpg\")"
   ]
  },
  {
   "cell_type": "markdown",
   "metadata": {},
   "source": [
    "## Image pasting"
   ]
  },
  {
   "cell_type": "code",
   "execution_count": 182,
   "metadata": {},
   "outputs": [],
   "source": [
    "img = Image.open(\"img/1.jpg\")  \n",
    "ds = (Image.open(\"img/2.jpg\"))\n",
    "ds.paste(img, (100, 200))\n",
    "ds.save(\"img/pasted_picture.jpg\")"
   ]
  },
  {
   "cell_type": "code",
   "execution_count": null,
   "metadata": {},
   "outputs": [],
   "source": []
  }
 ],
 "metadata": {
  "kernelspec": {
   "display_name": "Python 3",
   "language": "python",
   "name": "python3"
  },
  "language_info": {
   "codemirror_mode": {
    "name": "ipython",
    "version": 3
   },
   "file_extension": ".py",
   "mimetype": "text/x-python",
   "name": "python",
   "nbconvert_exporter": "python",
   "pygments_lexer": "ipython3",
   "version": "3.8.5"
  }
 },
 "nbformat": 4,
 "nbformat_minor": 4
}
