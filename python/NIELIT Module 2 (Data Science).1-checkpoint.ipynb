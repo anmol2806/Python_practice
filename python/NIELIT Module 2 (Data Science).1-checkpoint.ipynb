{
 "cells": [
  {
   "cell_type": "code",
   "execution_count": 21,
   "metadata": {},
   "outputs": [],
   "source": [
    "import numpy as np\n",
    "ar = np.array([[0,1,2,3,4,5],[6,7,8,9,10],[11,12,13,14,15],[16,17,18,19,20]])"
   ]
  },
  {
   "cell_type": "code",
   "execution_count": 22,
   "metadata": {},
   "outputs": [
    {
     "name": "stdout",
     "output_type": "stream",
     "text": [
      "[list([0, 1, 2, 3, 4, 5]) list([6, 7, 8, 9, 10])\n",
      " list([11, 12, 13, 14, 15]) list([16, 17, 18, 19, 20])]\n"
     ]
    }
   ],
   "source": [
    "print(ar) # if any row have more elements than other rows, then in output list is written in front of each row"
   ]
  },
  {
   "cell_type": "code",
   "execution_count": 24,
   "metadata": {},
   "outputs": [
    {
     "name": "stdout",
     "output_type": "stream",
     "text": [
      "[[ 1  2  3  4  5]\n",
      " [ 6  7  8  9 10]\n",
      " [11 12 13 14 15]\n",
      " [16 17 18 19 20]]\n"
     ]
    }
   ],
   "source": [
    "ar = np.array([[1,2,3,4,5],[6,7,8,9,10],[11,12,13,14,15],[16,17,18,19,20]])\n",
    "print(ar)  #2D presentation"
   ]
  },
  {
   "cell_type": "code",
   "execution_count": 2,
   "metadata": {},
   "outputs": [
    {
     "data": {
      "text/plain": [
       "array([0, 1, 2, 3, 4, 5, 6, 7, 8, 9])"
      ]
     },
     "execution_count": 2,
     "metadata": {},
     "output_type": "execute_result"
    }
   ],
   "source": [
    "import numpy as np\n",
    "import time\n",
    "a = np.arange(10)\n",
    "a"
   ]
  },
  {
   "cell_type": "code",
   "execution_count": 5,
   "metadata": {},
   "outputs": [
    {
     "data": {
      "text/plain": [
       "array([[0, 1, 2, 3, 4],\n",
       "       [5, 6, 7, 8, 9]])"
      ]
     },
     "execution_count": 5,
     "metadata": {},
     "output_type": "execute_result"
    }
   ],
   "source": [
    "b = a.reshape(2,5)\n",
    "b"
   ]
  },
  {
   "cell_type": "code",
   "execution_count": 2,
   "metadata": {
    "scrolled": true
   },
   "outputs": [
    {
     "name": "stdout",
     "output_type": "stream",
     "text": [
      "[1 2 9]\n",
      "time taken :  0.0019941329956054688\n"
     ]
    }
   ],
   "source": [
    "#fancy indexing\n",
    "begin1 = time.time()\n",
    "c = a[[1,2,-1]]\n",
    "print(c)\n",
    "end1 = time.time()\n",
    "print(\"time taken : \",end1-begin1)"
   ]
  },
  {
   "cell_type": "code",
   "execution_count": 9,
   "metadata": {},
   "outputs": [
    {
     "name": "stdout",
     "output_type": "stream",
     "text": [
      "[1 2 9]\n",
      "time taken :  0.001993894577026367\n"
     ]
    }
   ],
   "source": [
    "#using function\n",
    "begin2 = time.time()\n",
    "d = np.take(a,[1,2,-1])\n",
    "print(d)\n",
    "end2 = time.time()\n",
    "print(\"time taken : \",end2-begin2)"
   ]
  },
  {
   "cell_type": "code",
   "execution_count": 1,
   "metadata": {},
   "outputs": [
    {
     "name": "stdout",
     "output_type": "stream",
     "text": [
      "[0 1 2 3 4 5 6 7 8 9]\n",
      "[1 2 9]\n",
      "time taken :  0.0010380744934082031\n"
     ]
    }
   ],
   "source": [
    "import numpy as np\n",
    "import time\n",
    "a = np.arange(10)\n",
    "print(a)\n",
    "#fancy indexing\n",
    "begin1 = time.time()\n",
    "c = a[[1,2,-1]]\n",
    "print(c)\n",
    "end1 = time.time()\n",
    "print(\"time taken : \",end1-begin1)"
   ]
  },
  {
   "cell_type": "code",
   "execution_count": 1,
   "metadata": {},
   "outputs": [
    {
     "name": "stdout",
     "output_type": "stream",
     "text": [
      "[0 1 2 3 4 5 6 7 8 9]\n",
      "[1 2 9]\n",
      "time taken :  0.000997304916381836\n"
     ]
    }
   ],
   "source": [
    "import numpy as np\n",
    "import time\n",
    "a = np.arange(10)\n",
    "print(a)\n",
    "#using function\n",
    "begin2 = time.time()\n",
    "d = np.take(a,[1,2,-1])\n",
    "print(d)\n",
    "end2 = time.time()\n",
    "print(\"time taken : \",end2-begin2)"
   ]
  },
  {
   "cell_type": "code",
   "execution_count": 30,
   "metadata": {},
   "outputs": [
    {
     "name": "stdout",
     "output_type": "stream",
     "text": [
      "[150 156 162 168 174 180]\n",
      "[ 15  75 135 195 255 315]\n",
      "990\n"
     ]
    }
   ],
   "source": [
    "a=np.array([[0,1,2,3,4,5],\n",
    "            [10,11,12,13,14,15],\n",
    "            [20,21,22,23,24,25],\n",
    "            [30,31,32,33,34,35],\n",
    "            [40,41,42,43,44,45],\n",
    "            [50,51,52,53,54,55]])\n",
    "colsum  = a.sum(axis = 0)\n",
    "print(colsum)\n",
    "rowsum = a.sum(axis = -1)\n",
    "print(rowsum)\n",
    "totalsum = a.sum()\n",
    "print(totalsum)"
   ]
  },
  {
   "cell_type": "code",
   "execution_count": 13,
   "metadata": {},
   "outputs": [
    {
     "data": {
      "text/plain": [
       "array([ 0,  1,  2,  3,  4,  5,  6,  7,  8,  9, 10, 11, 12, 13, 14, 15, 16,\n",
       "       17, 18, 19, 20, 21, 22, 23, 24, 25, 26, 27, 28, 29, 30, 31, 32, 33,\n",
       "       34, 35, 36, 37, 38, 39, 40, 41, 42, 43, 44, 45, 46, 47, 48, 49, 50,\n",
       "       51, 52, 53, 54])"
      ]
     },
     "execution_count": 13,
     "metadata": {},
     "output_type": "execute_result"
    }
   ],
   "source": [
    "b = np.arange(0 ,55)\n",
    "b"
   ]
  },
  {
   "cell_type": "code",
   "execution_count": 14,
   "metadata": {},
   "outputs": [
    {
     "name": "stdout",
     "output_type": "stream",
     "text": [
      "150\n"
     ]
    }
   ],
   "source": [
    "#single row addition\n",
    "colsum  = a[::,0].sum(axis = 0)\n",
    "print(colsum)"
   ]
  },
  {
   "cell_type": "code",
   "execution_count": 29,
   "metadata": {},
   "outputs": [
    {
     "name": "stdout",
     "output_type": "stream",
     "text": [
      "[150 156 162 168 174 180]\n"
     ]
    },
    {
     "data": {
      "text/plain": [
       "array([[  0,   1,   2,   3,   4,   5],\n",
       "       [ 10,  11,  12,  13,  14,  15],\n",
       "       [ 20,  21,  22,  23,  24,  25],\n",
       "       [ 30,  31,  32,  33,  34,  35],\n",
       "       [ 40,  41,  42,  43,  44,  45],\n",
       "       [ 50,  51,  52,  53,  54,  55],\n",
       "       [150, 156, 162, 168, 174, 180]])"
      ]
     },
     "execution_count": 29,
     "metadata": {},
     "output_type": "execute_result"
    }
   ],
   "source": [
    "#add to right and left of array the sum\n",
    "a=np.array([[0,1,2,3,4,5],\n",
    "            [10,11,12,13,14,15],\n",
    "            [20,21,22,23,24,25],\n",
    "            [30,31,32,33,34,35],\n",
    "            [40,41,42,43,44,45],\n",
    "            [50,51,52,53,54,55]])\n",
    "colsum  = a.sum(axis = 0)\n",
    "print(colsum)\n",
    "r = np.vstack((a,colsum))\n",
    "r"
   ]
  },
  {
   "cell_type": "code",
   "execution_count": 47,
   "metadata": {},
   "outputs": [
    {
     "name": "stdout",
     "output_type": "stream",
     "text": [
      "[ 15  75 135 195 255 315]\n",
      "(6,)\n"
     ]
    },
    {
     "ename": "ValueError",
     "evalue": "all the input arrays must have same number of dimensions",
     "output_type": "error",
     "traceback": [
      "\u001b[1;31m---------------------------------------------------------------------------\u001b[0m",
      "\u001b[1;31mValueError\u001b[0m                                Traceback (most recent call last)",
      "\u001b[1;32m<ipython-input-47-60503ac2e68a>\u001b[0m in \u001b[0;36m<module>\u001b[1;34m\u001b[0m\n\u001b[0;32m      9\u001b[0m \u001b[0mprint\u001b[0m\u001b[1;33m(\u001b[0m\u001b[0mcolsum\u001b[0m\u001b[1;33m.\u001b[0m\u001b[0mshape\u001b[0m\u001b[1;33m)\u001b[0m\u001b[1;33m\u001b[0m\u001b[1;33m\u001b[0m\u001b[0m\n\u001b[0;32m     10\u001b[0m \u001b[0mcolsum_t\u001b[0m \u001b[1;33m=\u001b[0m \u001b[0mnp\u001b[0m\u001b[1;33m.\u001b[0m\u001b[0mtranspose\u001b[0m\u001b[1;33m(\u001b[0m\u001b[0mcolsum\u001b[0m\u001b[1;33m)\u001b[0m\u001b[1;33m\u001b[0m\u001b[1;33m\u001b[0m\u001b[0m\n\u001b[1;32m---> 11\u001b[1;33m \u001b[0mr\u001b[0m \u001b[1;33m=\u001b[0m \u001b[0mnp\u001b[0m\u001b[1;33m.\u001b[0m\u001b[0mhstack\u001b[0m\u001b[1;33m(\u001b[0m\u001b[1;33m(\u001b[0m\u001b[0ma\u001b[0m\u001b[1;33m,\u001b[0m\u001b[0mcolsum\u001b[0m\u001b[1;33m.\u001b[0m\u001b[0mT\u001b[0m\u001b[1;33m)\u001b[0m\u001b[1;33m)\u001b[0m\u001b[1;33m\u001b[0m\u001b[1;33m\u001b[0m\u001b[0m\n\u001b[0m\u001b[0;32m     12\u001b[0m \u001b[0mprint\u001b[0m\u001b[1;33m(\u001b[0m\u001b[0mcolsum_t\u001b[0m\u001b[1;33m)\u001b[0m\u001b[1;33m\u001b[0m\u001b[1;33m\u001b[0m\u001b[0m\n\u001b[0;32m     13\u001b[0m \u001b[0mprint\u001b[0m\u001b[1;33m(\u001b[0m\u001b[0mcolsum_t\u001b[0m\u001b[1;33m.\u001b[0m\u001b[0mshape\u001b[0m\u001b[1;33m)\u001b[0m\u001b[1;33m\u001b[0m\u001b[1;33m\u001b[0m\u001b[0m\n",
      "\u001b[1;32m~\\anaconda\\lib\\site-packages\\numpy\\core\\shape_base.py\u001b[0m in \u001b[0;36mhstack\u001b[1;34m(tup)\u001b[0m\n\u001b[0;32m    338\u001b[0m         \u001b[1;32mreturn\u001b[0m \u001b[0m_nx\u001b[0m\u001b[1;33m.\u001b[0m\u001b[0mconcatenate\u001b[0m\u001b[1;33m(\u001b[0m\u001b[0marrs\u001b[0m\u001b[1;33m,\u001b[0m \u001b[1;36m0\u001b[0m\u001b[1;33m)\u001b[0m\u001b[1;33m\u001b[0m\u001b[1;33m\u001b[0m\u001b[0m\n\u001b[0;32m    339\u001b[0m     \u001b[1;32melse\u001b[0m\u001b[1;33m:\u001b[0m\u001b[1;33m\u001b[0m\u001b[1;33m\u001b[0m\u001b[0m\n\u001b[1;32m--> 340\u001b[1;33m         \u001b[1;32mreturn\u001b[0m \u001b[0m_nx\u001b[0m\u001b[1;33m.\u001b[0m\u001b[0mconcatenate\u001b[0m\u001b[1;33m(\u001b[0m\u001b[0marrs\u001b[0m\u001b[1;33m,\u001b[0m \u001b[1;36m1\u001b[0m\u001b[1;33m)\u001b[0m\u001b[1;33m\u001b[0m\u001b[1;33m\u001b[0m\u001b[0m\n\u001b[0m\u001b[0;32m    341\u001b[0m \u001b[1;33m\u001b[0m\u001b[0m\n\u001b[0;32m    342\u001b[0m \u001b[1;33m\u001b[0m\u001b[0m\n",
      "\u001b[1;31mValueError\u001b[0m: all the input arrays must have same number of dimensions"
     ]
    }
   ],
   "source": [
    "a=np.array([[0,1,2,3,4,5],\n",
    "            [10,11,12,13,14,15],\n",
    "            [20,21,22,23,24,25],\n",
    "            [30,31,32,33,34,35],\n",
    "            [40,41,42,43,44,45],\n",
    "            [50,51,52,53,54,55]])\n",
    "colsum  = a.sum(axis = 1)\n",
    "print(colsum)\n",
    "print(colsum.shape)\n",
    "colsum_t = np.transpose(colsum)\n",
    "r = np.hstack((a,colsum.T))\n",
    "print(colsum_t)\n",
    "print(colsum_t.shape)\n",
    "print(colsum.T)\n",
    "print((colsum.T).shape)"
   ]
  },
  {
   "cell_type": "code",
   "execution_count": 51,
   "metadata": {},
   "outputs": [
    {
     "name": "stdout",
     "output_type": "stream",
     "text": [
      "[[0. 0. 0. 0.]\n",
      " [0. 0. 0. 0.]\n",
      " [0. 0. 0. 0.]\n",
      " [0. 0. 0. 0.]\n",
      " [0. 0. 0. 0.]]\n",
      "shape is  (1, 6)\n",
      "[[  0.   2.   4.   6.  12.]\n",
      " [  1.   3.   5.   7.  16.]\n",
      " [  2.   4.   6.   8.  20.]\n",
      " [  3.   5.   7.   9.  24.]\n",
      " [  4.   6.   8.  10.  28.]\n",
      " [ 10.  20.  30.  40. 100.]]\n"
     ]
    }
   ],
   "source": [
    "#5 by 4 array\n",
    "n=5\n",
    "k=4\n",
    "a=np.zeros([n,k])\n",
    "print(a)\n",
    "for i in range(n):\n",
    "    for j in range(k):\n",
    "        a[i][j]=i+2*j\n",
    "        \n",
    "#rowwise colwise sum to be added\n",
    "#This adds the row\n",
    "a=np.append(a,[np.sum(a,axis=0)],axis=0)\n",
    "#This calculates the column\n",
    "col=np.array([np.sum(a,axis=1)])\n",
    "print(\"shape is \",col.shape)\n",
    "#Finally we add the column\n",
    "a=np.concatenate((a,col.T),axis=1)\n",
    "print(a)"
   ]
  },
  {
   "cell_type": "code",
   "execution_count": 9,
   "metadata": {},
   "outputs": [],
   "source": []
  },
  {
   "cell_type": "code",
   "execution_count": null,
   "metadata": {},
   "outputs": [],
   "source": []
  },
  {
   "cell_type": "code",
   "execution_count": 11,
   "metadata": {},
   "outputs": [
    {
     "data": {
      "text/plain": [
       "array([[ 2,  2,  4],\n",
       "       [ 5,  5,  7],\n",
       "       [ 8,  8, 10],\n",
       "       [11, 11, 13]])"
      ]
     },
     "execution_count": 11,
     "metadata": {},
     "output_type": "execute_result"
    }
   ],
   "source": [
    "x = np.array([[1,2,3], [4,5,6], [7,8,9], [10, 11, 12]])\n",
    "v = np.array([1, 0, 1])\n",
    "y = np.empty_like(x)  \n",
    "for i in range(4):\n",
    "    y[i, :] = x[i, :] + v\n",
    "y"
   ]
  },
  {
   "cell_type": "code",
   "execution_count": 50,
   "metadata": {},
   "outputs": [
    {
     "data": {
      "text/plain": [
       "array([[1, 0, 1],\n",
       "       [1, 0, 1],\n",
       "       [1, 0, 1],\n",
       "       [1, 0, 1]])"
      ]
     },
     "execution_count": 50,
     "metadata": {},
     "output_type": "execute_result"
    }
   ],
   "source": [
    "x = np.array([[1,2,3], [4,5,6], [7,8,9], [10, 11, 12]])\n",
    "v = np.array([1, 0, 1])\n",
    "vv = np.tile(v, (4, 1))\n",
    "vv"
   ]
  },
  {
   "cell_type": "code",
   "execution_count": 53,
   "metadata": {},
   "outputs": [
    {
     "name": "stdout",
     "output_type": "stream",
     "text": [
      "[[3 4 2]\n",
      " [4 5 3]\n",
      " [5 6 4]\n",
      " [6 7 5]]\n",
      "(4,)\n",
      "(3,)\n",
      "(4, 3)\n"
     ]
    }
   ],
   "source": [
    "a = np.array([1,2,3,4])\n",
    "b = np.array([2,3,1])\n",
    "c = a[:,None] +b\n",
    "print(c)\n",
    "print(np.shape(a))\n",
    "print(np.shape(b))\n",
    "print(np.shape(c))"
   ]
  },
  {
   "cell_type": "code",
   "execution_count": 23,
   "metadata": {},
   "outputs": [
    {
     "data": {
      "text/plain": [
       "array([174,  49, 119, 194,  69, 197, 105,  11,  23,  38])"
      ]
     },
     "execution_count": 23,
     "metadata": {},
     "output_type": "execute_result"
    }
   ],
   "source": [
    "import numpy as np\n",
    "np.random.seed(0)\n",
    "a = np.random.randint(2,200,10)\n",
    "a"
   ]
  },
  {
   "cell_type": "markdown",
   "metadata": {},
   "source": [
    "#You are given 5 cylindrical containers with different radius\n",
    "#and heights ranging between 5 and 25 cm. \n",
    "#Find out\n",
    "Hint:\n",
    "    make a numpy array 10 random numbers generate \n",
    "    reshape array \n",
    "    separate radius array and height array use slicing(1 d arrays)\n",
    "    volume and sum\n",
    "    \n",
    "    dot product\n",
    "    max... argmax    min argmin\n",
    "    \n",
    "    mean...... make a list or tuple\n",
    "    \n",
    "a) the volume of water that each container can contain,\n",
    "b) the total volume of water that all containers can contain,\n",
    "c) which container can hold the highest volume and how much,\n",
    "d) which container can hold the least volume and how much,\n",
    "e) what is the mean, median and standard deviation of the volumes \n",
    "#of water that can be contained in the containers?"
   ]
  },
  {
   "cell_type": "code",
   "execution_count": 119,
   "metadata": {},
   "outputs": [
    {
     "name": "stdout",
     "output_type": "stream",
     "text": [
      "[[ 8 19]\n",
      " [20 11]\n",
      " [21 14]\n",
      " [13  9]\n",
      " [12 21]]\n",
      "Radius array:  [ 8 20 21 13 12]\n",
      "Height array:  [19 11 14  9 21]\n",
      "1. Vol of water that each container can contain:  [ 3818.24 13816.   19386.36  4775.94  9495.36]\n",
      "2. The total volume of water that all containers can contain 51291.90000000001\n",
      "3. Cotainer no.  3  with vol  19386.36\n",
      "4. Cotainer no.  1  with vol  3818.2400000000002\n",
      "5. Mean is  10258.380000000001 , Median is  9495.359999999999 , Standard Deviation is  5798.127801944349\n",
      "[-6440.14  3557.62  9127.98 -5482.44  -763.02]\n"
     ]
    }
   ],
   "source": [
    "import numpy as np\n",
    "np.random.seed(5)\n",
    "arr_r_h = np.random.randint(5,25,10).reshape(5,2)\n",
    "print(arr_r_h)\n",
    "arr_r = arr_r_h[:,0]\n",
    "arr_h = arr_r_h[:,1]\n",
    "print(\"Radius array: \",arr_r)\n",
    "print(\"Height array: \",arr_h)\n",
    "#vol = pie * r*r *h\n",
    "vol = 3.14 * arr_r * arr_r *arr_h\n",
    "print(\"1. Vol of water that each container can contain: \",vol)\n",
    "t_vol = np.sum(vol)\n",
    "print(\"2. The total volume of water that all containers can contain\",t_vol)\n",
    "print(\"3. Cotainer no. \",np.argmax(vol)+1,\" with vol \",np.max(vol))\n",
    "print(\"4. Cotainer no. \",np.argmin(vol)+1,\" with vol \",np.min(vol))\n",
    "print(\"5. Mean is \",np.mean(vol),\", Median is \",np.median(vol),\", Standard Deviation is \",np.std(vol))\n",
    "sd = vol - np.mean(vol)\n",
    "print(sd)\n"
   ]
  },
  {
   "cell_type": "markdown",
   "metadata": {},
   "source": [
    "\n",
    "spotify=np.genfromtxt(\"data_by_year.csv\", delimiter=\",\",skip_header=1)\n"
   ]
  },
  {
   "cell_type": "code",
   "execution_count": 29,
   "metadata": {},
   "outputs": [
    {
     "data": {
      "text/plain": [
       "array([[0.88 , 0.   , 2.6  , 0.098],\n",
       "       [0.76 , 0.04 , 2.3  , 0.092],\n",
       "       [0.28 , 0.56 , 1.9  , 0.075],\n",
       "       [0.7  , 0.   , 1.9  , 0.076]])"
      ]
     },
     "execution_count": 29,
     "metadata": {},
     "output_type": "execute_result"
    }
   ],
   "source": [
    "import numpy as np\n",
    "csvf = np.genfromtxt(\"Downloads\\winequality-red.csv\",delimiter = \";\",skip_header = 1)\n",
    "csvf[1:5,1:5]"
   ]
  },
  {
   "cell_type": "code",
   "execution_count": 12,
   "metadata": {},
   "outputs": [
    {
     "name": "stdout",
     "output_type": "stream",
     "text": [
      "[56.         38.         62.66666667]\n"
     ]
    },
    {
     "data": {
      "text/plain": [
       "47.0"
      ]
     },
     "execution_count": 12,
     "metadata": {},
     "output_type": "execute_result"
    }
   ],
   "source": [
    "import numpy as np\n",
    "arr = np.array([[56,67,45],\n",
    "               [56,34,24],\n",
    "              [57,86,45]])\n",
    "m = arr.mean(axis = 1)\n",
    "print(m)\n",
    "m.max()\n",
    "m2 = arr[:2].mean()\n",
    "m2"
   ]
  },
  {
   "cell_type": "code",
   "execution_count": 26,
   "metadata": {},
   "outputs": [
    {
     "name": "stdout",
     "output_type": "stream",
     "text": [
      "All row sum = 34\n",
      "34\n",
      "All column sum = 34\n",
      "34\n",
      "it is durer matrix\n"
     ]
    }
   ],
   "source": [
    "import numpy as np\n",
    "durerarr = np.array([[16,3,2,13],\n",
    "                   [5,10,11,8],\n",
    "                    [9,6,7,12],\n",
    "                   [4,15,14,1]])\n",
    "for i in durerarr:\n",
    "    if sum(i) == 34:\n",
    "        r = sum(i)\n",
    "        continue\n",
    "    else:\n",
    "        print(\"no\")\n",
    "        break\n",
    "print(\"All row sum = 34\")\n",
    "print(r)\n",
    "for i in range(4):\n",
    "    if sum(durerarr[:,i]) == 34:\n",
    "        c = sum(durerarr[:,i])\n",
    "        continue\n",
    "    else:\n",
    "        print(\"no\")\n",
    "print(\"All column sum = 34\")\n",
    "print(c)\n",
    "d1 = durerarr[:2,:2]\n",
    "d2 = durerarr[2:,2:]\n",
    "d3 = durerarr[:2,2:]\n",
    "d4 = durerarr[2:,:2]\n",
    "if np.sum(d1) ==34 and np.sum(d2) == 34 and np.sum(d3) and np.sum(d4) == 34 and r ==34 and c ==34:\n",
    "    print(\"it is durer matrix\")\n",
    "else:\n",
    "    print(\"not\")"
   ]
  },
  {
   "cell_type": "markdown",
   "metadata": {},
   "source": [
    "## WINES PROJECT "
   ]
  },
  {
   "cell_type": "markdown",
   "metadata": {},
   "source": [
    "Q1 Add a new column which should be 20% of the residual sugar column\n",
    "\n",
    "Q2 Create two vectors with some new values for all the columns and concatenate it to existing wines table\n",
    "\n",
    "Q3 Find the sum of all the columns and add it as the last row\n",
    "\n",
    "Q4 Find all those rows where the free sulphur dioxide is b/w 12 and 15 and make a new numpy array of this\n",
    "\n",
    "Q5 Extract records from 5th to 10th row showing information of ph, alcohol and quality\n",
    "\n",
    "Q6 Find avg of chloride, density and sulphates seperately and plot it on a bar graph by making a dict."
   ]
  },
  {
   "cell_type": "code",
   "execution_count": 1,
   "metadata": {},
   "outputs": [
    {
     "data": {
      "text/plain": [
       "array([[0.88 , 0.   , 2.6  , 0.098],\n",
       "       [0.76 , 0.04 , 2.3  , 0.092],\n",
       "       [0.28 , 0.56 , 1.9  , 0.075],\n",
       "       [0.7  , 0.   , 1.9  , 0.076]])"
      ]
     },
     "execution_count": 1,
     "metadata": {},
     "output_type": "execute_result"
    }
   ],
   "source": [
    "import numpy as np\n",
    "csvf = np.genfromtxt(\"Downloads\\winequality-red.csv\",delimiter = \";\",skip_header = 1)\n",
    "csvf[1:5,1:5]"
   ]
  },
  {
   "cell_type": "code",
   "execution_count": 2,
   "metadata": {},
   "outputs": [
    {
     "data": {
      "text/plain": [
       "(1599, 12)"
      ]
     },
     "execution_count": 2,
     "metadata": {},
     "output_type": "execute_result"
    }
   ],
   "source": [
    "csvf.shape"
   ]
  },
  {
   "cell_type": "code",
   "execution_count": 15,
   "metadata": {},
   "outputs": [
    {
     "data": {
      "text/html": [
       "<div>\n",
       "<style scoped>\n",
       "    .dataframe tbody tr th:only-of-type {\n",
       "        vertical-align: middle;\n",
       "    }\n",
       "\n",
       "    .dataframe tbody tr th {\n",
       "        vertical-align: top;\n",
       "    }\n",
       "\n",
       "    .dataframe thead th {\n",
       "        text-align: right;\n",
       "    }\n",
       "</style>\n",
       "<table border=\"1\" class=\"dataframe\">\n",
       "  <thead>\n",
       "    <tr style=\"text-align: right;\">\n",
       "      <th></th>\n",
       "      <th>fixed acidity</th>\n",
       "      <th>volatile acidity</th>\n",
       "      <th>citric acid</th>\n",
       "      <th>residual sugar</th>\n",
       "      <th>chlorides</th>\n",
       "      <th>free sulfur dioxide</th>\n",
       "      <th>total sulfur dioxide</th>\n",
       "      <th>density</th>\n",
       "      <th>pH</th>\n",
       "      <th>sulphates</th>\n",
       "      <th>alcohol</th>\n",
       "      <th>quality</th>\n",
       "    </tr>\n",
       "  </thead>\n",
       "  <tbody>\n",
       "    <tr>\n",
       "      <th>0</th>\n",
       "      <td>7.4</td>\n",
       "      <td>0.70</td>\n",
       "      <td>0.00</td>\n",
       "      <td>1.9</td>\n",
       "      <td>0.076</td>\n",
       "      <td>11.0</td>\n",
       "      <td>34.0</td>\n",
       "      <td>0.9978</td>\n",
       "      <td>3.51</td>\n",
       "      <td>0.56</td>\n",
       "      <td>9.4</td>\n",
       "      <td>5</td>\n",
       "    </tr>\n",
       "    <tr>\n",
       "      <th>1</th>\n",
       "      <td>7.8</td>\n",
       "      <td>0.88</td>\n",
       "      <td>0.00</td>\n",
       "      <td>2.6</td>\n",
       "      <td>0.098</td>\n",
       "      <td>25.0</td>\n",
       "      <td>67.0</td>\n",
       "      <td>0.9968</td>\n",
       "      <td>3.20</td>\n",
       "      <td>0.68</td>\n",
       "      <td>9.8</td>\n",
       "      <td>5</td>\n",
       "    </tr>\n",
       "    <tr>\n",
       "      <th>2</th>\n",
       "      <td>7.8</td>\n",
       "      <td>0.76</td>\n",
       "      <td>0.04</td>\n",
       "      <td>2.3</td>\n",
       "      <td>0.092</td>\n",
       "      <td>15.0</td>\n",
       "      <td>54.0</td>\n",
       "      <td>0.9970</td>\n",
       "      <td>3.26</td>\n",
       "      <td>0.65</td>\n",
       "      <td>9.8</td>\n",
       "      <td>5</td>\n",
       "    </tr>\n",
       "    <tr>\n",
       "      <th>3</th>\n",
       "      <td>11.2</td>\n",
       "      <td>0.28</td>\n",
       "      <td>0.56</td>\n",
       "      <td>1.9</td>\n",
       "      <td>0.075</td>\n",
       "      <td>17.0</td>\n",
       "      <td>60.0</td>\n",
       "      <td>0.9980</td>\n",
       "      <td>3.16</td>\n",
       "      <td>0.58</td>\n",
       "      <td>9.8</td>\n",
       "      <td>6</td>\n",
       "    </tr>\n",
       "    <tr>\n",
       "      <th>4</th>\n",
       "      <td>7.4</td>\n",
       "      <td>0.70</td>\n",
       "      <td>0.00</td>\n",
       "      <td>1.9</td>\n",
       "      <td>0.076</td>\n",
       "      <td>11.0</td>\n",
       "      <td>34.0</td>\n",
       "      <td>0.9978</td>\n",
       "      <td>3.51</td>\n",
       "      <td>0.56</td>\n",
       "      <td>9.4</td>\n",
       "      <td>5</td>\n",
       "    </tr>\n",
       "    <tr>\n",
       "      <th>5</th>\n",
       "      <td>7.4</td>\n",
       "      <td>0.66</td>\n",
       "      <td>0.00</td>\n",
       "      <td>1.8</td>\n",
       "      <td>0.075</td>\n",
       "      <td>13.0</td>\n",
       "      <td>40.0</td>\n",
       "      <td>0.9978</td>\n",
       "      <td>3.51</td>\n",
       "      <td>0.56</td>\n",
       "      <td>9.4</td>\n",
       "      <td>5</td>\n",
       "    </tr>\n",
       "    <tr>\n",
       "      <th>6</th>\n",
       "      <td>7.9</td>\n",
       "      <td>0.60</td>\n",
       "      <td>0.06</td>\n",
       "      <td>1.6</td>\n",
       "      <td>0.069</td>\n",
       "      <td>15.0</td>\n",
       "      <td>59.0</td>\n",
       "      <td>0.9964</td>\n",
       "      <td>3.30</td>\n",
       "      <td>0.46</td>\n",
       "      <td>9.4</td>\n",
       "      <td>5</td>\n",
       "    </tr>\n",
       "    <tr>\n",
       "      <th>7</th>\n",
       "      <td>7.3</td>\n",
       "      <td>0.65</td>\n",
       "      <td>0.00</td>\n",
       "      <td>1.2</td>\n",
       "      <td>0.065</td>\n",
       "      <td>15.0</td>\n",
       "      <td>21.0</td>\n",
       "      <td>0.9946</td>\n",
       "      <td>3.39</td>\n",
       "      <td>0.47</td>\n",
       "      <td>10.0</td>\n",
       "      <td>7</td>\n",
       "    </tr>\n",
       "    <tr>\n",
       "      <th>8</th>\n",
       "      <td>7.8</td>\n",
       "      <td>0.58</td>\n",
       "      <td>0.02</td>\n",
       "      <td>2.0</td>\n",
       "      <td>0.073</td>\n",
       "      <td>9.0</td>\n",
       "      <td>18.0</td>\n",
       "      <td>0.9968</td>\n",
       "      <td>3.36</td>\n",
       "      <td>0.57</td>\n",
       "      <td>9.5</td>\n",
       "      <td>7</td>\n",
       "    </tr>\n",
       "    <tr>\n",
       "      <th>9</th>\n",
       "      <td>7.5</td>\n",
       "      <td>0.50</td>\n",
       "      <td>0.36</td>\n",
       "      <td>6.1</td>\n",
       "      <td>0.071</td>\n",
       "      <td>17.0</td>\n",
       "      <td>102.0</td>\n",
       "      <td>0.9978</td>\n",
       "      <td>3.35</td>\n",
       "      <td>0.80</td>\n",
       "      <td>10.5</td>\n",
       "      <td>5</td>\n",
       "    </tr>\n",
       "  </tbody>\n",
       "</table>\n",
       "</div>"
      ],
      "text/plain": [
       "   fixed acidity  volatile acidity  citric acid  residual sugar  chlorides  \\\n",
       "0            7.4              0.70         0.00             1.9      0.076   \n",
       "1            7.8              0.88         0.00             2.6      0.098   \n",
       "2            7.8              0.76         0.04             2.3      0.092   \n",
       "3           11.2              0.28         0.56             1.9      0.075   \n",
       "4            7.4              0.70         0.00             1.9      0.076   \n",
       "5            7.4              0.66         0.00             1.8      0.075   \n",
       "6            7.9              0.60         0.06             1.6      0.069   \n",
       "7            7.3              0.65         0.00             1.2      0.065   \n",
       "8            7.8              0.58         0.02             2.0      0.073   \n",
       "9            7.5              0.50         0.36             6.1      0.071   \n",
       "\n",
       "   free sulfur dioxide  total sulfur dioxide  density    pH  sulphates  \\\n",
       "0                 11.0                  34.0   0.9978  3.51       0.56   \n",
       "1                 25.0                  67.0   0.9968  3.20       0.68   \n",
       "2                 15.0                  54.0   0.9970  3.26       0.65   \n",
       "3                 17.0                  60.0   0.9980  3.16       0.58   \n",
       "4                 11.0                  34.0   0.9978  3.51       0.56   \n",
       "5                 13.0                  40.0   0.9978  3.51       0.56   \n",
       "6                 15.0                  59.0   0.9964  3.30       0.46   \n",
       "7                 15.0                  21.0   0.9946  3.39       0.47   \n",
       "8                  9.0                  18.0   0.9968  3.36       0.57   \n",
       "9                 17.0                 102.0   0.9978  3.35       0.80   \n",
       "\n",
       "   alcohol  quality  \n",
       "0      9.4        5  \n",
       "1      9.8        5  \n",
       "2      9.8        5  \n",
       "3      9.8        6  \n",
       "4      9.4        5  \n",
       "5      9.4        5  \n",
       "6      9.4        5  \n",
       "7     10.0        7  \n",
       "8      9.5        7  \n",
       "9     10.5        5  "
      ]
     },
     "execution_count": 15,
     "metadata": {},
     "output_type": "execute_result"
    }
   ],
   "source": [
    "import pandas as pd\n",
    "df = pd.read_csv(\"Downloads\\winequality-red.csv\",sep =\";\")\n",
    "df.head(10)"
   ]
  },
  {
   "cell_type": "code",
   "execution_count": 4,
   "metadata": {},
   "outputs": [
    {
     "data": {
      "text/plain": [
       "array([[ 7.4  ,  0.7  ,  0.   , ...,  9.4  ,  5.   ,  0.38 ],\n",
       "       [ 7.8  ,  0.88 ,  0.   , ...,  9.8  ,  5.   ,  0.52 ],\n",
       "       [ 7.8  ,  0.76 ,  0.04 , ...,  9.8  ,  5.   ,  0.46 ],\n",
       "       ...,\n",
       "       [ 6.3  ,  0.51 ,  0.13 , ..., 11.   ,  6.   ,  0.46 ],\n",
       "       [ 5.9  ,  0.645,  0.12 , ..., 10.2  ,  5.   ,  0.4  ],\n",
       "       [ 6.   ,  0.31 ,  0.47 , ..., 11.   ,  6.   ,  0.72 ]])"
      ]
     },
     "execution_count": 4,
     "metadata": {},
     "output_type": "execute_result"
    }
   ],
   "source": [
    "# Q1 Add a new column which should be 20% of the residual sugar column\n",
    "residualsugar_20 = csvf[:,3]*0.20\n",
    "csvf = np.append(csvf, residualsugar_20.reshape(1599,1),axis=1)\n",
    "csvf"
   ]
  },
  {
   "cell_type": "code",
   "execution_count": 5,
   "metadata": {},
   "outputs": [
    {
     "data": {
      "text/plain": [
       "array([[ 7.4 ,  0.7 ,  0.  , ...,  9.4 ,  5.  ,  0.38],\n",
       "       [ 7.8 ,  0.88,  0.  , ...,  9.8 ,  5.  ,  0.52],\n",
       "       [ 7.8 ,  0.76,  0.04, ...,  9.8 ,  5.  ,  0.46],\n",
       "       ...,\n",
       "       [ 6.  ,  0.31,  0.47, ..., 11.  ,  6.  ,  0.72],\n",
       "       [11.2 ,  0.28,  0.56, ...,  9.8 ,  6.  ,  0.46],\n",
       "       [ 7.4 ,  0.7 ,  0.  , ...,  9.4 ,  5.  ,  0.56]])"
      ]
     },
     "execution_count": 5,
     "metadata": {},
     "output_type": "execute_result"
    }
   ],
   "source": [
    "# Q2 Create two vectors with some new values for all the columns and concatenate it to existing wines table\n",
    "vector1 = np.array([11.2,0.28,0.56,1.9,0.075,17.0,60.0,0.9980,3.16,0.58,9.8,6,0.46])\n",
    "vector2 = np.array([7.4,0.70,0.00,1.9,0.076,11.0,34.0,0.9978,3.51,0.56,9.4,5,0.56])\n",
    "newvector = np.vstack((vector1,vector2))\n",
    "csvf = np.vstack((csvf,newvector))\n",
    "csvf"
   ]
  },
  {
   "cell_type": "code",
   "execution_count": 6,
   "metadata": {},
   "outputs": [
    {
     "name": "stdout",
     "output_type": "stream",
     "text": [
      "[13321.7       844.965     433.85     4063.35      140.01    25412.\n",
      " 74396.       1595.79374  5301.14     1053.52    16685.55     9023.\n",
      "   812.93   ]\n"
     ]
    },
    {
     "data": {
      "text/plain": [
       "array([[7.400000e+00, 7.000000e-01, 0.000000e+00, ..., 9.400000e+00,\n",
       "        5.000000e+00, 3.800000e-01],\n",
       "       [7.800000e+00, 8.800000e-01, 0.000000e+00, ..., 9.800000e+00,\n",
       "        5.000000e+00, 5.200000e-01],\n",
       "       [7.800000e+00, 7.600000e-01, 4.000000e-02, ..., 9.800000e+00,\n",
       "        5.000000e+00, 4.600000e-01],\n",
       "       ...,\n",
       "       [1.120000e+01, 2.800000e-01, 5.600000e-01, ..., 9.800000e+00,\n",
       "        6.000000e+00, 4.600000e-01],\n",
       "       [7.400000e+00, 7.000000e-01, 0.000000e+00, ..., 9.400000e+00,\n",
       "        5.000000e+00, 5.600000e-01],\n",
       "       [1.332170e+04, 8.449650e+02, 4.338500e+02, ..., 1.668555e+04,\n",
       "        9.023000e+03, 8.129300e+02]])"
      ]
     },
     "execution_count": 6,
     "metadata": {},
     "output_type": "execute_result"
    }
   ],
   "source": [
    "# Q3 Find the sum of all the columns and add it as the last row\n",
    "#print(csvf.shape)\n",
    "colsum = np.sum(csvf,axis = 0)\n",
    "print(colsum)\n",
    "csvf2 = np.vstack((csvf,colsum))\n",
    "csvf2"
   ]
  },
  {
   "cell_type": "code",
   "execution_count": 13,
   "metadata": {},
   "outputs": [
    {
     "name": "stdout",
     "output_type": "stream",
     "text": [
      "5\n",
      "[ 7.4     0.66    0.      1.8     0.075  13.     40.      0.9978  3.51\n",
      "  0.56    9.4     5.      0.36  ]\n",
      "28\n",
      "[ 7.1     0.71    0.      1.9     0.08   14.     35.      0.9972  3.47\n",
      "  0.55    9.4     5.      0.38  ]\n",
      "34\n",
      "[ 5.2     0.32    0.25    1.8     0.103  13.     50.      0.9957  3.38\n",
      "  0.55    9.2     5.      0.36  ]\n",
      "37\n",
      "[ 8.1     0.38    0.28    2.1     0.066  13.     30.      0.9968  3.23\n",
      "  0.73    9.7     7.      0.42  ]\n",
      "63\n",
      "[7.000e+00 7.350e-01 5.000e-02 2.000e+00 8.100e-02 1.300e+01 5.400e+01\n",
      " 9.966e-01 3.390e+00 5.700e-01 9.800e+00 5.000e+00 4.000e-01]\n",
      "77\n",
      "[ 6.8     0.785   0.      2.4     0.104  14.     30.      0.9966  3.52\n",
      "  0.55   10.7     6.      0.48  ]\n",
      "99\n",
      "[ 8.1     0.545   0.18    1.9     0.08   13.     35.      0.9972  3.3\n",
      "  0.59    9.      6.      0.38  ]\n",
      "102\n",
      "[ 8.1     0.545   0.18    1.9     0.08   13.     35.      0.9972  3.3\n",
      "  0.59    9.      6.      0.38  ]\n",
      "112\n",
      "[8.400e+00 6.000e-01 1.000e-01 2.200e+00 8.500e-02 1.400e+01 1.110e+02\n",
      " 9.964e-01 3.150e+00 6.600e-01 9.800e+00 5.000e+00 4.400e-01]\n",
      "115\n",
      "[ 9.4     0.4     0.31    2.2     0.09   13.     62.      0.9966  3.07\n",
      "  0.63   10.5     6.      0.44  ]\n",
      "118\n",
      "[8.800e+00 5.500e-01 4.000e-02 2.200e+00 1.190e-01 1.400e+01 5.600e+01\n",
      " 9.962e-01 3.210e+00 6.000e-01 1.090e+01 6.000e+00 4.400e-01]\n",
      "121\n",
      "[8.800e+00 5.500e-01 4.000e-02 2.200e+00 1.190e-01 1.400e+01 5.600e+01\n",
      " 9.962e-01 3.210e+00 6.000e-01 1.090e+01 6.000e+00 4.400e-01]\n",
      "134\n",
      "[ 7.9     1.04    0.05    2.2     0.084  13.     29.      0.9959  3.22\n",
      "  0.55    9.9     6.      0.44  ]\n",
      "137\n",
      "[ 7.2     0.415   0.36    2.      0.081  13.     45.      0.9972  3.48\n",
      "  0.64    9.2     5.      0.4   ]\n",
      "165\n",
      "[ 7.8     0.63    0.48    1.7     0.1    14.     96.      0.9961  3.19\n",
      "  0.62    9.5     5.      0.34  ]\n",
      "186\n",
      "[ 7.4     0.39    0.48    2.      0.082  14.     67.      0.9972  3.34\n",
      "  0.55    9.2     5.      0.4   ]\n",
      "198\n",
      "[5.400e+00 8.350e-01 8.000e-02 1.200e+00 4.600e-02 1.300e+01 9.300e+01\n",
      " 9.924e-01 3.570e+00 8.500e-01 1.300e+01 7.000e+00 2.400e-01]\n",
      "204\n",
      "[ 7.       0.43     0.36     1.6      0.089   14.      37.       0.99615\n",
      "  3.34     0.56     9.2      6.       0.32   ]\n",
      "216\n",
      "[ 8.7     0.625   0.16    2.      0.101  13.     49.      0.9962  3.14\n",
      "  0.57   11.      5.      0.4   ]\n",
      "235\n",
      "[ 7.2      0.63     0.       1.9      0.097   14.      38.       0.99675\n",
      "  3.37     0.58     9.       6.       0.38   ]\n",
      "236\n",
      "[ 7.2      0.63     0.       1.9      0.097   14.      38.       0.99675\n",
      "  3.37     0.58     9.       6.       0.38   ]\n",
      "238\n",
      "[ 7.2      0.63     0.       1.9      0.097   14.      38.       0.99675\n",
      "  3.37     0.58     9.       6.       0.38   ]\n",
      "259\n",
      "[10.       0.31     0.47     2.6      0.085   14.      33.       0.99965\n",
      "  3.36     0.8     10.5      7.       0.52   ]\n",
      "324\n",
      "[10.      0.49    0.2    11.      0.071  13.     50.      1.0015  3.16\n",
      "  0.69    9.2     6.      2.2   ]\n",
      "325\n",
      "[10.      0.49    0.2    11.      0.071  13.     50.      1.0015  3.16\n",
      "  0.69    9.2     6.      2.2   ]\n",
      "360\n",
      "[ 8.2     0.7     0.23    2.      0.099  14.     81.      0.9973  3.19\n",
      "  0.7     9.4     5.      0.4   ]\n",
      "393\n",
      "[ 8.4    0.665  0.61   2.     0.112 13.    95.     0.997  3.16   0.54\n",
      "  9.1    5.     0.4  ]\n",
      "397\n",
      "[11.5     0.59    0.59    2.6     0.087  13.     49.      0.9988  3.18\n",
      "  0.65   11.      6.      0.52  ]\n",
      "398\n",
      "[11.5     0.59    0.59    2.6     0.087  13.     49.      0.9988  3.18\n",
      "  0.65   11.      6.      0.52  ]\n",
      "429\n",
      "[12.8     0.84    0.63    2.4     0.088  13.     35.      0.9997  3.1\n",
      "  0.6    10.4     6.      0.48  ]\n",
      "460\n",
      "[ 9.2     0.43    0.52    2.3     0.083  14.     23.      0.9976  3.35\n",
      "  0.61   11.3     6.      0.46  ]\n",
      "492\n",
      "[ 8.9    0.4    0.51   2.6    0.052 13.    27.     0.995  3.32   0.9\n",
      " 13.4    7.     0.52 ]\n",
      "496\n",
      "[ 7.8     0.52    0.25    1.9     0.081  14.     38.      0.9984  3.43\n",
      "  0.65    9.      6.      0.38  ]\n",
      "500\n",
      "[ 7.8     0.52    0.25    1.9     0.081  14.     38.      0.9984  3.43\n",
      "  0.65    9.      6.      0.38  ]\n",
      "534\n",
      "[10.     0.48   0.24   2.7    0.102 13.    32.     1.     3.28   0.56\n",
      " 10.     6.     0.54 ]\n",
      "551\n",
      "[ 9.4    0.43   0.24   2.8    0.092 14.    45.     0.998  3.19   0.73\n",
      " 10.     6.     0.56 ]\n",
      "552\n",
      "[ 9.5    0.46   0.24   2.7    0.092 14.    44.     0.998  3.12   0.74\n",
      " 10.     6.     0.54 ]\n",
      "573\n",
      "[10.5     0.59    0.49    2.1     0.07   14.     47.      0.9991  3.3\n",
      "  0.56    9.6     4.      0.42  ]\n",
      "604\n",
      "[ 8.3     0.58    0.13    2.9     0.096  14.     63.      0.9984  3.17\n",
      "  0.62    9.1     6.      0.58  ]\n",
      "617\n",
      "[11.5     0.31    0.51    2.2     0.079  14.     28.      0.9982  3.03\n",
      "  0.93    9.8     6.      0.44  ]\n",
      "621\n",
      "[8.200e+00 5.600e-01 2.300e-01 3.400e+00 7.800e-02 1.400e+01 1.040e+02\n",
      " 9.976e-01 3.280e+00 6.200e-01 9.400e+00 5.000e+00 6.800e-01]\n",
      "686\n",
      "[ 7.1    0.65   0.18   1.8    0.07  13.    40.     0.997  3.44   0.6\n",
      "  9.1    5.     0.36 ]\n",
      "687\n",
      "[ 9.1     0.64    0.23    3.1     0.095  13.     38.      0.9998  3.28\n",
      "  0.59    9.7     5.      0.62  ]\n",
      "709\n",
      "[ 9.7     0.31    0.47    1.6     0.062  13.     33.      0.9983  3.27\n",
      "  0.66   10.      6.      0.32  ]\n",
      "712\n",
      "[ 8.7     0.69    0.      3.2     0.084  13.     33.      0.9992  3.36\n",
      "  0.45    9.4     5.      0.64  ]\n",
      "715\n",
      "[ 7.2     0.49    0.18    2.7     0.069  13.     34.      0.9967  3.29\n",
      "  0.48    9.2     6.      0.54  ]\n",
      "754\n",
      "[ 7.8      0.48     0.68     1.7      0.415   14.      32.       0.99656\n",
      "  3.09     1.06     9.1      6.       0.34   ]\n",
      "767\n",
      "[ 7.5      0.6      0.32     2.7      0.103   13.      98.       0.99938\n",
      "  3.45     0.62     9.5      5.       0.54   ]\n",
      "802\n",
      "[5.1000e+00 5.8500e-01 0.0000e+00 1.7000e+00 4.4000e-02 1.4000e+01\n",
      " 8.6000e+01 9.9264e-01 3.5600e+00 9.4000e-01 1.2900e+01 7.0000e+00\n",
      " 3.4000e-01]\n",
      "803\n",
      "[ 7.7     0.56    0.08    2.5     0.114  14.     46.      0.9971  3.24\n",
      "  0.66    9.6     6.      0.5   ]\n",
      "839\n",
      "[ 6.       0.5      0.04     2.2      0.092   13.      26.       0.99647\n",
      "  3.46     0.47    10.       5.       0.44   ]\n",
      "845\n",
      "[ 6.4      0.64     0.21     1.8      0.081   14.      31.       0.99689\n",
      "  3.59     0.66     9.8      5.       0.36   ]\n",
      "846\n",
      "[ 6.4      0.64     0.21     1.8      0.081   14.      31.       0.99689\n",
      "  3.59     0.66     9.8      5.       0.36   ]\n",
      "848\n",
      "[ 6.4      0.64     0.21     1.8      0.081   14.      31.       0.99689\n",
      "  3.59     0.66     9.8      5.       0.36   ]\n",
      "866\n",
      "[ 6.8      0.49     0.22     2.3      0.071   13.      24.       0.99438\n",
      "  3.41     0.83    11.3      6.       0.46   ]\n",
      "867\n",
      "[ 6.9      0.51     0.23     2.       0.072   13.      22.       0.99438\n",
      "  3.4      0.84    11.2      6.       0.4    ]\n",
      "882\n",
      "[ 8.4      0.31     0.29     3.1      0.194   14.      26.       0.99536\n",
      "  3.22     0.78    12.       6.       0.62   ]\n",
      "924\n",
      "[ 8.6      0.47     0.27     2.3      0.055   14.      28.       0.99516\n",
      "  3.18     0.8     11.2      5.       0.46   ]\n",
      "928\n",
      "[ 8.6      0.47     0.27     2.3      0.055   14.      28.       0.99516\n",
      "  3.18     0.8     11.2      5.       0.46   ]\n",
      "931\n",
      "[7.4000e+00 6.1000e-01 1.0000e-02 2.0000e+00 7.4000e-02 1.3000e+01\n",
      " 3.8000e+01 9.9748e-01 3.4800e+00 6.5000e-01 9.8000e+00 5.0000e+00\n",
      " 4.0000e-01]\n",
      "933\n",
      "[7.4000e+00 6.1000e-01 1.0000e-02 2.0000e+00 7.4000e-02 1.3000e+01\n",
      " 3.8000e+01 9.9748e-01 3.4800e+00 6.5000e-01 9.8000e+00 5.0000e+00\n",
      " 4.0000e-01]\n",
      "940\n",
      "[ 9.6      0.33     0.52     2.2      0.074   13.      25.       0.99509\n",
      "  3.36     0.76    12.4      7.       0.44   ]\n",
      "942\n",
      "[10.1      0.43     0.4      2.6      0.092   13.      52.       0.99834\n",
      "  3.22     0.64    10.       7.       0.52   ]\n",
      "981\n",
      "[ 9.5      0.86     0.26     1.9      0.079   13.      28.       0.99712\n",
      "  3.25     0.62    10.       5.       0.38   ]\n",
      "989\n",
      "[ 9.7      0.295    0.4      1.5      0.073   14.      21.       0.99556\n",
      "  3.14     0.51    10.9      6.       0.3    ]\n",
      "1002\n",
      "[ 9.1      0.29     0.33     2.05     0.063   13.      27.       0.99516\n",
      "  3.26     0.84    11.7      7.       0.41   ]\n",
      "1006\n",
      "[ 9.1      0.29     0.33     2.05     0.063   13.      27.       0.99516\n",
      "  3.26     0.84    11.7      7.       0.41   ]\n",
      "1015\n",
      "[10.5      0.39     0.46     2.2      0.075   14.      27.       0.99598\n",
      "  3.06     0.84    11.4      6.       0.44   ]\n",
      "1026\n",
      "[ 7.9      0.31     0.32     1.9      0.066   14.      36.       0.99364\n",
      "  3.41     0.56    12.6      6.       0.38   ]\n",
      "1033\n",
      "[ 7.5      0.57     0.08     2.6      0.089   14.      27.       0.99592\n",
      "  3.3      0.59    10.4      6.       0.52   ]\n",
      "1041\n",
      "[ 6.9      0.49     0.19     1.7      0.079   13.      26.       0.99547\n",
      "  3.38     0.64     9.8      6.       0.34   ]\n",
      "1066\n",
      "[ 6.6      0.52     0.08     2.4      0.07    13.      26.       0.99358\n",
      "  3.4      0.72    12.5      7.       0.48   ]\n",
      "1101\n",
      "[ 7.4      0.49     0.27     2.1      0.071   14.      25.       0.99388\n",
      "  3.35     0.63    12.       6.       0.42   ]\n",
      "1103\n",
      "[ 7.4      0.49     0.27     2.1      0.071   14.      25.       0.99388\n",
      "  3.35     0.63    12.       6.       0.42   ]\n",
      "1105\n",
      "[6.3000e+00 5.7000e-01 2.8000e-01 2.1000e+00 4.8000e-02 1.3000e+01\n",
      " 4.9000e+01 9.9374e-01 3.4100e+00 6.0000e-01 1.2800e+01 5.0000e+00\n",
      " 4.2000e-01]\n",
      "1118\n",
      "[ 7.1      0.39     0.12     2.1      0.065   14.      24.       0.99252\n",
      "  3.3      0.53    13.3      6.       0.42   ]\n",
      "1125\n",
      "[ 8.8      0.24     0.35     1.7      0.055   13.      27.       0.99394\n",
      "  3.14     0.59    11.3      7.       0.34   ]\n",
      "1209\n",
      "[ 6.2      0.39     0.43     2.       0.071   14.      24.       0.99428\n",
      "  3.45     0.87    11.2      7.       0.4    ]\n",
      "1233\n",
      "[10.2      0.23     0.37     2.2      0.057   14.      36.       0.99614\n",
      "  3.23     0.49     9.3      4.       0.44   ]\n",
      "1263\n",
      "[ 8.2     0.78    0.      2.2     0.089  13.     26.      0.9978  3.37\n",
      "  0.46    9.6     4.      0.44  ]\n",
      "1267\n",
      "[10.4    0.43   0.5    2.3    0.068 13.    19.     0.996  3.1    0.87\n",
      " 11.4    6.     0.46 ]\n",
      "1275\n",
      "[8.0000e+00 7.1500e-01 2.2000e-01 2.3000e+00 7.5000e-02 1.3000e+01\n",
      " 8.1000e+01 9.9688e-01 3.2400e+00 5.4000e-01 9.5000e+00 6.0000e+00\n",
      " 4.6000e-01]\n",
      "1278\n",
      "[8.0000e+00 7.1500e-01 2.2000e-01 2.3000e+00 7.5000e-02 1.3000e+01\n",
      " 8.1000e+01 9.9688e-01 3.2400e+00 5.4000e-01 9.5000e+00 6.0000e+00\n",
      " 4.6000e-01]\n",
      "1292\n",
      "[ 5.9      0.395    0.13     2.4      0.056   14.      28.       0.99362\n",
      "  3.62     0.67    12.4      6.       0.48   ]\n",
      "1312\n",
      "[ 8.       1.18     0.21     1.9      0.083   14.      41.       0.99532\n",
      "  3.34     0.47    10.5      5.       0.38   ]\n",
      "1328\n",
      "[ 6.5     0.52    0.11    1.8     0.073  13.     38.      0.9955  3.34\n",
      "  0.52    9.3     5.      0.36  ]\n",
      "1339\n",
      "[7.5000e+00 5.1000e-01 2.0000e-02 1.7000e+00 8.4000e-02 1.3000e+01\n",
      " 3.1000e+01 9.9538e-01 3.3600e+00 5.4000e-01 1.0500e+01 6.0000e+00\n",
      " 3.4000e-01]\n",
      "1340\n",
      "[7.5000e+00 5.1000e-01 2.0000e-02 1.7000e+00 8.4000e-02 1.3000e+01\n",
      " 3.1000e+01 9.9538e-01 3.3600e+00 5.4000e-01 1.0500e+01 6.0000e+00\n",
      " 3.4000e-01]\n",
      "1341\n",
      "[7.5000e+00 5.1000e-01 2.0000e-02 1.7000e+00 8.4000e-02 1.3000e+01\n",
      " 3.1000e+01 9.9538e-01 3.3600e+00 5.4000e-01 1.0500e+01 6.0000e+00\n",
      " 3.4000e-01]\n",
      "1343\n",
      "[7.5000e+00 5.1000e-01 2.0000e-02 1.7000e+00 8.4000e-02 1.3000e+01\n",
      " 3.1000e+01 9.9538e-01 3.3600e+00 5.4000e-01 1.0500e+01 6.0000e+00\n",
      " 3.4000e-01]\n",
      "1352\n",
      "[7.600e+00 6.450e-01 3.000e-02 1.900e+00 8.600e-02 1.400e+01 5.700e+01\n",
      " 9.969e-01 3.370e+00 4.600e-01 1.030e+01 5.000e+00 3.800e-01]\n",
      "1353\n",
      "[7.600e+00 6.450e-01 3.000e-02 1.900e+00 8.600e-02 1.400e+01 5.700e+01\n",
      " 9.969e-01 3.370e+00 4.600e-01 1.030e+01 5.000e+00 3.800e-01]\n",
      "1361\n",
      "[ 8.3      0.85     0.14     2.5      0.093   13.      54.       0.99724\n",
      "  3.36     0.54    10.1      5.       0.5    ]\n",
      "1375\n",
      "[7.2000e+00 5.6000e-01 2.6000e-01 2.0000e+00 8.3000e-02 1.3000e+01\n",
      " 1.0000e+02 9.9586e-01 3.2600e+00 5.2000e-01 9.9000e+00 5.0000e+00\n",
      " 4.0000e-01]\n",
      "1398\n",
      "[ 7.      0.6     0.12    2.2     0.083  13.     28.      0.9966  3.52\n",
      "  0.62   10.2     7.      0.44  ]\n",
      "1423\n",
      "[ 6.4     0.53    0.09    3.9     0.123  14.     31.      0.9968  3.5\n",
      "  0.67   11.      4.      0.78  ]\n",
      "1431\n",
      "[7.600e+00 4.300e-01 3.100e-01 2.100e+00 6.900e-02 1.300e+01 7.400e+01\n",
      " 9.958e-01 3.260e+00 5.400e-01 9.900e+00 6.000e+00 4.200e-01]\n",
      "1462\n",
      "[6.8000e+00 6.4000e-01 3.0000e-02 2.3000e+00 7.5000e-02 1.4000e+01\n",
      " 3.1000e+01 9.9545e-01 3.3600e+00 5.8000e-01 1.0400e+01 6.0000e+00\n",
      " 4.6000e-01]\n",
      "1463\n",
      "[6.9000e+00 6.3000e-01 1.0000e-02 2.4000e+00 7.6000e-02 1.4000e+01\n",
      " 3.9000e+01 9.9522e-01 3.3400e+00 5.3000e-01 1.0800e+01 6.0000e+00\n",
      " 4.8000e-01]\n",
      "1473\n",
      "[ 6.1      0.6      0.08     1.8      0.071   14.      45.       0.99336\n",
      "  3.38     0.54    11.       5.       0.36   ]\n",
      "1519\n",
      "[ 6.6      0.7      0.08     2.6      0.106   14.      27.       0.99665\n",
      "  3.44     0.58    10.2      5.       0.52   ]\n",
      "1531\n",
      "[ 6.1      0.705    0.1      2.8      0.081   13.      28.       0.99631\n",
      "  3.6      0.66    10.2      5.       0.56   ]\n",
      "1534\n",
      "[ 6.6      0.56     0.14     2.4      0.064   13.      29.       0.99397\n",
      "  3.42     0.62    11.7      7.       0.48   ]\n",
      "1543\n",
      "[11.1      0.44     0.42     2.2      0.064   14.      19.       0.99758\n",
      "  3.25     0.57    10.4      6.       0.44   ]\n",
      "1577\n",
      "[ 6.2      0.7      0.15     5.1      0.076   13.      27.       0.99622\n",
      "  3.54     0.6     11.9      6.       1.02   ]\n",
      "1578\n",
      "[ 6.8     0.67    0.15    1.8     0.118  13.     20.      0.9954  3.42\n",
      "  0.67   11.3     6.      0.36  ]\n",
      "1582\n",
      "[ 6.1      0.715    0.1      2.6      0.053   13.      27.       0.99362\n",
      "  3.57     0.5     11.9      5.       0.52   ]\n"
     ]
    }
   ],
   "source": [
    "# Q4 Find all those rows where the free sulphur dioxide is b/w 12 and 15 and make a new numpy array of this\n",
    "\n",
    "for i in range(1601):\n",
    "    if 12<csvf[i,5]<15:\n",
    "        print(i)\n",
    "        print(csvf[i])\n"
   ]
  },
  {
   "cell_type": "code",
   "execution_count": 16,
   "metadata": {},
   "outputs": [
    {
     "data": {
      "text/plain": [
       "array([[ 3.51,  9.4 ,  5.  ],\n",
       "       [ 3.3 ,  9.4 ,  5.  ],\n",
       "       [ 3.39, 10.  ,  7.  ],\n",
       "       [ 3.36,  9.5 ,  7.  ],\n",
       "       [ 3.35, 10.5 ,  5.  ],\n",
       "       [ 3.28,  9.2 ,  5.  ]])"
      ]
     },
     "execution_count": 16,
     "metadata": {},
     "output_type": "execute_result"
    }
   ],
   "source": [
    "# Q5 Extract records from 5th to 10th row showing information of ph, alcohol and quality\n",
    "csvf[5:11,[8,10,11]]"
   ]
  },
  {
   "cell_type": "code",
   "execution_count": 27,
   "metadata": {},
   "outputs": [
    {
     "name": "stdout",
     "output_type": "stream",
     "text": [
      "{'Chlorides': 0.08745159275452842, 'density': 0.9967481199250469, 'sulphates': 0.6580387257963772}\n"
     ]
    },
    {
     "data": {
      "image/png": "[encoded data removed]",
      "text/plain": [
       "<Figure size 432x288 with 1 Axes>"
      ]
     },
     "metadata": {
      "needs_background": "light"
     },
     "output_type": "display_data"
    }
   ],
   "source": [
    "# Q6 Find avg of chloride, density and sulphates seperately and plot it on a bar graph by making a dict.\n",
    "# 4,7,9\n",
    "import matplotlib.pyplot as plt\n",
    "avg4 = np.mean(csvf[:,4])\n",
    "avg7 = np.mean(csvf[:,7])\n",
    "avg9 = np.mean(csvf[:,9])\n",
    "dict1={}\n",
    "dict1['Chlorides'] = avg4\n",
    "dict1['density'] = avg7\n",
    "dict1['sulphates'] = avg9\n",
    "print(dict1)\n",
    "plt.bar(dict1.keys(),dict1.values())\n",
    "plt.xlabel(\"Chemical\")\n",
    "plt.ylabel(\"Average\")\n",
    "plt.show()\n"
   ]
  },
  {
   "cell_type": "code",
   "execution_count": null,
   "metadata": {},
   "outputs": [],
   "source": []
  }
 ],
 "metadata": {
  "kernelspec": {
   "display_name": "Python 3",
   "language": "python",
   "name": "python3"
  },
  "language_info": {
   "codemirror_mode": {
    "name": "ipython",
    "version": 3
   },
   "file_extension": ".py",
   "mimetype": "text/x-python",
   "name": "python",
   "nbconvert_exporter": "python",
   "pygments_lexer": "ipython3",
   "version": "3.8.5"
  }
 },
 "nbformat": 4,
 "nbformat_minor": 2
}
