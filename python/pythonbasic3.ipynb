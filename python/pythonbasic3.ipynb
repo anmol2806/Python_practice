{
 "cells": [
  {
   "cell_type": "code",
   "execution_count": null,
   "metadata": {},
   "outputs": [],
   "source": [
    "# immutable\n",
    "# 1 = tuple\n",
    "# 2 = string\n",
    "# 3 = int"
   ]
  },
  {
   "cell_type": "code",
   "execution_count": 3,
   "metadata": {},
   "outputs": [
    {
     "name": "stdout",
     "output_type": "stream",
     "text": [
      "['banana', 'mango']\n"
     ]
    }
   ],
   "source": [
    "# List Comprehension\n",
    "# List comprehension offers a shorter syntax when you want to create a new list based on the values of an existing list.\n",
    "# Example:\n",
    "# Based on a list of fruits, you want a new list, containing only the fruits with the letter \"a\" in the name.\n",
    "# Without list comprehension you will have to write a for statement with a conditional test inside:\n",
    "\n",
    "# newlist = [expression for item in iterable if condition == True]\n",
    "\n",
    "\n",
    "fruits = [\"apple\", \"banana\", \"cherry\", \"kiwi\", \"mango\"]\n",
    "\n",
    "newlist = [x for x in fruits if \"n\" in x]\n",
    "\n",
    "print(newlist)\n",
    "\n"
   ]
  },
  {
   "cell_type": "code",
   "execution_count": 30,
   "metadata": {
    "scrolled": true
   },
   "outputs": [
    {
     "name": "stdout",
     "output_type": "stream",
     "text": [
      "88087280\n",
      "90467720\n",
      "1411282976\n",
      "1411283328\n"
     ]
    },
    {
     "data": {
      "text/plain": [
       "(1, 2, [56, 78, 67], (100, 34, 35), [10, 25, (45, 58, 59)])"
      ]
     },
     "execution_count": 30,
     "metadata": {},
     "output_type": "execute_result"
    }
   ],
   "source": [
    "t=(1,2,[56,78],(100,34,35),[10,25,(45,58,59)])\n",
    "print(id(t))\n",
    "print(id(t[2]))\n",
    "t[2].append(67)\n",
    "print(id(t[2][0]))\n",
    "print(id(t[2][1]))\n",
    "t\n",
    "# 90522504\n",
    "# 7217544\n",
    "# 1411282976\n",
    "# 1411283328\n",
    "# (1, 2, [56, 78, 67])"
   ]
  },
  {
   "cell_type": "code",
   "execution_count": 64,
   "metadata": {},
   "outputs": [
    {
     "name": "stdout",
     "output_type": "stream",
     "text": [
      "(1, 2, 3, 1, 2, 3)\n",
      "(2, 3, 1, 2, 3)\n",
      "[30, 40, 50, 30, 40, 50]\n",
      "you\n"
     ]
    }
   ],
   "source": [
    "# to access 59\n",
    "t[4][2][2]\n",
    "\n",
    "\n",
    "\n",
    "\n",
    "x=1,2,3\n",
    "type(x)\n",
    "print(x*2)\n",
    "x=x*2\n",
    "print(x[1:6])\n",
    "\n",
    "lst=[30,40,50]\n",
    "print(lst+lst)\n",
    "\n",
    "\n",
    "str=\"hello who are you\"\n",
    "print(str[str.rindex(\" \")+1:])\n",
    "\n",
    "str.rstrip?"
   ]
  },
  {
   "cell_type": "code",
   "execution_count": null,
   "metadata": {},
   "outputs": [],
   "source": [
    "#from a string find how many vowels are there in the last word\n",
    "a=input()\n",
    "a=a.rstrip()\n",
    "lastword=(a[a.rindex(\" \")+1:])\n",
    "countvowel=0\n",
    "print(lastword)\n",
    "for i in lastword:\n",
    "    if i in \"aeiou\":\n",
    "        countvowel=countvowel+1\n",
    "print(\"total vowels in last word \", lastword, \"  are\", countvowel)\n",
    "\n"
   ]
  },
  {
   "cell_type": "code",
   "execution_count": 67,
   "metadata": {},
   "outputs": [
    {
     "name": "stdout",
     "output_type": "stream",
     "text": [
      "[1, 4, 9, 16, 25, 36, 49, 64, 81, 100]\n",
      "[1, 4, 9, 16, 25, 36, 49, 64, 81, 100]\n"
     ]
    }
   ],
   "source": [
    "# print square of first 10numbers \n",
    "lst=[]\n",
    "for i in range(1,11):\n",
    "    a=i*i\n",
    "    lst.append(a)\n",
    "print(lst)\n",
    "# print square of first 10numbers \n",
    "lst=[]\n",
    "for i in range(1,11):\n",
    "    a=i**2\n",
    "    lst.append(a)\n",
    "print(lst)\n"
   ]
  },
  {
   "cell_type": "code",
   "execution_count": 73,
   "metadata": {},
   "outputs": [
    {
     "name": "stdout",
     "output_type": "stream",
     "text": [
      "[4, 16, 36, 64, 100, 144, 196, 256, 324]\n",
      "[1, 9, 25, 49, 81, 121, 169, 225, 289, 361]\n"
     ]
    }
   ],
   "source": [
    "# print square of first 10numbers using list comprehension\n",
    "# syntax : \n",
    "# [output    for loop     predicate/condition ]\n",
    "list1=[i**2 for i in range(1,20) if i%2==0]\n",
    "list2=[i**2 for i in range(1,20) if i%2!=0]\n",
    "print(list1)\n",
    "print(list2)\n"
   ]
  },
  {
   "cell_type": "code",
   "execution_count": null,
   "metadata": {},
   "outputs": [],
   "source": [
    "#First 10 natural nos to be squared and stored in separate odd even lists\n",
    "evenlst=[]\n",
    "oddlst=[]\n",
    "for i in range(1,21):\n",
    "    if i%2==0:\n",
    "        a=i**2\n",
    "        evenlst.append(a)\n",
    "    else:\n",
    "        a=i**2\n",
    "        oddlst.append(a)\n",
    "print(\"odd list is \", oddlst)\n",
    "print(\"even list is \", evenlst)\n"
   ]
  },
  {
   "cell_type": "code",
   "execution_count": 75,
   "metadata": {},
   "outputs": [
    {
     "data": {
      "text/plain": [
       "{1, 2, 3, 4, 5, 6}"
      ]
     },
     "execution_count": 75,
     "metadata": {},
     "output_type": "execute_result"
    }
   ],
   "source": [
    "set1={1,2,3,4,5,1,2,6}\n",
    "set1\n",
    "#set is used for unique elements and is immutable\n"
   ]
  },
  {
   "cell_type": "code",
   "execution_count": 80,
   "metadata": {},
   "outputs": [
    {
     "name": "stdout",
     "output_type": "stream",
     "text": [
      "[10, 12, 18, 20, 24, 36, 30, 36, 54]\n",
      "[7, 8, 11, 9, 10, 13, 11, 12, 15]\n",
      "[10, 24, 54]\n"
     ]
    }
   ],
   "source": [
    "vec1=[2,4,6]\n",
    "vec2=[5,6,9]\n",
    "a=[x*y for x in vec1 for y in vec2]\n",
    "print(a)\n",
    "b=[x+y for x in vec1 for y in vec2]\n",
    "print(b)\n",
    "c=[vec1[i]* vec2[i] for i in range(len(vec1))] \n",
    "print(c)\n"
   ]
  },
  {
   "cell_type": "code",
   "execution_count": null,
   "metadata": {},
   "outputs": [],
   "source": [
    "l=[]\n",
    "string = \"my phone number is : 9837379884\"\n",
    "for s in string:\n",
    "    if s.isdigit():\n",
    "        for n in s:\n",
    "            l.append(n)\n",
    "            "
   ]
  },
  {
   "cell_type": "code",
   "execution_count": null,
   "metadata": {},
   "outputs": [],
   "source": [
    "# list which extracts number \n",
    "string = \"my phone number is : 11122 !!\"\n",
    "numbers = [x for x in string if x.isdigit()] \n",
    "print(numbers)\n"
   ]
  },
  {
   "cell_type": "code",
   "execution_count": null,
   "metadata": {},
   "outputs": [],
   "source": [
    "# below list contains prime and non-prime in range 1 to 50 \n",
    "noprimes = [j for i in range(2, 8) for j in range(i*2, 50, i)] \n",
    "primes = [x for x in range(2, 50) if x not in noprimes] \n",
    "print(noprimes)\n",
    "print (primes)\n"
   ]
  },
  {
   "cell_type": "code",
   "execution_count": null,
   "metadata": {},
   "outputs": [],
   "source": [
    "# A list of list for multiplication table \n",
    "a = 15\n",
    "table = [[a, b, a * b] for b in range(1, 10)] \n",
    "  \n",
    "print(\"\\nMultiplication Table\") \n",
    "for i in table: \n",
    "    print(i )\n",
    "    "
   ]
  },
  {
   "cell_type": "code",
   "execution_count": null,
   "metadata": {},
   "outputs": [],
   "source": [
    "#flattening a matrix\n",
    "matrix=[['how','are','you'],\n",
    "        ['a','b'],\n",
    "        [1,2,3,4]\n",
    "        ]\n",
    "flatarray=[number for array in matrix for number in array]\n",
    "flatarray\n"
   ]
  },
  {
   "cell_type": "code",
   "execution_count": 99,
   "metadata": {},
   "outputs": [
    {
     "name": "stdout",
     "output_type": "stream",
     "text": [
      "5\n",
      "a\n",
      "20\n",
      "v\n",
      "5\n",
      "c\n",
      "30\n",
      "d\n",
      "5\n",
      "r\n",
      "60\n",
      "[('a', 20.0), ('v', 5.0), ('c', 30.0), ('d', 5.0), ('r', 60.0)]\n",
      "[('a', 20.0), ('v', 5.0), ('c', 30.0), ('d', 5.0), ('r', 60.0)]\n"
     ]
    }
   ],
   "source": [
    "nme=[]\n",
    "scr=[]\n",
    "for i in range(int(input())):\n",
    "    name = (input())\n",
    "    score = float(input())\n",
    "    nme.append(name)\n",
    "    scr.append(score)\n",
    "mapped=zip(nme,scr)\n",
    "std=list(mapped)\n",
    "print(std)\n",
    "for j in range(len(std)-i-1):\n",
    "        if (std[j][1] > std[j + 1][1]): \n",
    "                tempo = std[j] \n",
    "                std[j]= std[j + 1] \n",
    "                std[j + 1]= tempo \n",
    "print(std)"
   ]
  },
  {
   "cell_type": "code",
   "execution_count": 117,
   "metadata": {},
   "outputs": [
    {
     "name": "stdout",
     "output_type": "stream",
     "text": [
      "5 3\n",
      "5\n",
      "25\n",
      "26\n",
      "27\n",
      "28\n",
      "29\n"
     ]
    },
    {
     "ename": "TypeError",
     "evalue": "'str' object cannot be interpreted as an integer",
     "output_type": "error",
     "traceback": [
      "\u001b[1;31m---------------------------------------------------------------------------\u001b[0m",
      "\u001b[1;31mTypeError\u001b[0m                                 Traceback (most recent call last)",
      "\u001b[1;32m<ipython-input-117-3061d386dfe0>\u001b[0m in \u001b[0;36m<module>\u001b[1;34m\u001b[0m\n\u001b[0;32m      9\u001b[0m     \u001b[0mlst1\u001b[0m\u001b[1;33m.\u001b[0m\u001b[0mappend\u001b[0m\u001b[1;33m(\u001b[0m\u001b[0mb\u001b[0m\u001b[1;33m)\u001b[0m\u001b[1;33m\u001b[0m\u001b[1;33m\u001b[0m\u001b[0m\n\u001b[0;32m     10\u001b[0m \u001b[0mlst2\u001b[0m\u001b[1;33m=\u001b[0m\u001b[1;33m[\u001b[0m\u001b[1;33m]\u001b[0m\u001b[1;33m\u001b[0m\u001b[1;33m\u001b[0m\u001b[0m\n\u001b[1;32m---> 11\u001b[1;33m \u001b[1;32mfor\u001b[0m \u001b[0mi\u001b[0m \u001b[1;32min\u001b[0m \u001b[0mrange\u001b[0m\u001b[1;33m(\u001b[0m\u001b[0mn\u001b[0m\u001b[1;33m)\u001b[0m\u001b[1;33m:\u001b[0m\u001b[1;33m\u001b[0m\u001b[1;33m\u001b[0m\u001b[0m\n\u001b[0m\u001b[0;32m     12\u001b[0m     \u001b[0mb\u001b[0m\u001b[1;33m=\u001b[0m\u001b[0mint\u001b[0m\u001b[1;33m(\u001b[0m\u001b[0minput\u001b[0m\u001b[1;33m(\u001b[0m\u001b[1;33m)\u001b[0m\u001b[1;33m)\u001b[0m\u001b[1;33m\u001b[0m\u001b[1;33m\u001b[0m\u001b[0m\n\u001b[0;32m     13\u001b[0m     \u001b[0mlst2\u001b[0m\u001b[1;33m.\u001b[0m\u001b[0mappend\u001b[0m\u001b[1;33m(\u001b[0m\u001b[0mb\u001b[0m\u001b[1;33m)\u001b[0m\u001b[1;33m\u001b[0m\u001b[1;33m\u001b[0m\u001b[0m\n",
      "\u001b[1;31mTypeError\u001b[0m: 'str' object cannot be interpreted as an integer"
     ]
    }
   ],
   "source": [
    "n=(input())\n",
    "c=n.split(\" \")\n",
    "\n",
    "d=int(c[0])\n",
    "e=int(c[1])\n",
    "#c=int(input())\n",
    "lst1=[]\n",
    "for i in range(d):\n",
    "    b=int(input())\n",
    "    lst1.append(b)\n",
    "lst2=[]\n",
    "for i in range(d):\n",
    "    b=int(input())\n",
    "    lst2.append(b)\n",
    "lst3=[]\n",
    "for i in range(d):\n",
    "    b=int(input())\n",
    "    lst3.append(b)\n",
    "ma = zip(lst1,lst2,lst3)\n",
    "x=list(ma)\n",
    "print(x)\n",
    "s=0\n",
    "avg=0\n",
    "for j in range(len(x)):\n",
    "    s=0\n",
    "    avg=0\n",
    "    for i in range(e):\n",
    "        s=x[j][i]+s\n",
    "    avg=s/3\n",
    "    print(avg)"
   ]
  },
  {
   "cell_type": "code",
   "execution_count": 132,
   "metadata": {},
   "outputs": [
    {
     "name": "stdout",
     "output_type": "stream",
     "text": [
      "1411282080\n",
      "1411282096\n"
     ]
    }
   ],
   "source": [
    "x=0\n",
    "print(id(x))\n",
    "y=1\n",
    "print(id(y))"
   ]
  }
 ],
 "metadata": {
  "kernelspec": {
   "display_name": "Python 3",
   "language": "python",
   "name": "python3"
  },
  "language_info": {
   "codemirror_mode": {
    "name": "ipython",
    "version": 3
   },
   "file_extension": ".py",
   "mimetype": "text/x-python",
   "name": "python",
   "nbconvert_exporter": "python",
   "pygments_lexer": "ipython3",
   "version": "3.8.5"
  }
 },
 "nbformat": 4,
 "nbformat_minor": 4
}
