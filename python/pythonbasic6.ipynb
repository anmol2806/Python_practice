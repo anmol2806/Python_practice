{
 "cells": [
  {
   "cell_type": "markdown",
   "metadata": {},
   "source": [
    "# File Handling"
   ]
  },
  {
   "cell_type": "markdown",
   "metadata": {},
   "source": [
    "open(<file>,<mode>)\n",
    "r- read mode\n",
    "w-write mode\n",
    "a-append mode\n",
    "r+-read and write"
   ]
  },
  {
   "cell_type": "code",
   "execution_count": 28,
   "metadata": {},
   "outputs": [],
   "source": [
    "fo=open(\"av.ipynb\",\"r+\")"
   ]
  },
  {
   "cell_type": "code",
   "execution_count": 27,
   "metadata": {},
   "outputs": [
    {
     "name": "stdout",
     "output_type": "stream",
     "text": [
      "['{\\n', ' \"cells\": [\\n', '  {\\n', '   \"cell_type\": \"code\",\\n', '   \"execution_count\": 11,\\n', '   \"metadata\": {},\\n', '   \"outputs\": [\\n']\n"
     ]
    }
   ],
   "source": [
    "# print(fo.read(100))\n",
    "print(fo.readlines(100))"
   ]
  },
  {
   "cell_type": "code",
   "execution_count": 19,
   "metadata": {},
   "outputs": [
    {
     "ename": "ValueError",
     "evalue": "I/O operation on closed file.",
     "output_type": "error",
     "traceback": [
      "\u001b[1;31m---------------------------------------------------------------------------\u001b[0m",
      "\u001b[1;31mValueError\u001b[0m                                Traceback (most recent call last)",
      "\u001b[1;32m<ipython-input-19-75197c997493>\u001b[0m in \u001b[0;36m<module>\u001b[1;34m\u001b[0m\n\u001b[0;32m      1\u001b[0m \u001b[0mfo\u001b[0m\u001b[1;33m.\u001b[0m\u001b[0mclose\u001b[0m\u001b[1;33m(\u001b[0m\u001b[1;33m)\u001b[0m\u001b[1;33m\u001b[0m\u001b[1;33m\u001b[0m\u001b[0m\n\u001b[1;32m----> 2\u001b[1;33m \u001b[0mprint\u001b[0m\u001b[1;33m(\u001b[0m\u001b[0mfo\u001b[0m\u001b[1;33m.\u001b[0m\u001b[0mread\u001b[0m\u001b[1;33m(\u001b[0m\u001b[1;33m)\u001b[0m\u001b[1;33m)\u001b[0m\u001b[1;33m\u001b[0m\u001b[1;33m\u001b[0m\u001b[0m\n\u001b[0m",
      "\u001b[1;31mValueError\u001b[0m: I/O operation on closed file."
     ]
    }
   ],
   "source": [
    "fo.close()\n"
   ]
  },
  {
   "cell_type": "code",
   "execution_count": 29,
   "metadata": {},
   "outputs": [
    {
     "data": {
      "text/plain": [
       "['{\\n',\n",
       " ' \"cells\": [\\n',\n",
       " '  {\\n',\n",
       " '   \"cell_type\": \"code\",\\n',\n",
       " '   \"execution_count\": 11,\\n',\n",
       " '   \"metadata\": {},\\n',\n",
       " '   \"outputs\": [\\n',\n",
       " '    {\\n',\n",
       " '     \"name\": \"stdout\",\\n',\n",
       " '     \"output_type\": \"stream\",\\n',\n",
       " '     \"text\": [\\n',\n",
       " '      \"Enter first number 55\\\\n\",\\n',\n",
       " '      \"Enter second number 55\\\\n\",\\n',\n",
       " '      \"110\\\\n\",\\n',\n",
       " '      \"Enter Name \\\\\"ANMOL\\\\\"\\\\n\"\\n',\n",
       " '     ]\\n',\n",
       " '    },\\n',\n",
       " '    {\\n',\n",
       " '     \"data\": {\\n',\n",
       " '      \"text/plain\": [\\n',\n",
       " '       \"str\"\\n',\n",
       " '      ]\\n',\n",
       " '     },\\n',\n",
       " '     \"execution_count\": 11,\\n',\n",
       " '     \"metadata\": {},\\n',\n",
       " '     \"output_type\": \"execute_result\"\\n',\n",
       " '    }\\n',\n",
       " '   ],\\n',\n",
       " '   \"source\": [\\n',\n",
       " '    \"a= eval(input(\\\\\"Enter first number \\\\\"))\\\\n\",\\n',\n",
       " '    \"b =eval(input(\\\\\"Enter second number \\\\\"))\\\\n\",\\n',\n",
       " '    \"c=a+b\\\\n\",\\n',\n",
       " '    \"print(c)\\\\n\",\\n',\n",
       " '    \"d= eval(input(\\\\\"Enter Name \\\\\"))\\\\n\",\\n',\n",
       " '    \"type(d)\"\\n',\n",
       " '   ]\\n',\n",
       " '  },\\n',\n",
       " '  {\\n',\n",
       " '   \"cell_type\": \"code\",\\n',\n",
       " '   \"execution_count\": 4,\\n',\n",
       " '   \"metadata\": {},\\n',\n",
       " '   \"outputs\": [\\n',\n",
       " '    {\\n',\n",
       " '     \"name\": \"stdout\",\\n',\n",
       " '     \"output_type\": \"stream\",\\n',\n",
       " '     \"text\": [\\n',\n",
       " '      \"[3, 4, 5, 6]\\\\n\",\\n',\n",
       " '      \"[3, 4, 5, 6, 7]\\\\n\",\\n',\n",
       " '      \"[3, 4, 4, 5, 6, 7]\\\\n\"\\n',\n",
       " '     ]\\n',\n",
       " '    }\\n',\n",
       " '   ],\\n',\n",
       " '   \"source\": [\\n',\n",
       " '    \"mylist = [3,4,5,6]\\\\n\",\\n',\n",
       " '    \"print(mylist)\\\\n\",\\n',\n",
       " '    \"\\\\n\",\\n',\n",
       " '    \"mylist.append(7)\\\\n\",\\n',\n",
       " '    \"print(mylist)\\\\n\",\\n',\n",
       " '    \"mylist.insert(2,4)\\\\n\",\\n',\n",
       " '    \"print(mylist)\"\\n',\n",
       " '   ]\\n',\n",
       " '  },\\n',\n",
       " '  {\\n',\n",
       " '   \"cell_type\": \"code\",\\n',\n",
       " '   \"execution_count\": null,\\n',\n",
       " '   \"metadata\": {},\\n',\n",
       " '   \"outputs\": [],\\n',\n",
       " '   \"source\": []\\n',\n",
       " '  },\\n',\n",
       " '  {\\n',\n",
       " '   \"cell_type\": \"code\",\\n',\n",
       " '   \"execution_count\": 4,\\n',\n",
       " '   \"metadata\": {},\\n',\n",
       " '   \"outputs\": [\\n',\n",
       " '    {\\n',\n",
       " '     \"name\": \"stdout\",\\n',\n",
       " '     \"output_type\": \"stream\",\\n',\n",
       " '     \"text\": [\\n',\n",
       " '      \"Enter first number 25\\\\n\",\\n',\n",
       " '      \"Enter second number 26\\\\n\",\\n',\n",
       " '      \"Enter third number 27\\\\n\",\\n',\n",
       " '      \"The greater number is c = 27\\\\n\"\\n',\n",
       " '     ]\\n',\n",
       " '    }\\n',\n",
       " '   ],\\n',\n",
       " '   \"source\": [\\n',\n",
       " '    \"a= eval(input(\\\\\"Enter first number \\\\\"))\\\\n\",\\n',\n",
       " '    \"b =eval(input(\\\\\"Enter second number \\\\\"))\\\\n\",\\n',\n",
       " '    \"c= eval(input(\\\\\"Enter third number \\\\\"))\\\\n\",\\n',\n",
       " '    \"if a>b:\\\\n\",\\n',\n",
       " '    \"    if a>c:\\\\n\",\\n',\n",
       " '    \"        print(\\\\\"The greater number is a =\\\\\",a)\\\\n\",\\n',\n",
       " '    \"    else:\\\\n\",\\n',\n",
       " '    \"        print(\\\\\"The greater number is c =\\\\\",c)\\\\n\",\\n',\n",
       " '    \"else: \\\\n\",\\n',\n",
       " '    \"    if b>c:\\\\n\",\\n',\n",
       " '    \"        print(\\\\\"The greater number is b =\\\\\",b)\\\\n\",\\n',\n",
       " '    \"    else:\\\\n\",\\n',\n",
       " '    \"        print(\\\\\"The greater number is c =\\\\\",c)\"\\n',\n",
       " '   ]\\n',\n",
       " '  }\\n',\n",
       " ' ],\\n',\n",
       " ' \"metadata\": {\\n',\n",
       " '  \"kernelspec\": {\\n',\n",
       " '   \"display_name\": \"Python 3\",\\n',\n",
       " '   \"language\": \"python\",\\n',\n",
       " '   \"name\": \"python3\"\\n',\n",
       " '  },\\n',\n",
       " '  \"language_info\": {\\n',\n",
       " '   \"codemirror_mode\": {\\n',\n",
       " '    \"name\": \"ipython\",\\n',\n",
       " '    \"version\": 3\\n',\n",
       " '   },\\n',\n",
       " '   \"file_extension\": \".py\",\\n',\n",
       " '   \"mimetype\": \"text/x-python\",\\n',\n",
       " '   \"name\": \"python\",\\n',\n",
       " '   \"nbconvert_exporter\": \"python\",\\n',\n",
       " '   \"pygments_lexer\": \"ipython3\",\\n',\n",
       " '   \"version\": \"3.8.5\"\\n',\n",
       " '  }\\n',\n",
       " ' },\\n',\n",
       " ' \"nbformat\": 4,\\n',\n",
       " ' \"nbformat_minor\": 4\\n',\n",
       " '}\\n']"
      ]
     },
     "execution_count": 29,
     "metadata": {},
     "output_type": "execute_result"
    }
   ],
   "source": [
    "list(fo)"
   ]
  },
  {
   "cell_type": "code",
   "execution_count": 35,
   "metadata": {},
   "outputs": [],
   "source": [
    "fo.close()\n"
   ]
  },
  {
   "cell_type": "code",
   "execution_count": 36,
   "metadata": {},
   "outputs": [],
   "source": [
    "import os\n",
    "os.remove(\"an.txt\")"
   ]
  },
  {
   "cell_type": "code",
   "execution_count": 65,
   "metadata": {},
   "outputs": [],
   "source": [
    "nf=open(\"an.txt\",\"r+\")\n"
   ]
  },
  {
   "cell_type": "code",
   "execution_count": 70,
   "metadata": {},
   "outputs": [],
   "source": [
    "nf.writelines(\"Hello\")\n"
   ]
  },
  {
   "cell_type": "code",
   "execution_count": 71,
   "metadata": {},
   "outputs": [
    {
     "name": "stdout",
     "output_type": "stream",
     "text": [
      "\n"
     ]
    }
   ],
   "source": [
    "print(nf.read())"
   ]
  },
  {
   "cell_type": "code",
   "execution_count": 47,
   "metadata": {},
   "outputs": [],
   "source": [
    "nf.close()"
   ]
  },
  {
   "cell_type": "code",
   "execution_count": 50,
   "metadata": {},
   "outputs": [
    {
     "data": {
      "text/plain": [
       "'cp1252'"
      ]
     },
     "execution_count": 50,
     "metadata": {},
     "output_type": "execute_result"
    }
   ],
   "source": [
    "nf.encoding\n",
    "#'cp1252'"
   ]
  },
  {
   "cell_type": "code",
   "execution_count": 51,
   "metadata": {},
   "outputs": [
    {
     "name": "stdout",
     "output_type": "stream",
     "text": [
      "<built-in method fileno of _io.TextIOWrapper object at 0x04EDE730>\n"
     ]
    }
   ],
   "source": [
    "print(nf.fileno)\n",
    "#<built-in method fileno of _io.TextIOWrapper object at 0x04EDE730>"
   ]
  },
  {
   "cell_type": "code",
   "execution_count": 72,
   "metadata": {},
   "outputs": [
    {
     "name": "stdout",
     "output_type": "stream",
     "text": [
      "an.txt\n",
      "r+\n",
      "False\n"
     ]
    }
   ],
   "source": [
    "print(nf.name)\n",
    "print(nf.mode)\n",
    "print(nf.closed)\n",
    "# an.txt\n",
    "# w\n",
    "# False"
   ]
  },
  {
   "cell_type": "code",
   "execution_count": 94,
   "metadata": {},
   "outputs": [
    {
     "name": "stdout",
     "output_type": "stream",
     "text": [
      "[]\n"
     ]
    }
   ],
   "source": [
    "k=nf.readlines()\n",
    "print(k)\n",
    "nf.close()"
   ]
  },
  {
   "cell_type": "code",
   "execution_count": 75,
   "metadata": {},
   "outputs": [
    {
     "ename": "NameError",
     "evalue": "name 'fl' is not defined",
     "output_type": "error",
     "traceback": [
      "\u001b[1;31m---------------------------------------------------------------------------\u001b[0m",
      "\u001b[1;31mNameError\u001b[0m                                 Traceback (most recent call last)",
      "\u001b[1;32m<ipython-input-75-203186f25c68>\u001b[0m in \u001b[0;36m<module>\u001b[1;34m\u001b[0m\n\u001b[1;32m----> 1\u001b[1;33m \u001b[0mfl\u001b[0m\u001b[1;33m-\u001b[0m\u001b[0mopen\u001b[0m\u001b[1;33m(\u001b[0m\u001b[1;34m\"an.txt\"\u001b[0m\u001b[1;33m,\u001b[0m\u001b[1;34m\"r\"\u001b[0m\u001b[1;33m)\u001b[0m\u001b[1;33m\u001b[0m\u001b[1;33m\u001b[0m\u001b[0m\n\u001b[0m",
      "\u001b[1;31mNameError\u001b[0m: name 'fl' is not defined"
     ]
    }
   ],
   "source": [
    "fl-open(\"an.txt\",\"r\")"
   ]
  },
  {
   "cell_type": "code",
   "execution_count": 93,
   "metadata": {},
   "outputs": [
    {
     "name": "stdout",
     "output_type": "stream",
     "text": [
      "HelloHelloHello\n",
      "how\n",
      "ar\n",
      "you\n",
      "ffff\n",
      "\n"
     ]
    }
   ],
   "source": [
    "try:\n",
    "    fl=open(\"an1.txt\",\"r\")\n",
    "#     k=fl.readlines(100)\n",
    "#     print(k)\n",
    "    p=fl.read()\n",
    "    print(p)\n",
    "    fl.close()\n",
    "    \n",
    "except FileNotFoundError:\n",
    "    print(\"File not found\")\n",
    "    "
   ]
  },
  {
   "cell_type": "code",
   "execution_count": 95,
   "metadata": {},
   "outputs": [],
   "source": [
    "#write\n",
    "with open(\"an1.txt\",\"wt\") as f:\n",
    "    f.write(\"hi there , this is anmol\")"
   ]
  },
  {
   "cell_type": "code",
   "execution_count": 99,
   "metadata": {},
   "outputs": [],
   "source": [
    "#append\n",
    "with open(\"an1.txt\",\"at\") as f:\n",
    "    f.write(\"\\nhi there , this is anmol\")\n",
    "    "
   ]
  },
  {
   "cell_type": "code",
   "execution_count": 1,
   "metadata": {},
   "outputs": [
    {
     "name": "stdout",
     "output_type": "stream",
     "text": [
      "2,Tim Berners-Lee,World Wide Web\n",
      "\n"
     ]
    }
   ],
   "source": [
    "#reading a specific line\n",
    "f=open(\"an1.txt\",\"r+\")\n",
    "ln=3\n",
    "cl=1\n",
    "for line in f:\n",
    "    if (cl==ln):\n",
    "        print(line)\n",
    "        break\n",
    "    cl+=1"
   ]
  },
  {
   "cell_type": "code",
   "execution_count": 11,
   "metadata": {},
   "outputs": [
    {
     "name": "stdout",
     "output_type": "stream",
     "text": [
      "['SN,Name,Contribution\\n', '1,Linus Torvalds,Linux Kernel\\n']\n"
     ]
    }
   ],
   "source": [
    "f = open(\"an1.txt\") \n",
    "print(f.readlines(50\n",
    "                )) \n",
    "f.close()"
   ]
  },
  {
   "cell_type": "code",
   "execution_count": null,
   "metadata": {},
   "outputs": [],
   "source": []
  }
 ],
 "metadata": {
  "kernelspec": {
   "display_name": "Python 3",
   "language": "python",
   "name": "python3"
  },
  "language_info": {
   "codemirror_mode": {
    "name": "ipython",
    "version": 3
   },
   "file_extension": ".py",
   "mimetype": "text/x-python",
   "name": "python",
   "nbconvert_exporter": "python",
   "pygments_lexer": "ipython3",
   "version": "3.8.5"
  }
 },
 "nbformat": 4,
 "nbformat_minor": 4
}
