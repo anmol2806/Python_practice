{
 "cells": [
  {
   "cell_type": "code",
   "execution_count": 1,
   "metadata": {},
   "outputs": [],
   "source": [
    "import tkinter as tk\n",
    "from tkinter import *\n",
    "from tkinter import ttk\n",
    "\n",
    "class karl( Frame ):\n",
    "    def __init__( self ):\n",
    "        tk.Frame.__init__(self)\n",
    "        self.pack()\n",
    "        self.master.title(\"Karlos\")\n",
    "        self.button1 = Button( self, text = \"CLICK HERE\", width = 25,\n",
    "                               command = self.new_window )\n",
    "        self.button1.grid( row = 0, column = 1, columnspan = 2, sticky = W+E+N+S )\n",
    "    def new_window(self):\n",
    "        self.newWindow = karl2()\n",
    "class karl2(Frame):     \n",
    "    def __init__(self):\n",
    "        new =tk.Frame.__init__(self)\n",
    "        new = Toplevel(self)\n",
    "        new.title(\"karlos More Window\")\n",
    "        new.button = tk.Button(  text = \"PRESS TO CLOSE\", width = 25,\n",
    "                                 command = self.close_window )\n",
    "        new.button.pack()\n",
    "    def close_window(self):\n",
    "        self.destroy()\n",
    "def main(): \n",
    "    karl().mainloop()\n",
    "if __name__ == '__main__':\n",
    "    main()"
   ]
  },
  {
   "cell_type": "markdown",
   "metadata": {},
   "source": [
    "#### Python provides the standard library Tkinter for creating the graphical user interface for desktop based applications.\n",
    "\n",
    "Developing desktop based applications with python Tkinter is not a complex task. An empty Tkinter top-level window can be created by using the following steps.\n",
    "\n",
    "\n",
    "import the Tkinter module.<br>\n",
    "Create the main application window.<br>\n",
    "Add the widgets like labels, buttons, frames, etc. to the window.<br>\n",
    "Call the main event loop so that the actions can take place on the user's computer screen.\n"
   ]
  },
  {
   "cell_type": "code",
   "execution_count": 2,
   "metadata": {},
   "outputs": [],
   "source": [
    "# !/usr/bin/python3  \n",
    "from tkinter import *  \n",
    "#creating the application main window.   \n",
    "top = Tk()  \n",
    "#Entering the event main loop  \n",
    "top.mainloop() "
   ]
  },
  {
   "cell_type": "markdown",
   "metadata": {},
   "source": [
    "#### Python Tkinter pack() method\n",
    "The pack() widget is used to organize widget in the block. The positions widgets added to the python application using the pack() method can be controlled by using the various options specified in the method call.\n",
    "\n",
    "However, the controls are less and widgets are generally added in the less organized manner.\n",
    "\n",
    "The syntax to use the pack() is given below.\n",
    "\n",
    "syntax:<br>\n",
    "widget.pack(options)  "
   ]
  },
  {
   "cell_type": "markdown",
   "metadata": {},
   "source": [
    "A list of possible options that can be passed in pack() is given below.\n",
    "\n",
    "<ul><li>expand: If the expand is set to true, the widget expands to fill any space.\n",
    "<li>Fill: By default, the fill is set to NONE. However, we can set it to X or Y to determine whether the widget contains any extra space.\n",
    "<li>size: it represents the side of the parent to which the widget is to be placed on the window."
   ]
  },
  {
   "cell_type": "markdown",
   "metadata": {},
   "source": [
    "##### Example"
   ]
  },
  {
   "cell_type": "code",
   "execution_count": 6,
   "metadata": {},
   "outputs": [],
   "source": [
    "# !/usr/bin/python3  \n",
    "from tkinter import *  \n",
    "parent = Tk()  \n",
    "redbutton = Button(parent, text = \"Red\", fg = \"red\")  \n",
    "redbutton.pack( side = LEFT)  \n",
    "greenbutton = Button(parent, text = \"Black\", fg = \"black\")  \n",
    "greenbutton.pack( side = RIGHT )  \n",
    "bluebutton = Button(parent, text = \"Blue\", fg = \"blue\")  \n",
    "bluebutton.pack( side = TOP )  \n",
    "blackbutton = Button(parent, text = \"Green\", fg = \"green\")  \n",
    "blackbutton.pack( side = BOTTOM)  \n",
    "parent.mainloop()  "
   ]
  },
  {
   "cell_type": "markdown",
   "metadata": {},
   "source": [
    "## Python Tkinter grid() method\n",
    "The grid() geometry manager organizes the widgets in the tabular form. We can specify the rows and columns as the options in the method call. We can also specify the column span (width) or rowspan(height) of a widget.\n",
    "\n",
    "This is a more organized way to place the widgets to the python application. The syntax to use the grid() is given below.\n",
    "\n",
    "Syntax<br>\n",
    "widget.grid(options)  \n",
    "\n",
    "\n",
    "\n",
    "A list of possible options that can be passed inside the grid() method is given below.<br>\n",
    "<b>\n",
    "Column<br>\n",
    "The column number in which the widget is to be placed. The leftmost column is represented by 0.<br><br>\n",
    "Columnspan<br>\n",
    "The width of the widget. It represents the number of columns up to which, the column is expanded.<br><br>\n",
    "ipadx, ipady<br>\n",
    "It represents the number of pixels to pad the widget inside the widget's border.<br><br>\n",
    "padx, pady<br>\n",
    "It represents the number of pixels to pad the widget outside the widget's border.<br><br>\n",
    "row<br>\n",
    "The row number in which the widget is to be placed. The topmost row is represented by 0.<br><br>\n",
    "rowspan<br>\n",
    "The height of the widget, i.e. the number of the row up to which the widget is expanded.<br><br>\n",
    "Sticky<br>\n",
    "If the cell is larger than a widget, then sticky is used to specify the position of the widget inside the cell. It may be the concatenation of the sticky letters representing the position of the widget. It may be N, E, W, S, NE, NW, NS, EW, ES.</b>"
   ]
  },
  {
   "cell_type": "code",
   "execution_count": 7,
   "metadata": {},
   "outputs": [],
   "source": [
    "# !/usr/bin/python3  \n",
    "from tkinter import *  \n",
    "parent = Tk()  \n",
    "name = Label(parent,text = \"Name\").grid(row = 0, column = 0)  \n",
    "e1 = Entry(parent).grid(row = 0, column = 1)  \n",
    "password = Label(parent,text = \"Password\").grid(row = 1, column = 0)  \n",
    "e2 = Entry(parent).grid(row = 1, column = 1)  \n",
    "submit = Button(parent, text = \"Submit\").grid(row = 4, column = 0)  \n",
    "parent.mainloop()  "
   ]
  },
  {
   "cell_type": "markdown",
   "metadata": {},
   "source": [
    "'''Python Tkinter place() method\n",
    "The place() geometry manager organizes the widgets to the specific x and y coordinates.\n",
    "\n",
    "Syntax\n",
    "widget.place(options)  \n",
    "A list of possible options is given below.\n",
    "\n",
    "Anchor: It represents the exact position of the widget within the container. The default value (direction) is NW (the upper left corner)<br><br>\n",
    "bordermode: The default value of the border type is INSIDE that refers to ignore the parent's inside the border. The other option is OUTSIDE.<br><br>\n",
    "height, width: It refers to the height and width in pixels.<br><br>\n",
    "relheight, relwidth: It is represented as the float between 0.0 and 1.0 indicating the fraction of the parent's height and width.<br><br>\n",
    "relx, rely: It is represented as the float between 0.0 and 1.0 that is the offset in the horizontal and vertical direction.\n",
    "x, y: It refers to the horizontal and vertical offset in the pixels."
   ]
  },
  {
   "cell_type": "code",
   "execution_count": 9,
   "metadata": {},
   "outputs": [],
   "source": [
    "# !/usr/bin/python3  \n",
    "from tkinter import *  \n",
    "top = Tk()  \n",
    "top.geometry(\"400x250\")  \n",
    "name = Label(top, text = \"Name\").place(x = 30,y = 50)  \n",
    "email = Label(top, text = \"Email\").place(x = 30, y = 90)  \n",
    "password = Label(top, text = \"Password\").place(x = 30, y = 130)  \n",
    "e1 = Entry(top).place(x = 80, y = 50)  \n",
    "e2 = Entry(top).place(x = 80, y = 90)  \n",
    "e3 = Entry(top).place(x = 95, y = 130)  \n",
    "top.mainloop() "
   ]
  },
  {
   "cell_type": "code",
   "execution_count": 11,
   "metadata": {},
   "outputs": [],
   "source": [
    "#python application to create a simple button  \n",
    "  \n",
    "from tkinter import *   \n",
    "  \n",
    "  \n",
    "top = Tk()  \n",
    "  \n",
    "top.geometry(\"200x100\")  \n",
    "  \n",
    "b = Button(top,text = \"Simple\")  \n",
    "  \n",
    "b.pack()  \n",
    "  \n",
    "top.mainloop()  \n",
    "\n",
    "\n"
   ]
  },
  {
   "cell_type": "code",
   "execution_count": 15,
   "metadata": {},
   "outputs": [],
   "source": [
    "from tkinter import *   \n",
    "  \n",
    "top = Tk()  \n",
    "  \n",
    "top.geometry(\"200x100\")  \n",
    "  \n",
    "def fun():  \n",
    "    messagebox.showinfo(\"Hello\", \"Red Button clicked\")  \n",
    "  \n",
    "  \n",
    "b1 = Button(top,text = \"Red\",command = fun,activeforeground = \"red\",activebackground = \"pink\",pady=10)  \n",
    "  \n",
    "b2 = Button(top, text = \"Blue\",activeforeground = \"blue\",activebackground = \"pink\",pady=10)  \n",
    "  \n",
    "b3 = Button(top, text = \"Green\",activeforeground = \"green\",activebackground = \"pink\",pady = 10)  \n",
    "  \n",
    "b4 = Button(top, text = \"Yellow\",activeforeground = \"yellow\",activebackground = \"pink\",pady = 10)  \n",
    "  \n",
    "b1.pack(side = LEFT)  \n",
    "  \n",
    "b2.pack(side = RIGHT)  \n",
    "  \n",
    "b3.pack(side = TOP)  \n",
    "  \n",
    "b4.pack(side = BOTTOM)  \n",
    "  \n",
    "top.mainloop()"
   ]
  },
  {
   "cell_type": "code",
   "execution_count": 14,
   "metadata": {},
   "outputs": [],
   "source": [
    "from tkinter import *   \n",
    "  \n",
    "top = Tk()  \n",
    "  \n",
    "top.geometry(\"200x200\")  \n",
    "  \n",
    "#creating a simple canvas  \n",
    "c = Canvas(top,bg = \"red\",height = \"200\")  \n",
    "  \n",
    "  \n",
    "c.pack()  \n",
    "  \n",
    "top.mainloop()  "
   ]
  },
  {
   "cell_type": "code",
   "execution_count": 25,
   "metadata": {},
   "outputs": [],
   "source": [
    "from tkinter import *   \n",
    "  \n",
    "top = Tk()  \n",
    "  \n",
    "top.geometry(\"200x200\")  \n",
    "  \n",
    "#creating a simple canvas  \n",
    "c = Canvas(top,bg = \"pink\",height = \"200\",width = 200)  \n",
    "  \n",
    "arc = c.create_arc((5,10,150,200),start = 0,extent = 180, fill= \"white\")  \n",
    "  \n",
    "c.pack()  \n",
    "  \n",
    "top.mainloop()"
   ]
  },
  {
   "cell_type": "code",
   "execution_count": 26,
   "metadata": {},
   "outputs": [],
   "source": [
    "from tkinter import *   \n",
    "  \n",
    "top = Tk()  \n",
    "  \n",
    "top.geometry(\"200x200\")  \n",
    "  \n",
    "checkvar1 = IntVar()  \n",
    "  \n",
    "checkvar2 = IntVar()  \n",
    "  \n",
    "checkvar3 = IntVar()  \n",
    "  \n",
    "chkbtn1 = Checkbutton(top, text = \"C\", variable = checkvar1, onvalue = 1, offvalue = 0, height = 2, width = 10)  \n",
    "  \n",
    "chkbtn2 = Checkbutton(top, text = \"C++\", variable = checkvar2, onvalue = 1, offvalue = 0, height = 2, width = 10)  \n",
    "  \n",
    "chkbtn3 = Checkbutton(top, text = \"Java\", variable = checkvar3, onvalue = 1, offvalue = 0, height = 2, width = 10)  \n",
    "  \n",
    "chkbtn1.pack()  \n",
    "  \n",
    "chkbtn2.pack()  \n",
    "  \n",
    "chkbtn3.pack()  \n",
    "  \n",
    "top.mainloop()  "
   ]
  },
  {
   "cell_type": "code",
   "execution_count": null,
   "metadata": {},
   "outputs": [],
   "source": [
    "import tkinter as tk  \n",
    "from functools import partial  \n",
    "   \n",
    "   \n",
    "def call_result(label_result, n1, n2):  \n",
    "    num1 = (n1.get())  \n",
    "    num2 = (n2.get())  \n",
    "    result = int(num1)*int(num2)  \n",
    "    label_result.config(text=\"Result = %d\" % result)  \n",
    "    return  \n",
    "   \n",
    "root = tk.Tk()  \n",
    "root.geometry('400x200+100+200')  \n",
    "  \n",
    "root.title('Calculator')  \n",
    "   \n",
    "number1 = tk.StringVar()  \n",
    "number2 = tk.StringVar()  \n",
    "  \n",
    "labelNum1 = tk.Label(root, text=\"A\").grid(row=1, column=0)  \n",
    "  \n",
    "labelNum2 = tk.Label(root, text=\"B\").grid(row=2, column=0)  \n",
    "  \n",
    "labelResult = tk.Label(root)  \n",
    "  \n",
    "labelResult.grid(row=7, column=2)  \n",
    "  \n",
    "entryNum1 = tk.Entry(root, textvariable=number1).grid(row=1, column=2)  \n",
    "  \n",
    "entryNum2 = tk.Entry(root, textvariable=number2).grid(row=2, column=2)  \n",
    "  \n",
    "call_result = partial(call_result, labelResult, number1, number2)  \n",
    "  \n",
    "buttonCal = tk.Button(root, text=\"Calculate\", command=call_result).grid(row=3, column=0)  \n",
    "  \n",
    "root.mainloop()  "
   ]
  }
 ],
 "metadata": {
  "kernelspec": {
   "display_name": "Python 3",
   "language": "python",
   "name": "python3"
  },
  "language_info": {
   "codemirror_mode": {
    "name": "ipython",
    "version": 3
   },
   "file_extension": ".py",
   "mimetype": "text/x-python",
   "name": "python",
   "nbconvert_exporter": "python",
   "pygments_lexer": "ipython3",
   "version": "3.8.5"
  }
 },
 "nbformat": 4,
 "nbformat_minor": 4
}
