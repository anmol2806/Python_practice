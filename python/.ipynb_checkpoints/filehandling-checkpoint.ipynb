{
 "cells": [
  {
   "cell_type": "code",
   "execution_count": 2,
   "metadata": {},
   "outputs": [
    {
     "name": "stdout",
     "output_type": "stream",
     "text": [
      "C:/users/hp/python\\filehandling.ipynb\n",
      "C:/users/hp/python\\IITR09032021.ipynb\n",
      "C:/users/hp/python\\imagesinnumpy.ipynb\n",
      "C:/users/hp/python\\imagesinnumpy1.ipynb\n",
      "C:/users/hp/python\\ipl.ipynb\n",
      "C:/users/hp/python\\ipl2.ipynb\n",
      "C:/users/hp/python\\mericari2.ipynb\n",
      "C:/users/hp/python\\mericari3.ipynb\n",
      "C:/users/hp/python\\NIELIT Assignment 5-checkpoint.ipynb\n",
      "C:/users/hp/python\\NIELIT Module 2 (Data Science).1-checkpoint.ipynb\n",
      "C:/users/hp/python\\number game.ipynb\n",
      "C:/users/hp/python\\Numpy practical examples.ipynb\n",
      "C:/users/hp/python\\numpyassign1.ipynb\n",
      "C:/users/hp/python\\numpy_basic3.ipynb\n",
      "C:/users/hp/python\\Numpy_basics.ipynb\n",
      "C:/users/hp/python\\Numpy_basics1.ipynb\n",
      "C:/users/hp/python\\numpy_basics2.ipynb\n",
      "C:/users/hp/python\\pandasbasics.ipynb\n",
      "C:/users/hp/python\\pandasbasics1.ipynb\n",
      "C:/users/hp/python\\pandasbasics2.ipynb\n",
      "C:/users/hp/python\\pandasbasics3.ipynb\n",
      "C:/users/hp/python\\pandasbasics4.ipynb\n",
      "C:/users/hp/python\\prog1.ipynb\n",
      "C:/users/hp/python\\pyhtonbasic2.ipynb\n",
      "C:/users/hp/python\\pythonbasic.ipynb\n",
      "C:/users/hp/python\\pythonbasic1.ipynb\n",
      "C:/users/hp/python\\pythonbasic3.ipynb\n",
      "C:/users/hp/python\\pythonbasic4.ipynb\n",
      "C:/users/hp/python\\pythonbasic5.ipynb\n",
      "C:/users/hp/python\\pythonbasic6.ipynb\n",
      "C:/users/hp/python\\Rcf_PO_Graphs.ipynb\n",
      "C:/users/hp/python\\telephone_chrun.ipynb\n",
      "C:/users/hp/python\\thanksgiving.ipynb\n",
      "C:/users/hp/python\\tkinkter basics.ipynb\n",
      "C:/users/hp/python\\tkinkter self.ipynb\n",
      "C:/users/hp/python\\Untitled.ipynb\n",
      "C:/users/hp/python\\Untitled1.ipynb\n",
      "C:/users/hp/python\\Untitled13.ipynb\n",
      "C:/users/hp/python\\vectors.ipynb\n",
      "C:/users/hp/python\\wines_numpy.ipynb\n",
      "C:/users/hp/python\\.ipynb_checkpoints\\filehandling-checkpoint.ipynb\n",
      "C:/users/hp/python\\.ipynb_checkpoints\\Numpy_basics-checkpoint.ipynb\n",
      "C:/users/hp/python\\.ipynb_checkpoints\\pythonbasic-checkpoint.ipynb\n",
      "C:/users/hp/python\\.ipynb_checkpoints\\tkinkter basics-checkpoint.ipynb\n"
     ]
    }
   ],
   "source": [
    "import os\n",
    "\n",
    "path =\"C:/users/hp/python\"\n",
    "#we shall store all the file names in this list\n",
    "filelist = []\n",
    "\n",
    "for root, dirs, files in os.walk(path):\n",
    "\tfor file in files:\n",
    "        #append the file name to the list\n",
    "\t\tfilelist.append(os.path.join(root,file))\n",
    "\n",
    "#print all the file names\n",
    "for name in filelist:\n",
    "    print(name)"
   ]
  },
  {
   "cell_type": "code",
   "execution_count": 7,
   "metadata": {},
   "outputs": [],
   "source": [
    "fin = open(\"an6.txt\", \"a\")\n",
    "\n",
    "fin.write('\\nThis is newly appended text.');\n",
    "\n",
    "fin.close()"
   ]
  },
  {
   "cell_type": "code",
   "execution_count": 8,
   "metadata": {},
   "outputs": [
    {
     "name": "stdout",
     "output_type": "stream",
     "text": [
      "\n",
      "This is newly appended text.\n",
      "This is newly appended text.\n",
      "This is newly appended text.\n",
      "This is newly appended text.\n"
     ]
    }
   ],
   "source": [
    "fileObject = open(\"an6.txt\", \"r\")\n",
    "data = fileObject.read()\n",
    "print(data)"
   ]
  },
  {
   "cell_type": "code",
   "execution_count": 10,
   "metadata": {},
   "outputs": [],
   "source": [
    "fin = open(\"data.txt\", \"rt\")\n",
    "#output file to write the result to\n",
    "fout = open(\"out.txt\", \"wt\")\n",
    "#for each line in the input file\n",
    "for line in fin:\n",
    "\t#read replace the string and write to output file\n",
    "\tfout.write(line.replace('newly', 'python'))\n",
    "#close input and output files\n",
    "fin.close()\n",
    "fout.close()"
   ]
  },
  {
   "cell_type": "code",
   "execution_count": 12,
   "metadata": {},
   "outputs": [
    {
     "name": "stdout",
     "output_type": "stream",
     "text": [
      "Number of words in text file : 20\n"
     ]
    }
   ],
   "source": [
    "file = open(\"an6.txt\", \"rt\")\n",
    "data = file.read()\n",
    "words = data.split()\n",
    "\n",
    "print('Number of words in text file :', len(words))"
   ]
  },
  {
   "cell_type": "code",
   "execution_count": null,
   "metadata": {},
   "outputs": [],
   "source": []
  }
 ],
 "metadata": {
  "kernelspec": {
   "display_name": "Python 3",
   "language": "python",
   "name": "python3"
  },
  "language_info": {
   "codemirror_mode": {
    "name": "ipython",
    "version": 3
   },
   "file_extension": ".py",
   "mimetype": "text/x-python",
   "name": "python",
   "nbconvert_exporter": "python",
   "pygments_lexer": "ipython3",
   "version": "3.8.5"
  }
 },
 "nbformat": 4,
 "nbformat_minor": 4
}
