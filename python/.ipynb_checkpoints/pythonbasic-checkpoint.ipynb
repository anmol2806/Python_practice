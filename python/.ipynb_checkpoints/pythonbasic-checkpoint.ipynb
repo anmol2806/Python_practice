{
 "cells": [
  {
   "cell_type": "code",
   "execution_count": null,
   "metadata": {},
   "outputs": [],
   "source": [
    "a= eval(input(\"Enter first number \"))\n",
    "b =eval(input(\"Enter second number \"))\n",
    "c=a+b\n",
    "print(c)\n"
   ]
  },
  {
   "cell_type": "code",
   "execution_count": null,
   "metadata": {},
   "outputs": [],
   "source": [
    "a='34'\n",
    "b=12\n",
    "print(int(a)+b)\n",
    "print(\"sum of\", a ,\"and \", b, \"is\",a+str(b))\n",
    "total=\"sum of \"+ (a) +\" and \"+ str(b) +\" is \"+a+str(b)\n",
    "print(total)"
   ]
  },
  {
   "cell_type": "code",
   "execution_count": null,
   "metadata": {},
   "outputs": [],
   "source": [
    "a=b=c=0\n",
    "#tuple\n",
    "(a,b,c)=(40,30,20)\n",
    "print(a)\n",
    "print(b)\n",
    "print(c)\n",
    "# error\n",
    "#x,y=40,30,50     too many values to unpack (expected 2)\n",
    "#error\n",
    "#x,y,z=40,30      not enough values to unpack (expected 3, got 2\n",
    "print(a,b,c)\n",
    "print(a,b,c,sep=\",\")#sep = seprator\n",
    "print(a,b,c,sep=\":\")\n",
    "print(a,b,c,sep=\"    \")\n",
    "print(a,b,c,sep=\"\")\n",
    "\n",
    "\n",
    "print(913939/3)# single division usage shows float answer\n",
    "print(913939//3)# double slash returns only integer\n",
    "\n",
    "print(5*2)\n",
    "print(5**2)\n",
    "\n"
   ]
  },
  {
   "cell_type": "code",
   "execution_count": null,
   "metadata": {},
   "outputs": [],
   "source": [
    "#print=4\n",
    "#print(\"hello\")\n",
    "#---------------------------------------------------------------------------\n",
    "#TypeError                                 Traceback (most recent call last)\n",
    "#<ipython-input-33-a7f5e547c62b> in <module>\n",
    "#      1 print=4\n",
    "#----> 2 print(\"hello\")\n",
    "\n",
    "#TypeError: 'int' object is not callable\n",
    "\n",
    "# #a= eval(input(\"Enter first number a= \"))\n",
    "# b =eval(input(\"Enter second number b= \"))\n",
    "# c= eval(input(\"Enter third number c= \"))\n",
    "# if a>b:\n",
    "#     if a>c:\n",
    "#         print(\"The greater number is {0} from {1} and {2} =\" .format(a,b,c))\n",
    "#     else:\n",
    "#         print(\"The greater number is c =\",c)\n",
    "# else: \n",
    "#     if b>c:\n",
    "#         print(\"The greater number is b\",b)\n",
    "#     else:\n",
    "#         print(\"The greater number is c =\",c)"
   ]
  },
  {
   "cell_type": "code",
   "execution_count": null,
   "metadata": {},
   "outputs": [],
   "source": [
    "\n",
    "a= eval(input(\"Enter first number a= \"))\n",
    "b =eval(input(\"Enter second number b= \"))\n",
    "c= eval(input(\"Enter third number c= \"))\n",
    "if a>b:\n",
    "    if a>c:\n",
    "        print(\"The greater number is {0} from {1} and {2} = {3}\" .format(a,b,c,a))\n",
    "    else:\n",
    "        print(\"The greater number is c =\",c)\n",
    "else: \n",
    "    if b>c:\n",
    "        print(\"The greater number is b\",b)\n",
    "    else:\n",
    "        print(\"The greater number is c =\",c)\n",
    "  "
   ]
  },
  {
   "cell_type": "code",
   "execution_count": null,
   "metadata": {},
   "outputs": [],
   "source": [
    "#Q enter a figure (C,R,T)  and find area\n",
    "fig = input(\"Enter figure (C/R/T):\")\n",
    "area=0\n",
    "if fig =='C' or fig =='c' :\n",
    "    r =eval(input(\"enter the radius: \"))\n",
    "    area =22/7*r**2\n",
    "  \n",
    "elif fig=='R' or fig=='r':\n",
    "    l =eval(input(\"enter the length: \"))\n",
    "    b =eval(input(\"enter the breadth: \"))\n",
    "    area=l*b\n",
    "   \n",
    "elif fig=='T' or fig=='t':\n",
    "    h =eval(input(\"enter the height: \"))\n",
    "    b =eval(input(\"enter the base: \"))\n",
    "    area=1/2*b*h\n",
    "    \n",
    "else:\n",
    "    print(\"invalid figure\")\n",
    "print(area) \n",
    "\n",
    "   "
   ]
  },
  {
   "cell_type": "code",
   "execution_count": 1,
   "metadata": {},
   "outputs": [
    {
     "name": "stdout",
     "output_type": "stream",
     "text": [
      "1\n",
      "2\n",
      "3\n",
      "4\n",
      "10\n",
      "11\n",
      "12\n"
     ]
    }
   ],
   "source": [
    "for i in range(1,10):\n",
    "    if i ==5:\n",
    "        break\n",
    "    print(i)\n",
    "for b in (10,11,12):\n",
    "    print(b)\n",
    " #stop condition is mandatory in for loop  \n"
   ]
  },
  {
   "cell_type": "code",
   "execution_count": null,
   "metadata": {},
   "outputs": [],
   "source": [
    "#Q sum of first 20 numbers\n",
    "summ=0\n",
    "for i in range (1,21):\n",
    "    print(i,end=\" \")\n",
    "    summ=summ+i\n",
    "print(\"\\nSum of first 20 numbers is\", summ)\n",
    "#Q sum of  first 8 number  different with even and odd \n",
    "sume=0\n",
    "sumo=0\n",
    "for i in range (1,9,2):\n",
    "    print(i,end=\" \")\n",
    "    sumo=sumo+i\n",
    "print(\"\\nSum of first 4 odd numbers is\", sumo)\n",
    "for i in range (2,9,2):\n",
    "    print(i,end=\" \")\n",
    "    sume=sume+i\n",
    "print(\"\\nSum of first 4 even numbers is\", sume)\n",
    "\n",
    "#another method\n",
    "sume1=0\n",
    "sumo1=0\n",
    "for i in range (1,9):\n",
    "    if i%2==0:\n",
    "        sume1=sume1+i\n",
    "    else:\n",
    "        sumo1=sumo1+i\n",
    "print(\"\\nSum of first 4 odd numbers is\", sumo1)\n",
    "print(\"\\nSum of first 4 even numbers is\", sume1)\n",
    "\n",
    "\n",
    "#another method \n",
    "#Enter 8 number and add even numbers and odd number differently and also count no of odd numbers and even numbers\n",
    "se=ce=co=0\n",
    "so=0\n",
    "for i in range (8):\n",
    "    n=eval(input())\n",
    "    if n%2 ==0:\n",
    "        se=se+n\n",
    "        ce=ce+1\n",
    "    else:\n",
    "        so=so+n\n",
    "        co=co+1\n",
    "print(\"Sum of odd numbers is \" ,so)\n",
    "print(\"Sum of even numbers is \",se)\n",
    "print(\"Count of odd numbers is \",co)\n",
    "print(\"Count of even numbers is \",ce)"
   ]
  },
  {
   "cell_type": "code",
   "execution_count": null,
   "metadata": {},
   "outputs": [],
   "source": [
    "#Q enter three marks of students(each out of 100) and calculate avg and print grade\n",
    "#A if >=80,b if >=60, c if >=40 else fail\n",
    "m1= eval(input(\"Enter first mark m1= \"))\n",
    "m2= eval(input(\"Enter second mark m2= \"))\n",
    "m3= eval(input(\"Enter third mark m3= \"))\n",
    "avg =(m1+m2+m3)/3\n",
    "print(\"average is \",avg)\n",
    "if avg>=80:\n",
    "    print(\"grade is A\")\n",
    "elif avg<80 and avg>=60:\n",
    "    print(\"grade is B\")\n",
    "elif avg<60 and avg>=40:\n",
    "    print(\"grade is C\")\n",
    "else: \n",
    "    print(\"fail\")\n",
    "    "
   ]
  },
  {
   "cell_type": "code",
   "execution_count": null,
   "metadata": {},
   "outputs": [],
   "source": [
    "for i in range(21,2,-3):\n",
    "    print(i)\n",
    "for i in range(-5,5):\n",
    "    print(i)"
   ]
  },
  {
   "cell_type": "code",
   "execution_count": null,
   "metadata": {},
   "outputs": [],
   "source": [
    "m1= eval(input(\"Enter first mark m1= \"))\n",
    "m2= eval(input(\"Enter second mark m2= \"))\n",
    "m3= eval(input(\"Enter third mark m3= \"))\n",
    "avg =(m1+m2+m3)/3\n",
    "print(\"average is \",avg)\n",
    "if avg>=80:\n",
    "    print(\"grade is A\")\n",
    "elif   avg>=60:\n",
    "    print(\"grade is B\")\n",
    "elif  avg>=40:\n",
    "    print(\"grade is C\")\n",
    "else: \n",
    "    print(\"fail\")\n",
    "    "
   ]
  },
  {
   "cell_type": "code",
   "execution_count": null,
   "metadata": {},
   "outputs": [],
   "source": [
    "gradea=gradeb=gradec=gradef=0\n",
    "for i in range(3):\n",
    "    m1= eval(input(\"Enter first mark m1= \"))\n",
    "    m2= eval(input(\"Enter second mark m2= \"))\n",
    "    m3= eval(input(\"Enter third mark m3= \"))\n",
    "    avg =(m1+m2+m3)/3\n",
    "    print(\"average is \",avg)\n",
    "    if avg>=80:\n",
    "        print(\"grade is A\")\n",
    "        gradea+=1\n",
    "    elif   avg>=60:\n",
    "        print(\"grade is B\")\n",
    "        gradeb+=1\n",
    "        \n",
    "    elif  avg>=40:\n",
    "        print(\"grade is C\")\n",
    "        gradec=1\n",
    "        \n",
    "    else: \n",
    "        print(\"fail\")\n",
    "        gradef+=1\n",
    "print(\"A graders\" , gradea)    \n",
    "print(\"B graders\" , gradeb)  \n",
    "print(\"C graders\" , gradec)  \n",
    "print(\"F graders\" , gradef)  \n"
   ]
  },
  {
   "cell_type": "code",
   "execution_count": null,
   "metadata": {},
   "outputs": [],
   "source": [
    "gradea=gradeb=gradec=gradef=0\n",
    "for i in range(3):\n",
    "    sum=0\n",
    "    for j in range(3):\n",
    "        m1= eval(input(\"Enter  marks = \"))\n",
    "        sum=sum+m1\n",
    "    avg =(sum)/3\n",
    "    print(\"average is \",avg)\n",
    "    if avg>=80:\n",
    "        print(\"grade is A\")\n",
    "        gradea+=1\n",
    "    elif   avg>=60:\n",
    "        print(\"grade is B\")\n",
    "        gradeb+=1\n",
    "        \n",
    "    elif  avg>=40:\n",
    "        print(\"grade is C\")\n",
    "        gradec=1\n",
    "        \n",
    "    else: \n",
    "        print(\"fail\")\n",
    "        gradef+=1\n",
    "print(\"A graders\" , gradea)    \n",
    "print(\"B graders\" , gradeb)  \n",
    "print(\"C graders\" , gradec)  \n",
    "print(\"F graders\" , gradef)  \n"
   ]
  },
  {
   "cell_type": "code",
   "execution_count": null,
   "metadata": {},
   "outputs": [],
   "source": [
    "num = int(input(\"Enter the number: \"))\n",
    "\n",
    "print(\"Multiplication Table of\", num)\n",
    "for i in range(1, 11):\n",
    "   print(num,\"X\",i,\"=\",num * i)\n"
   ]
  },
  {
   "cell_type": "code",
   "execution_count": 2,
   "metadata": {},
   "outputs": [
    {
     "name": "stdout",
     "output_type": "stream",
     "text": [
      "\n",
      "1\n",
      "22\n",
      "333\n",
      "4444\n",
      "55555\n",
      "666666\n",
      "7777777\n",
      "88888888\n",
      "999999999\n"
     ]
    }
   ],
   "source": [
    "#Q16. Write a Python program to construct the following pattern\n",
    "# Expected Output:\n",
    "# 1\n",
    "# 22\n",
    "# 333\n",
    "# 4444\n",
    "# 55555\n",
    "# 666666\n",
    "# 7777777\n",
    "# 88888888\n",
    "# 999999999\n",
    "for i in range(10):\n",
    "    print(str(i)*i)\n",
    "    "
   ]
  },
  {
   "cell_type": "code",
   "execution_count": null,
   "metadata": {},
   "outputs": [],
   "source": [
    "#prime number neww method\n",
    "n = int(input(\"Enter a number to check for prime\"))\n",
    "div=2\n",
    "flag=0\n",
    "\n",
    "while (div<=n/2):\n",
    "    if (n%div==0):\n",
    "        print(\"no is not prime\")\n",
    "        flag=1\n",
    "        break\n",
    "    div=div+1\n",
    "\n",
    "if flag==0:\n",
    "    print(\"no is prime\")\n",
    "    \n",
    "    \n",
    "    \n",
    "#another method\n",
    "n = int(input(\"Enter a number to check for prime\"))\n",
    "div=2\n",
    "\n",
    "while (div<=n/2):\n",
    "    if (n%div==0):\n",
    "        print(\"no is not prime\")\n",
    "        flag=1\n",
    "        break\n",
    "    div=div+1\n",
    "\n",
    "if (div>=n/2):\n",
    "    print(\"no is prime\")\n",
    "    \n",
    "#another \n",
    "n = int(input(\"Enter a number to check for prime\"))\n",
    "div=2\n",
    "\n",
    "while (div<=n/2):\n",
    "    if (n%div==0):\n",
    "        print(\"no is not prime\")\n",
    "        flag=1\n",
    "        break\n",
    "    div=div+1\n",
    "\n",
    "else:\n",
    "    print(\"no is prime\")"
   ]
  },
  {
   "cell_type": "code",
   "execution_count": null,
   "metadata": {},
   "outputs": [],
   "source": [
    "start= int(input(\"Enter a number to start check for prime\"))\n",
    "stop= int(input(\"Enter a number to stop check for prime\"))\n",
    "div=2\n",
    "pr=npr=0\n",
    "for n in range(start,stop+1):\n",
    "\n",
    "    for div in range (2,n//2):\n",
    "        if (n%div==0):\n",
    "            print(n, \" is not prime\")\n",
    "            npr=npr+1\n",
    "            break\n",
    "    else:\n",
    "        print(n,\" is prime\")\n",
    "        pr=pr+1\n",
    "print(\"Total Prime numbers between \",start , \"and \",stop,\"are :\" ,pr)\n",
    "print(\"Total Non-Prime numbers between \",start , \"and \",stop,\"are :\" ,npr)"
   ]
  },
  {
   "cell_type": "code",
   "execution_count": null,
   "metadata": {},
   "outputs": [],
   "source": [
    "start= int(input(\"Enter a number to start check for prime\"))\n",
    "stop= int(input(\"Enter a number to stop check for prime\"))\n",
    "print(\"Prime Numbers between\" , start ,\"and\" , stop ,\"are :\")\n",
    "for i in range(start,stop+1,1):\n",
    "    if i>1:\n",
    "        for j in range(2,i):\n",
    "            if (i%j)==0:\n",
    "                break\n",
    "        else:\n",
    "            print(i)\n",
    "            "
   ]
  },
  {
   "cell_type": "code",
   "execution_count": null,
   "metadata": {},
   "outputs": [],
   "source": [
    "# Write a Python program to get next day of a given date\n",
    "year = int(input(\"Input a year: \"))\n",
    "\n",
    "if (year % 400 == 0):\n",
    "    leap_year = True\n",
    "elif (year % 100 == 0):\n",
    "    leap_year = False\n",
    "elif (year % 4 == 0):\n",
    "    leap_year = True\n",
    "else:\n",
    "    leap_year = False\n",
    "\n",
    "month = int(input(\"Input a month [1-12]: \"))\n",
    "\n",
    "if month in (1, 3, 5, 7, 8, 10, 12):\n",
    "    month_length = 31\n",
    "elif month == 2:\n",
    "    if leap_year:\n",
    "        month_length = 29\n",
    "    else:\n",
    "        month_length = 28\n",
    "else:\n",
    "    month_length = 30\n",
    "\n",
    "\n",
    "day = int(input(\"Input a day [1-31]: \"))\n",
    "\n",
    "if day < month_length:\n",
    "    day += 1\n",
    "else:\n",
    "    day = 1\n",
    "    if month == 12:\n",
    "        month = 1\n",
    "        year += 1\n",
    "    else:\n",
    "        month += 1\n",
    "print(\"The next date is [yyyy-mm-dd] %d-%d-%d.\" % (year, month, day))\n"
   ]
  },
  {
   "cell_type": "code",
   "execution_count": null,
   "metadata": {},
   "outputs": [],
   "source": [
    "#strings in python\n",
    "fruit=\"banana\"\n",
    "fruit[5]\n",
    "#a\n",
    "fruit\n",
    "#'banana'\n",
    "\n",
    "# fruit[9]\n",
    "# ---------------------------------------------------------------------------\n",
    "# IndexError                                Traceback (most recent call last)\n",
    "# <ipython-input-35-05a770803998> in <module>\n",
    "#       3 fruit\n",
    "#       4 \n",
    "# ----> 5 fruit[9]\n",
    "\n",
    "# IndexError: string index out of range\n",
    "fruit=\"orange\"\n",
    "fruit[-2]\n",
    "# 'g'\n",
    "# print(fruit[0])\n",
    "# print(fruit[1])\n",
    "# print(fruit[2])\n",
    "# print(fruit[3])\n",
    "# print(fruit[4])\n",
    "# print(fruit[5])\n",
    "# i=0\n",
    "# #while loop\n",
    "# # while (i<len(fruit)):\n",
    "# #     print(fruit[i])\n",
    "# #     i=i+1\n",
    "\n",
    "\n",
    "# #for loop\n",
    "# for i in range(len(fruit)):\n",
    "#     print(fruit[i])\n",
    "\n",
    "    \n",
    "# loop in sequences\n",
    "print(\"printing with sequence loop\")\n",
    "for i in fruit:\n",
    "    print(i ,end =\" * \")\n",
    "    \n",
    "    \n"
   ]
  },
  {
   "cell_type": "code",
   "execution_count": null,
   "metadata": {},
   "outputs": [],
   "source": [
    "fruit=\"orange is a fRuit\"\n",
    "i=0\n",
    "count=0\n",
    "for i in range(len(fruit)):\n",
    "    if fruit[i]=='r' or fruit[i]=='R':\n",
    "        count+=1\n",
    "print(\"total r's are : \" ,count)"
   ]
  },
  {
   "cell_type": "code",
   "execution_count": null,
   "metadata": {},
   "outputs": [],
   "source": [
    "s=\"rRdufi\"\n",
    "fruit=\"orange is a fRuit\"\n",
    "i=0\n",
    "count=0\n",
    "for i in range(len(fruit)):\n",
    "    if fruit[i] in s:\n",
    "        count+=1\n",
    "print(\"total r's are : \" ,count)"
   ]
  },
  {
   "cell_type": "code",
   "execution_count": null,
   "metadata": {},
   "outputs": [],
   "source": [
    "#Program to check number of vowels in a string\n",
    "s=\"aeiou\"\n",
    "t=input(\"Enter a string :\")\n",
    "i=0\n",
    "count=0\n",
    "\n",
    "for i in range(len(t)):\n",
    "    for j in range(len(s)):\n",
    "        \n",
    "        if t[i] ==s[j]:\n",
    "            count+=1\n",
    "print(\"total vowel's are : \" ,count)\n"
   ]
  },
  {
   "cell_type": "code",
   "execution_count": null,
   "metadata": {},
   "outputs": [],
   "source": [
    "s=\"aeiou\"\n",
    "t=input(\"Enter a string :\")\n",
    "\n",
    "\n",
    "\n",
    "\n",
    "i=0\n",
    "count=0\n",
    "for i in t.lower():\n",
    "    if i in s:\n",
    "        count+=1\n",
    "print(\"total vowel's are : \" ,count)"
   ]
  },
  {
   "cell_type": "code",
   "execution_count": null,
   "metadata": {},
   "outputs": [],
   "source": [
    "#Slicing  slicing operator is colon:\n",
    "stre=\"Artificial Intelligence\"\n",
    "\n",
    "# start=2\n",
    "# stop=5\n",
    "# for i in range(len(stre)):\n",
    "#     if i>=start and i<stop:\n",
    "#         print(stre[i])\n",
    "print(stre[2:5])\n",
    "print(stre[:])\n",
    "print(stre[:10])\n",
    "print(stre[4:5])\n",
    "print(stre[2:])"
   ]
  },
  {
   "cell_type": "code",
   "execution_count": null,
   "metadata": {},
   "outputs": [],
   "source": [
    "#slciing\n",
    "print(\"enter two words\")\n",
    "mys=input()\n",
    "\n",
    "for i in range(len(mys)):\n",
    "    if mys[i]==' ':\n",
    "        break\n",
    "\n",
    "print(mys[i+1:])\n",
    "       \n",
    "    "
   ]
  },
  {
   "cell_type": "code",
   "execution_count": null,
   "metadata": {},
   "outputs": [],
   "source": [
    "#slciing 2\n",
    "# S.find(sub[, start[, end]]) -> int\n",
    "\n",
    "# Return the lowest index in S where substring sub is found,\n",
    "# such that sub is contained within S[start:end].  Optional\n",
    "# arguments start and end are interpreted as in slice notation.\n",
    "\n",
    "# Return -1 on failure.\n",
    "# Type:      builtin_function_or_method\n",
    "print(\"enter two words\")\n",
    "mys=input()\n",
    "mys.find(\" \")\n",
    "print(mys[mys.find(\" \")+1:])\n"
   ]
  },
  {
   "cell_type": "code",
   "execution_count": null,
   "metadata": {},
   "outputs": [],
   "source": [
    "#find some particular part from string \n",
    "a='from anmol#@gmail.com  12:40'\n",
    "b='from anmol#@gfil.com  12:40'\n",
    "c='from anmol#@gdfil.com  12:40'\n",
    "# email='from anmol#@gmail.com  12:40'\n",
    "# s=email.find(\"@\")\n",
    "# t=email.find(\" \",s)\n",
    "# print(email[s+1:t])\n",
    "for email in (a,b,c):\n",
    "    \n",
    "    print(email[email.find(\"@\")+1:email.find(\" \",email.find(\"@\")+2)])\n",
    "# "
   ]
  },
  {
   "cell_type": "code",
   "execution_count": null,
   "metadata": {},
   "outputs": [],
   "source": [
    "#list\n",
    "lst = [\"from simran@yahoo.com 12.40 12/03/2020\",\n",
    "       \"from a.budhiraja@nielit.gov.in 12.40 12/03/2020\",\n",
    "       \"from sarwan@nielit.gov.in 12.40 12/03/2020\",\n",
    "        \"from amita@rediff.com  12.40 12/03/2020\",\n",
    "        \"from kartik@gmail.com  12.40 18/02/2020\",\n",
    "        \"from harsimran@gmail.com  12.40 15/01/2021\",\n",
    "        \"from iqbal@gmail.com  12.40 12/03/2020\"]\n",
    "k=[3,4,5,6]\n",
    "for email in lst:\n",
    "    \n",
    "    print(email[email.find(\"@\")+1:email.find(\" \",email.find(\"@\")+2)])"
   ]
  },
  {
   "cell_type": "code",
   "execution_count": 17,
   "metadata": {},
   "outputs": [
    {
     "name": "stdout",
     "output_type": "stream",
     "text": [
      "total r's are :  3\n"
     ]
    }
   ],
   "source": [
    "op=\"from simran@yahoo.com 12.40 12/03/2020\"\n",
    "op[op.find(\"/\")-2:]\n",
    "# op_e=list(enumerate(op))\n",
    "# print(op_e)\n",
    "# ##output\n",
    "# [(0, 'f'), (1, 'r'), (2, 'o'), (3, 'm'), (4, ' '), (5, 's'), (6, 'i'), (7, 'm'), (8, 'r'), (9, 'a'), (10, 'n'), (11, '@'), (12, 'y'), (13, 'a'), (14, 'h'), (15, 'o'), (16, 'o'), (17, '.'), (18, 'c'), (19, 'o'), (20, 'm'), (21, ' '), (22, '1'), (23, '2'), (24, '.'), (25, '4'), (26, '0'), (27, ' '), (28, '1'), (29, '2'), (30, '/'), (31, '0'), (32, '3'), (33, '/'), (34, '2'), (35, '0'), (36, '2'), (37, '0')]\n",
    "s=\"1234567890\"\n",
    "fruit=\"ora32 is0 a fRuit\"\n",
    "i=0\n",
    "count=0\n",
    "for i in range(len(fruit)):\n",
    "    if fruit[i] in s:\n",
    "        count+=1\n",
    "print(\"total r's are : \" ,count)\n"
   ]
  },
  {
   "cell_type": "code",
   "execution_count": 4,
   "metadata": {},
   "outputs": [
    {
     "name": "stdout",
     "output_type": "stream",
     "text": [
      "No of users from gmail.com are  9\n",
      "No of users from yahoo.com are  3\n",
      "No of users from rediffmail.com are  3\n",
      "No of users from nielit.gov.in are  4\n"
     ]
    }
   ],
   "source": [
    "lst = [\"from simran@yahoo.com 12.40 12/03/2020\",\n",
    "       \"from a.budhiraja@nielit.gov.in 12.40 12/03/2020\",\n",
    "       \"from sarwan@nielit.gov.in 12.40 12/03/2020\",\n",
    "        \"from amita@rediff.com  12.40 12/03/2020\",\n",
    "        \"from kartik@gmail.com  12.40 13/03/2020\",\n",
    "        \"from harsimran@gmail.com  12.40 13/03/2020\",\n",
    "        \"from iqbal@gmail.com  12.40 13/03/2020\",\n",
    "      \"from kartik@yahoo.com  12.40 14/03/2020\",\n",
    "        \"from harsimran@gmail.com  12.40 14/03/2021\",\n",
    "        \"from iqbal@gmail.com  12.40 12/03/2020\",\n",
    "      \"from kartik@gmail.com  12.40 14/03/2020\",\n",
    "        \"from harsimran@gmail.com  12.40 15/03/2021\",\n",
    "        \"from iqbal@gmail.com  12.40 12/03/2020\",\n",
    "       \"from a.budhiraja@nielit.gov.in 12.40 12/03/2020\",\n",
    "       \"from kartikmahajan116@gmail.com 12.40 12/03/2020\",\n",
    "        \"from amita@rediff.com  12.40 12/03/2020\",\n",
    "       \"from awddn@yahoo.com 12.40 14/03/2020\",\n",
    "       \"from sarwan@nielit.gov.in 12.40 12/03/2020\",\n",
    "        \"from anmi@rediff.com  12.40 13/03/2020\"]\n",
    "gm=0\n",
    "nl=0\n",
    "yh=0\n",
    "rd=0\n",
    "#s=email[email.find(\"@\")+1:email.find(\" \",email.find(\"@\")+1)]\n",
    "\n",
    "for email in lst:\n",
    "    \n",
    "    #print(email[email.find(\"@\")+1:email.find(\" \",email.find(\"@\")+1)])\n",
    "    if email[email.find(\"@\")+1:email.find(\" \",email.find(\"@\")+2)] ==\"gmail.com\":\n",
    "        gm+=1\n",
    "    elif email[email.find(\"@\")+1:email.find(\" \",email.find(\"@\")+2)] ==\"yahoo.com\":\n",
    "        yh+=1\n",
    "    elif email[email.find(\"@\")+1:email.find(\" \",email.find(\"@\")+2)]==\"nielit.gov.in\":\n",
    "        nl+=1\n",
    "    else:\n",
    "        rd+=1\n",
    "        \n",
    "print(\"No of users from gmail.com are \" ,gm)\n",
    "print(\"No of users from yahoo.com are \" ,yh)\n",
    "print(\"No of users from rediffmail.com are \" ,rd)\n",
    "print(\"No of users from nielit.gov.in are \" ,nl)\n"
   ]
  },
  {
   "cell_type": "code",
   "execution_count": 5,
   "metadata": {},
   "outputs": [
    {
     "name": "stdout",
     "output_type": "stream",
     "text": [
      "No of users logged in on 12 march are  10\n",
      "No of users logged in on 13 march are  4\n",
      "No of users logged in on 14 march are  3\n",
      "No of users logged in on else date are  2\n"
     ]
    }
   ],
   "source": [
    "c12=c13=c14=c15=0\n",
    "for email in lst:\n",
    "    if email[email.find(\"/\")-2:] ==\"12/03/2020\":\n",
    "        c12+=1\n",
    "    elif email[email.find(\"/\")-2:] ==\"13/03/2020\":\n",
    "        c13+=1\n",
    "    elif email[email.find(\"/\")-2:] ==\"14/03/2020\":\n",
    "        c14+=1\n",
    "    else:\n",
    "        c15+=1\n",
    "print(\"No of users logged in on 12 march are \",c12)\n",
    "print(\"No of users logged in on 13 march are \",c13)\n",
    "print(\"No of users logged in on 14 march are \",c14)\n",
    "print(\"No of users logged in on other dates are \",c15)"
   ]
  },
  {
   "cell_type": "code",
   "execution_count": 2,
   "metadata": {},
   "outputs": [
    {
     "name": "stdout",
     "output_type": "stream",
     "text": [
      "200 202 204 206 208 220 222 224 226 228 240 242 244 246 248 260 262 264 266 268 280 282 284 286 288 400 "
     ]
    }
   ],
   "source": [
    "for i in range(100,401):\n",
    "    sq=str(i)\n",
    "    if (int(sq[0])%2==0) and (int(sq[1])%2==0) and (int(sq[2])%2==0):\n",
    "        print(sq,end=\" \")\n"
   ]
  },
  {
   "cell_type": "code",
   "execution_count": null,
   "metadata": {},
   "outputs": [],
   "source": [
    "# formatting integers\n",
    "\"Binary representation of {0} is {0:b}\".format(10)\n"
   ]
  },
  {
   "cell_type": "code",
   "execution_count": 22,
   "metadata": {},
   "outputs": [
    {
     "data": {
      "text/plain": [
       "'  Computer'"
      ]
     },
     "execution_count": 22,
     "metadata": {},
     "output_type": "execute_result"
    }
   ],
   "source": [
    "str1=\"  Computer\"\n",
    "type(str1)\n",
    "dir(str1)\n",
    "# str1.lstrip()\n",
    "str1\n"
   ]
  },
  {
   "cell_type": "code",
   "execution_count": 2,
   "metadata": {},
   "outputs": [
    {
     "name": "stdout",
     "output_type": "stream",
     "text": [
      "OK\n"
     ]
    }
   ],
   "source": [
    "x=6\n",
    "if x == 1 or 2 or 3:\n",
    "    print(\"OK\")"
   ]
  },
  {
   "cell_type": "code",
   "execution_count": 3,
   "metadata": {},
   "outputs": [],
   "source": [
    "if x == 1 or x == 2 or x == 3:\n",
    "    print(\"OK\")"
   ]
  },
  {
   "cell_type": "code",
   "execution_count": 8,
   "metadata": {},
   "outputs": [
    {
     "name": "stdout",
     "output_type": "stream",
     "text": [
      "Please enter two numbers to divide10\n"
     ]
    },
    {
     "ename": "TypeError",
     "evalue": "cannot unpack non-iterable int object",
     "output_type": "error",
     "traceback": [
      "\u001b[1;31m---------------------------------------------------------------------------\u001b[0m",
      "\u001b[1;31mTypeError\u001b[0m                                 Traceback (most recent call last)",
      "\u001b[1;32m<ipython-input-8-636106a93b50>\u001b[0m in \u001b[0;36m<module>\u001b[1;34m\u001b[0m\n\u001b[1;32m----> 1\u001b[1;33m \u001b[0mdividend\u001b[0m\u001b[1;33m,\u001b[0m\u001b[0mdivisor\u001b[0m\u001b[1;33m=\u001b[0m\u001b[0meval\u001b[0m\u001b[1;33m(\u001b[0m\u001b[0minput\u001b[0m\u001b[1;33m(\u001b[0m\u001b[1;34m\"Please enter two numbers to divide\"\u001b[0m\u001b[1;33m)\u001b[0m\u001b[1;33m)\u001b[0m\u001b[1;33m\u001b[0m\u001b[1;33m\u001b[0m\u001b[0m\n\u001b[0m\u001b[0;32m      2\u001b[0m \u001b[0mshow\u001b[0m\u001b[1;33m=\u001b[0m\u001b[0mdividend\u001b[0m\u001b[1;33m/\u001b[0m\u001b[0mdivisor\u001b[0m \u001b[1;32mif\u001b[0m \u001b[0mdivisor\u001b[0m \u001b[1;33m!=\u001b[0m\u001b[1;36m0\u001b[0m \u001b[1;32melse\u001b[0m \u001b[1;34m\"Error, cannot divide by zero\"\u001b[0m\u001b[1;33m\u001b[0m\u001b[1;33m\u001b[0m\u001b[0m\n\u001b[0;32m      3\u001b[0m \u001b[0mprint\u001b[0m\u001b[1;33m(\u001b[0m\u001b[0mshow\u001b[0m\u001b[1;33m)\u001b[0m\u001b[1;33m\u001b[0m\u001b[1;33m\u001b[0m\u001b[0m\n",
      "\u001b[1;31mTypeError\u001b[0m: cannot unpack non-iterable int object"
     ]
    }
   ],
   "source": [
    "dividend,divisor=eval(input(\"Please enter two numbers to divide\"))\n",
    "show=dividend/divisor if divisor !=0 else \"Error, cannot divide by zero\"\n",
    "print(show)"
   ]
  },
  {
   "cell_type": "code",
   "execution_count": 16,
   "metadata": {},
   "outputs": [
    {
     "name": "stdout",
     "output_type": "stream",
     "text": [
      "zero zero\n",
      "five \n",
      "two \n"
     ]
    }
   ],
   "source": [
    "x=\"152\"\n",
    "for i in range(len(x)):\n",
    "    if x[i]==\"2\":\n",
    "        print(\"two \")\n",
    "    elif x[i]==\"5\":\n",
    "        print(\"five \")\n",
    "    elif x[i]==\"6\":\n",
    "        print(\"six \")\n",
    "    else:\n",
    "        print(\"zero zero\")"
   ]
  },
  {
   "cell_type": "code",
   "execution_count": 6,
   "metadata": {},
   "outputs": [
    {
     "name": "stdout",
     "output_type": "stream",
     "text": [
      "11 x 1 = 11\n",
      "11 x 2 = 22\n",
      "11 x 3 = 33\n",
      "11 x 4 = 44\n",
      "11 x 5 = 55\n",
      "11 x 6 = 66\n",
      "11 x 7 = 77\n",
      "11 x 8 = 88\n",
      "11 x 9 = 99\n",
      "11 x 10 = 110\n"
     ]
    }
   ],
   "source": [
    "# Multiplication table (from 1 to 10) in Python\n",
    "\n",
    "num = 11\n",
    "if num<18:\n",
    "# To take input from the user\n",
    "# num = int(input(\"Display multiplication table of? \"))\n",
    "\n",
    "# Iterate 10 times from i = 1 to 10\n",
    "    for i in range(1, 11):\n",
    "       print(num, 'x', i, '=', num*i)\n",
    "else:\n",
    "    print(\"nothing\")"
   ]
  }
 ],
 "metadata": {
  "kernelspec": {
   "display_name": "Python 3",
   "language": "python",
   "name": "python3"
  },
  "language_info": {
   "codemirror_mode": {
    "name": "ipython",
    "version": 3
   },
   "file_extension": ".py",
   "mimetype": "text/x-python",
   "name": "python",
   "nbconvert_exporter": "python",
   "pygments_lexer": "ipython3",
   "version": "3.8.5"
  }
 },
 "nbformat": 4,
 "nbformat_minor": 4
}
