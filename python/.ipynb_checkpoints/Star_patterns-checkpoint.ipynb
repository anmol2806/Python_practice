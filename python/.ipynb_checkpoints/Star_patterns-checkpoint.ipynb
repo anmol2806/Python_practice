{
 "cells": [
  {
   "cell_type": "code",
   "execution_count": null,
   "metadata": {},
   "outputs": [],
   "source": [
    "Print Rectangle Start Pattern"
   ]
  },
  {
   "cell_type": "code",
   "execution_count": 3,
   "metadata": {},
   "outputs": [
    {
     "name": "stdout",
     "output_type": "stream",
     "text": [
      "* * * * * * * *  \n",
      "* * * * * * * *  \n",
      "* * * * * * * *  \n",
      "* * * * * * * *  \n"
     ]
    }
   ],
   "source": [
    "def sr(a,b):\n",
    "    for i in range(a):\n",
    "        for j in range(b):\n",
    "            print(\"*\",end=\" \")\n",
    "        print(\" \")\n",
    "sr(4,8)"
   ]
  },
  {
   "cell_type": "code",
   "execution_count": null,
   "metadata": {},
   "outputs": [],
   "source": []
  },
  {
   "cell_type": "code",
   "execution_count": null,
   "metadata": {},
   "outputs": [],
   "source": [
    "Print Right Angled Triangle Star Pattern"
   ]
  },
  {
   "cell_type": "code",
   "execution_count": 7,
   "metadata": {},
   "outputs": [
    {
     "name": "stdout",
     "output_type": "stream",
     "text": [
      "*  \n",
      "* *  \n",
      "* * *  \n",
      "* * * *  \n"
     ]
    }
   ],
   "source": [
    "def sra(a):\n",
    "    for i in range(a):\n",
    "        for j in range(a):\n",
    "            if i>=j:\n",
    "                print(\"*\",end=\" \")\n",
    "        print(\" \")\n",
    "sra(4)"
   ]
  },
  {
   "cell_type": "code",
   "execution_count": null,
   "metadata": {},
   "outputs": [],
   "source": []
  },
  {
   "cell_type": "code",
   "execution_count": null,
   "metadata": {},
   "outputs": [],
   "source": [
    "Print Pyramid Pattern"
   ]
  },
  {
   "cell_type": "code",
   "execution_count": 10,
   "metadata": {},
   "outputs": [
    {
     "name": "stdout",
     "output_type": "stream",
     "text": [
      "             * \n",
      "          *  *  * \n",
      "       *  *  *  *  * \n",
      "    *  *  *  *  *  *  * \n"
     ]
    }
   ],
   "source": [
    "def drawPattern(a):\n",
    "\tfor x in range(0, a):\n",
    "\t\tfor y in range(0, int(a-x)):\n",
    "\t\t\tprint('   ', end='')\n",
    "\t\tfor y in range(0, 2*x+1):\n",
    "\t\t\tprint(' * ', end='')\n",
    "\t\tprint('')\n",
    "\t\t\n",
    "drawPattern(4)"
   ]
  },
  {
   "cell_type": "code",
   "execution_count": null,
   "metadata": {},
   "outputs": [],
   "source": []
  },
  {
   "cell_type": "code",
   "execution_count": 11,
   "metadata": {},
   "outputs": [
    {
     "name": "stdout",
     "output_type": "stream",
     "text": [
      " *  *  *  *  *  *  *  *  *  *  * \n",
      "    *  *  *  *  *  *  *  *  * \n",
      "       *  *  *  *  *  *  * \n",
      "          *  *  *  *  * \n",
      "             *  *  * \n",
      "                * \n"
     ]
    }
   ],
   "source": [
    "def drawPattern(a):\n",
    "\tfor x in range(0, a):\n",
    "\t\tfor y in range(0, x):\n",
    "\t\t\tprint('   ', end='')\n",
    "\t\tfor y in range(0, 2*(a-x)-1):\n",
    "\t\t\tprint(' * ', end='')\n",
    "\t\tprint('')\n",
    "\t\t\n",
    "drawPattern(6)"
   ]
  }
 ],
 "metadata": {
  "kernelspec": {
   "display_name": "Python 3",
   "language": "python",
   "name": "python3"
  },
  "language_info": {
   "codemirror_mode": {
    "name": "ipython",
    "version": 3
   },
   "file_extension": ".py",
   "mimetype": "text/x-python",
   "name": "python",
   "nbconvert_exporter": "python",
   "pygments_lexer": "ipython3",
   "version": "3.8.5"
  }
 },
 "nbformat": 4,
 "nbformat_minor": 4
}
