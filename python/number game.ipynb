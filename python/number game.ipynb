{
 "cells": [
  {
   "cell_type": "code",
   "execution_count": 12,
   "metadata": {},
   "outputs": [
    {
     "name": "stdout",
     "output_type": "stream",
     "text": [
      "enter a number betweeen 0 to 100:80\n",
      "You have entered a number greater than the correct one and you are not near \n",
      "enter a number betweeen 0 to 100:50\n",
      "You have entered a number greater than the correct one and you are not near \n",
      "enter a number betweeen 0 to 100:30\n",
      "You have entered a number greater than the correct one and you are not near \n",
      "enter a number betweeen 0 to 100:10\n",
      "You have entered a number smaller than the correct one and you are so close \n",
      "enter a number betweeen 0 to 100:15\n",
      "You have entered a number smaller than the correct one and you are so close \n",
      "enter a number betweeen 0 to 100:18\n",
      "You have entered a number greater than the correct one and you are so close \n",
      "You Lose :(  and correct answer is  16\n"
     ]
    }
   ],
   "source": [
    "import random\n",
    "r=random.randint(0,100)\n",
    "\n",
    "guess_left=6\n",
    "while guess_left!=0:\n",
    "    n=int(input(\"enter a number betweeen 0 to 100:\"))\n",
    "    if n==r:\n",
    "        print(\"You win :)\")\n",
    "        break\n",
    "    elif n>r+10 :\n",
    "        print(\"You have entered a number greater than the correct one and you are not near \")         \n",
    "        guess_left=guess_left-1\n",
    "        \n",
    "    elif n<r-10 :\n",
    "        print(\"You have entered a number smaller than the correct one and you are not near \")         \n",
    "        guess_left=guess_left-1\n",
    "    elif r-10<n<r :\n",
    "        print(\"You have entered a number smaller than the correct one and you are so close \")         \n",
    "        guess_left=guess_left-1\n",
    "    elif r<n<r+10 :\n",
    "        print(\"You have entered a number greater than the correct one and you are so close \")         \n",
    "        guess_left=guess_left-1\n",
    "    elif n>100:\n",
    "        print(\"Incorrect Value\")\n",
    "        break\n",
    "else:\n",
    "    print(\"You Lose :(  and correct answer is \",r)"
   ]
  }
 ],
 "metadata": {
  "kernelspec": {
   "display_name": "Python 3",
   "language": "python",
   "name": "python3"
  },
  "language_info": {
   "codemirror_mode": {
    "name": "ipython",
    "version": 3
   },
   "file_extension": ".py",
   "mimetype": "text/x-python",
   "name": "python",
   "nbconvert_exporter": "python",
   "pygments_lexer": "ipython3",
   "version": "3.8.5"
  }
 },
 "nbformat": 4,
 "nbformat_minor": 4
}
