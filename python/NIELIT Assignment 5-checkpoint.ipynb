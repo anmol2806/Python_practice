{
 "cells": [
  {
   "cell_type": "markdown",
   "metadata": {},
   "source": [
    "## Assignment-5 NIELIT "
   ]
  },
  {
   "cell_type": "markdown",
   "metadata": {},
   "source": [
    "1. Below are the two lists convert it into the dictionary\n",
    "keys = [Ten,Twenty,Thirty]\n",
    "values = [10, 20, 30]\n",
    "Expected output:\n",
    "{'Ten':10, 'Twenty':20,'Thirty':30}"
   ]
  },
  {
   "cell_type": "code",
   "execution_count": 2,
   "metadata": {},
   "outputs": [
    {
     "name": "stdout",
     "output_type": "stream",
     "text": [
      "{'Ten': 10, 'Twenty': 20, 'Thirty': 30}\n"
     ]
    }
   ],
   "source": [
    "keys = ['Ten','Twenty','Thirty'] \n",
    "values = [10, 20, 30]\n",
    "print(dict(zip(keys,values)))"
   ]
  },
  {
   "cell_type": "markdown",
   "metadata": {},
   "source": [
    "\n",
    "2. Merge following two Python dictionaries into one\n",
    "dict1 = {&#39;Ten&#39;: 10, &#39;Twenty&#39;: 20, &#39;Thirty&#39;: 30}\n",
    "dict2 = {&#39;Thirty&#39;: 30, &#39;Fourty&#39;: 40, &#39;Fifty&#39;: 50}\n",
    "\n",
    "Expected output:\n",
    "{&#39;Ten&#39;: 10, &#39;Twenty&#39;: 20, &#39;Thirty&#39;: 30, &#39;Fourty&#39;: 40, &#39;Fifty&#39;: 50}"
   ]
  },
  {
   "cell_type": "code",
   "execution_count": 15,
   "metadata": {},
   "outputs": [
    {
     "name": "stdout",
     "output_type": "stream",
     "text": [
      "{'Ten': 10, 'Twenty': 20, 'Thirty': 30, 'Fourty': 40, 'Fifty': 50}\n"
     ]
    }
   ],
   "source": [
    "dict1 = {'Ten': 10, 'Twenty': 20, 'Thirty': 30} \n",
    "dict2 = {'Thirty': 30, 'Fourty': 40, 'Fifty': 50}\n",
    "dict3 = {**dict1 , **dict2}\n",
    "print(dict3)\n"
   ]
  },
  {
   "cell_type": "code",
   "execution_count": 19,
   "metadata": {},
   "outputs": [
    {
     "data": {
      "text/plain": [
       "{'Ten': 10, 'Twenty': 20, 'Thirty': 30, 'Fourty': 40, 'Fifty': 50}"
      ]
     },
     "execution_count": 19,
     "metadata": {},
     "output_type": "execute_result"
    }
   ],
   "source": [
    "dict1 = {'Ten': 10, 'Twenty': 20, 'Thirty': 30} \n",
    "dict2 = {'Thirty': 30, 'Fourty': 40, 'Fifty': 50}\n",
    "dict1.update(dict2)\n",
    "dict1"
   ]
  },
  {
   "cell_type": "markdown",
   "metadata": {},
   "source": [
    "\n",
    "\n",
    "3. Access the value of key ‘history’\n",
    "sampleDict = {\n",
    "&quot;class&quot;:{\n",
    "&quot;student&quot;:{\n",
    "&quot;name&quot;:&quot;Mike&quot;,\n",
    "&quot;marks&quot;:{\n",
    "&quot;physics&quot;:70,\n",
    "&quot;history&quot;:80\n",
    "}\n",
    "}\n",
    "}\n",
    "}\n"
   ]
  },
  {
   "cell_type": "code",
   "execution_count": 20,
   "metadata": {},
   "outputs": [
    {
     "data": {
      "text/plain": [
       "80"
      ]
     },
     "execution_count": 20,
     "metadata": {},
     "output_type": "execute_result"
    }
   ],
   "source": [
    "sampleDict = { \"class\":{ \"student\":{ \"name\":\"Mike\", \"marks\":{ \"physics\":70, \"history\":80 } } } }\n",
    "sampleDict['class']['student']['marks']['history']"
   ]
  },
  {
   "cell_type": "markdown",
   "metadata": {},
   "source": [
    "4. Initialize dictionary with default values\n",
    "employees = [&#39;Kelly&#39;, &#39;Emma&#39;, &#39;John&#39;]\n",
    "defaults = {&quot;designation&quot;: &#39;Application Developer&#39;, &quot;salary&quot;: 8000}\n"
   ]
  },
  {
   "cell_type": "code",
   "execution_count": 23,
   "metadata": {},
   "outputs": [
    {
     "name": "stdout",
     "output_type": "stream",
     "text": [
      "{'designation': 'Application Developer', 'salary': 8000, 'employees': ['Kelly', 'Emma', 'John']}\n"
     ]
    }
   ],
   "source": [
    "defaults = {\"designation\": 'Application Developer', \"salary\": 8000}\n",
    "employees = ['Kelly', 'Emma', 'John']\n",
    "defaults['employees'] = employees\n",
    "print(defaults)"
   ]
  },
  {
   "cell_type": "markdown",
   "metadata": {},
   "source": [
    "5. Create a new dictionary by extracting the following keys from a given dictionary\n",
    "sampleDict = {\n",
    "&quot;name&quot;: &quot;Kelly&quot;,\n",
    "&quot;age&quot;:25,\n",
    "&quot;salary&quot;: 8000,\n",
    "&quot;city&quot;: &quot;New york&quot;}\n",
    "Keys to extract\n",
    "keys = [&quot;name&quot;, &quot;salary&quot;]\n",
    "Expected output:\n",
    "{&#39;name&#39;: &#39;Kelly&#39;, &#39;salary&#39;: 8000}\n",
    "\n"
   ]
  },
  {
   "cell_type": "code",
   "execution_count": 45,
   "metadata": {},
   "outputs": [
    {
     "name": "stdout",
     "output_type": "stream",
     "text": [
      "{'name': 'Kelly', 'salary': 8000}\n"
     ]
    }
   ],
   "source": [
    "sampleDict = { \"name\": \"Kelly\", \"age\":25, \"salary\": 8000, \"city\": \"New york\"}\n",
    "newdict = {}\n",
    "for key, values in sampleDict.items():\n",
    "    if key in ['name','salary']:\n",
    "        newdict[key] = values\n",
    "print(newdict)"
   ]
  },
  {
   "cell_type": "markdown",
   "metadata": {},
   "source": [
    "6. Delete set of keys from Python Dictionary using comprehension\n",
    "sampleDict = {\n",
    "&quot;name&quot;: &quot;Kelly&quot;,\n",
    "&quot;age&quot;:25,\n",
    "&quot;salary&quot;: 8000,\n",
    "&quot;city&quot;: &quot;New york&quot;\n",
    "}\n",
    "keysToRemove = [&quot;name&quot;, &quot;salary&quot;]\n",
    "Expected output:\n",
    "{&#39;city&#39;: &#39;New york&#39;, &#39;age&#39;: 25}\n"
   ]
  },
  {
   "cell_type": "code",
   "execution_count": 60,
   "metadata": {},
   "outputs": [
    {
     "data": {
      "text/plain": [
       "{'age': 25, 'city': 'New york'}"
      ]
     },
     "execution_count": 60,
     "metadata": {},
     "output_type": "execute_result"
    }
   ],
   "source": [
    "sampleDict = { \"name\": \"Kelly\", \"age\":25, \"salary\": 8000, \"city\": \"New york\" }\n",
    "keysToRemove = [\"name\", \"salary\"]\n",
    "for i in keysToRemove:\n",
    "    sampleDict.pop(i)\n",
    "\n",
    "sampleDict"
   ]
  },
  {
   "cell_type": "markdown",
   "metadata": {},
   "source": [
    "7. Rename key city to location in the following dictionary\n",
    "sampleDict = {\n",
    "&quot;name&quot;: &quot;Kelly&quot;,\n",
    "&quot;age&quot;:25,\n",
    "&quot;salary&quot;: 8000,\n",
    "&quot;city&quot;: &quot;New york&quot;\n",
    "}\n",
    "Expected output: (Hint:use pop)\n",
    "{\n",
    "&quot;name&quot;: &quot;Kelly&quot;,\n",
    "&quot;age&quot;:25,\n",
    "&quot;salary&quot;: 8000,\n",
    "&quot;location&quot;: &quot;New york&quot;\n",
    "}\n",
    "\n"
   ]
  },
  {
   "cell_type": "code",
   "execution_count": 68,
   "metadata": {},
   "outputs": [
    {
     "name": "stdout",
     "output_type": "stream",
     "text": [
      "{'name': 'Kelly', 'age': 25, 'salary': 8000, 'location': 'New york'}\n"
     ]
    }
   ],
   "source": [
    "sampleDict = { \"name\": \"Kelly\", \"age\":25, \"salary\": 8000, \"city\": \"New york\" }\n",
    "sampleDict['location'] = sampleDict['city']\n",
    "sampleDict.pop(\"city\")\n",
    "print(sampleDict)"
   ]
  },
  {
   "cell_type": "markdown",
   "metadata": {},
   "source": [
    "8. Get the key corresponding to the minimum value from the following dictionary\n",
    "sampleDict = {\n",
    "&#39;Physics&#39;: 82,\n",
    "&#39;Math&#39;: 65,\n",
    "&#39;history&#39;: 75\n",
    "}\n",
    "Expected output:\n",
    "Math\n"
   ]
  },
  {
   "cell_type": "code",
   "execution_count": 79,
   "metadata": {},
   "outputs": [
    {
     "name": "stdout",
     "output_type": "stream",
     "text": [
      "Math\n"
     ]
    }
   ],
   "source": [
    "sampleDict = { 'Physics': 82, 'Math': 65, 'history': 75 } \n",
    "m = min(sampleDict.values())\n",
    "for key, values in sampleDict.items():\n",
    "    if values == m:\n",
    "        print(key)"
   ]
  },
  {
   "cell_type": "markdown",
   "metadata": {},
   "source": [
    "9. Write code to flip a dictionary — that is, to exchange its keys and values. \n"
   ]
  },
  {
   "cell_type": "code",
   "execution_count": 1,
   "metadata": {},
   "outputs": [
    {
     "name": "stdout",
     "output_type": "stream",
     "text": [
      "{'Kelly': 'name', 25: 'age', 8000: 'salary', 'New york': 'city'}\n"
     ]
    }
   ],
   "source": [
    "def revdict():\n",
    "    sampleDict = { \"name\": \"Kelly\", \"age\":25, \"salary\": 8000, \"city\": \"New york\" }\n",
    "    newDict = {}\n",
    "    for key,value in sampleDict.items():\n",
    "        #if value not in newDict:\n",
    "            #newDict[key] = value\n",
    "        newDict[value] = key\n",
    "    return newDict\n",
    "\n",
    "r= revdict()\n",
    "print(r)        \n",
    "    "
   ]
  },
  {
   "cell_type": "markdown",
   "metadata": {},
   "source": [
    "10. Create a database in the following format\n",
    "Values = Router1 1.1.1.1 zframez zframez\n",
    "Keys = (name) (IP) (username) (pwd)\n",
    "\n"
   ]
  },
  {
   "cell_type": "code",
   "execution_count": 4,
   "metadata": {},
   "outputs": [
    {
     "name": "stdout",
     "output_type": "stream",
     "text": [
      "{'name': 'router', 'ip': '1.1.1.1', 'username': 'zframez', 'pwd': 'zframez'}\n"
     ]
    }
   ],
   "source": [
    "database = {'name':'router','ip':'1.1.1.1','username':'zframez','pwd':'zframez'}\n",
    "print(database)"
   ]
  },
  {
   "cell_type": "markdown",
   "metadata": {},
   "source": [
    "11. Write a python program to print the value of a given key\n"
   ]
  },
  {
   "cell_type": "code",
   "execution_count": 2,
   "metadata": {},
   "outputs": [
    {
     "data": {
      "text/plain": [
       "'Kelly'"
      ]
     },
     "execution_count": 2,
     "metadata": {},
     "output_type": "execute_result"
    }
   ],
   "source": [
    "sampleDict = { \"name\": \"Kelly\", \"age\":25, \"salary\": 8000, \"city\": \"New york\" }\n",
    "sampleDict[\"name\"]"
   ]
  },
  {
   "cell_type": "markdown",
   "metadata": {},
   "source": [
    "12. Write a python program to check whether the given key is present, if present print the value , else add a new key\n",
    "and value\n"
   ]
  },
  {
   "cell_type": "code",
   "execution_count": 8,
   "metadata": {},
   "outputs": [
    {
     "name": "stdout",
     "output_type": "stream",
     "text": [
      "Enter key to be checkedasd\n",
      "enter valuedsa\n",
      "{'name': 'Kelly', 'age': 25, 'salary': 8000, 'city': 'New york', 'asd': 'dsa'}\n"
     ]
    }
   ],
   "source": [
    "def check():\n",
    "    sampleDict = { \"name\": \"Kelly\", \"age\":25, \"salary\": 8000, \"city\": \"New york\" }\n",
    "    key = input(\"Enter key to be checked\")\n",
    "    for k in sampleDict.items():\n",
    "        if key in sampleDict:\n",
    "            return sampleDict[key]\n",
    "        else:\n",
    "            value = input(\"enter value\")\n",
    "            sampleDict[key] = value \n",
    "            return sampleDict\n",
    "c = check()\n",
    "print(c)"
   ]
  },
  {
   "cell_type": "markdown",
   "metadata": {},
   "source": [
    "13. Create a database in the following format\n",
    "\n",
    "Interface IP status\n",
    "Ethernet0 1.1.1.1 up\n",
    "Ethernet1 2.2.2.2 down\n",
    "Serial0 3.3.3.3 up\n",
    "Serial1 4.4.4.4 up\n"
   ]
  },
  {
   "cell_type": "code",
   "execution_count": 32,
   "metadata": {},
   "outputs": [],
   "source": [
    "database = {'interface':['Ethernet0','Ethernet1','Serial0','Serial1'],'ip':['1.1.1.1','2.2.2.2','3.3.3.3','4.4.4.4'],'status':['up','down','up','up']}\n"
   ]
  },
  {
   "cell_type": "markdown",
   "metadata": {},
   "source": [
    "14. Write a python program to find status of a given interface\n"
   ]
  },
  {
   "cell_type": "code",
   "execution_count": 13,
   "metadata": {},
   "outputs": [
    {
     "name": "stdout",
     "output_type": "stream",
     "text": [
      "Enter interface Ethernet1\n",
      "down\n"
     ]
    }
   ],
   "source": [
    "database = {'interface':['Ethernet0','Ethernet1','Serial0','Serial1'],'ip':['1.1.1.1','2.2.2.2','3.3.3.3','4.4.4.4'],'status':['up','down','up','up']}\n",
    "\n",
    "n = input(\"Enter interface \")\n",
    "l1 = database['interface']\n",
    "c=0\n",
    "for i in l1:\n",
    "    c+=1\n",
    "    if i == n:\n",
    "        print(database['status'][c-1])\n",
    "        break\n",
    "else:\n",
    "    print(\"not in database\")"
   ]
  },
  {
   "cell_type": "markdown",
   "metadata": {},
   "source": [
    "15. Write a python program to find interface and IP of all interfaces which are up\n"
   ]
  },
  {
   "cell_type": "code",
   "execution_count": 45,
   "metadata": {},
   "outputs": [
    {
     "name": "stdout",
     "output_type": "stream",
     "text": [
      "('Ethernet0', '1.1.1.1')\n",
      "('Serial0', '3.3.3.3')\n",
      "('Serial1', '4.4.4.4')\n"
     ]
    }
   ],
   "source": [
    "l1 = database['interface']\n",
    "l2 = database['ip']\n",
    "l3 = database['status']\n",
    "l = list(zip(l1,l2,l3))\n",
    "#print(l)\n",
    "for i in l:\n",
    "    if i[2] == 'up':\n",
    "        print(i[:2])"
   ]
  },
  {
   "cell_type": "markdown",
   "metadata": {},
   "source": [
    "16. Write a python program to count how many ethernet interfaces are there\n"
   ]
  },
  {
   "cell_type": "code",
   "execution_count": 51,
   "metadata": {},
   "outputs": [
    {
     "name": "stdout",
     "output_type": "stream",
     "text": [
      "2\n"
     ]
    }
   ],
   "source": [
    "l1 = database['interface']\n",
    "l2 = database['ip']\n",
    "l3 = database['status']\n",
    "l = list(zip(l1,l2,l3))\n",
    "c=0\n",
    "for i in l:\n",
    "    if i[0][:8] == 'Ethernet':\n",
    "        c+=1\n",
    "print(c)        "
   ]
  },
  {
   "cell_type": "markdown",
   "metadata": {},
   "source": [
    "17. Write a python program to add a new entry to above database\n"
   ]
  },
  {
   "cell_type": "code",
   "execution_count": 3,
   "metadata": {},
   "outputs": [
    {
     "name": "stdout",
     "output_type": "stream",
     "text": [
      "Enter interfaceEthernet3\n",
      "Enter ip5.5.5.5\n",
      "Enter statusup\n",
      "{'interface': ['Ethernet0', 'Ethernet1', 'Serial0', 'Serial1', 'Ethernet3'], 'ip': ['1.1.1.1', '2.2.2.2', '3.3.3.3', '4.4.4.4', '5.5.5.5'], 'status': ['up', 'down', 'up', 'up', 'up']}\n"
     ]
    }
   ],
   "source": [
    "database = {'interface':['Ethernet0','Ethernet1','Serial0','Serial1'],'ip':['1.1.1.1','2.2.2.2','3.3.3.3','4.4.4.4'],'status':['up','down','up','up']}\n",
    "\n",
    "a = input(\"Enter interface\")\n",
    "b = input(\"Enter ip\")\n",
    "c = input(\"Enter status\")\n",
    "l1 = database['interface']\n",
    "l2 = database['ip']\n",
    "l3 = database['status']\n",
    "#rint(l1)\n",
    "l1.append(a)\n",
    "l2.append(b)\n",
    "l3.append(c)\n",
    "#database['interface'] = l1\n",
    "print(database)"
   ]
  },
  {
   "cell_type": "markdown",
   "metadata": {},
   "source": [
    "18. Write a Python script to concatenate following dictionaries to create a new one. \n",
    "Sample Dictionary :\n",
    "dic1={1:10, 2:20}\n",
    "dic2={3:30, 4:40}\n",
    "dic3={5:50,6:60}\n",
    "Expected Result : {1: 10, 2: 20, 3: 30, 4: 40, 5: 50, 6: 60}\n",
    "\n"
   ]
  },
  {
   "cell_type": "code",
   "execution_count": 13,
   "metadata": {},
   "outputs": [
    {
     "data": {
      "text/plain": [
       "{1: 10, 2: 20, 3: 30, 4: 40, 5: 50, 6: 60}"
      ]
     },
     "execution_count": 13,
     "metadata": {},
     "output_type": "execute_result"
    }
   ],
   "source": [
    "dict1={1:10, 2:20}\n",
    "dict2={3:30, 4:40}\n",
    "dict3={5:50,6:60}\n",
    "dict1.update(dict2)\n",
    "dict1.update(dict3)\n",
    "dict1"
   ]
  },
  {
   "cell_type": "markdown",
   "metadata": {},
   "source": [
    "19 Write a Python script to generate and print a dictionary that contains a number (between 1 and n) in the form (x, x*x). \n",
    "Sample Dictionary ( n = 5) :\n",
    "Expected Output : {1: 1, 2: 4, 3: 9, 4: 16, 5: 25}\n"
   ]
  },
  {
   "cell_type": "code",
   "execution_count": 29,
   "metadata": {},
   "outputs": [
    {
     "name": "stdout",
     "output_type": "stream",
     "text": [
      "Enter value5\n"
     ]
    },
    {
     "data": {
      "text/plain": [
       "{1: 1, 2: 4, 3: 9, 4: 16, 5: 25}"
      ]
     },
     "execution_count": 29,
     "metadata": {},
     "output_type": "execute_result"
    }
   ],
   "source": [
    "n = int(input(\"Enter value\"))\n",
    "l1 = [i for i in range(1,n+1)]\n",
    "dict1 ={value:value**2 for value in l1}\n",
    "dict1"
   ]
  },
  {
   "cell_type": "markdown",
   "metadata": {},
   "source": [
    "20. Write a Python program to multiply all the items in a dictionary\n"
   ]
  },
  {
   "cell_type": "code",
   "execution_count": 38,
   "metadata": {},
   "outputs": [
    {
     "data": {
      "text/plain": [
       "14400"
      ]
     },
     "execution_count": 38,
     "metadata": {},
     "output_type": "execute_result"
    }
   ],
   "source": [
    "import functools\n",
    "d1 = {1: 1, 2: 4, 3: 9, 4: 16, 5: 25}\n",
    "r = functools.reduce(lambda i,j:i*j,d1.values())\n",
    "r"
   ]
  },
  {
   "cell_type": "markdown",
   "metadata": {},
   "source": [
    "21. Write a Python program to map two lists into a dictionary.\n"
   ]
  },
  {
   "cell_type": "code",
   "execution_count": 2,
   "metadata": {},
   "outputs": [
    {
     "name": "stdout",
     "output_type": "stream",
     "text": [
      "Enter no. of elements in l15\n",
      "Enter value 1\n",
      "Enter value 2\n",
      "Enter value 3\n",
      "Enter value 4\n",
      "Enter value 5\n",
      "Enter no. of elements in l25\n",
      "Enter value 1\n",
      "Enter value 2\n",
      "Enter value 3\n",
      "Enter value 4\n",
      "Enter value 5\n"
     ]
    },
    {
     "data": {
      "text/plain": [
       "{1: 1, 2: 2, 3: 3, 4: 4, 5: 5}"
      ]
     },
     "execution_count": 2,
     "metadata": {},
     "output_type": "execute_result"
    }
   ],
   "source": [
    "l1 = []\n",
    "l2 = []\n",
    "n = int(input(\"Enter no. of elements in l1\"))\n",
    "for i in range(n):\n",
    "    l1.append(int(input(\"Enter value \")))\n",
    "n = int(input(\"Enter no. of elements in l2\"))\n",
    "for i in range(n):\n",
    "    l2.append(int(input(\"Enter value \")))\n",
    "d1 = dict(zip(l1,l2))\n",
    "print(d1)"
   ]
  },
  {
   "cell_type": "markdown",
   "metadata": {},
   "source": [
    "22. Write a Python program to get the maximum and minimum value in a dictionary using lambda function.\n"
   ]
  },
  {
   "cell_type": "code",
   "execution_count": 13,
   "metadata": {},
   "outputs": [
    {
     "name": "stdout",
     "output_type": "stream",
     "text": [
      "1\n",
      "25\n"
     ]
    }
   ],
   "source": [
    "dict1 = {i:i**2 for i in range(1,6)}\n",
    "l1 = list(filter(lambda x:x,dict1.values()))\n",
    "print(min(l1))\n",
    "print(max(l1))"
   ]
  },
  {
   "cell_type": "markdown",
   "metadata": {},
   "source": [
    "23. Write a Python program to remove duplicate v\n"
   ]
  },
  {
   "cell_type": "code",
   "execution_count": 15,
   "metadata": {},
   "outputs": [
    {
     "data": {
      "text/plain": [
       "{'a', 'b', 'c', 'd'}"
      ]
     },
     "execution_count": 15,
     "metadata": {},
     "output_type": "execute_result"
    }
   ],
   "source": [
    "d1 = {'a':'a','b':'b','c':'c','d':'d','e':'a'}\n",
    "s = set(i for i in d1.values())\n",
    "s"
   ]
  },
  {
   "cell_type": "markdown",
   "metadata": {},
   "source": [
    "24. Write a Python program to combine values in python list of dictionaries. \n",
    "Sample data: [{&#39;item&#39;: &#39;item1&#39;, &#39;amount&#39;: 400}, {&#39;item&#39;: &#39;item2&#39;, &#39;amount&#39;: 300}, {&#39;item&#39;: &#39;item1&#39;, &#39;amount&#39;: 750}]\n",
    "Expected Output: Counter({&#39;item1&#39;: 1150, &#39;item2&#39;: 300})\n"
   ]
  },
  {
   "cell_type": "code",
   "execution_count": 39,
   "metadata": {},
   "outputs": [
    {
     "data": {
      "text/plain": [
       "{'item1': 1150, 'item2': 300}"
      ]
     },
     "execution_count": 39,
     "metadata": {},
     "output_type": "execute_result"
    }
   ],
   "source": [
    "sample = [{'item': 'item1', 'amount': 400}, {'item': 'item2', 'amount': 300}, {'item': 'item1', 'amount': 750}]\n",
    "\n",
    "d1 = list(sample[0].values())\n",
    "d2 = list(sample[1].values())\n",
    "d3 = list(sample[2].values())\n",
    "d = list(zip(d1,d2,d3))\n",
    "#print(d)\n",
    "l1 = []\n",
    "if d1[0]==d2[0]:\n",
    "    l1.append(d1[0])\n",
    "    l1.append(d1[1]+d2[1])\n",
    "if d1[0]==d3[0]:\n",
    "    l1.append(d1[0])\n",
    "    l1.append(d1[1]+d3[1])\n",
    "if d2[0]==d3[0]:\n",
    "    l1.append(d2[0])\n",
    "    l1.append(d2[1]+d3[1])\n",
    "for j in d[0]:\n",
    "    if j not in l1:\n",
    "        l1.append(j)\n",
    "        ind = d[0].index(j)\n",
    "        l1.append(d[1][ind])\n",
    "newli1 = l1[::2]\n",
    "newli2 = l1[1::2]\n",
    "newdict = dict(zip(newli1,newli2))\n",
    "newdict"
   ]
  },
  {
   "cell_type": "markdown",
   "metadata": {},
   "source": [
    "25. Write a Python program to create a dictionary from a string. \n",
    "Note: Track the count of the letters from the string.\n",
    "Sample string : &#39;w3resource&#39;\n",
    "Expected output: {&#39;w&#39;: 1, &#39;3&#39;: 1, &#39;r&#39;: 2, &#39;e&#39;: 2, &#39;s&#39;: 1, &#39;o&#39;: 1, &#39;u&#39;: 1, &#39;c&#39;: 1}alues from Dictionary.\n"
   ]
  },
  {
   "cell_type": "code",
   "execution_count": 18,
   "metadata": {},
   "outputs": [
    {
     "data": {
      "text/plain": [
       "{'w': 1, '3': 1, 'r': 2, 'e': 2, 's': 1, 'o': 1, 'u': 1, 'c': 1}"
      ]
     },
     "execution_count": 18,
     "metadata": {},
     "output_type": "execute_result"
    }
   ],
   "source": [
    "sample = 'w3resource'\n",
    "d1 = {}\n",
    "for i in sample:\n",
    "    c = sample.count(i)\n",
    "    d1[i] = c\n",
    "d1"
   ]
  },
  {
   "cell_type": "markdown",
   "metadata": {},
   "source": [
    "26. Write a Python program to get the top three items in a shop. \n",
    "Sample data: {&#39;item1&#39;: 45.50, &#39;item2&#39;:35, &#39;item3&#39;: 41.30, &#39;item4&#39;:55, &#39;item5&#39;: 24}\n",
    "Expected Output:\n",
    "item4 55\n",
    "item1 45.5\n",
    "item3 41.3\n"
   ]
  },
  {
   "cell_type": "code",
   "execution_count": 64,
   "metadata": {},
   "outputs": [
    {
     "data": {
      "text/plain": [
       "{'item4': 55, 'item1': 45.5, 'item3': 41.3}"
      ]
     },
     "execution_count": 64,
     "metadata": {},
     "output_type": "execute_result"
    }
   ],
   "source": [
    "sampledata = {'item1': 45.50, 'item2':35, 'item3': 41.30, 'item4':55, 'item5': 24}\n",
    "s = sorted(sampledata.values(),reverse = True)\n",
    "newdict1 = {k:v for (k,v) in sampledata.items() if v>=s[2]}\n",
    "newdict2 = {k:v for (k,v) in sorted(newdict1.items(),key = lambda i:i[1],reverse = True)}\n",
    "newdict2"
   ]
  },
  {
   "cell_type": "markdown",
   "metadata": {},
   "source": [
    "27. Write a Python program to match key values in two dictionaries.\n",
    "Sample dictionary: {&#39;key1&#39;: 1, &#39;key2&#39;: 3, &#39;key3&#39;: 2}, {&#39;key1&#39;: 1, &#39;key2&#39;: 2}\n",
    "\n",
    "Expected output: key1: 1 is present in both x and y\n"
   ]
  },
  {
   "cell_type": "code",
   "execution_count": 69,
   "metadata": {},
   "outputs": [
    {
     "name": "stdout",
     "output_type": "stream",
     "text": [
      "{('key1', 1)}\n"
     ]
    }
   ],
   "source": [
    "d1 = {'key1': 1, 'key2': 3, 'key3': 2}\n",
    "d2 = {'key1': 1, 'key2': 2}\n",
    "s1 = set((k,v) for (k,v) in d1.items())\n",
    "s2 = set((k,v) for (k,v) in d2.items())\n",
    "print(s1.intersection(s2))"
   ]
  },
  {
   "cell_type": "markdown",
   "metadata": {},
   "source": [
    "28. Write a Python program to store a given dictionary in a json file. \n",
    "Original dictionary:\n",
    "{&#39;students&#39;: [{&#39;firstName&#39;: &#39;Nikki&#39;, &#39;lastName&#39;: &#39;Roysden&#39;}, {&#39;firstName&#39;: &#39;Mervin&#39;, &#39;lastName&#39;: &#39;Friedland&#39;}, {&#39;firstName&#39;: &#39;Aron &#39;,\n",
    "&#39;lastName&#39;: &#39;Wilkins&#39;}], &#39;teachers&#39;: [{&#39;firstName&#39;: &#39;Amberly&#39;, &#39;lastName&#39;: &#39;Calico&#39;}, {&#39;firstName&#39;: &#39;Regine&#39;, &#39;lastName&#39;: &#39;Agtarap&#39;}]}\n",
    "&lt;class &#39;dict&#39;&gt;\n",
    "Json file to dictionary:\n",
    "{&#39;students&#39;: [{&#39;firstName&#39;: &#39;Nikki&#39;, &#39;lastName&#39;: &#39;Roysden&#39;}, {&#39;firstName&#39;: &#39;Mervin&#39;, &#39;lastName&#39;: &#39;Friedland&#39;}, {&#39;firstName&#39;: &#39;Aron &#39;,\n",
    "&#39;lastName&#39;: &#39;Wilkins&#39;}], &#39;teachers&#39;: [{&#39;firstName&#39;: &#39;Amberly&#39;, &#39;lastName&#39;: &#39;Calico&#39;}, {&#39;firstName&#39;: &#39;Regine&#39;, &#39;lastName&#39;: &#39;Agtarap&#39;}]}\n"
   ]
  },
  {
   "cell_type": "code",
   "execution_count": null,
   "metadata": {},
   "outputs": [],
   "source": []
  },
  {
   "cell_type": "markdown",
   "metadata": {},
   "source": [
    "29. Write a Python program to convert more than one list to nested dictionary. \n",
    "Original strings:\n",
    "[&#39;S001&#39;, &#39;S002&#39;, &#39;S003&#39;, &#39;S004&#39;]\n",
    "[&#39;Adina Park&#39;, &#39;Leyton Marsh&#39;, &#39;Duncan Boyle&#39;, &#39;Saim Richards&#39;]\n",
    "[85, 98, 89, 92]\n",
    "Nested dictionary:\n",
    "[{&#39;S001&#39;: {&#39;Adina Park&#39;: 85}}, {&#39;S002&#39;: {&#39;Leyton Marsh&#39;: 98}}, {&#39;S003&#39;: {&#39;Duncan Boyle&#39;: 89}}, {&#39;S004&#39;: {&#39;Saim Richards&#39;: 92}}]\n"
   ]
  },
  {
   "cell_type": "code",
   "execution_count": 33,
   "metadata": {},
   "outputs": [
    {
     "data": {
      "text/plain": [
       "[{'S001': {'Adina Park': 85}},\n",
       " {'S002': {'Leyton Marsh': 98}},\n",
       " {'S003': {'Duncan Boyle': 89}},\n",
       " {'S004': {'Saim Richards': 92}}]"
      ]
     },
     "execution_count": 33,
     "metadata": {},
     "output_type": "execute_result"
    }
   ],
   "source": [
    "l1 = ['S001', 'S002', 'S003', 'S004'] \n",
    "l2 = ['Adina Park', 'Leyton Marsh', 'Duncan Boyle', 'Saim Richards']\n",
    "l3 = [85, 98, 89, 92]\n",
    "d1 = [{a:{b:c}} for (a,b,c) in zip(l1,l2,l3)]\n",
    "d1\n",
    "\n",
    "'''[('S001', 'Adina Park', 85),\n",
    " ('S002', 'Leyton Marsh', 98),\n",
    " ('S003', 'Duncan Boyle', 89),\n",
    " ('S004', 'Saim Richards', 92)]''' # a tupple like this will be created... and we name different alements as a,b,c of tupple \n",
    "                                   #and assign respective positions in a dict"
   ]
  },
  {
   "cell_type": "markdown",
   "metadata": {},
   "source": [
    "30. Write a Python program to find the length of a given dictionary values. \n",
    "Original Dictionary:\n",
    "{1: &#39;red&#39;, 2: &#39;green&#39;, 3: &#39;black&#39;, 4: &#39;white&#39;, 5: &#39;black&#39;}\n",
    "Length of dictionary values:\n",
    "{&#39;red&#39;: 3, &#39;green&#39;: 5, &#39;black&#39;: 5, &#39;white&#39;: 5}\n",
    "Original Dictionary:\n",
    "{&#39;1&#39;: &#39;Austin Little&#39;, &#39;2&#39;: &#39;Natasha Howard&#39;, &#39;3&#39;: &#39;Alfred Mullins&#39;, &#39;4&#39;: &#39;Jamie Rowe&#39;}\n",
    "Length of dictionary values:\n",
    "{&#39;Austin Little&#39;: 13, &#39;Natasha Howard&#39;: 14, &#39;Alfred Mullins&#39;: 14, &#39;Jamie Rowe&#39;: 10}\n"
   ]
  },
  {
   "cell_type": "code",
   "execution_count": 73,
   "metadata": {},
   "outputs": [
    {
     "name": "stdout",
     "output_type": "stream",
     "text": [
      "{'Austin Little': 13, 'Natasha Howard': 14, 'Alfred Mullins': 14, 'Jamie Rowe': 10}\n"
     ]
    }
   ],
   "source": [
    "originaldictionary = {'1': 'Austin Little', '2': 'Natasha Howard', '3': 'Alfred Mullins', '4': 'Jamie Rowe'}\n",
    "newdict = {}\n",
    "for k,v in originaldictionary.items():\n",
    "    newdict[v] = len(v)\n",
    "print(newdict)"
   ]
  },
  {
   "cell_type": "markdown",
   "metadata": {},
   "source": [
    "31. Write a Python program to convert a given dictionary into a list of lists. Go to the editor\n",
    "Original Dictionary:\n",
    "{1: &#39;red&#39;, 2: &#39;green&#39;, 3: &#39;black&#39;, 4: &#39;white&#39;, 5: &#39;black&#39;}\n",
    "Convert the said dictionary into a list of lists:\n",
    "[[1, &#39;red&#39;], [2, &#39;green&#39;], [3, &#39;black&#39;], [4, &#39;white&#39;], [5, &#39;black&#39;]]\n",
    "Original Dictionary:\n",
    "{&#39;1&#39;: &#39;Austin Little&#39;, &#39;2&#39;: &#39;Natasha Howard&#39;, &#39;3&#39;: &#39;Alfred Mullins&#39;, &#39;4&#39;: &#39;Jamie Rowe&#39;}\n",
    "Convert the said dictionary into a list of lists:\n",
    "[[&#39;1&#39;, &#39;Austin Little&#39;], [&#39;2&#39;, &#39;Natasha Howard&#39;], [&#39;3&#39;, &#39;Alfred Mullins&#39;], [&#39;4&#39;, &#39;Jamie Rowe&#39;]]\n",
    "\n"
   ]
  },
  {
   "cell_type": "code",
   "execution_count": 75,
   "metadata": {},
   "outputs": [
    {
     "data": {
      "text/plain": [
       "[[1, 'red'], [2, 'green'], [3, 'black'], [4, 'white'], [5, 'black']]"
      ]
     },
     "execution_count": 75,
     "metadata": {},
     "output_type": "execute_result"
    }
   ],
   "source": [
    "originaldictionary =  {1: 'red', 2: 'green', 3: 'black', 4: 'white', 5: 'black'}\n",
    "newlist = [[k,v] for (k,v) in originaldictionary.items()]\n",
    "newlist"
   ]
  },
  {
   "cell_type": "markdown",
   "metadata": {},
   "source": [
    "32. Write a Python program to filter even numbers from a given dictionary values. Go to the editor\n",
    "Original Dictionary:\n",
    "{&#39;V&#39;: [1, 4, 6, 10], &#39;VI&#39;: [1, 4, 12], &#39;VII&#39;: [1, 3, 8]}\n",
    "Filter even numbers from said dictionary values:\n",
    "{&#39;V&#39;: [4, 6, 10], &#39;VI&#39;: [4, 12], &#39;VII&#39;: [8]}\n",
    "Original Dictionary:\n",
    "{&#39;V&#39;: [1, 3, 5], &#39;VI&#39;: [1, 5], &#39;VII&#39;: [2, 7, 9]}\n",
    "Filter even numbers from said dictionary values:\n",
    "{&#39;V&#39;: [], &#39;VI&#39;: [], &#39;VII&#39;: [2]}\n",
    "\n"
   ]
  },
  {
   "cell_type": "code",
   "execution_count": 9,
   "metadata": {},
   "outputs": [
    {
     "data": {
      "text/plain": [
       "{'V': [4, 6, 10], 'VI': [4, 12], 'VII': [8]}"
      ]
     },
     "execution_count": 9,
     "metadata": {},
     "output_type": "execute_result"
    }
   ],
   "source": [
    "originaldictionary = {'V': [1, 4, 6, 10], 'VI': [1, 4, 12], 'VII': [1, 3, 8]}\n",
    "#newdict = {k:v for (k,v) in originaldictionary.items() for i in v if i%2==0}\n",
    "\n",
    "newdict = {}\n",
    "for k,v in originaldictionary.items():\n",
    "    newlist = []\n",
    "    for i in v:\n",
    "        if i%2==0:\n",
    "            newlist.append(i)\n",
    "    newdict[k] = newlist\n",
    "newdict\n",
    "\n"
   ]
  },
  {
   "cell_type": "markdown",
   "metadata": {},
   "source": [
    "33. Write a Python program to count the frequency in a given dictionary. Go to the editor\n",
    "Original Dictionary:\n",
    "{&#39;V&#39;: 10, &#39;VI&#39;: 10, &#39;VII&#39;: 40, &#39;VIII&#39;: 20, &#39;IX&#39;: 70, &#39;X&#39;: 80, &#39;XI&#39;: 40, &#39;XII&#39;: 20}\n",
    "Count the frequency of the said dictionary:\n",
    "Counter({10: 2, 40: 2, 20: 2, 70: 1, 80: 1})"
   ]
  },
  {
   "cell_type": "code",
   "execution_count": 14,
   "metadata": {},
   "outputs": [
    {
     "data": {
      "text/plain": [
       "{10: 2, 40: 2, 20: 2, 70: 1, 80: 1}"
      ]
     },
     "execution_count": 14,
     "metadata": {},
     "output_type": "execute_result"
    }
   ],
   "source": [
    "originaldictionary = {'V': 10, 'VI': 10, 'VII': 40, 'VIII': 20, 'IX': 70, 'X': 80, 'XI': 40, 'XII': 20}\n",
    "newdict = {}\n",
    "for k,v in originaldictionary.items():\n",
    "    c=1\n",
    "    if v in newdict:\n",
    "        newdict[v] = c+1\n",
    "    else:\n",
    "        newdict[v] = c\n",
    "newdict"
   ]
  },
  {
   "cell_type": "code",
   "execution_count": null,
   "metadata": {},
   "outputs": [],
   "source": []
  }
 ],
 "metadata": {
  "kernelspec": {
   "display_name": "Python 3",
   "language": "python",
   "name": "python3"
  },
  "language_info": {
   "codemirror_mode": {
    "name": "ipython",
    "version": 3
   },
   "file_extension": ".py",
   "mimetype": "text/x-python",
   "name": "python",
   "nbconvert_exporter": "python",
   "pygments_lexer": "ipython3",
   "version": "3.8.5"
  }
 },
 "nbformat": 4,
 "nbformat_minor": 2
}
