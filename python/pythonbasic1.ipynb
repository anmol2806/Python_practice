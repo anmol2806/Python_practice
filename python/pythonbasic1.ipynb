{
 "cells": [
  {
   "cell_type": "code",
   "execution_count": null,
   "metadata": {},
   "outputs": [],
   "source": [
    "#Q1 Write a program to input three nos and print the greatest.\n",
    "a= eval(input(\"Enter first number a= \"))\n",
    "b =eval(input(\"Enter second number b= \"))\n",
    "c= eval(input(\"Enter third number c= \"))\n",
    "if a>b:\n",
    "    if a>c:\n",
    "        print(\"The greater number is a =\",a)\n",
    "    else:\n",
    "        print(\"The greater number is c =\",c)\n",
    "else: \n",
    "    if b>c:\n",
    "        print(\"The greater number is b\",b)\n",
    "    else:\n",
    "        print(\"The greater number is c =\",c)\n",
    "  "
   ]
  },
  {
   "cell_type": "code",
   "execution_count": null,
   "metadata": {},
   "outputs": [],
   "source": [
    "#Q2 Write a program to input two numbers, add them, multiply them,\n",
    "# divide them, find remainder\n",
    "d= eval(input(\"Enter first number d = \"))\n",
    "e =eval(input(\"Enter second number e = \"))\n",
    "sum1=d+e\n",
    "mult=d*e\n",
    "div=d/e\n",
    "rem=d%e\n",
    "print(\"Sum of \"+  str(d) + \" and \" + str(e) + \" is \",sum1)\n",
    "print(\"Multiplication of \"+ str(d) + \" and \" + str(e) + \" is \",mult)\n",
    "print(\"division of \"+ str(d) + \" by \" + str(e) + \" is \",div)\n",
    "print(\"remainder when \"+ str(d) + \" is divided by \" + str(e) + \" is \",sum1)\n",
    "\n",
    "\n",
    "\n"
   ]
  },
  {
   "cell_type": "code",
   "execution_count": 3,
   "metadata": {},
   "outputs": [
    {
     "name": "stdout",
     "output_type": "stream",
     "text": [
      "enter the passwordf5f5gg2\n",
      "Capital Letter missing\n"
     ]
    }
   ],
   "source": [
    "import re\n",
    "p=input(\"enter the password\")\n",
    "\n",
    "while True:\n",
    "    if len(p)<6 or len(p)>16:\n",
    "        \n",
    "        break\n",
    "    elif not re.search(\"[a-z]\",p):\n",
    "        print(\"small letter missing\")\n",
    "        break\n",
    "    elif not re.search(\"[A-Z]\",p):\n",
    "        print(\"Capital Letter missing\")\n",
    "        break\n",
    "    elif not re.search(\"[0-9]\",p):\n",
    "        print(\"number missing\")\n",
    "        break\n",
    "    elif not re.search(\"[$#@]\",p):\n",
    "        print(\"special character missing\")\n",
    "        break\n",
    "    else:\n",
    "        print(\"valid password\")\n",
    "        break"
   ]
  },
  {
   "cell_type": "code",
   "execution_count": 29,
   "metadata": {},
   "outputs": [
    {
     "name": "stdout",
     "output_type": "stream",
     "text": [
      "enter date in dd/mm/yyyy28/02/2021\n",
      "The next date is [dd-mm-yyyy] is  (1, 3, 2021)\n"
     ]
    },
    {
     "ename": "TypeError",
     "evalue": "sequence item 0: expected str instance, int found",
     "output_type": "error",
     "traceback": [
      "\u001b[1;31m---------------------------------------------------------------------------\u001b[0m",
      "\u001b[1;31mTypeError\u001b[0m                                 Traceback (most recent call last)",
      "\u001b[1;32m<ipython-input-29-5fca85f30922>\u001b[0m in \u001b[0;36m<module>\u001b[1;34m\u001b[0m\n\u001b[0;32m     43\u001b[0m \u001b[0mprint\u001b[0m\u001b[1;33m(\u001b[0m\u001b[1;34m\"The next date is [dd-mm-yyyy] is \"\u001b[0m\u001b[1;33m,\u001b[0m\u001b[1;33m(\u001b[0m\u001b[0mdd\u001b[0m\u001b[1;33m,\u001b[0m\u001b[0mmm\u001b[0m\u001b[1;33m,\u001b[0m\u001b[0myyyy\u001b[0m\u001b[1;33m)\u001b[0m\u001b[1;33m)\u001b[0m\u001b[1;33m\u001b[0m\u001b[1;33m\u001b[0m\u001b[0m\n\u001b[0;32m     44\u001b[0m \u001b[1;33m\u001b[0m\u001b[0m\n\u001b[1;32m---> 45\u001b[1;33m \u001b[0mdate\u001b[0m\u001b[1;33m.\u001b[0m\u001b[0mjoin\u001b[0m\u001b[1;33m(\u001b[0m\u001b[1;33m[\u001b[0m\u001b[0mdd\u001b[0m\u001b[1;33m,\u001b[0m\u001b[0mmm\u001b[0m\u001b[1;33m,\u001b[0m\u001b[0myyyy\u001b[0m\u001b[1;33m]\u001b[0m\u001b[1;33m)\u001b[0m\u001b[1;33m\u001b[0m\u001b[1;33m\u001b[0m\u001b[0m\n\u001b[0m",
      "\u001b[1;31mTypeError\u001b[0m: sequence item 0: expected str instance, int found"
     ]
    }
   ],
   "source": [
    "#enter a date, check validity, and get next date\n",
    "date=input(\"enter date in dd/mm/yyyy\")\n",
    "dd,mm,yyyy = date.split(\"/\")\n",
    "dd=int(dd)\n",
    "mm=int(mm)\n",
    "yyyy=int(yyyy)\n",
    "\n",
    "\n",
    "\n",
    "\n",
    "\n",
    "if (yyyy % 400 == 0):\n",
    "    leap_year = True\n",
    "elif (yyyy % 100 == 0):\n",
    "    leap_year = False\n",
    "elif (yyyy % 4 == 0):\n",
    "    leap_year = True\n",
    "else:\n",
    "    leap_year = False\n",
    "\n",
    "\n",
    "if mm in (1, 3, 5, 7, 8, 10, 12):\n",
    "    month_length = 31\n",
    "elif mm == 2:\n",
    "    if leap_year:\n",
    "        month_length = 29\n",
    "    else:\n",
    "        month_length = 28\n",
    "else:\n",
    "    month_length = 30\n",
    "\n",
    "\n",
    "\n",
    "if dd < month_length:\n",
    "    dd += 1\n",
    "else:\n",
    "    dd = 1\n",
    "    if mm == 12:\n",
    "        mm = 1\n",
    "        yyyy += 1\n",
    "    else:\n",
    "        mm += 1\n",
    "print(\"The next date is [dd-mm-yyyy] is \",(dd,mm,yyyy))\n",
    "\n",
    "\n"
   ]
  },
  {
   "cell_type": "code",
   "execution_count": 26,
   "metadata": {},
   "outputs": [
    {
     "name": "stdout",
     "output_type": "stream",
     "text": [
      "Enter the date dd/mm/yyyy28/02/2021\n",
      "the incremented date is : 1 3 2021\n"
     ]
    },
    {
     "ename": "AttributeError",
     "evalue": "'str' object has no attribute 'append'",
     "output_type": "error",
     "traceback": [
      "\u001b[1;31m---------------------------------------------------------------------------\u001b[0m",
      "\u001b[1;31mAttributeError\u001b[0m                            Traceback (most recent call last)",
      "\u001b[1;32m<ipython-input-26-d66edf45bc88>\u001b[0m in \u001b[0;36m<module>\u001b[1;34m\u001b[0m\n\u001b[0;32m     33\u001b[0m       \u001b[0mdd\u001b[0m\u001b[1;33m=\u001b[0m\u001b[0mdd\u001b[0m\u001b[1;33m+\u001b[0m\u001b[1;36m1\u001b[0m\u001b[1;33m\u001b[0m\u001b[1;33m\u001b[0m\u001b[0m\n\u001b[0;32m     34\u001b[0m       \u001b[0mprint\u001b[0m\u001b[1;33m(\u001b[0m\u001b[1;34m\"the incremented date is :\"\u001b[0m\u001b[1;33m,\u001b[0m \u001b[0mdd\u001b[0m\u001b[1;33m,\u001b[0m\u001b[0mmm\u001b[0m\u001b[1;33m,\u001b[0m \u001b[0myy\u001b[0m\u001b[1;33m)\u001b[0m\u001b[1;33m\u001b[0m\u001b[1;33m\u001b[0m\u001b[0m\n\u001b[1;32m---> 35\u001b[1;33m \u001b[0mdate\u001b[0m\u001b[1;33m.\u001b[0m\u001b[0mappend\u001b[0m\u001b[1;33m=\u001b[0m\u001b[1;33m(\u001b[0m\u001b[0mdd\u001b[0m\u001b[1;33m,\u001b[0m\u001b[0mmm\u001b[0m\u001b[1;33m,\u001b[0m\u001b[0myy\u001b[0m\u001b[1;33m)\u001b[0m\u001b[1;33m\u001b[0m\u001b[1;33m\u001b[0m\u001b[0m\n\u001b[0m",
      "\u001b[1;31mAttributeError\u001b[0m: 'str' object has no attribute 'append'"
     ]
    }
   ],
   "source": [
    "date=input(\"Enter the date dd/mm/yyyy\")\n",
    "date\n",
    "dd,mm,yy = date.split(\"/\")\n",
    "dd=int(dd)\n",
    "mm=int(mm)\n",
    "yy=int(yy)\n",
    " \n",
    "if (mm==1 or mm==3 or mm==5 or mm==7 or mm==8 or mm==10 or mm==12):\n",
    "      max1=31\n",
    "elif (mm==4 or mm==6 or mm==9 or mm==11):\n",
    "      max1=30\n",
    "elif (yy%4 ==0 and yy%100 !=0 or yy%400 ==0):\n",
    "      max1=29\n",
    "else:\n",
    "      max1=28\n",
    " \n",
    "if mm <1 or mm>12:\n",
    "      print(\"Date is invalid\")\n",
    " \n",
    "elif (dd<1 or dd> max1):\n",
    "      print(\"Date is invalid\")\n",
    " \n",
    "elif dd==max1 and mm !=12:\n",
    "      dd=1\n",
    "      mm=mm+1\n",
    "      print(\"the incremented date is :\", dd,mm, yy)\n",
    "elif dd==31 and mm==12:\n",
    "      dd=1\n",
    "      mm=1\n",
    "      yy=yy+1\n",
    "      print(\"the incremented date is :\", dd,mm, yy)\n",
    "else:\n",
    "      dd=dd+1\n",
    "      print(\"the incremented date is :\", dd,mm, yy)\n"
   ]
  },
  {
   "cell_type": "code",
   "execution_count": 47,
   "metadata": {},
   "outputs": [
    {
     "name": "stdout",
     "output_type": "stream",
     "text": [
      "yes\n"
     ]
    }
   ],
   "source": [
    "a=\"madam\"\n",
    "b=(a[::-1])\n",
    "if b==a:\n",
    "    print(\"yes\")\n",
    "\n"
   ]
  },
  {
   "cell_type": "code",
   "execution_count": 86,
   "metadata": {},
   "outputs": [],
   "source": [
    "lst = [\"from simran@yahoo.com 12.40 12/03/2020\",\n",
    "       \"from a.budhiraja@nielit.gov.in 12.40 12/03/2020\",\n",
    "       \"from sarwan@nielit.gov.in 12.40 12/03/2020\",\n",
    "        \"from amita@rediff.com  12.40 12/03/2020\",\n",
    "        \"from kartik@gmail.com  12.40 13/03/2020\",\n",
    "        \"from harsimran@gmail.com  12.40 13/03/2020\",\n",
    "        \"from iqbal@gmail.com  12.40 13/03/2020\",\n",
    "      \"from kartik@yahoo.com  12.40 14/03/2020\",\n",
    "        \"from harsimran@gmail.com  12.40 14/03/2021\",\n",
    "        \"from iqbal@gmail.com  12.40 12/03/2020\",\n",
    "      \"from kartik@gmail.com  12.40 14/03/2020\",\n",
    "        \"from harsimran@gmail.com  12.40 15/03/2021\",\n",
    "        \"from iqbal@gmail.com  12.40 12/03/2020\",\n",
    "       \"from a.budhiraja@nielit.gov.in 12.40 12/03/2020\",\n",
    "       \"from kartikmahajan116@gmail.com 12.40 12/03/2020\",\n",
    "        \"from amita@rediff.com  12.40 12/03/2020\",\n",
    "       \"from awddn@yahoo.com 12.40 14/03/2020\",\n",
    "       \"from sarwan@nielit.gov.in 12.40 12/03/2020\",\n",
    "        \"from anmi@rediff.com  12.40 13/03/2020\"]\n"
   ]
  },
  {
   "cell_type": "code",
   "execution_count": 57,
   "metadata": {},
   "outputs": [
    {
     "name": "stdout",
     "output_type": "stream",
     "text": [
      "[4, 8]\n"
     ]
    }
   ],
   "source": [
    "ls=[0,5,'a0','df',4,8,9,2]\n",
    "print(ls[-4:-2])\n"
   ]
  },
  {
   "cell_type": "code",
   "execution_count": 96,
   "metadata": {},
   "outputs": [
    {
     "name": "stdout",
     "output_type": "stream",
     "text": [
      "1010 , 1111 , "
     ]
    }
   ],
   "source": [
    "l2=\"0100,0011,1010,1001,1100,1001,1111\"\n",
    "l2=l2.split(\",\")\n",
    "for i in range(7):\n",
    "    if l2[i]=='0101' or l2[i]=='1010' or l2[i]=='1111':\n",
    "        print(l2[i] ,end=\" , \")\n",
    "    else:\n",
    "        pass\n"
   ]
  },
  {
   "cell_type": "code",
   "execution_count": 120,
   "metadata": {},
   "outputs": [
    {
     "name": "stdout",
     "output_type": "stream",
     "text": [
      "the zipped result is  {('anmol', 0), ('kartik', 0), ('moksh', 1)}\n"
     ]
    }
   ],
   "source": [
    "l3=[\"0\",\"A\",35]\n",
    "l3.append(\"anmol\")\n",
    "l4=[560,25,36,34]\n",
    "l4.sort()\n",
    "l4[-1]\n",
    "names=[\"anmol\",\"kartik\",\"moksh\"]\n",
    "value=[0,0,1]\n",
    "m=zip(names,value)\n",
    "m=set(m)\n",
    "print(\"the zipped result is \",m)\n",
    "\n"
   ]
  },
  {
   "cell_type": "code",
   "execution_count": 153,
   "metadata": {},
   "outputs": [
    {
     "name": "stdout",
     "output_type": "stream",
     "text": [
      "using while loop\n",
      "4\n",
      "5\n",
      "6\n",
      "7\n",
      "8\n",
      "9\n",
      "using for loop\n",
      "4\n",
      "5\n",
      "6\n",
      "7\n",
      "8\n",
      "9\n"
     ]
    }
   ],
   "source": [
    "list1=[]\n",
    "type(list1)\n",
    "list1\n",
    "list1=[4,5,6,7,8,9]\n",
    "i=0\n",
    "print(\"using while loop\")\n",
    "while i< len(list1):\n",
    "    print(list1[i])\n",
    "    i+=1\n",
    "print(\"using for loop\")    \n",
    "for i in range(len(list1)): \n",
    "     print(list1[i])"
   ]
  },
  {
   "cell_type": "code",
   "execution_count": 132,
   "metadata": {
    "scrolled": true
   },
   "outputs": [
    {
     "name": "stdout",
     "output_type": "stream",
     "text": [
      "enter the number285\n",
      "enter the number36\n",
      "enter the number25\n",
      "enter the number24\n",
      "enter the number26\n",
      "[36, 24, 26]\n"
     ]
    }
   ],
   "source": [
    "# list\n",
    "# output=   [4, 5, 6, 7, 8, 9]\n",
    "# list[::-1]\n",
    "# output = [9, 8, 7, 6, 5, 4]\n",
    "lst=[]\n",
    "#build a list of even numbers\n",
    "for i in range(1,6):\n",
    "    n=int(input(\"enter the number\"))\n",
    "    if n%2==0:\n",
    "        lst.append(n)\n",
    "    else:\n",
    "        pass\n",
    "print(lst)"
   ]
  },
  {
   "cell_type": "code",
   "execution_count": 138,
   "metadata": {},
   "outputs": [
    {
     "name": "stdout",
     "output_type": "stream",
     "text": [
      "enter the number2\n",
      "enter the number2\n",
      "enter the number2\n",
      "enter the number2\n",
      "enter the number5\n",
      "even list is [2, 2, 2, 2]\n",
      "odd list is [5]\n"
     ]
    }
   ],
   "source": [
    "#build a list of even numbers and odd numbers\n",
    "lste=[]\n",
    "lsto=[]\n",
    "for i in range(1,6):\n",
    "    n=int(input(\"enter the number\"))\n",
    "    if n%2==0:\n",
    "        lste.append(n)\n",
    "    else:\n",
    "        lsto.append(n)\n",
    "print(\"even list is\",lste)\n",
    "print(\"odd list is\",lsto)"
   ]
  },
  {
   "cell_type": "code",
   "execution_count": 158,
   "metadata": {},
   "outputs": [
    {
     "name": "stdout",
     "output_type": "stream",
     "text": [
      "enter the number25\n",
      "enter the number556\n",
      "enter the number63\n",
      "enter the number32\n",
      "enter the number36\n",
      "even list is [25, 63]\n",
      "odd list is [556, 32, 36]\n"
     ]
    }
   ],
   "source": [
    "#defining a func of list\n",
    "\n",
    "def makelist():\n",
    "    lste=[]\n",
    "    lsto=[]\n",
    "    for i in range(1,6):\n",
    "        n=int(input(\"enter the number\"))\n",
    "        if n%2==0:\n",
    "            lste.append(n)\n",
    "        else:\n",
    "            lsto.append(n)\n",
    "    return lste,lsto\n",
    "\n",
    "e,o=makelist()\n",
    "print(\"even list is\",e)\n",
    "print(\"odd list is\",o)\n"
   ]
  },
  {
   "cell_type": "code",
   "execution_count": 154,
   "metadata": {},
   "outputs": [
    {
     "ename": "TypeError",
     "evalue": "'list' object is not callable",
     "output_type": "error",
     "traceback": [
      "\u001b[1;31m---------------------------------------------------------------------------\u001b[0m",
      "\u001b[1;31mTypeError\u001b[0m                                 Traceback (most recent call last)",
      "\u001b[1;32m<ipython-input-154-b8fa4812b3b2>\u001b[0m in \u001b[0;36m<module>\u001b[1;34m\u001b[0m\n\u001b[0;32m      4\u001b[0m \u001b[0mvalue\u001b[0m\u001b[1;33m=\u001b[0m\u001b[1;33m[\u001b[0m\u001b[1;36m0\u001b[0m\u001b[1;33m,\u001b[0m\u001b[1;36m0\u001b[0m\u001b[1;33m,\u001b[0m\u001b[1;36m1\u001b[0m\u001b[1;33m]\u001b[0m\u001b[1;33m\u001b[0m\u001b[1;33m\u001b[0m\u001b[0m\n\u001b[0;32m      5\u001b[0m \u001b[0mmapped\u001b[0m\u001b[1;33m=\u001b[0m\u001b[0mzip\u001b[0m\u001b[1;33m(\u001b[0m\u001b[0mnames\u001b[0m\u001b[1;33m,\u001b[0m\u001b[0mvalue\u001b[0m\u001b[1;33m)\u001b[0m\u001b[1;33m\u001b[0m\u001b[1;33m\u001b[0m\u001b[0m\n\u001b[1;32m----> 6\u001b[1;33m \u001b[0ml\u001b[0m\u001b[1;33m=\u001b[0m\u001b[0mlist\u001b[0m\u001b[1;33m(\u001b[0m\u001b[0mmapped\u001b[0m\u001b[1;33m)\u001b[0m\u001b[1;33m\u001b[0m\u001b[1;33m\u001b[0m\u001b[0m\n\u001b[0m\u001b[0;32m      7\u001b[0m \u001b[0ml\u001b[0m\u001b[1;33m[\u001b[0m\u001b[1;36m2\u001b[0m\u001b[1;33m]\u001b[0m\u001b[1;33m[\u001b[0m\u001b[1;36m1\u001b[0m\u001b[1;33m]\u001b[0m\u001b[1;33m\u001b[0m\u001b[1;33m\u001b[0m\u001b[0m\n",
      "\u001b[1;31mTypeError\u001b[0m: 'list' object is not callable"
     ]
    }
   ],
   "source": [
    "lst1=['a','b','v',10]\n",
    "lst1\n",
    "names=[\"anmol\",\"kartik\",\"moksh\"]\n",
    "value=[0,0,1]\n",
    "mapped=zip(names,value)\n",
    "l=list(mapped)\n",
    "l[2][1]"
   ]
  }
 ],
 "metadata": {
  "kernelspec": {
   "display_name": "Python 3",
   "language": "python",
   "name": "python3"
  },
  "language_info": {
   "codemirror_mode": {
    "name": "ipython",
    "version": 3
   },
   "file_extension": ".py",
   "mimetype": "text/x-python",
   "name": "python",
   "nbconvert_exporter": "python",
   "pygments_lexer": "ipython3",
   "version": "3.8.5"
  }
 },
 "nbformat": 4,
 "nbformat_minor": 4
}
