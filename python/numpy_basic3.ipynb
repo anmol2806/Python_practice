{
 "cells": [
  {
   "cell_type": "code",
   "execution_count": 6,
   "metadata": {},
   "outputs": [],
   "source": [
    "S = 'spam'\n",
    "S.replace?"
   ]
  },
  {
   "cell_type": "code",
   "execution_count": null,
   "metadata": {},
   "outputs": [],
   "source": []
  },
  {
   "cell_type": "code",
   "execution_count": 8,
   "metadata": {},
   "outputs": [],
   "source": [
    "import numpy as np"
   ]
  },
  {
   "cell_type": "code",
   "execution_count": 11,
   "metadata": {},
   "outputs": [
    {
     "ename": "TypeError",
     "evalue": "array() takes from 1 to 2 positional arguments but 6 were given",
     "output_type": "error",
     "traceback": [
      "\u001b[1;31m---------------------------------------------------------------------------\u001b[0m",
      "\u001b[1;31mTypeError\u001b[0m                                 Traceback (most recent call last)",
      "\u001b[1;32m<ipython-input-11-a2ad88c5d143>\u001b[0m in \u001b[0;36m<module>\u001b[1;34m\u001b[0m\n\u001b[1;32m----> 1\u001b[1;33m \u001b[0ma\u001b[0m \u001b[1;33m=\u001b[0m\u001b[0mnp\u001b[0m\u001b[1;33m.\u001b[0m\u001b[0marray\u001b[0m\u001b[1;33m(\u001b[0m\u001b[0mnp\u001b[0m\u001b[1;33m.\u001b[0m\u001b[0marange\u001b[0m\u001b[1;33m(\u001b[0m\u001b[1;36m0\u001b[0m\u001b[1;33m,\u001b[0m\u001b[1;36m6\u001b[0m\u001b[1;33m)\u001b[0m\u001b[1;33m,\u001b[0m\u001b[0mnp\u001b[0m\u001b[1;33m.\u001b[0m\u001b[0marange\u001b[0m\u001b[1;33m(\u001b[0m\u001b[1;36m10\u001b[0m\u001b[1;33m,\u001b[0m\u001b[1;36m16\u001b[0m\u001b[1;33m)\u001b[0m\u001b[1;33m,\u001b[0m\u001b[0mnp\u001b[0m\u001b[1;33m.\u001b[0m\u001b[0marange\u001b[0m\u001b[1;33m(\u001b[0m\u001b[1;36m20\u001b[0m\u001b[1;33m,\u001b[0m\u001b[1;36m26\u001b[0m\u001b[1;33m)\u001b[0m\u001b[1;33m,\u001b[0m\u001b[0mnp\u001b[0m\u001b[1;33m.\u001b[0m\u001b[0marange\u001b[0m\u001b[1;33m(\u001b[0m\u001b[1;36m30\u001b[0m\u001b[1;33m,\u001b[0m\u001b[1;36m36\u001b[0m\u001b[1;33m)\u001b[0m\u001b[1;33m,\u001b[0m\u001b[0mnp\u001b[0m\u001b[1;33m.\u001b[0m\u001b[0marange\u001b[0m\u001b[1;33m(\u001b[0m\u001b[1;36m40\u001b[0m\u001b[1;33m,\u001b[0m\u001b[1;36m46\u001b[0m\u001b[1;33m)\u001b[0m\u001b[1;33m,\u001b[0m\u001b[0mnp\u001b[0m\u001b[1;33m.\u001b[0m\u001b[0marange\u001b[0m\u001b[1;33m(\u001b[0m\u001b[1;36m50\u001b[0m\u001b[1;33m,\u001b[0m\u001b[1;36m56\u001b[0m\u001b[1;33m)\u001b[0m\u001b[1;33m)\u001b[0m\u001b[1;33m\u001b[0m\u001b[1;33m\u001b[0m\u001b[0m\n\u001b[0m",
      "\u001b[1;31mTypeError\u001b[0m: array() takes from 1 to 2 positional arguments but 6 were given"
     ]
    }
   ],
   "source": [
    "a =np.array(np.arange(0,6),np.arange(10,16),np.arange(20,26),np.arange(30,36),np.arange(40,46),np.arange(50,56))"
   ]
  },
  {
   "cell_type": "code",
   "execution_count": 15,
   "metadata": {},
   "outputs": [
    {
     "ename": "ValueError",
     "evalue": "setting an array element with a sequence.",
     "output_type": "error",
     "traceback": [
      "\u001b[1;31m---------------------------------------------------------------------------\u001b[0m",
      "\u001b[1;31mTypeError\u001b[0m                                 Traceback (most recent call last)",
      "\u001b[1;31mTypeError\u001b[0m: only size-1 arrays can be converted to Python scalars",
      "\nThe above exception was the direct cause of the following exception:\n",
      "\u001b[1;31mValueError\u001b[0m                                Traceback (most recent call last)",
      "\u001b[1;32m<ipython-input-15-03e4707b3944>\u001b[0m in \u001b[0;36m<module>\u001b[1;34m\u001b[0m\n\u001b[1;32m----> 1\u001b[1;33m \u001b[0mm\u001b[0m \u001b[1;33m=\u001b[0m \u001b[0mnp\u001b[0m\u001b[1;33m.\u001b[0m\u001b[0marray\u001b[0m\u001b[1;33m(\u001b[0m\u001b[1;33m[\u001b[0m\u001b[0mnp\u001b[0m\u001b[1;33m.\u001b[0m\u001b[0marange\u001b[0m\u001b[1;33m(\u001b[0m\u001b[1;36m2\u001b[0m\u001b[1;33m)\u001b[0m\u001b[1;33m,\u001b[0m \u001b[0mnp\u001b[0m\u001b[1;33m.\u001b[0m\u001b[0marange\u001b[0m\u001b[1;33m(\u001b[0m\u001b[1;36m4\u001b[0m\u001b[1;33m)\u001b[0m\u001b[1;33m]\u001b[0m\u001b[1;33m,\u001b[0m\u001b[0mdtype\u001b[0m\u001b[1;33m=\u001b[0m\u001b[0mint\u001b[0m\u001b[1;33m)\u001b[0m\u001b[1;33m\u001b[0m\u001b[1;33m\u001b[0m\u001b[0m\n\u001b[0m",
      "\u001b[1;31mValueError\u001b[0m: setting an array element with a sequence."
     ]
    }
   ],
   "source": [
    "m = np.array([np.arange(2), np.arange(4)],dtype=int)"
   ]
  },
  {
   "cell_type": "code",
   "execution_count": 22,
   "metadata": {},
   "outputs": [
    {
     "name": "stdout",
     "output_type": "stream",
     "text": [
      "[ 15  75 135 195 255 315]\n",
      "(6, 1)\n",
      "[[  0   1   2   3   4   5  15]\n",
      " [ 10  11  12  13  14  15  75]\n",
      " [ 20  21  22  23  24  25 135]\n",
      " [ 30  31  32  33  34  35 195]\n",
      " [ 40  41  42  43  44  45 255]\n",
      " [ 50  51  52  53  54  55 315]]\n"
     ]
    }
   ],
   "source": [
    "#add a col wise sum list  in array\n",
    "a=np.array([[0,1,2,3,4,5],\n",
    "            [10,11,12,13,14,15],\n",
    "            [20,21,22,23,24,25],\n",
    "            [30,31,32,33,34,35],\n",
    "            [40,41,42,43,44,45],\n",
    "            [50,51,52,53,54,55]])\n",
    "x=a.sum(1)\n",
    "print(x)\n",
    "# x=np.array(x)\n",
    "\n",
    "x = np.array(x)\n",
    "\n",
    "x = x.reshape(6,1)\n",
    "print(x.shape)\n",
    "# print(a.shape)\n",
    "#a=np.append(a,np.array(x),axis=1)\n",
    "#r=np.hstack((a,x))\n",
    "x=np.concatenate((a, x), axis=1)\n",
    "#r\n",
    "\n",
    "print(x)\n",
    "\n",
    "# x = np.array(x)\n",
    "\n",
    "# x = x.reshape(6,1)\n"
   ]
  },
  {
   "cell_type": "code",
   "execution_count": 27,
   "metadata": {},
   "outputs": [
    {
     "name": "stdout",
     "output_type": "stream",
     "text": [
      "[150 156 162 168 174 180]\n",
      "[150 156 162 168 174 180]\n",
      "(6,)\n",
      "(6, 6)\n",
      "(6,)\n",
      "(6, 6)\n"
     ]
    },
    {
     "ename": "ValueError",
     "evalue": "all the input arrays must have same number of dimensions, but the array at index 0 has 2 dimension(s) and the array at index 1 has 1 dimension(s)",
     "output_type": "error",
     "traceback": [
      "\u001b[1;31m---------------------------------------------------------------------------\u001b[0m",
      "\u001b[1;31mValueError\u001b[0m                                Traceback (most recent call last)",
      "\u001b[1;32m<ipython-input-27-004421697fc0>\u001b[0m in \u001b[0;36m<module>\u001b[1;34m\u001b[0m\n\u001b[0;32m     17\u001b[0m \u001b[0mprint\u001b[0m\u001b[1;33m(\u001b[0m\u001b[0mx\u001b[0m\u001b[1;33m.\u001b[0m\u001b[0mshape\u001b[0m\u001b[1;33m)\u001b[0m\u001b[1;33m\u001b[0m\u001b[1;33m\u001b[0m\u001b[0m\n\u001b[0;32m     18\u001b[0m \u001b[0mprint\u001b[0m\u001b[1;33m(\u001b[0m\u001b[0ma\u001b[0m\u001b[1;33m.\u001b[0m\u001b[0mshape\u001b[0m\u001b[1;33m)\u001b[0m\u001b[1;33m\u001b[0m\u001b[1;33m\u001b[0m\u001b[0m\n\u001b[1;32m---> 19\u001b[1;33m \u001b[0my\u001b[0m\u001b[1;33m=\u001b[0m\u001b[0mnp\u001b[0m\u001b[1;33m.\u001b[0m\u001b[0mconcatenate\u001b[0m\u001b[1;33m(\u001b[0m\u001b[1;33m(\u001b[0m\u001b[0ma\u001b[0m\u001b[1;33m,\u001b[0m \u001b[0mx\u001b[0m\u001b[1;33m)\u001b[0m\u001b[1;33m,\u001b[0m \u001b[0maxis\u001b[0m\u001b[1;33m=\u001b[0m\u001b[1;36m0\u001b[0m\u001b[1;33m)\u001b[0m\u001b[1;33m\u001b[0m\u001b[1;33m\u001b[0m\u001b[0m\n\u001b[0m",
      "\u001b[1;32m<__array_function__ internals>\u001b[0m in \u001b[0;36mconcatenate\u001b[1;34m(*args, **kwargs)\u001b[0m\n",
      "\u001b[1;31mValueError\u001b[0m: all the input arrays must have same number of dimensions, but the array at index 0 has 2 dimension(s) and the array at index 1 has 1 dimension(s)"
     ]
    }
   ],
   "source": [
    "a=np.array([[0,1,2,3,4,5],\n",
    "            [10,11,12,13,14,15],\n",
    "            [20,21,22,23,24,25],\n",
    "            [30,31,32,33,34,35],\n",
    "            [40,41,42,43,44,45],\n",
    "            [50,51,52,53,54,55]])\n",
    "x=a.sum(0)\n",
    "print(x)\n",
    "x=np.array(x)\n",
    "print(x)\n",
    "print(x.shape)\n",
    "print(a.shape)\n",
    "#a=np.append(a,np.array(x),axis=1)\n",
    "#r=np.vstack((a,x))\n",
    "#r\n",
    "x.transpose()\n",
    "print(x.shape)\n",
    "print(a.shape)\n",
    "y=np.concatenate((a, x), axis=0)"
   ]
  },
  {
   "cell_type": "markdown",
   "metadata": {},
   "source": [
    "## CSV\n"
   ]
  },
  {
   "cell_type": "code",
   "execution_count": 28,
   "metadata": {},
   "outputs": [
    {
     "name": "stdout",
     "output_type": "stream",
     "text": [
      "[[7.400e+00 7.000e-01 0.000e+00 1.900e+00 7.600e-02 1.100e+01 3.400e+01\n",
      "  9.978e-01 3.510e+00 5.600e-01 9.400e+00 5.000e+00]\n",
      " [7.800e+00 8.800e-01 0.000e+00 2.600e+00 9.800e-02 2.500e+01 6.700e+01\n",
      "  9.968e-01 3.200e+00 6.800e-01 9.800e+00 5.000e+00]\n",
      " [7.800e+00 7.600e-01 4.000e-02 2.300e+00 9.200e-02 1.500e+01 5.400e+01\n",
      "  9.970e-01 3.260e+00 6.500e-01 9.800e+00 5.000e+00]]\n"
     ]
    }
   ],
   "source": [
    "import csv\n",
    "wines=np.genfromtxt(\"wines\\winequality-red.csv\", delimiter=\";\",skip_header=1)\n",
    "print(wines[0:3])"
   ]
  },
  {
   "cell_type": "code",
   "execution_count": 29,
   "metadata": {},
   "outputs": [
    {
     "name": "stdout",
     "output_type": "stream",
     "text": [
      "[[17 20]\n",
      " [ 5  8]\n",
      " [ 8 12]\n",
      " [14 24]\n",
      " [23  9]]\n",
      "[17  5  8 14 23]\n",
      "[20  8 12 24  9]\n",
      "[18158.40553775   628.31853072  2412.74315796 14778.05184249\n",
      " 14957.12262374]\n",
      "50934.64169265132\n",
      "50934.64169265132\n",
      "18158.405537749004\n",
      "0\n",
      "628.3185307179587\n",
      "1\n",
      "10186.928338530264\n",
      "14778.051842486386\n",
      "7199.758245451731\n"
     ]
    }
   ],
   "source": [
    "np.random.seed(0)\n",
    "v=np.random.randint(5,25,10)\n",
    "v=v.reshape(5,2)\n",
    "print(v)\n",
    "\n",
    "\n",
    "#radius and height\n",
    "r = v[:,0]\n",
    "h = v[:,1]\n",
    "print(r)\n",
    "print(h)\n",
    "\n",
    "\n",
    "#individual volume\n",
    "volume = np.pi*(r**2)*h\n",
    "print(volume)\n",
    "\n",
    "\n",
    "#total volume by function\n",
    "total_volume = volume.sum()\n",
    "\n",
    "\n",
    "#total volume by dot product\n",
    "radius_squared = np.square(r)\n",
    "dot_product = np.dot(radius_squared, h)\n",
    "total_volume_by_dot_product = np.pi*dot_product\n",
    "\n",
    "print(total_volume)\n",
    "print(total_volume_by_dot_product)\n",
    "\n",
    "\n",
    "#max volume\n",
    "max_volume = volume.max()\n",
    "index_of_max_volume = volume.argmax()\n",
    "print(max_volume)\n",
    "print(index_of_max_volume)\n",
    "\n",
    "\n",
    "#min volume\n",
    "min_volume = volume.min()\n",
    "index_of_min_volume = volume.argmin()\n",
    "print(min_volume)\n",
    "print(index_of_min_volume)\n",
    "\n",
    "\n",
    "#volume mean\n",
    "volume_mean = np.mean(volume)\n",
    "print(volume_mean)\n",
    "\n",
    "\n",
    "#volume median\n",
    "volume_median = np.median(volume)\n",
    "print(volume_median)\n",
    "\n",
    "\n",
    "#volume standard deviation\n",
    "volume_standard_deviation = np.std(volume)\n",
    "print(volume_standard_deviation)\n",
    "\n",
    "\n"
   ]
  },
  {
   "cell_type": "code",
   "execution_count": 30,
   "metadata": {},
   "outputs": [
    {
     "data": {
      "text/plain": [
       "[10186.928338530264, 14778.051842486386, 7199.758245451731]"
      ]
     },
     "execution_count": 30,
     "metadata": {},
     "output_type": "execute_result"
    }
   ],
   "source": [
    "stats=[]\n",
    "stats.append(volume_mean)\n",
    "stats.append(volume_median)\n",
    "stats.append(volume_standard_deviation)\n",
    "stats"
   ]
  },
  {
   "cell_type": "code",
   "execution_count": 32,
   "metadata": {},
   "outputs": [
    {
     "data": {
      "text/plain": [
       "{'mean': 10186.928338530264,\n",
       " 'median': 14778.051842486386,\n",
       " 'standard deviation': 7199.758245451731}"
      ]
     },
     "execution_count": 32,
     "metadata": {},
     "output_type": "execute_result"
    }
   ],
   "source": [
    "statsdic={}\n",
    "statsdic[\"mean\"]=volume_mean\n",
    "statsdic[\"median\"]=volume_median\n",
    "statsdic[\"standard deviation\"]=volume_standard_deviation\n",
    "statsdic"
   ]
  },
  {
   "cell_type": "code",
   "execution_count": 157,
   "metadata": {},
   "outputs": [
    {
     "data": {
      "image/png": "[encoded data removed]",
      "text/plain": [
       "<Figure size 432x288 with 1 Axes>"
      ]
     },
     "metadata": {
      "needs_background": "light"
     },
     "output_type": "display_data"
    }
   ],
   "source": [
    "#bar graph\n",
    "from matplotlib import pyplot as plt\n",
    "x=statsdic.keys()\n",
    "y=statsdic.values()\n",
    "plt.bar(x,y,color=\"red\",width=.2)\n",
    "\n",
    "\n",
    "plt.ylabel(\"values\")\n",
    "plt.title(\"bar\")\n",
    "plt.show()\n"
   ]
  },
  {
   "cell_type": "code",
   "execution_count": null,
   "metadata": {},
   "outputs": [],
   "source": [
    "## Matpotlib\n",
    "\n",
    "\n",
    "graphs\n",
    "seaborn(sns)\n",
    "matplotlib"
   ]
  },
  {
   "cell_type": "code",
   "execution_count": 50,
   "metadata": {},
   "outputs": [
    {
     "name": "stdout",
     "output_type": "stream",
     "text": [
      "Help on built-in function array in module numpy:\n",
      "\n",
      "array(...)\n",
      "    array(object, dtype=None, *, copy=True, order='K', subok=False, ndmin=0)\n",
      "    \n",
      "    Create an array.\n",
      "    \n",
      "    Parameters\n",
      "    ----------\n",
      "    object : array_like\n",
      "        An array, any object exposing the array interface, an object whose\n",
      "        __array__ method returns an array, or any (nested) sequence.\n",
      "    dtype : data-type, optional\n",
      "        The desired data-type for the array.  If not given, then the type will\n",
      "        be determined as the minimum type required to hold the objects in the\n",
      "        sequence.\n",
      "    copy : bool, optional\n",
      "        If true (default), then the object is copied.  Otherwise, a copy will\n",
      "        only be made if __array__ returns a copy, if obj is a nested sequence,\n",
      "        or if a copy is needed to satisfy any of the other requirements\n",
      "        (`dtype`, `order`, etc.).\n",
      "    order : {'K', 'A', 'C', 'F'}, optional\n",
      "        Specify the memory layout of the array. If object is not an array, the\n",
      "        newly created array will be in C order (row major) unless 'F' is\n",
      "        specified, in which case it will be in Fortran order (column major).\n",
      "        If object is an array the following holds.\n",
      "    \n",
      "        ===== ========= ===================================================\n",
      "        order  no copy                     copy=True\n",
      "        ===== ========= ===================================================\n",
      "        'K'   unchanged F & C order preserved, otherwise most similar order\n",
      "        'A'   unchanged F order if input is F and not C, otherwise C order\n",
      "        'C'   C order   C order\n",
      "        'F'   F order   F order\n",
      "        ===== ========= ===================================================\n",
      "    \n",
      "        When ``copy=False`` and a copy is made for other reasons, the result is\n",
      "        the same as if ``copy=True``, with some exceptions for `A`, see the\n",
      "        Notes section. The default order is 'K'.\n",
      "    subok : bool, optional\n",
      "        If True, then sub-classes will be passed-through, otherwise\n",
      "        the returned array will be forced to be a base-class array (default).\n",
      "    ndmin : int, optional\n",
      "        Specifies the minimum number of dimensions that the resulting\n",
      "        array should have.  Ones will be pre-pended to the shape as\n",
      "        needed to meet this requirement.\n",
      "    \n",
      "    Returns\n",
      "    -------\n",
      "    out : ndarray\n",
      "        An array object satisfying the specified requirements.\n",
      "    \n",
      "    See Also\n",
      "    --------\n",
      "    empty_like : Return an empty array with shape and type of input.\n",
      "    ones_like : Return an array of ones with shape and type of input.\n",
      "    zeros_like : Return an array of zeros with shape and type of input.\n",
      "    full_like : Return a new array with shape of input filled with value.\n",
      "    empty : Return a new uninitialized array.\n",
      "    ones : Return a new array setting values to one.\n",
      "    zeros : Return a new array setting values to zero.\n",
      "    full : Return a new array of given shape filled with value.\n",
      "    \n",
      "    \n",
      "    Notes\n",
      "    -----\n",
      "    When order is 'A' and `object` is an array in neither 'C' nor 'F' order,\n",
      "    and a copy is forced by a change in dtype, then the order of the result is\n",
      "    not necessarily 'C' as expected. This is likely a bug.\n",
      "    \n",
      "    Examples\n",
      "    --------\n",
      "    >>> np.array([1, 2, 3])\n",
      "    array([1, 2, 3])\n",
      "    \n",
      "    Upcasting:\n",
      "    \n",
      "    >>> np.array([1, 2, 3.0])\n",
      "    array([ 1.,  2.,  3.])\n",
      "    \n",
      "    More than one dimension:\n",
      "    \n",
      "    >>> np.array([[1, 2], [3, 4]])\n",
      "    array([[1, 2],\n",
      "           [3, 4]])\n",
      "    \n",
      "    Minimum dimensions 2:\n",
      "    \n",
      "    >>> np.array([1, 2, 3], ndmin=2)\n",
      "    array([[1, 2, 3]])\n",
      "    \n",
      "    Type provided:\n",
      "    \n",
      "    >>> np.array([1, 2, 3], dtype=complex)\n",
      "    array([ 1.+0.j,  2.+0.j,  3.+0.j])\n",
      "    \n",
      "    Data-type consisting of more than one element:\n",
      "    \n",
      "    >>> x = np.array([(1,2),(3,4)],dtype=[('a','<i4'),('b','<i4')])\n",
      "    >>> x['a']\n",
      "    array([1, 3])\n",
      "    \n",
      "    Creating an array from sub-classes:\n",
      "    \n",
      "    >>> np.array(np.mat('1 2; 3 4'))\n",
      "    array([[1, 2],\n",
      "           [3, 4]])\n",
      "    \n",
      "    >>> np.array(np.mat('1 2; 3 4'), subok=True)\n",
      "    matrix([[1, 2],\n",
      "            [3, 4]])\n",
      "\n"
     ]
    }
   ],
   "source": [
    "help(np.array)"
   ]
  },
  {
   "cell_type": "code",
   "execution_count": 54,
   "metadata": {},
   "outputs": [
    {
     "name": "stdout",
     "output_type": "stream",
     "text": [
      "[[37 40]\n",
      " [85 92]]\n",
      "[[37 40]\n",
      " [85 92]]\n",
      "[[11 24]\n",
      " [39 56]]\n"
     ]
    }
   ],
   "source": [
    "a=np.array([[1,2],[3,4]])\n",
    "b=np.array([[11,12],[13,14]])\n",
    "print(np.dot(a,b))\n",
    "print(np.matmul(a,b))\n",
    "print(np.multiply(a,b))"
   ]
  },
  {
   "cell_type": "code",
   "execution_count": 78,
   "metadata": {},
   "outputs": [
    {
     "name": "stdout",
     "output_type": "stream",
     "text": [
      "average of each student is\n",
      "[4.   5.75 6.   6.5 ]\n",
      "average of each student is\n",
      "[4.   5.75 6.   6.5 ]\n",
      "max of each student is\n",
      "[7 8 8 8]\n",
      "average of each student in physics is\n",
      "5.0\n"
     ]
    }
   ],
   "source": [
    "#e p c m\n",
    "table=np.array([[5,3,7,1],\n",
    "                [4,5,6,8],\n",
    "                [4,5,7,8],[8,7,5,6]])\n",
    "avg=table.sum(axis=1)/4\n",
    "print(\"average of each student is\")\n",
    "print(avg)\n",
    "print(\"average of each student is\")\n",
    "print(table.mean(axis=1))\n",
    "print(\"max of each student is\")\n",
    "print(table.max(axis=1))\n",
    "print(\"average of each student in physics is\")\n",
    "p=table[:,1].mean(axis=0)\n",
    "print(p)\n",
    "#print(p.sum/4)\n"
   ]
  },
  {
   "cell_type": "code",
   "execution_count": 105,
   "metadata": {},
   "outputs": [
    {
     "name": "stdout",
     "output_type": "stream",
     "text": [
      "yes\n",
      "yes1\n",
      "yes\n",
      "yes1\n",
      "yes\n",
      "yes1\n",
      "yes\n",
      "yes1\n",
      "yes\n",
      "yes1\n",
      "yes\n",
      "yes1\n",
      "yes\n",
      "yes1\n",
      "yes\n",
      "yes1\n"
     ]
    }
   ],
   "source": [
    "square=np.array([[16,3,2,13],\n",
    "                 [5,10,11,8],\n",
    "                 [9,6,7,12],\n",
    "                 [4,15,14,1]])\n",
    "for i in range(4):\n",
    "    sq=square.sum(axis=0)\n",
    "    if sq[i]==34:\n",
    "        print(\"yes\")\n",
    "        if (square[0:2,0:2].sum() ==34) and (square[2:,2:].sum() ==34) and (square[2:,0:2].sum()==34) and (square[0:2,2:].sum()  ==34):\n",
    "            print(\"yes1\")\n",
    "        else:\n",
    "            print(\"no\")\n",
    "    else:\n",
    "        print(\"no\")\n",
    "    sq1=square.sum(axis=1)\n",
    "    if sq1[i]==34:\n",
    "        print(\"yes\")\n",
    "        if (square[0:2,0:2].sum() ==34) and (square[2:,2:].sum() ==34) and (square[2:,0:2].sum()==34) and (square[0:2,2:].sum()  ==34):\n",
    "            print(\"yes1\")\n",
    "        else:\n",
    "            print(\"no\")\n",
    "    else:\n",
    "        print(\"no\")\n"
   ]
  },
  {
   "cell_type": "code",
   "execution_count": 102,
   "metadata": {},
   "outputs": [
    {
     "name": "stdout",
     "output_type": "stream",
     "text": [
      "[[16  3]\n",
      " [ 5 10]]\n",
      "[[ 7 12]\n",
      " [14  1]]\n",
      "[[ 9  6]\n",
      " [ 4 15]]\n",
      "[[ 2 13]\n",
      " [11  8]]\n"
     ]
    }
   ],
   "source": [
    "print(square[0:2,0:2])\n",
    "print(square[2:,2:])\n",
    "print(square[2:,0:2])\n",
    "print(square[0:2,2:])"
   ]
  },
  {
   "cell_type": "code",
   "execution_count": 132,
   "metadata": {},
   "outputs": [
    {
     "name": "stdout",
     "output_type": "stream",
     "text": [
      "magic square\n",
      "magic square\n",
      "magic square\n",
      "magic square\n",
      "1\n"
     ]
    }
   ],
   "source": [
    "square=np.array([[16,3,2,13],\n",
    "                 [5,10,11,8],\n",
    "                 [9,6,7,12],\n",
    "                 [4,15,14,1]])\n",
    "\n",
    "def magic():\n",
    "    print(\"magic square\")\n",
    "def notmagic():\n",
    "    print(\"not magic square\")\n",
    "for i in range(4):\n",
    "    sq=square.sum(axis=0)\n",
    "    sq1=square.sum(axis=1)\n",
    "   \n",
    "    if sq[i]==34:\n",
    "        if sq1[i]==34:\n",
    "            if (square[0:2,0:2].sum() ==34) and (square[2:,2:].sum() ==34) and (square[2:,0:2].sum()==34) and (square[0:2,2:].sum()  ==34):\n",
    "                 magic()\n",
    "            else:\n",
    "                notmagic()\n",
    "    else:\n",
    "        notmagic()\n",
    "   "
   ]
  },
  {
   "cell_type": "code",
   "execution_count": 128,
   "metadata": {},
   "outputs": [
    {
     "name": "stdout",
     "output_type": "stream",
     "text": [
      "row 174\n",
      "row 54\n",
      "row 34\n",
      "row 34\n",
      "column 174\n",
      "column 54\n",
      "column 34\n",
      "column 34\n",
      "54\n",
      "174\n",
      "34\n",
      "34\n",
      "not a magic square\n"
     ]
    }
   ],
   "source": [
    "#jagisha\n",
    "square=np.array([\n",
    "[16,23,2,133],\n",
    "[5,10,11,28],\n",
    "[9,6,7,12],\n",
    "[4,15,14,1],                \n",
    "])\n",
    "for i in range(4):\n",
    "  sum_row=square[i,:].sum()\n",
    "  print(\"row\",sum_row.sum())\n",
    "for i in range(4):\n",
    "  col_row=square[i,:].sum()\n",
    "  print(\"column\",col_row.sum())\n",
    "first_quad=print(square[0:2,0:2].sum())\n",
    "second_quad=print(square[0:2,2:4].sum())\n",
    "third_quad=print(square[2:4,0:2].sum())\n",
    "four_quad=print(square[2:4,2:4].sum())\n",
    "if(sum_row == col_row == first_quad == second_quad ==third_quad ==four_quad):\n",
    "  print(\"its a magic square\")\n",
    "else:\n",
    "  print(\"not a magic square\")"
   ]
  },
  {
   "cell_type": "code",
   "execution_count": 133,
   "metadata": {},
   "outputs": [
    {
     "name": "stdout",
     "output_type": "stream",
     "text": [
      "no\n",
      "All row sum = 34\n",
      "34\n",
      "no\n",
      "no\n",
      "All column sum = 34\n",
      "34\n",
      "not\n"
     ]
    }
   ],
   "source": [
    "#iqbal\n",
    "import numpy as np\n",
    "durerarr = np.array([[16,3,2,13],\n",
    "                   [5,10,11,8],\n",
    "                    [9,6,7,12],\n",
    "                   [4,15,14,1]])\n",
    "for i in durerarr:\n",
    "    if sum(i) == 34:\n",
    "        r = sum(i)\n",
    "        continue\n",
    "    else:\n",
    "        print(\"no\")\n",
    "        break\n",
    "print(\"All row sum = 34\")\n",
    "print(r)\n",
    "for i in range(4):\n",
    "    if sum(durerarr[:,i]) == 34:\n",
    "        c = sum(durerarr[:,i])\n",
    "        continue\n",
    "    else:\n",
    "        print(\"no\")\n",
    "print(\"All column sum = 34\")\n",
    "print(c)\n",
    "d1 = durerarr[:2,:2]\n",
    "d2 = durerarr[2:,2:]\n",
    "d3 = durerarr[:2,2:]\n",
    "d4 = durerarr[2:,:2]\n",
    "if np.sum(d1) ==34 and np.sum(d2) == 34 and np.sum(d3) and np.sum(d4) == 34 and r ==34 and c ==34:\n",
    "    print(\"it is durer matrix\")\n",
    "else:\n",
    "    print(\"not\")\n",
    "    \n",
    "    "
   ]
  },
  {
   "cell_type": "code",
   "execution_count": 139,
   "metadata": {
    "scrolled": true
   },
   "outputs": [
    {
     "name": "stdout",
     "output_type": "stream",
     "text": [
      "[ 5  6  8 10 12 14 16 18 20 22 24 26 28 30 32 34 36 38 40 42 44 46 48 50]\n",
      "[False False  True False  True False  True False  True False  True False\n",
      "  True False  True False  True False  True False  True False  True False]\n"
     ]
    }
   ],
   "source": [
    "numbers=np.linspace(5,50,24 ,dtype=\"int\")\n",
    "print(numbers)\n",
    "mask= numbers%4 ==0\n",
    "print(mask)\n"
   ]
  },
  {
   "cell_type": "code",
   "execution_count": 148,
   "metadata": {},
   "outputs": [
    {
     "name": "stdout",
     "output_type": "stream",
     "text": [
      "[[ 1 10]\n",
      " [12 15]]\n",
      "[[10 12]\n",
      " [ 1 15]]\n",
      "[ 1 10 12 15]\n"
     ]
    }
   ],
   "source": [
    "a =np.array([[12,10],[1,15]])\n",
    "print(np.sort(a,axis=0))\n",
    "print(np.sort(a,axis=1))\n",
    "print(np.sort(a,axis=None\n",
    "             ))"
   ]
  },
  {
   "cell_type": "markdown",
   "metadata": {},
   "source": [
    "https://archive.ics.uci.edu/ml/machine-learning-databases/wine-quality"
   ]
  },
  {
   "cell_type": "code",
   "execution_count": 156,
   "metadata": {},
   "outputs": [
    {
     "ename": "ValueError",
     "evalue": "all the input array dimensions for the concatenation axis must match exactly, but along dimension 0, the array at index 0 has size 4 and the array at index 1 has size 2",
     "output_type": "error",
     "traceback": [
      "\u001b[1;31m---------------------------------------------------------------------------\u001b[0m",
      "\u001b[1;31mValueError\u001b[0m                                Traceback (most recent call last)",
      "\u001b[1;32m<ipython-input-156-e3dda5325777>\u001b[0m in \u001b[0;36m<module>\u001b[1;34m\u001b[0m\n\u001b[0;32m      3\u001b[0m                 [4,5,7,8],[8,7,5,6]])\n\u001b[0;32m      4\u001b[0m \u001b[0mtable1\u001b[0m\u001b[1;33m=\u001b[0m\u001b[0mnp\u001b[0m\u001b[1;33m.\u001b[0m\u001b[0marray\u001b[0m\u001b[1;33m(\u001b[0m\u001b[1;33m[\u001b[0m\u001b[1;33m[\u001b[0m\u001b[1;36m1\u001b[0m\u001b[1;33m,\u001b[0m\u001b[1;36m2\u001b[0m\u001b[1;33m]\u001b[0m\u001b[1;33m,\u001b[0m\u001b[1;33m[\u001b[0m\u001b[1;36m3\u001b[0m\u001b[1;33m,\u001b[0m\u001b[1;36m4\u001b[0m\u001b[1;33m]\u001b[0m\u001b[1;33m]\u001b[0m\u001b[1;33m)\u001b[0m\u001b[1;33m\u001b[0m\u001b[1;33m\u001b[0m\u001b[0m\n\u001b[1;32m----> 5\u001b[1;33m \u001b[0mprint\u001b[0m\u001b[1;33m(\u001b[0m\u001b[0mnp\u001b[0m\u001b[1;33m.\u001b[0m\u001b[0mappend\u001b[0m\u001b[1;33m(\u001b[0m\u001b[0mtable\u001b[0m\u001b[1;33m,\u001b[0m\u001b[0mtable1\u001b[0m\u001b[1;33m,\u001b[0m\u001b[0maxis\u001b[0m\u001b[1;33m=\u001b[0m\u001b[1;36m1\u001b[0m\u001b[1;33m)\u001b[0m\u001b[1;33m)\u001b[0m\u001b[1;33m\u001b[0m\u001b[1;33m\u001b[0m\u001b[0m\n\u001b[0m",
      "\u001b[1;32m<__array_function__ internals>\u001b[0m in \u001b[0;36mappend\u001b[1;34m(*args, **kwargs)\u001b[0m\n",
      "\u001b[1;32m~\\New folder\\lib\\site-packages\\numpy\\lib\\function_base.py\u001b[0m in \u001b[0;36mappend\u001b[1;34m(arr, values, axis)\u001b[0m\n\u001b[0;32m   4669\u001b[0m         \u001b[0mvalues\u001b[0m \u001b[1;33m=\u001b[0m \u001b[0mravel\u001b[0m\u001b[1;33m(\u001b[0m\u001b[0mvalues\u001b[0m\u001b[1;33m)\u001b[0m\u001b[1;33m\u001b[0m\u001b[1;33m\u001b[0m\u001b[0m\n\u001b[0;32m   4670\u001b[0m         \u001b[0maxis\u001b[0m \u001b[1;33m=\u001b[0m \u001b[0marr\u001b[0m\u001b[1;33m.\u001b[0m\u001b[0mndim\u001b[0m\u001b[1;33m-\u001b[0m\u001b[1;36m1\u001b[0m\u001b[1;33m\u001b[0m\u001b[1;33m\u001b[0m\u001b[0m\n\u001b[1;32m-> 4671\u001b[1;33m     \u001b[1;32mreturn\u001b[0m \u001b[0mconcatenate\u001b[0m\u001b[1;33m(\u001b[0m\u001b[1;33m(\u001b[0m\u001b[0marr\u001b[0m\u001b[1;33m,\u001b[0m \u001b[0mvalues\u001b[0m\u001b[1;33m)\u001b[0m\u001b[1;33m,\u001b[0m \u001b[0maxis\u001b[0m\u001b[1;33m=\u001b[0m\u001b[0maxis\u001b[0m\u001b[1;33m)\u001b[0m\u001b[1;33m\u001b[0m\u001b[1;33m\u001b[0m\u001b[0m\n\u001b[0m\u001b[0;32m   4672\u001b[0m \u001b[1;33m\u001b[0m\u001b[0m\n\u001b[0;32m   4673\u001b[0m \u001b[1;33m\u001b[0m\u001b[0m\n",
      "\u001b[1;32m<__array_function__ internals>\u001b[0m in \u001b[0;36mconcatenate\u001b[1;34m(*args, **kwargs)\u001b[0m\n",
      "\u001b[1;31mValueError\u001b[0m: all the input array dimensions for the concatenation axis must match exactly, but along dimension 0, the array at index 0 has size 4 and the array at index 1 has size 2"
     ]
    }
   ],
   "source": [
    "table=np.array([[5,3,7,1],\n",
    "                [4,5,6,8],\n",
    "                [4,5,7,8],[8,7,5,6]])\n",
    "table1=np.array([[1,2],[3,4]])\n",
    "print(np.append(table,table1,axis=1))"
   ]
  },
  {
   "cell_type": "code",
   "execution_count": 168,
   "metadata": {},
   "outputs": [
    {
     "name": "stdout",
     "output_type": "stream",
     "text": [
      "[1, 2, 3, 4, 5]\n",
      "[4 4 1 2 3 4 5 6 6 6]\n",
      "[1 1 1 2 3 4 5 5 5 5]\n",
      "[ 5  3  1  2  3  4  5  2 -1 -4]\n",
      "[5 5 1 2 3 4 5 5 5]\n",
      "[3 2 1 2 3 4 5 4 3 2]\n",
      "[-1  0  1  2  3  4  5  6  7  8]\n",
      "[2 1 1 2 3 4 5 5 4 3]\n",
      "[0 1 1 2 3 4 5 5 6 7]\n",
      "[4 5 1 2 3 4 5 1 2 3]\n",
      "[3 3 1 2 3 4 5 3 3]\n",
      "[4 1 2 3 4 5 6 6 6 6 6]\n"
     ]
    }
   ],
   "source": [
    "a = [1, 2, 3, 4, 5]\n",
    "print(a)\n",
    "print(np.pad(a, (2, 3), 'constant', constant_values=(4, 6)))\n",
    "print(np.pad(a, (2, 3), 'edge'))\n",
    "print(np.pad(a, (2, 3), 'linear_ramp', end_values=(5, -4)))\n",
    "print(np.pad(a, (2,), 'maximum'))\n",
    "print(np.pad(a, (2, 3), 'reflect'))\n",
    "print(np.pad(a, (2, 3), 'reflect', reflect_type='odd'))\n",
    "print(np.pad(a, (2, 3), 'symmetric'))\n",
    "print(np.pad(a, (2, 3), 'symmetric', reflect_type='odd'))\n",
    "print(np.pad(a, (2, 3), 'wrap'))\n",
    "print(np.pad(a, (2,), 'median'))\n",
    "print(np.pad(a, (1,5),'constant', constant_values=(4, 6)))"
   ]
  },
  {
   "cell_type": "code",
   "execution_count": 169,
   "metadata": {},
   "outputs": [
    {
     "data": {
      "text/plain": [
       "array([[ 7.4 ,  0.7 ,  0.  , ...,  9.4 ,  5.  ,  0.38],\n",
       "       [ 7.8 ,  0.88,  0.  , ...,  9.8 ,  5.  ,  0.52],\n",
       "       [ 7.8 ,  0.76,  0.04, ...,  9.8 ,  5.  ,  0.46],\n",
       "       ...,\n",
       "       [ 5.6 ,  0.66,  0.  , ..., 12.8 ,  7.  ,  0.44],\n",
       "       [ 8.9 ,  0.84,  0.34, ...,  9.1 ,  6.  ,  0.28],\n",
       "       [ 6.4 ,  0.69,  0.  , ..., 12.9 ,  6.  ,  0.33]])"
      ]
     },
     "execution_count": 169,
     "metadata": {},
     "output_type": "execute_result"
    }
   ],
   "source": [
    "import csv\n",
    "wines=np.genfromtxt(\"wines\\winequality-red.csv\", delimiter=\";\",skip_header=1)\n",
    "\n",
    "wines[1:5,1:5]\n",
    "residualsugar_20 = wines[:,3]*0.20\n",
    "wines = np.append(wines, residualsugar_20.reshape(1599,1),axis=1)\n",
    "wines[0:1000]"
   ]
  },
  {
   "cell_type": "code",
   "execution_count": 170,
   "metadata": {},
   "outputs": [
    {
     "data": {
      "text/plain": [
       "array([ True,  True,  True, ..., False,  True, False])"
      ]
     },
     "execution_count": 170,
     "metadata": {},
     "output_type": "execute_result"
    }
   ],
   "source": [
    "wines[:,11]==5"
   ]
  },
  {
   "cell_type": "code",
   "execution_count": 173,
   "metadata": {},
   "outputs": [
    {
     "data": {
      "text/plain": [
       "array([[ 7.4  ,  0.7  ,  0.   , ...,  9.4  ,  5.   ,  0.38 ],\n",
       "       [ 7.8  ,  0.88 ,  0.   , ...,  9.8  ,  5.   ,  0.52 ],\n",
       "       [ 7.8  ,  0.76 ,  0.04 , ...,  9.8  ,  5.   ,  0.46 ],\n",
       "       ...,\n",
       "       [ 6.6  ,  0.725,  0.2  , ...,  9.2  ,  5.   ,  1.56 ],\n",
       "       [ 6.2  ,  0.6  ,  0.08 , ..., 10.5  ,  5.   ,  0.4  ],\n",
       "       [ 5.9  ,  0.645,  0.12 , ..., 10.2  ,  5.   ,  0.4  ]])"
      ]
     },
     "execution_count": 173,
     "metadata": {},
     "output_type": "execute_result"
    }
   ],
   "source": [
    "wines[wines[:,11]==5]"
   ]
  },
  {
   "cell_type": "code",
   "execution_count": null,
   "metadata": {},
   "outputs": [],
   "source": []
  },
  {
   "cell_type": "code",
   "execution_count": 172,
   "metadata": {},
   "outputs": [
    {
     "data": {
      "text/plain": [
       "(681, 13)"
      ]
     },
     "execution_count": 172,
     "metadata": {},
     "output_type": "execute_result"
    }
   ],
   "source": [
    "wines[wines[:,11]==5].shape"
   ]
  },
  {
   "cell_type": "code",
   "execution_count": null,
   "metadata": {},
   "outputs": [],
   "source": []
  },
  {
   "cell_type": "markdown",
   "metadata": {},
   "source": [
    "### Numpy in images\n"
   ]
  },
  {
   "cell_type": "code",
   "execution_count": 176,
   "metadata": {},
   "outputs": [],
   "source": [
    "# #image...\n",
    "# numpy array\n",
    "# pixels\n",
    "# coordinates\n",
    "# colors\n",
    "# it come in 2d array\n",
    "#  we have to import image\n",
    "# import pil (python image library)\n",
    "\n",
    "from PIL import Image\n",
    "import numpy as np"
   ]
  },
  {
   "cell_type": "code",
   "execution_count": 179,
   "metadata": {},
   "outputs": [
    {
     "data": {
      "text/plain": [
       "(183, 275, 3)"
      ]
     },
     "execution_count": 179,
     "metadata": {},
     "output_type": "execute_result"
    }
   ],
   "source": [
    "im=np.array(Image.open(\"img_tiger.jfif\"))\n",
    "im.shape"
   ]
  },
  {
   "cell_type": "code",
   "execution_count": 181,
   "metadata": {
    "scrolled": true
   },
   "outputs": [
    {
     "data": {
      "text/plain": [
       "array([[[226, 206, 173],\n",
       "        [211, 192, 162],\n",
       "        [211, 193, 169],\n",
       "        ...,\n",
       "        [145, 120,  56],\n",
       "        [143, 118,  54],\n",
       "        [140, 115,  51]],\n",
       "\n",
       "       [[199, 179, 146],\n",
       "        [199, 180, 150],\n",
       "        [205, 187, 163],\n",
       "        ...,\n",
       "        [148, 125,  58],\n",
       "        [145, 122,  55],\n",
       "        [142, 119,  52]],\n",
       "\n",
       "       [[166, 146, 113],\n",
       "        [175, 156, 126],\n",
       "        [177, 159, 135],\n",
       "        ...,\n",
       "        [151, 128,  60],\n",
       "        [149, 126,  58],\n",
       "        [146, 123,  55]],\n",
       "\n",
       "       ...,\n",
       "\n",
       "       [[ 95,  72,  56],\n",
       "        [ 86,  63,  49],\n",
       "        [ 74,  51,  37],\n",
       "        ...,\n",
       "        [ 81, 107, 144],\n",
       "        [ 81, 107, 144],\n",
       "        [ 81, 107, 144]],\n",
       "\n",
       "       [[103,  77,  60],\n",
       "        [ 90,  64,  47],\n",
       "        [ 77,  54,  38],\n",
       "        ...,\n",
       "        [ 82, 108, 145],\n",
       "        [ 82, 108, 145],\n",
       "        [ 82, 108, 145]],\n",
       "\n",
       "       [[ 99,  72,  51],\n",
       "        [ 89,  62,  43],\n",
       "        [ 85,  59,  42],\n",
       "        ...,\n",
       "        [ 84, 110, 147],\n",
       "        [ 84, 110, 147],\n",
       "        [ 84, 110, 147]]], dtype=uint8)"
      ]
     },
     "execution_count": 181,
     "metadata": {},
     "output_type": "execute_result"
    }
   ],
   "source": [
    "im"
   ]
  },
  {
   "cell_type": "code",
   "execution_count": 182,
   "metadata": {},
   "outputs": [
    {
     "data": {
      "text/plain": [
       "numpy.ndarray"
      ]
     },
     "execution_count": 182,
     "metadata": {},
     "output_type": "execute_result"
    }
   ],
   "source": [
    "type(im)"
   ]
  },
  {
   "cell_type": "code",
   "execution_count": 183,
   "metadata": {},
   "outputs": [],
   "source": [
    "#convert image to grayscale\n",
    "im_gray=np.array(Image.open(\"img_tiger.jfif\").convert(\"L\"))"
   ]
  },
  {
   "cell_type": "code",
   "execution_count": 185,
   "metadata": {},
   "outputs": [
    {
     "data": {
      "text/plain": [
       "(183, 275)"
      ]
     },
     "execution_count": 185,
     "metadata": {},
     "output_type": "execute_result"
    }
   ],
   "source": [
    "im_gray.shape"
   ]
  },
  {
   "cell_type": "code",
   "execution_count": 186,
   "metadata": {},
   "outputs": [
    {
     "data": {
      "text/plain": [
       "array([[208, 194, 196, ..., 178, 168, 147],\n",
       "       [181, 182, 190, ..., 157, 163, 157],\n",
       "       [148, 158, 162, ..., 145, 163, 162],\n",
       "       ...,\n",
       "       [ 77,  68,  56, ...,  39,  32,  27],\n",
       "       [ 83,  70,  59, ...,  63,  40,  18],\n",
       "       [ 78,  68,  65, ...,  80,  49,  19]], dtype=uint8)"
      ]
     },
     "execution_count": 186,
     "metadata": {},
     "output_type": "execute_result"
    }
   ],
   "source": [
    "im_gray[:,0:8]"
   ]
  },
  {
   "cell_type": "code",
   "execution_count": 192,
   "metadata": {},
   "outputs": [],
   "source": [
    "#saving image\n",
    "data=Image.fromarray(im_gray)\n",
    "data.save(\"img_tiger_gray.jpg\")\n"
   ]
  },
  {
   "cell_type": "code",
   "execution_count": 193,
   "metadata": {},
   "outputs": [
    {
     "name": "stdout",
     "output_type": "stream",
     "text": [
      "<class 'numpy.ndarray'>\n"
     ]
    }
   ],
   "source": [
    "#np.asarray()\n",
    "#changes are not allowed\n",
    "im1=np.asarray(Image.open(\"image_plane.jfif\"))\n",
    "print(type(im1))"
   ]
  },
  {
   "cell_type": "code",
   "execution_count": 204,
   "metadata": {},
   "outputs": [
    {
     "name": "stdout",
     "output_type": "stream",
     "text": [
      "<class 'numpy.ndarray'>\n"
     ]
    }
   ],
   "source": [
    "im1=np.array(Image.open(\"image_plane.jfif\"))\n",
    "print(type(im1))"
   ]
  },
  {
   "cell_type": "code",
   "execution_count": 194,
   "metadata": {},
   "outputs": [
    {
     "data": {
      "text/plain": [
       "False"
      ]
     },
     "execution_count": 194,
     "metadata": {},
     "output_type": "execute_result"
    }
   ],
   "source": [
    "im1.flags.writeable"
   ]
  },
  {
   "cell_type": "code",
   "execution_count": 195,
   "metadata": {},
   "outputs": [
    {
     "data": {
      "text/plain": [
       "True"
      ]
     },
     "execution_count": 195,
     "metadata": {},
     "output_type": "execute_result"
    }
   ],
   "source": [
    "im.flags.writeable"
   ]
  },
  {
   "cell_type": "code",
   "execution_count": 198,
   "metadata": {
    "scrolled": true
   },
   "outputs": [
    {
     "ename": "ValueError",
     "evalue": "assignment destination is read-only",
     "output_type": "error",
     "traceback": [
      "\u001b[1;31m---------------------------------------------------------------------------\u001b[0m",
      "\u001b[1;31mValueError\u001b[0m                                Traceback (most recent call last)",
      "\u001b[1;32m<ipython-input-198-3c6601a017be>\u001b[0m in \u001b[0;36m<module>\u001b[1;34m\u001b[0m\n\u001b[0;32m      2\u001b[0m \u001b[0mim1\u001b[0m\u001b[1;33m\u001b[0m\u001b[1;33m\u001b[0m\u001b[0m\n\u001b[0;32m      3\u001b[0m \u001b[1;32mfor\u001b[0m \u001b[0mi\u001b[0m \u001b[1;32min\u001b[0m \u001b[0mrange\u001b[0m\u001b[1;33m(\u001b[0m\u001b[1;36m120\u001b[0m\u001b[1;33m,\u001b[0m\u001b[1;36m160\u001b[0m\u001b[1;33m,\u001b[0m\u001b[1;36m1\u001b[0m\u001b[1;33m)\u001b[0m\u001b[1;33m:\u001b[0m\u001b[1;33m\u001b[0m\u001b[1;33m\u001b[0m\u001b[0m\n\u001b[1;32m----> 4\u001b[1;33m     \u001b[0mim1\u001b[0m\u001b[1;33m[\u001b[0m\u001b[0mi\u001b[0m\u001b[1;33m]\u001b[0m\u001b[1;33m=\u001b[0m\u001b[1;36m45\u001b[0m\u001b[1;33m\u001b[0m\u001b[1;33m\u001b[0m\u001b[0m\n\u001b[0m",
      "\u001b[1;31mValueError\u001b[0m: assignment destination is read-only"
     ]
    }
   ],
   "source": [
    "#changing the colors of picture\n",
    "im1\n",
    "for i in range(120,160,1):\n",
    "    im1[i]=45\n",
    "# ---------------------------------------------------------------------------\n",
    "# ValueError                                Traceback (most recent call last)\n",
    "# <ipython-input-198-3c6601a017be> in <module>\n",
    "#       2 im1\n",
    "#       3 for i in range(120,160,1):\n",
    "# ----> 4     im1[i]=45\n",
    "\n",
    "# ValueError: assignment destination is read-only\n"
   ]
  },
  {
   "cell_type": "code",
   "execution_count": 207,
   "metadata": {},
   "outputs": [],
   "source": [
    "#changing the colors of picture randomly\n",
    "im1\n",
    "for i in range(120,160,1):\n",
    "    im[i]=45\n",
    "    im[0,100]=0\n",
    "    \n",
    "newimage=Image.fromarray(im)\n",
    "newimage.save(\"img_tiger_new.jpg\")"
   ]
  },
  {
   "cell_type": "code",
   "execution_count": 206,
   "metadata": {},
   "outputs": [],
   "source": [
    "#changing the colors of picture randomly\n",
    "im1\n",
    "for i in range(120,160,1):\n",
    "    im1[i]=45\n",
    "    im1[0,100]=0\n",
    "    \n",
    "newimage=Image.fromarray(im1)\n",
    "newimage.save(\"img_palne_new.jpg\")"
   ]
  },
  {
   "cell_type": "code",
   "execution_count": 200,
   "metadata": {},
   "outputs": [
    {
     "data": {
      "text/plain": [
       "'RGB'"
      ]
     },
     "execution_count": 200,
     "metadata": {},
     "output_type": "execute_result"
    }
   ],
   "source": [
    "newimage.mode"
   ]
  },
  {
   "cell_type": "code",
   "execution_count": 211,
   "metadata": {},
   "outputs": [
    {
     "data": {
      "text/plain": [
       "136"
      ]
     },
     "execution_count": 211,
     "metadata": {},
     "output_type": "execute_result"
    }
   ],
   "source": [
    "#get the pixel values and set them\n",
    "r,g,b=im[90,190]\n"
   ]
  },
  {
   "cell_type": "code",
   "execution_count": 212,
   "metadata": {},
   "outputs": [
    {
     "name": "stdout",
     "output_type": "stream",
     "text": [
      "136\n"
     ]
    }
   ],
   "source": [
    "#\n",
    "print(im[90,190,0])"
   ]
  },
  {
   "cell_type": "code",
   "execution_count": 215,
   "metadata": {},
   "outputs": [],
   "source": [
    "#concatenation of images\n",
    "im1=np.array(Image.open(\"image_plane.jfif\"))\n",
    "im1_r=im1.copy()\n",
    "im1_g=im1.copy()\n",
    "im1_b=im1.copy()\n",
    "#RGB\n",
    "im1_r[:,:,(1,2)]=0\n",
    "im1_g[:,:,(0,2)]=0\n",
    "im1_b[:,:,(0,1)]=0"
   ]
  },
  {
   "cell_type": "code",
   "execution_count": 218,
   "metadata": {},
   "outputs": [],
   "source": [
    "#concatenate\n",
    "im_news=np.concatenate((im1_r,im1_g,im1_b),axis=1)\n",
    "n1=Image.fromarray(im_news)\n",
    "n1.save(\"q.jpg\")"
   ]
  },
  {
   "cell_type": "code",
   "execution_count": 219,
   "metadata": {},
   "outputs": [],
   "source": [
    "#concatenate\n",
    "im_news=np.concatenate((im1_r,im1_g,im1_b),axis=0)\n",
    "n1=Image.fromarray(im_news)\n",
    "n1.save(\"q1.jpg\")"
   ]
  },
  {
   "cell_type": "code",
   "execution_count": 223,
   "metadata": {},
   "outputs": [],
   "source": [
    "#vstack\n",
    "im_news=np.vstack((im1_r,im1_g,im1_b))\n",
    "n1=Image.fromarray(im_news)\n",
    "n1.save(\"q3.jpg\")\n",
    "\n"
   ]
  },
  {
   "cell_type": "markdown",
   "metadata": {},
   "source": [
    "https://pastebin.com/MuKqk5hs"
   ]
  },
  {
   "cell_type": "code",
   "execution_count": null,
   "metadata": {},
   "outputs": [],
   "source": [
    "from  PIL import Image \n",
    "import numpy as np\n",
    " \n",
    "im = np.array(Image.open(\"img_tiger.jpg\"))\n",
    " \n",
    "im.shape\n",
    " \n",
    "#grey image\n",
    "im_gray = np.array(Image.open(\"img_tiger.jpg\").convert(\"L\"))\n",
    " \n",
    "data = Image.fromarray(im_gray) \n",
    "data.save(\"img_tiger_grey.jpg\") \n",
    " \n",
    "#chanages are not allowed\n",
    "im1 = np.array(Image.open(\"img_ganesha.jpg\"))\n",
    "print(type(im1))\n",
    " \n",
    "im1.flags.writeable\n",
    "astype\n",
    " \n",
    "#changing the colors of the pic\n",
    " \n",
    "for i in range(120,160,1):\n",
    "    im1[i]= 45\n",
    "    im1[0,1,1]=0\n",
    "    im1[0,100]=0\n",
    "    im1[1,100]=0\n",
    " \n",
    "newimage=Image.fromarray(im1)\n",
    "print(newimage)\n",
    "newimage.mode\n",
    "newimage.save(\"img_ganesha_change.jpg\")\n",
    " \n",
    " \n",
    " \n",
    "#Get the pixel values and set them\n",
    "t= im[90,190]\n",
    "t\n",
    " \n",
    "print(im[90,190,2])\n",
    " \n",
    "#concatenation of images\n",
    "im1 = np.array(Image.open(\"img_ganesha.jpg\"))\n",
    "im_r = im1.copy()\n",
    "im_g=im1.copy()\n",
    "im_b=im1.copy()\n",
    "#RGB\n",
    "im_r[:,:, (1,2)]=0\n",
    "im_g[:,:, (0,2)]=0\n",
    "im_b[:,:, (0,1)]=0\n",
    " \n",
    " \n",
    "#im_new = np.concatenate((im_r,im_g, im_b), axis=1)\n",
    "im_new =np.vstack((im_r,im_g, im_b))\n",
    "n1=Image.fromarray(im_new)\n",
    "n1.save(\"concat.jpg\")\n",
    " \n",
    " "
   ]
  },
  {
   "cell_type": "code",
   "execution_count": null,
   "metadata": {},
   "outputs": [],
   "source": [
    "#Python grade example\n",
    "#You’re a teacher who has just graded your students on a recent test.\n",
    "#Unfortunately, you may have made the test too challenging, and most of the students did worse than expected. \n",
    "#To help everybody out, you’re going to curve everyone’s grades.\n",
    "\n",
    "#You’ll take whatever the average score is  \n",
    "#Additionally, you’ll make sure that the curve doesn’t accidentally \n",
    "#hurt your students’ grades or the student does better than 100%."
   ]
  },
  {
   "cell_type": "code",
   "execution_count": 1,
   "metadata": {},
   "outputs": [
    {
     "name": "stdout",
     "output_type": "stream",
     "text": [
      "average is 60.75\n",
      "[ 91.25  54.25  83.25 107.25  70.25 109.25  93.25  31.25]\n"
     ]
    },
    {
     "data": {
      "text/plain": [
       "array([91.25, 55.  , 83.25, 99.  , 70.25, 99.  , 93.25, 55.  ])"
      ]
     },
     "execution_count": 1,
     "metadata": {},
     "output_type": "execute_result"
    }
   ],
   "source": [
    "import numpy as np\n",
    "CURVE_CENTER = 80\n",
    "grades = np.array([72, 35, 64, 88, 51, 90, 74, 12]) \n",
    "\n",
    "def curve(grades):\n",
    "    average = grades.mean()\n",
    "    print(\"average is\", average)\n",
    "    change = CURVE_CENTER - average\n",
    "    #vectorisation and broadcasting [72, 35, 64, 88,....] + 19.25, 19.25, 19.25........\n",
    "    new_grades = grades + change\n",
    "    print(new_grades)\n",
    "    return np.clip(new_grades, 55, 99)\n",
    "\n",
    "curve(grades)\n",
    "\n"
   ]
  },
  {
   "cell_type": "markdown",
   "metadata": {},
   "source": [
    "## Shapes"
   ]
  },
  {
   "cell_type": "code",
   "execution_count": 4,
   "metadata": {},
   "outputs": [
    {
     "ename": "NameError",
     "evalue": "name 'average' is not defined",
     "output_type": "error",
     "traceback": [
      "\u001b[1;31m---------------------------------------------------------------------------\u001b[0m",
      "\u001b[1;31mNameError\u001b[0m                                 Traceback (most recent call last)",
      "\u001b[1;32m<ipython-input-4-c52897d2a17e>\u001b[0m in \u001b[0;36m<module>\u001b[1;34m\u001b[0m\n\u001b[1;32m----> 1\u001b[1;33m \u001b[0mchange\u001b[0m \u001b[1;33m=\u001b[0m \u001b[0mCURVE_CENTER\u001b[0m \u001b[1;33m-\u001b[0m \u001b[0maverage\u001b[0m\u001b[1;33m\u001b[0m\u001b[1;33m\u001b[0m\u001b[0m\n\u001b[0m\u001b[0;32m      2\u001b[0m \u001b[0mprint\u001b[0m\u001b[1;33m(\u001b[0m\u001b[0mchange\u001b[0m\u001b[1;33m)\u001b[0m\u001b[1;33m\u001b[0m\u001b[1;33m\u001b[0m\u001b[0m\n\u001b[0;32m      3\u001b[0m      \u001b[1;31m#two important concepts follow: Vectorization and Broadcasting\u001b[0m\u001b[1;33m\u001b[0m\u001b[1;33m\u001b[0m\u001b[1;33m\u001b[0m\u001b[0m\n\u001b[0;32m      4\u001b[0m \u001b[0mnew_grades\u001b[0m \u001b[1;33m=\u001b[0m \u001b[0mgrades\u001b[0m \u001b[1;33m+\u001b[0m \u001b[0mchange\u001b[0m\u001b[1;33m\u001b[0m\u001b[1;33m\u001b[0m\u001b[0m\n\u001b[0;32m      5\u001b[0m \u001b[0mprint\u001b[0m\u001b[1;33m(\u001b[0m\u001b[1;34m\"new grades is\"\u001b[0m\u001b[1;33m,\u001b[0m \u001b[0mnew_grades\u001b[0m\u001b[1;33m)\u001b[0m\u001b[1;33m\u001b[0m\u001b[1;33m\u001b[0m\u001b[0m\n",
      "\u001b[1;31mNameError\u001b[0m: name 'average' is not defined"
     ]
    }
   ],
   "source": [
    "\n",
    "change = CURVE_CENTER - average\n",
    "print(change)\n",
    "     #two important concepts follow: Vectorization and Broadcasting\n",
    "new_grades = grades + change\n",
    "print(\"new grades is\", new_grades)\n",
    "return np.clip(new_grades, grades, 100)\n"
   ]
  },
  {
   "cell_type": "code",
   "execution_count": null,
   "metadata": {},
   "outputs": [],
   "source": [
    "#Durer's magic square, a best-known and most enigmatic, with magic constant 34.\n",
    "#The number square below has some amazing properties. \n",
    "#If you add up any of the rows, columns, or diagonals, then you’ll get the same number,\n",
    "#That’s also what you’ll get if you add up each of the four quadrants,\n",
    "#the center four squares, the four corner squares,\n",
    "#or the four corner squares of any of the contained 3 × 3 grids.  "
   ]
  },
  {
   "cell_type": "code",
   "execution_count": 5,
   "metadata": {},
   "outputs": [
    {
     "name": "stdout",
     "output_type": "stream",
     "text": [
      "[False False False False]\n",
      "[False False False False]\n",
      "[False False False False]\n",
      "[False False False False]\n",
      "True\n",
      "True\n",
      "True\n",
      "True\n",
      "True\n",
      "True\n",
      "True\n",
      "True\n",
      "True\n",
      "True\n",
      "True\n",
      "True\n"
     ]
    }
   ],
   "source": [
    "#Inside the for loop, you verify that all the rows and all the columns add up to 34. \n",
    "#After that, using selective indexing, you verify \n",
    "#that each of the quadrants also adds up to 34.\n",
    "import numpy as np\n",
    "\n",
    "square = np.array([\n",
    "[16, 3, 2, 13],\n",
    "[5, 10, 11, 8],\n",
    "[9, 6, 7, 12],\n",
    "[4, 15, 14, 1]\n",
    " ])\n",
    "\n",
    "for i in range(4):\n",
    "    print(square[:,i]==34)\n",
    "    \n",
    "\n",
    "\n",
    "\n",
    "\n",
    "\n",
    "for i in range(4):\n",
    "    print(square[:, i].sum() == 34)\n",
    "    print(square[i, :].sum() == 34)\n",
    "\n",
    "#the first quadrant\n",
    "print( square[:2, :2].sum() == 34)\n",
    "\n",
    "#third quadrant\n",
    "print( square[2:, :2].sum() == 34)\n",
    "\n",
    "#second quadrant\n",
    "print( square[:2, 2:].sum() == 34)\n",
    "\n",
    "#4th quadrant\n",
    "print( square[2:, 2:].sum() == 34)"
   ]
  },
  {
   "cell_type": "markdown",
   "metadata": {},
   "source": [
    "# Transposing, Sorting, and Concatenating"
   ]
  },
  {
   "cell_type": "code",
   "execution_count": 6,
   "metadata": {},
   "outputs": [
    {
     "data": {
      "text/plain": [
       "array([[1, 3, 5],\n",
       "       [2, 4, 6]])"
      ]
     },
     "execution_count": 6,
     "metadata": {},
     "output_type": "execute_result"
    }
   ],
   "source": [
    "#When you calculate the transpose of an array, the row and column \n",
    "#indices of every element are switched.\n",
    "\n",
    "import numpy as np\n",
    "\n",
    "a = np.array([\n",
    "    [1, 2],\n",
    "    [3, 4],\n",
    "    [5, 6],\n",
    "])\n",
    "\n",
    "a.T\n"
   ]
  },
  {
   "cell_type": "code",
   "execution_count": 8,
   "metadata": {},
   "outputs": [
    {
     "data": {
      "text/plain": [
       "array([[1, 3, 5],\n",
       "       [2, 4, 6]])"
      ]
     },
     "execution_count": 8,
     "metadata": {},
     "output_type": "execute_result"
    }
   ],
   "source": [
    "a = np.array([\n",
    "    [1, 2],\n",
    "    [3, 4],\n",
    "    [5, 6],\n",
    "])\n",
    "a.transpose()"
   ]
  },
  {
   "cell_type": "markdown",
   "metadata": {},
   "source": [
    "## Sorting"
   ]
  },
  {
   "cell_type": "code",
   "execution_count": 9,
   "metadata": {},
   "outputs": [
    {
     "name": "stdout",
     "output_type": "stream",
     "text": [
      "Along first axis : \n",
      " [[10  1]\n",
      " [12 15]]\n",
      "\n",
      "Along last axis : \n",
      " [[10 15]\n",
      " [ 1 12]]\n",
      "\n",
      "Along none axis : \n",
      " [ 1 10 12 15]\n"
     ]
    },
    {
     "data": {
      "text/plain": [
       "array([[12, 15],\n",
       "       [10,  1]])"
      ]
     },
     "execution_count": 9,
     "metadata": {},
     "output_type": "execute_result"
    }
   ],
   "source": [
    "# importing libraries \n",
    "import numpy as np \n",
    "  \n",
    "# sort along the first axis (col wise)\n",
    "a = np.array([[12, 15], \n",
    "              [10, 1]]) \n",
    "arr1 = np.sort(a, axis = 0)         \n",
    "print (\"Along first axis : \\n\", arr1)         \n",
    "    \n",
    "# sort along the last axis  (row wise)\n",
    "a = np.array([[10, 15], \n",
    "              [12, 1]]) \n",
    "arr2 = np.sort(a, axis = -1)         \n",
    "print (\"\\nAlong last axis : \\n\", arr2) \n",
    "   \n",
    "a = np.array([[12, 15], \n",
    "              [10, 1]]) \n",
    "#None flattens the array and performs a global sort.\n",
    "arr1 = np.sort(a, axis = None)         \n",
    "print (\"\\nAlong none axis : \\n\", arr1) \n",
    "\n",
    "np.array([[12, 15], \n",
    "        [10, 1]]) "
   ]
  },
  {
   "cell_type": "code",
   "execution_count": 10,
   "metadata": {},
   "outputs": [
    {
     "data": {
      "text/plain": [
       "array([[1, 4, 7],\n",
       "       [5, 6, 8],\n",
       "       [1, 2, 3]])"
      ]
     },
     "execution_count": 10,
     "metadata": {},
     "output_type": "execute_result"
    }
   ],
   "source": [
    "#Omitting the axis argument automatically selects the last and\n",
    "#innermost dimension, which is the rows in this example. \n",
    "\n",
    "import numpy as np\n",
    "\n",
    "data = np.array([[7, 1, 4],\n",
    "                 [8, 6, 5],\n",
    "                 [1, 2, 3]])\n",
    "\n",
    "np.sort(data)   #by default row-wise sorting done"
   ]
  },
  {
   "cell_type": "code",
   "execution_count": 11,
   "metadata": {},
   "outputs": [
    {
     "data": {
      "text/plain": [
       "array([1, 1, 2, 3, 4, 5, 6, 7, 8])"
      ]
     },
     "execution_count": 11,
     "metadata": {},
     "output_type": "execute_result"
    }
   ],
   "source": [
    "np.array([[1, 4, 7],\n",
    "          [5, 6, 8],\n",
    "          [1, 2, 3]])\n",
    "\n",
    "np.sort(data, axis=None)\n"
   ]
  },
  {
   "cell_type": "code",
   "execution_count": 12,
   "metadata": {},
   "outputs": [
    {
     "data": {
      "text/plain": [
       "array([[1, 1, 3],\n",
       "       [7, 2, 4],\n",
       "       [8, 6, 5]])"
      ]
     },
     "execution_count": 12,
     "metadata": {},
     "output_type": "execute_result"
    }
   ],
   "source": [
    "np.sort(data, axis=0)\n"
   ]
  },
  {
   "cell_type": "code",
   "execution_count": null,
   "metadata": {},
   "outputs": [],
   "source": [
    "#Implementing a Maclaurin Series which are a way of approximating more complicated \n",
    "#functions with an infinite series of summed terms centered about zero.\n",
    "#Using NumPy allows you to keep closer to a one-to-one representation from equation to code."
   ]
  },
  {
   "cell_type": "code",
   "execution_count": null,
   "metadata": {},
   "outputs": [],
   "source": [
    "# You add up terms starting at zero and going theoretically to infinity. \n",
    "# Each nth term will be x raised to n\n",
    "# and divided by n!, which is the notation for the factorial operation."
   ]
  },
  {
   "cell_type": "code",
   "execution_count": 13,
   "metadata": {},
   "outputs": [
    {
     "name": "stdout",
     "output_type": "stream",
     "text": [
      "Actual: 20.085536923187664\n",
      "N (terms)\tMaclaurin\t\t\t\t\tError\n",
      "1 \t\t 1.0 \t\t\t\t 20.085536923187664\n",
      "1\t\t1.000\t\t19.086\n",
      "2 \t\t 4.0 \t\t\t\t 20.085536923187664\n",
      "2\t\t4.000\t\t16.086\n",
      "3 \t\t 8.5 \t\t\t\t 20.085536923187664\n",
      "3\t\t8.500\t\t11.586\n",
      "4 \t\t 13.0 \t\t\t\t 20.085536923187664\n",
      "4\t\t13.000\t\t7.086\n",
      "5 \t\t 16.375 \t\t\t\t 20.085536923187664\n",
      "5\t\t16.375\t\t3.711\n",
      "6 \t\t 18.4 \t\t\t\t 20.085536923187664\n",
      "6\t\t18.400\t\t1.686\n",
      "7 \t\t 19.412499999999998 \t\t\t\t 20.085536923187664\n",
      "7\t\t19.412\t\t0.673\n",
      "8 \t\t 19.84642857142857 \t\t\t\t 20.085536923187664\n",
      "8\t\t19.846\t\t0.239\n",
      "9 \t\t 20.009151785714288 \t\t\t\t 20.085536923187664\n",
      "9\t\t20.009\t\t0.076\n",
      "10 \t\t 20.06339285714286 \t\t\t\t 20.085536923187664\n",
      "10\t\t20.063\t\t0.022\n",
      "11 \t\t 20.079665178571428 \t\t\t\t 20.085536923187664\n",
      "11\t\t20.080\t\t0.006\n",
      "12 \t\t 20.084103084415585 \t\t\t\t 20.085536923187664\n",
      "12\t\t20.084\t\t0.001\n",
      "13 \t\t 20.085212560876624 \t\t\t\t 20.085536923187664\n",
      "13\t\t20.085\t\t0.000\n"
     ]
    }
   ],
   "source": [
    "from math import e, factorial\n",
    "\n",
    "import numpy as np\n",
    "\n",
    "fac = np.vectorize(factorial)\n",
    "\n",
    "def e_x(x, terms):\n",
    "    \"\"\"Approximates e^x using a given number of terms of\n",
    "    the Maclaurin series\n",
    "    \"\"\"\n",
    "    n = np.arange(terms)\n",
    "    return np.sum((x ** n) / fac(n))\n",
    "\n",
    "#if __name__ == \"__main__\":\n",
    "def pr():\n",
    "    \n",
    "    print(\"Actual:\", e ** 3)  # Using e from the standard library\n",
    "\n",
    "    print(\"N (terms)\\tMaclaurin\\t\\t\\t\\t\\tError\")\n",
    "\n",
    "    for n in range(1, 14):\n",
    "        maclaurin = e_x(3, n)\n",
    "        print(n,\"\\t\\t\",maclaurin,\"\\t\\t\\t\\t\",e**3)\n",
    "        print(f\"{n}\\t\\t{maclaurin:.03f}\\t\\t{e**3 - maclaurin:.03f}\")\n",
    "pr()"
   ]
  },
  {
   "cell_type": "code",
   "execution_count": null,
   "metadata": {},
   "outputs": [],
   "source": [
    "# NumPy has a special kind of array, called a record array or structured array, \n",
    "#with which you can specify a type and, optionally,a name on a per-column basis"
   ]
  },
  {
   "cell_type": "code",
   "execution_count": 14,
   "metadata": {},
   "outputs": [
    {
     "data": {
      "text/plain": [
       "('joe', 32, 6)"
      ]
     },
     "execution_count": 14,
     "metadata": {},
     "output_type": "execute_result"
    }
   ],
   "source": [
    "import numpy as np\n",
    "\n",
    "data = np.array([\n",
    "(\"joe\", 32, 6),\n",
    "(\"mary\", 15, 20),\n",
    "(\"felipe\", 80, 100),\n",
    "(\"beyonce\", 38, 9001),], dtype=[(\"name\", str, 10), (\"age\", int), (\"power\", int)])\n",
    "\n",
    "data[0]"
   ]
  },
  {
   "cell_type": "code",
   "execution_count": 15,
   "metadata": {},
   "outputs": [
    {
     "data": {
      "text/plain": [
       "array(['joe', 'mary', 'felipe', 'beyonce'], dtype='<U10')"
      ]
     },
     "execution_count": 15,
     "metadata": {},
     "output_type": "execute_result"
    }
   ],
   "source": [
    "data[\"name\"]"
   ]
  },
  {
   "cell_type": "code",
   "execution_count": 16,
   "metadata": {},
   "outputs": [
    {
     "data": {
      "text/plain": [
       "array(['beyonce'], dtype='<U10')"
      ]
     },
     "execution_count": 16,
     "metadata": {},
     "output_type": "execute_result"
    }
   ],
   "source": [
    "a=data[data[\"power\"] > 9000][\"name\"]\n",
    "a\n"
   ]
  },
  {
   "cell_type": "code",
   "execution_count": 17,
   "metadata": {},
   "outputs": [
    {
     "data": {
      "text/plain": [
       "array([('joe', 32,    6), ('felipe', 80,  100), ('beyonce', 38, 9001)],\n",
       "      dtype=[('name', '<U10'), ('age', '<i4'), ('power', '<i4')])"
      ]
     },
     "execution_count": 17,
     "metadata": {},
     "output_type": "execute_result"
    }
   ],
   "source": [
    "data[data[\"age\"] > 20]"
   ]
  },
  {
   "cell_type": "code",
   "execution_count": 18,
   "metadata": {},
   "outputs": [
    {
     "data": {
      "text/plain": [
       "array(['joe', 'felipe', 'beyonce'], dtype='<U10')"
      ]
     },
     "execution_count": 18,
     "metadata": {},
     "output_type": "execute_result"
    }
   ],
   "source": [
    "np.sort(data[data[\"age\"] > 20], order=\"power\")[\"name\"]"
   ]
  },
  {
   "cell_type": "code",
   "execution_count": 19,
   "metadata": {},
   "outputs": [
    {
     "name": "stdout",
     "output_type": "stream",
     "text": [
      "int16\n"
     ]
    },
    {
     "data": {
      "text/plain": [
       "array([[ 3,  8,  9],\n",
       "       [ 1, -7,  0],\n",
       "       [ 4, 12,  4]], dtype=int16)"
      ]
     },
     "execution_count": 19,
     "metadata": {},
     "output_type": "execute_result"
    }
   ],
   "source": [
    "i16 = np.dtype(np.int16)\n",
    "print(i16)\n",
    "\n",
    "lst = [ [3.4, 8.7, 9.9], \n",
    "        [1.1, -7.8, -0.7],\n",
    "        [4.1, 12.3, 4.8] ]\n",
    "\n",
    "A = np.array(lst, dtype=i16)\n",
    "A"
   ]
  },
  {
   "cell_type": "code",
   "execution_count": 20,
   "metadata": {},
   "outputs": [
    {
     "name": "stdout",
     "output_type": "stream",
     "text": [
      "\n",
      "Sum of arr :  279\n",
      "Sum of arr(uint8) :  23\n",
      "Sum of arr(float32) :  279.0\n",
      "\n",
      "Is np.sum(arr).dtype == np.uint :  False\n"
     ]
    }
   ],
   "source": [
    "arr=np.array([[14, 17, 12, 33, 44],\n",
    "              [15, 6, 27, 8, 19],\n",
    "              [23, 2, 54, 1, 4]])\n",
    "print(\"\\nSum of arr : \", np.sum(arr))\n",
    "print(\"Sum of arr(uint8) : \", np.sum(arr, dtype = np.uint8))\n",
    "print(\"Sum of arr(float32) : \", np.sum(arr, dtype = np.float32))\n",
    "print (\"\\nIs np.sum(arr).dtype == np.uint : \",\n",
    "       np.sum(arr).dtype == np.uint)"
   ]
  },
  {
   "cell_type": "code",
   "execution_count": 21,
   "metadata": {},
   "outputs": [
    {
     "name": "stdout",
     "output_type": "stream",
     "text": [
      "\n",
      "Sum of arr :  279\n",
      "Sum of arr(axis = 0) :  [52 25 93 42 67]\n",
      "Sum of arr(axis = 1) :  [120.  75.  84.]\n",
      "new is [120.  75.  84.]\n",
      "\n",
      "Sum of arr (keepdimension is True): \n",
      " [[120]\n",
      " [ 75]\n",
      " [ 84]]\n",
      "new is  [120.  75.  84.]\n"
     ]
    }
   ],
   "source": [
    "new=np.empty([3])\n",
    "print(\"\\nSum of arr : \", np.sum(arr))\n",
    "print(\"Sum of arr(axis = 0) : \", np.sum(arr, axis = 0))\n",
    "print(\"Sum of arr(axis = 1) : \", np.sum(arr, axis = 1,out=new))\n",
    "print(\"new is\", new)\n",
    "print(\"\\nSum of arr (keepdimension is True): \\n\",\n",
    "      np.sum(arr, axis = 1, keepdims = True)) \n",
    "print(\"new is \", new)"
   ]
  },
  {
   "cell_type": "code",
   "execution_count": 22,
   "metadata": {},
   "outputs": [
    {
     "name": "stdout",
     "output_type": "stream",
     "text": [
      "[[1 2]\n",
      " [3 4]]\n",
      "\n",
      "[[5 6]]\n",
      "\n",
      "[[1 2]\n",
      " [3 4]\n",
      " [5 6]]\n",
      "[[1 2 5]\n",
      " [3 4 6]]\n",
      "[1 2 3 4 5 6]\n"
     ]
    }
   ],
   "source": [
    "a = np.array([[1, 2], [3, 4]])\n",
    "print(a)\n",
    "print()\n",
    "b = np.array([[5, 6]])\n",
    "print(b)\n",
    "print()\n",
    "arr=np.concatenate((a, b), axis=0)\n",
    "print(arr)\n",
    "arr1=np.concatenate((a,b.T), axis=1)\n",
    "print(arr1)\n",
    "arr2=np.concatenate((a, b), axis=None)\n",
    "print(arr2)"
   ]
  },
  {
   "cell_type": "code",
   "execution_count": 23,
   "metadata": {},
   "outputs": [
    {
     "name": "stdout",
     "output_type": "stream",
     "text": [
      "initial_array :  [[ 1  2  3]\n",
      " [45  4  7]\n",
      " [ 9  6 10]]\n",
      "resultant array [[ 1  2  3  1]\n",
      " [45  4  7  2]\n",
      " [ 9  6 10  3]]\n"
     ]
    }
   ],
   "source": [
    "# Python code to demonstrate\n",
    "# adding columns in numpy array\n",
    " \n",
    "import numpy as np\n",
    " \n",
    "ini_array = np.array([[1, 2, 3], [45, 4, 7], [9, 6, 10]])\n",
    " \n",
    "# printing initial array\n",
    "print(\"initial_array : \", str(ini_array));\n",
    " \n",
    "# Array to be added as column\n",
    "column_to_be_added = np.array([[1, 2, 3]])\n",
    " \n",
    "# Adding column to numpy array\n",
    "\n",
    "result=np.hstack((ini_array, column_to_be_added.T))\n",
    "#this will also work\n",
    "#result = np.hstack((ini_array, np.atleast_2d(column_to_be_added).T))\n",
    " \n",
    "# printing result\n",
    "print (\"resultant array\", str(result))"
   ]
  },
  {
   "cell_type": "code",
   "execution_count": 24,
   "metadata": {},
   "outputs": [
    {
     "name": "stdout",
     "output_type": "stream",
     "text": [
      "initial_array :  [[ 1  2  3]\n",
      " [45  4  7]\n",
      " [ 9  6 10]]\n",
      "resultant array [[ 1  2  3  1]\n",
      " [45  4  7  2]\n",
      " [ 9  6 10  3]]\n"
     ]
    }
   ],
   "source": [
    "import numpy as np\n",
    " \n",
    "ini_array = np.array([[1, 2, 3], [45, 4, 7], [9, 6, 10]])\n",
    " \n",
    "# printing initial array\n",
    "print(\"initial_array : \", str(ini_array));\n",
    " \n",
    "# Array to be added as column\n",
    "column_to_be_added = np.array([1, 2, 3])\n",
    " \n",
    "# Adding column to numpy array\n",
    "result = np.column_stack((ini_array, column_to_be_added))\n",
    " \n",
    "# printing result\n",
    "print (\"resultant array\", str(result))"
   ]
  },
  {
   "cell_type": "code",
   "execution_count": 25,
   "metadata": {},
   "outputs": [
    {
     "name": "stdout",
     "output_type": "stream",
     "text": [
      "initial_array :  [[ 1  2  3]\n",
      " [45  4  7]\n",
      " [ 9  6 10]]\n",
      "(3,)\n",
      "(3, 3)\n",
      "resultant array [[ 1  2  3]\n",
      " [45  4  7]\n",
      " [ 9  6 10]\n",
      " [ 1  2  3]]\n"
     ]
    }
   ],
   "source": [
    "#python code to demonstrate\n",
    "# adding rows in numpy array\n",
    " \n",
    "import numpy as np\n",
    " \n",
    "ini_array = np.array([[1, 2, 3], [45, 4, 7], [9, 6, 10]])\n",
    " \n",
    "# printing initial array\n",
    "print(\"initial_array : \", str(ini_array));\n",
    " \n",
    "# Array to be added as row\n",
    "row_to_be_added = np.array([1, 2, 3])\n",
    " \n",
    "# Adding row to numpy array\n",
    "result = np.vstack ((ini_array, row_to_be_added) )\n",
    "print(row_to_be_added.shape) \n",
    "print(ini_array.shape) \n",
    "# printing result\n",
    "print (\"resultant array\", str(result))"
   ]
  },
  {
   "cell_type": "code",
   "execution_count": 26,
   "metadata": {},
   "outputs": [
    {
     "name": "stdout",
     "output_type": "stream",
     "text": [
      "Creating 8X3 array using numpy.arange\n",
      "[[10 11 12]\n",
      " [13 14 15]\n",
      " [16 17 18]\n",
      " [19 20 21]\n",
      " [22 23 24]\n",
      " [25 26 27]\n",
      " [28 29 30]\n",
      " [31 32 33]]\n",
      "\n",
      "Dividing 8X3 array into 4 sub array\n",
      "\n",
      "[array([[10, 11, 12],\n",
      "       [13, 14, 15]]), array([[16, 17, 18],\n",
      "       [19, 20, 21]]), array([[22, 23, 24],\n",
      "       [25, 26, 27]]), array([[28, 29, 30],\n",
      "       [31, 32, 33]])]\n"
     ]
    }
   ],
   "source": [
    "import numpy\n",
    "\n",
    "print(\"Creating 8X3 array using numpy.arange\")\n",
    "sampleArray = numpy.arange(10, 34, 1)\n",
    "sampleArray = sampleArray.reshape(8,3)\n",
    "print (sampleArray)\n",
    "\n",
    "print(\"\\nDividing 8X3 array into 4 sub array\\n\")\n",
    "subArrays = numpy.split(sampleArray, 4) \n",
    "print(subArrays)"
   ]
  },
  {
   "cell_type": "code",
   "execution_count": null,
   "metadata": {},
   "outputs": [],
   "source": []
  }
 ],
 "metadata": {
  "kernelspec": {
   "display_name": "Python 3",
   "language": "python",
   "name": "python3"
  },
  "language_info": {
   "codemirror_mode": {
    "name": "ipython",
    "version": 3
   },
   "file_extension": ".py",
   "mimetype": "text/x-python",
   "name": "python",
   "nbconvert_exporter": "python",
   "pygments_lexer": "ipython3",
   "version": "3.8.5"
  }
 },
 "nbformat": 4,
 "nbformat_minor": 4
}
