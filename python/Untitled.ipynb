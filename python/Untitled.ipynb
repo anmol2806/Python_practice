{
 "cells": [
  {
   "cell_type": "code",
   "execution_count": 2,
   "metadata": {},
   "outputs": [
    {
     "data": {
      "text/html": [
       "<div>\n",
       "<style scoped>\n",
       "    .dataframe tbody tr th:only-of-type {\n",
       "        vertical-align: middle;\n",
       "    }\n",
       "\n",
       "    .dataframe tbody tr th {\n",
       "        vertical-align: top;\n",
       "    }\n",
       "\n",
       "    .dataframe thead th {\n",
       "        text-align: right;\n",
       "    }\n",
       "</style>\n",
       "<table border=\"1\" class=\"dataframe\">\n",
       "  <thead>\n",
       "    <tr style=\"text-align: right;\">\n",
       "      <th></th>\n",
       "      <th>RollNo</th>\n",
       "      <th>Name</th>\n",
       "      <th>Class</th>\n",
       "      <th>Game</th>\n",
       "      <th>Gender</th>\n",
       "      <th>Marks</th>\n",
       "    </tr>\n",
       "  </thead>\n",
       "  <tbody>\n",
       "    <tr>\n",
       "      <th>0</th>\n",
       "      <td>10001</td>\n",
       "      <td>abc</td>\n",
       "      <td>10</td>\n",
       "      <td>Cricket</td>\n",
       "      <td>M</td>\n",
       "      <td>99</td>\n",
       "    </tr>\n",
       "    <tr>\n",
       "      <th>1</th>\n",
       "      <td>10002</td>\n",
       "      <td>rahul</td>\n",
       "      <td>10</td>\n",
       "      <td>Hockey</td>\n",
       "      <td>F</td>\n",
       "      <td>88</td>\n",
       "    </tr>\n",
       "    <tr>\n",
       "      <th>2</th>\n",
       "      <td>10003</td>\n",
       "      <td>seema</td>\n",
       "      <td>11</td>\n",
       "      <td>Cricket</td>\n",
       "      <td>M</td>\n",
       "      <td>77</td>\n",
       "    </tr>\n",
       "    <tr>\n",
       "      <th>3</th>\n",
       "      <td>10004</td>\n",
       "      <td>anu</td>\n",
       "      <td>11</td>\n",
       "      <td>Cricket</td>\n",
       "      <td>M</td>\n",
       "      <td>99</td>\n",
       "    </tr>\n",
       "    <tr>\n",
       "      <th>4</th>\n",
       "      <td>10005</td>\n",
       "      <td>rita</td>\n",
       "      <td>12</td>\n",
       "      <td>Hockey</td>\n",
       "      <td>M</td>\n",
       "      <td>66</td>\n",
       "    </tr>\n",
       "    <tr>\n",
       "      <th>5</th>\n",
       "      <td>10006</td>\n",
       "      <td>manju</td>\n",
       "      <td>12</td>\n",
       "      <td>Chess</td>\n",
       "      <td>F</td>\n",
       "      <td>77</td>\n",
       "    </tr>\n",
       "    <tr>\n",
       "      <th>6</th>\n",
       "      <td>10007</td>\n",
       "      <td>tina</td>\n",
       "      <td>12</td>\n",
       "      <td>Cricket</td>\n",
       "      <td>F</td>\n",
       "      <td>87</td>\n",
       "    </tr>\n",
       "    <tr>\n",
       "      <th>7</th>\n",
       "      <td>10008</td>\n",
       "      <td>anil</td>\n",
       "      <td>10</td>\n",
       "      <td>Hockey</td>\n",
       "      <td>M</td>\n",
       "      <td>76</td>\n",
       "    </tr>\n",
       "    <tr>\n",
       "      <th>8</th>\n",
       "      <td>10009</td>\n",
       "      <td>rajan</td>\n",
       "      <td>11</td>\n",
       "      <td>Chess</td>\n",
       "      <td>F</td>\n",
       "      <td>34</td>\n",
       "    </tr>\n",
       "    <tr>\n",
       "      <th>9</th>\n",
       "      <td>10010</td>\n",
       "      <td>deepak</td>\n",
       "      <td>10</td>\n",
       "      <td>Chess</td>\n",
       "      <td>M</td>\n",
       "      <td>46</td>\n",
       "    </tr>\n",
       "    <tr>\n",
       "      <th>10</th>\n",
       "      <td>10011</td>\n",
       "      <td>manish</td>\n",
       "      <td>12</td>\n",
       "      <td>Hockey</td>\n",
       "      <td>F</td>\n",
       "      <td>58</td>\n",
       "    </tr>\n",
       "    <tr>\n",
       "      <th>11</th>\n",
       "      <td>10012</td>\n",
       "      <td>hina</td>\n",
       "      <td>12</td>\n",
       "      <td>Hockey</td>\n",
       "      <td>M</td>\n",
       "      <td>58</td>\n",
       "    </tr>\n",
       "    <tr>\n",
       "      <th>12</th>\n",
       "      <td>10013</td>\n",
       "      <td>rqtyui</td>\n",
       "      <td>10</td>\n",
       "      <td>Cricket</td>\n",
       "      <td>M</td>\n",
       "      <td>99</td>\n",
       "    </tr>\n",
       "    <tr>\n",
       "      <th>13</th>\n",
       "      <td>10014</td>\n",
       "      <td>sushil</td>\n",
       "      <td>10</td>\n",
       "      <td>Hockey</td>\n",
       "      <td>F</td>\n",
       "      <td>88</td>\n",
       "    </tr>\n",
       "    <tr>\n",
       "      <th>14</th>\n",
       "      <td>10015</td>\n",
       "      <td>rajat</td>\n",
       "      <td>11</td>\n",
       "      <td>Cricket</td>\n",
       "      <td>M</td>\n",
       "      <td>77</td>\n",
       "    </tr>\n",
       "    <tr>\n",
       "      <th>15</th>\n",
       "      <td>10016</td>\n",
       "      <td>rajeev</td>\n",
       "      <td>11</td>\n",
       "      <td>Cricket</td>\n",
       "      <td>M</td>\n",
       "      <td>99</td>\n",
       "    </tr>\n",
       "    <tr>\n",
       "      <th>16</th>\n",
       "      <td>10017</td>\n",
       "      <td>tina</td>\n",
       "      <td>12</td>\n",
       "      <td>Hockey</td>\n",
       "      <td>M</td>\n",
       "      <td>66</td>\n",
       "    </tr>\n",
       "    <tr>\n",
       "      <th>17</th>\n",
       "      <td>10018</td>\n",
       "      <td>ranju</td>\n",
       "      <td>12</td>\n",
       "      <td>Chess</td>\n",
       "      <td>F</td>\n",
       "      <td>77</td>\n",
       "    </tr>\n",
       "    <tr>\n",
       "      <th>18</th>\n",
       "      <td>10019</td>\n",
       "      <td>jini</td>\n",
       "      <td>12</td>\n",
       "      <td>Cricket</td>\n",
       "      <td>F</td>\n",
       "      <td>87</td>\n",
       "    </tr>\n",
       "    <tr>\n",
       "      <th>19</th>\n",
       "      <td>10020</td>\n",
       "      <td>kini</td>\n",
       "      <td>10</td>\n",
       "      <td>Hockey</td>\n",
       "      <td>M</td>\n",
       "      <td>76</td>\n",
       "    </tr>\n",
       "    <tr>\n",
       "      <th>20</th>\n",
       "      <td>10021</td>\n",
       "      <td>kamna</td>\n",
       "      <td>11</td>\n",
       "      <td>Chess</td>\n",
       "      <td>F</td>\n",
       "      <td>34</td>\n",
       "    </tr>\n",
       "    <tr>\n",
       "      <th>21</th>\n",
       "      <td>10022</td>\n",
       "      <td>ranju</td>\n",
       "      <td>10</td>\n",
       "      <td>Chess</td>\n",
       "      <td>M</td>\n",
       "      <td>46</td>\n",
       "    </tr>\n",
       "    <tr>\n",
       "      <th>22</th>\n",
       "      <td>10023</td>\n",
       "      <td>arti</td>\n",
       "      <td>12</td>\n",
       "      <td>Hockey</td>\n",
       "      <td>F</td>\n",
       "      <td>58</td>\n",
       "    </tr>\n",
       "    <tr>\n",
       "      <th>23</th>\n",
       "      <td>10024</td>\n",
       "      <td>mini</td>\n",
       "      <td>12</td>\n",
       "      <td>Hockey</td>\n",
       "      <td>M</td>\n",
       "      <td>58</td>\n",
       "    </tr>\n",
       "  </tbody>\n",
       "</table>\n",
       "</div>"
      ],
      "text/plain": [
       "    RollNo    Name  Class     Game Gender  Marks\n",
       "0    10001     abc     10  Cricket      M     99\n",
       "1    10002   rahul     10   Hockey      F     88\n",
       "2    10003   seema     11  Cricket      M     77\n",
       "3    10004     anu     11  Cricket      M     99\n",
       "4    10005    rita     12   Hockey      M     66\n",
       "5    10006   manju     12    Chess      F     77\n",
       "6    10007    tina     12  Cricket      F     87\n",
       "7    10008    anil     10   Hockey      M     76\n",
       "8    10009   rajan     11    Chess      F     34\n",
       "9    10010  deepak     10    Chess      M     46\n",
       "10   10011  manish     12   Hockey      F     58\n",
       "11   10012    hina     12   Hockey      M     58\n",
       "12   10013  rqtyui     10  Cricket      M     99\n",
       "13   10014  sushil     10   Hockey      F     88\n",
       "14   10015   rajat     11  Cricket      M     77\n",
       "15   10016  rajeev     11  Cricket      M     99\n",
       "16   10017    tina     12   Hockey      M     66\n",
       "17   10018   ranju     12    Chess      F     77\n",
       "18   10019    jini     12  Cricket      F     87\n",
       "19   10020    kini     10   Hockey      M     76\n",
       "20   10021   kamna     11    Chess      F     34\n",
       "21   10022   ranju     10    Chess      M     46\n",
       "22   10023    arti     12   Hockey      F     58\n",
       "23   10024    mini     12   Hockey      M     58"
      ]
     },
     "execution_count": 2,
     "metadata": {},
     "output_type": "execute_result"
    }
   ],
   "source": [
    "import pandas as pd\n",
    "# import numpy as np\n",
    "df = pd.read_csv(\"marks.csv\")\n",
    "df"
   ]
  },
  {
   "cell_type": "code",
   "execution_count": 5,
   "metadata": {},
   "outputs": [
    {
     "data": {
      "text/plain": [
       "RollNo     int64\n",
       "Name      object\n",
       "Class      int64\n",
       "Game      object\n",
       "Gender    object\n",
       "Marks      int64\n",
       "dtype: object"
      ]
     },
     "execution_count": 5,
     "metadata": {},
     "output_type": "execute_result"
    }
   ],
   "source": [
    "df.dtypes\n"
   ]
  },
  {
   "cell_type": "code",
   "execution_count": 6,
   "metadata": {},
   "outputs": [],
   "source": [
    "gen=df.groupby('Game')"
   ]
  },
  {
   "cell_type": "code",
   "execution_count": 7,
   "metadata": {},
   "outputs": [
    {
     "data": {
      "text/plain": [
       "<pandas.core.groupby.generic.DataFrameGroupBy object at 0x0A917580>"
      ]
     },
     "execution_count": 7,
     "metadata": {},
     "output_type": "execute_result"
    }
   ],
   "source": [
    "gen"
   ]
  },
  {
   "cell_type": "code",
   "execution_count": 8,
   "metadata": {},
   "outputs": [
    {
     "data": {
      "text/plain": [
       "Game\n",
       "Chess      314\n",
       "Cricket    724\n",
       "Hockey     692\n",
       "Name: Marks, dtype: int64"
      ]
     },
     "execution_count": 8,
     "metadata": {},
     "output_type": "execute_result"
    }
   ],
   "source": [
    "gen['Marks'].agg(sum)"
   ]
  },
  {
   "cell_type": "code",
   "execution_count": 9,
   "metadata": {},
   "outputs": [
    {
     "data": {
      "text/plain": [
       "pandas.core.groupby.generic.DataFrameGroupBy"
      ]
     },
     "execution_count": 9,
     "metadata": {},
     "output_type": "execute_result"
    }
   ],
   "source": [
    "type (gen)"
   ]
  },
  {
   "cell_type": "code",
   "execution_count": 10,
   "metadata": {},
   "outputs": [
    {
     "data": {
      "text/plain": [
       "{'Chess': [5, 8, 9, 17, 20, 21], 'Cricket': [0, 2, 3, 6, 12, 14, 15, 18], 'Hockey': [1, 4, 7, 10, 11, 13, 16, 19, 22, 23]}"
      ]
     },
     "execution_count": 10,
     "metadata": {},
     "output_type": "execute_result"
    }
   ],
   "source": [
    "gen.groups"
   ]
  },
  {
   "cell_type": "code",
   "execution_count": 13,
   "metadata": {},
   "outputs": [
    {
     "data": {
      "text/plain": [
       "{('Chess', 10): [9, 21], ('Chess', 11): [8, 20], ('Chess', 12): [5, 17], ('Cricket', 10): [0, 12], ('Cricket', 11): [2, 3, 14, 15], ('Cricket', 12): [6, 18], ('Hockey', 10): [1, 7, 13, 19], ('Hockey', 12): [4, 10, 11, 16, 22, 23]}"
      ]
     },
     "execution_count": 13,
     "metadata": {},
     "output_type": "execute_result"
    }
   ],
   "source": [
    "classgame=df.groupby([\"Game\",\"Class\"])\n",
    "classgame.groups"
   ]
  }
 ],
 "metadata": {
  "kernelspec": {
   "display_name": "Python 3",
   "language": "python",
   "name": "python3"
  },
  "language_info": {
   "codemirror_mode": {
    "name": "ipython",
    "version": 3
   },
   "file_extension": ".py",
   "mimetype": "text/x-python",
   "name": "python",
   "nbconvert_exporter": "python",
   "pygments_lexer": "ipython3",
   "version": "3.8.5"
  }
 },
 "nbformat": 4,
 "nbformat_minor": 4
}
