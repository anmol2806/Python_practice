{
 "cells": [
  {
   "cell_type": "markdown",
   "metadata": {},
   "source": [
    "# NUMPY"
   ]
  },
  {
   "cell_type": "markdown",
   "metadata": {},
   "source": [
    "What is NumPy?<br>\n",
    "NumPy is a Python library used for working with arrays.\n",
    "\n",
    "It also has functions for working in domain of linear algebra, fourier transform, and matrices.\n",
    "\n",
    "NumPy was created in 2005 by Travis Oliphant. It is an open source project and you can use it freely.\n",
    "\n",
    "NumPy stands for Numerical Python."
   ]
  },
  {
   "cell_type": "code",
   "execution_count": 4,
   "metadata": {},
   "outputs": [],
   "source": [
    "import numpy"
   ]
  },
  {
   "cell_type": "code",
   "execution_count": 5,
   "metadata": {},
   "outputs": [
    {
     "name": "stdout",
     "output_type": "stream",
     "text": [
      "[1 2 3 4 5]\n"
     ]
    }
   ],
   "source": [
    "arr = numpy.array([1, 2, 3, 4, 5])\n",
    "\n",
    "print(arr)"
   ]
  },
  {
   "cell_type": "code",
   "execution_count": 6,
   "metadata": {},
   "outputs": [
    {
     "name": "stdout",
     "output_type": "stream",
     "text": [
      "[1 2 3 4 5]\n"
     ]
    }
   ],
   "source": [
    "import numpy as np\n",
    "\n",
    "arr = np.array([1, 2, 3, 4, 5])\n",
    "\n",
    "print(arr)\n"
   ]
  },
  {
   "cell_type": "code",
   "execution_count": 7,
   "metadata": {},
   "outputs": [
    {
     "name": "stdout",
     "output_type": "stream",
     "text": [
      "1.19.2\n"
     ]
    }
   ],
   "source": [
    "print(np.__version__)"
   ]
  },
  {
   "cell_type": "code",
   "execution_count": 8,
   "metadata": {},
   "outputs": [
    {
     "name": "stdout",
     "output_type": "stream",
     "text": [
      "<class 'numpy.ndarray'>\n"
     ]
    }
   ],
   "source": [
    "print(type(arr))"
   ]
  },
  {
   "cell_type": "code",
   "execution_count": 9,
   "metadata": {},
   "outputs": [
    {
     "name": "stdout",
     "output_type": "stream",
     "text": [
      "[1 2 3 4 5]\n"
     ]
    }
   ],
   "source": [
    "arr = np.array((1, 2, 3, 4, 5))\n",
    "\n",
    "print(arr)\n"
   ]
  },
  {
   "cell_type": "code",
   "execution_count": 10,
   "metadata": {},
   "outputs": [
    {
     "name": "stdout",
     "output_type": "stream",
     "text": [
      "42\n"
     ]
    }
   ],
   "source": [
    "arr = np.array(42)\n",
    "\n",
    "print(arr)"
   ]
  },
  {
   "cell_type": "code",
   "execution_count": 11,
   "metadata": {},
   "outputs": [
    {
     "name": "stdout",
     "output_type": "stream",
     "text": [
      "[[1 2 3]\n",
      " [4 5 6]]\n"
     ]
    }
   ],
   "source": [
    "arr = np.array([[1, 2, 3], [4, 5, 6]])\n",
    "\n",
    "print(arr)"
   ]
  },
  {
   "cell_type": "code",
   "execution_count": 12,
   "metadata": {},
   "outputs": [
    {
     "name": "stdout",
     "output_type": "stream",
     "text": [
      "[[[1 2 3]\n",
      "  [4 5 6]]\n",
      "\n",
      " [[1 2 3]\n",
      "  [4 5 6]]]\n"
     ]
    }
   ],
   "source": [
    "arr = np.array([[[1, 2, 3], [4, 5, 6]], [[1, 2, 3], [4, 5, 6]]])\n",
    "\n",
    "print(arr)"
   ]
  },
  {
   "cell_type": "code",
   "execution_count": 13,
   "metadata": {},
   "outputs": [
    {
     "name": "stdout",
     "output_type": "stream",
     "text": [
      "0\n",
      "1\n",
      "2\n",
      "3\n"
     ]
    }
   ],
   "source": [
    "a = np.array(42)\n",
    "b = np.array([1, 2, 3, 4, 5])\n",
    "c = np.array([[1, 2, 3], [4, 5, 6]])\n",
    "d = np.array([[[1, 2, 3], [4, 5, 6]], [[1, 2, 3], [4, 5, 6]]])\n",
    "\n",
    "print(a.ndim)\n",
    "print(b.ndim)\n",
    "print(c.ndim)\n",
    "print(d.ndim)"
   ]
  },
  {
   "cell_type": "code",
   "execution_count": 18,
   "metadata": {},
   "outputs": [
    {
     "name": "stdout",
     "output_type": "stream",
     "text": [
      "[[[[[1 2 3 4]]]]]\n",
      "number of dimensions : 5\n",
      "4\n"
     ]
    }
   ],
   "source": [
    "arr = np.array([1, 2, 3, 4], ndmin=5)\n",
    "\n",
    "print(arr)\n",
    "print('number of dimensions :', arr.ndim)\n",
    "print(arr[0,0,0,0,3])\n",
    "\n",
    "\n"
   ]
  },
  {
   "cell_type": "markdown",
   "metadata": {},
   "source": [
    "# Numpy starting By maam"
   ]
  },
  {
   "cell_type": "code",
   "execution_count": 20,
   "metadata": {},
   "outputs": [],
   "source": [
    "import numpy as np"
   ]
  },
  {
   "cell_type": "code",
   "execution_count": null,
   "metadata": {},
   "outputs": [],
   "source": [
    "# numpy\n",
    "# pandas\n",
    "# scipy\n",
    "# scikit learn\n",
    "\n",
    "\n",
    "# for data analytics\n",
    "# numpy \n",
    "# pandas\n",
    "\n",
    "# for ml/data science\n",
    "# scikit learn\n",
    "\n",
    "# dl/ml\n",
    "# tensorflow"
   ]
  },
  {
   "cell_type": "markdown",
   "metadata": {},
   "source": [
    "numpy deals basically with array\n"
   ]
  },
  {
   "cell_type": "code",
   "execution_count": 21,
   "metadata": {},
   "outputs": [
    {
     "data": {
      "text/plain": [
       "array([0, 1, 2, 3, 4, 5, 6, 7, 8, 9])"
      ]
     },
     "execution_count": 21,
     "metadata": {},
     "output_type": "execute_result"
    }
   ],
   "source": [
    "# we can import some part of library also as per our requirement\n",
    "from numpy import arange\n",
    "a=arange(10)\n",
    "a"
   ]
  },
  {
   "cell_type": "code",
   "execution_count": 77,
   "metadata": {},
   "outputs": [
    {
     "name": "stdout",
     "output_type": "stream",
     "text": [
      "(3, 3)\n",
      "<class 'numpy.ndarray'>\n",
      "[7 8 9]\n",
      "9\n",
      "int32\n"
     ]
    }
   ],
   "source": [
    "# creating an array\n",
    "a=np.array([[1,2,3],[4,5,6],[7,8,9]])\n",
    "print(a.shape)\n",
    "print(type(a))\n",
    "print(a[2])\n",
    "print(a[2,2])\n",
    "print(a.dtype)"
   ]
  },
  {
   "cell_type": "code",
   "execution_count": 79,
   "metadata": {},
   "outputs": [
    {
     "name": "stdout",
     "output_type": "stream",
     "text": [
      "[[1 2 3]\n",
      " [4 5 6]\n",
      " [7 8 9]]\n",
      "[4 5 6]\n",
      "[[4 5 6]\n",
      " [7 8 9]]\n",
      "[5 6]\n",
      "[[2 3]]\n"
     ]
    }
   ],
   "source": [
    "#slcing array is same as list, but here multiple arrays\n",
    "print(a)\n",
    "\n",
    "print(a[1])\n",
    "print(a[1:])\n",
    "print(a[1,1:])\n",
    "print(a[:1,1:])\n"
   ]
  },
  {
   "cell_type": "code",
   "execution_count": 66,
   "metadata": {},
   "outputs": [
    {
     "name": "stdout",
     "output_type": "stream",
     "text": [
      "[1 2 3 4 5 6 7 8 9]\n",
      "[  1 101 201 301 401 501 601 701 801]\n",
      "[   1  202  603 1204 2005 3006 4207 5608 7209]\n",
      "[  2 103 204 305 406 507 608 709 810]\n",
      "[  0  99 198 297 396 495 594 693 792]\n",
      "[ 2.         51.5        68.         76.25       81.2        84.5\n",
      " 86.85714286 88.625      90.        ]\n"
     ]
    }
   ],
   "source": [
    "a=np.array(range(1,10))\n",
    "b=np.array(range(1,900,100))\n",
    "print(a)\n",
    "print(b)\n",
    "print(a*b)\n",
    "print(a+b)\n",
    "print(b-a)\n",
    "print(b/a+1)"
   ]
  },
  {
   "cell_type": "code",
   "execution_count": 48,
   "metadata": {},
   "outputs": [
    {
     "data": {
      "text/plain": [
       "array([[0, 0, 0],\n",
       "       [0, 0, 0],\n",
       "       [0, 0, 0]])"
      ]
     },
     "execution_count": 48,
     "metadata": {},
     "output_type": "execute_result"
    }
   ],
   "source": [
    "#initialisation of array with any integer\n",
    "a.fill(0)\n",
    "a"
   ]
  },
  {
   "cell_type": "code",
   "execution_count": 80,
   "metadata": {},
   "outputs": [
    {
     "data": {
      "text/plain": [
       "4"
      ]
     },
     "execution_count": 80,
     "metadata": {},
     "output_type": "execute_result"
    }
   ],
   "source": [
    "a.itemsize"
   ]
  },
  {
   "cell_type": "code",
   "execution_count": 81,
   "metadata": {},
   "outputs": [
    {
     "data": {
      "text/plain": [
       "(3, 3)"
      ]
     },
     "execution_count": 81,
     "metadata": {},
     "output_type": "execute_result"
    }
   ],
   "source": [
    "a.shape\n"
   ]
  },
  {
   "cell_type": "code",
   "execution_count": 83,
   "metadata": {},
   "outputs": [
    {
     "name": "stdout",
     "output_type": "stream",
     "text": [
      "[[10 10 10]\n",
      " [ 4  5  6]\n",
      " [ 7  8  9]]\n"
     ]
    }
   ],
   "source": [
    "a[0]=10.6\n",
    "print(a)"
   ]
  },
  {
   "cell_type": "code",
   "execution_count": 78,
   "metadata": {},
   "outputs": [
    {
     "data": {
      "text/plain": [
       "9"
      ]
     },
     "execution_count": 78,
     "metadata": {},
     "output_type": "execute_result"
    }
   ],
   "source": [
    "a.size"
   ]
  },
  {
   "cell_type": "code",
   "execution_count": 76,
   "metadata": {},
   "outputs": [
    {
     "name": "stdout",
     "output_type": "stream",
     "text": [
      "[1 1 1 1 1 1 1 1 1]\n"
     ]
    }
   ],
   "source": [
    "#same as a.fill but is very slow compared to a.fill\n",
    "a[:]=1\n",
    "print(a)"
   ]
  },
  {
   "cell_type": "markdown",
   "metadata": {},
   "source": [
    "## Self Practice"
   ]
  },
  {
   "cell_type": "code",
   "execution_count": 156,
   "metadata": {},
   "outputs": [
    {
     "name": "stdout",
     "output_type": "stream",
     "text": [
      "[[ 0  1  2  3  4  5]\n",
      " [20 21 22 23 24 25]\n",
      " [50 51 52 53 54 55]]\n"
     ]
    }
   ],
   "source": [
    "a=np.array([[0,1,2,3,4,5],[10,11,12,13,14,15],[20,21,22,23,24,25]\n",
    "           ,[30,31,32,33,34,35],[40,41,42,43,44,45],[50,51,52,53,54,55]])\n",
    "a[(0,1,2,3,4),(1,2,3,4,5)]\n",
    "print(a[[0,2,5]])"
   ]
  },
  {
   "cell_type": "code",
   "execution_count": 89,
   "metadata": {},
   "outputs": [
    {
     "name": "stdout",
     "output_type": "stream",
     "text": [
      "[[10 13]\n",
      " [30 33]\n",
      " [50 53]]\n",
      "[[10 13]\n",
      " [30 33]\n",
      " [50 53]]\n",
      "10\n"
     ]
    }
   ],
   "source": [
    "print(a[1::2,::3])\n",
    "print(a[1::2,:4:3])\n",
    "print(a[1,0])"
   ]
  },
  {
   "cell_type": "code",
   "execution_count": 138,
   "metadata": {},
   "outputs": [
    {
     "name": "stdout",
     "output_type": "stream",
     "text": [
      "[10 50 60]\n"
     ]
    }
   ],
   "source": [
    "x=[0,10,20,30,40,50,60,70,80]\n",
    "x=np.array(x)\n",
    "#[x[1],x[5],x[6]]\n",
    "Ind=x[[1, 5, 6]]\n",
    "print(Ind)"
   ]
  },
  {
   "cell_type": "code",
   "execution_count": 148,
   "metadata": {},
   "outputs": [
    {
     "name": "stdout",
     "output_type": "stream",
     "text": [
      "[ 0 10 20 30 40 50 60 70]\n",
      "[10 20 50]\n",
      "[10 20 50]\n"
     ]
    }
   ],
   "source": [
    "a = arange(0,80,10)\n",
    "print(a)\n",
    "y = a[[1, 2, -3]]\n",
    "print(y)\n",
    "x = np.take(a,[1,2,-3])\n",
    "print(x)"
   ]
  },
  {
   "cell_type": "code",
   "execution_count": 150,
   "metadata": {},
   "outputs": [
    {
     "name": "stdout",
     "output_type": "stream",
     "text": [
      "[10 20 30 50]\n",
      "[10 20 30 50]\n"
     ]
    }
   ],
   "source": [
    "mask = np.array([0,1,1,1,0,1,0,0], dtype=bool)\n",
    "a=np.array([0,10,20,30,40,50,60,70])\n",
    "y = a[mask]\n",
    "f= np.compress(mask, a)\n",
    "print(f)\n",
    "print(y)\n"
   ]
  },
  {
   "cell_type": "code",
   "execution_count": 153,
   "metadata": {},
   "outputs": [
    {
     "name": "stdout",
     "output_type": "stream",
     "text": [
      "[ 2  5 11]\n",
      "66\n",
      "[  0  45 120 231]\n",
      "[6 7]\n"
     ]
    }
   ],
   "source": [
    "b=np.array([[0,1,2,3],[4,5,6,7],[8,9,10,11]])\n",
    "Row=np.array([0,1,2])\n",
    "Col=np.array([2,1,3])\n",
    "c=b[Row,Col]\n",
    "print(c)\n",
    "print(b.sum())\n",
    "print(b.prod(axis=0))\n",
    "print(b[1,(2,3)])"
   ]
  },
  {
   "cell_type": "code",
   "execution_count": 132,
   "metadata": {},
   "outputs": [
    {
     "data": {
      "text/plain": [
       "array([[0.8015026 , 0.14712123, 0.87015485, 0.65111833],\n",
       "       [0.30474885, 0.33505542, 0.97563246, 0.64211315]])"
      ]
     },
     "execution_count": 132,
     "metadata": {},
     "output_type": "execute_result"
    }
   ],
   "source": [
    "np.random.rand(2,4)"
   ]
  },
  {
   "cell_type": "code",
   "execution_count": 139,
   "metadata": {},
   "outputs": [
    {
     "name": "stdout",
     "output_type": "stream",
     "text": [
      "500\n",
      "(2, 4, 3)\n"
     ]
    }
   ],
   "source": [
    "earnings = [\n",
    "[ [500,505,490], [810,450,678], [234,897,430], [560,1023,640] ],\n",
    "[ [600,605,490], [345,900,1000], [780,730,710], [670,540,324] ]\n",
    "]\n",
    "\n",
    "earnings = np.array(earnings)\n",
    "print(earnings[0,0,0])\n",
    "print(earnings.shape)"
   ]
  },
  {
   "cell_type": "markdown",
   "metadata": {},
   "source": [
    "https://numpy.org/doc/stable/user/basics.creation.html"
   ]
  },
  {
   "cell_type": "code",
   "execution_count": 140,
   "metadata": {},
   "outputs": [
    {
     "data": {
      "text/plain": [
       "array([[0., 0., 0.],\n",
       "       [0., 0., 0.]])"
      ]
     },
     "execution_count": 140,
     "metadata": {},
     "output_type": "execute_result"
    }
   ],
   "source": [
    "np.zeros((2, 3))"
   ]
  },
  {
   "cell_type": "code",
   "execution_count": 141,
   "metadata": {},
   "outputs": [
    {
     "data": {
      "text/plain": [
       "array([1. , 1.6, 2.2, 2.8, 3.4, 4. ])"
      ]
     },
     "execution_count": 141,
     "metadata": {},
     "output_type": "execute_result"
    }
   ],
   "source": [
    "np.linspace(1., 4., 6)"
   ]
  },
  {
   "cell_type": "code",
   "execution_count": 142,
   "metadata": {},
   "outputs": [
    {
     "data": {
      "text/plain": [
       "array([[[0, 0, 0],\n",
       "        [1, 1, 1],\n",
       "        [2, 2, 2]],\n",
       "\n",
       "       [[0, 1, 2],\n",
       "        [0, 1, 2],\n",
       "        [0, 1, 2]]])"
      ]
     },
     "execution_count": 142,
     "metadata": {},
     "output_type": "execute_result"
    }
   ],
   "source": [
    "np.indices((3,3))"
   ]
  },
  {
   "cell_type": "code",
   "execution_count": 159,
   "metadata": {},
   "outputs": [
    {
     "name": "stdout",
     "output_type": "stream",
     "text": [
      "[[[ 0  1  2]\n",
      "  [ 3  4  5]\n",
      "  [ 6  7  8]]\n",
      "\n",
      " [[ 9 10 11]\n",
      "  [12 13 14]\n",
      "  [15 16 17]]\n",
      "\n",
      " [[18 19 20]\n",
      "  [21 22 23]\n",
      "  [24 25 26]]]\n",
      "1\n",
      "[[27 30 33]\n",
      " [36 39 42]\n",
      " [45 48 51]]\n",
      "2\n",
      "[[27 30 33]\n",
      " [36 39 42]\n",
      " [45 48 51]]\n"
     ]
    },
    {
     "data": {
      "text/plain": [
       "(array([[27, 30, 33],\n",
       "        [36, 39, 42],\n",
       "        [45, 48, 51]]),\n",
       " array([[ 9, 12, 15],\n",
       "        [36, 39, 42],\n",
       "        [63, 66, 69]]),\n",
       " array([[ 3, 12, 21],\n",
       "        [30, 39, 48],\n",
       "        [57, 66, 75]]),\n",
       " array([[ 3, 12, 21],\n",
       "        [30, 39, 48],\n",
       "        [57, 66, 75]]))"
      ]
     },
     "execution_count": 159,
     "metadata": {},
     "output_type": "execute_result"
    }
   ],
   "source": [
    "x = np.arange(27).reshape((3,3,3))\n",
    "print(x)\n",
    "print(\"1\")\n",
    "print(np.sum(x,axis=0))\n",
    "print(\"2\")\n",
    "print(x.sum(axis=0))\n",
    "x.sum(0), x.sum(1), x.sum(2),x.sum(-1)"
   ]
  },
  {
   "cell_type": "markdown",
   "metadata": {},
   "source": [
    "The most basic task that can be done with the nditer is to visit every element of an array.<br>\n",
    "Each element is provided one by one using the standard Python iterator interface."
   ]
  },
  {
   "cell_type": "code",
   "execution_count": 147,
   "metadata": {},
   "outputs": [
    {
     "name": "stdout",
     "output_type": "stream",
     "text": [
      "0 1 2 3 4 5 "
     ]
    }
   ],
   "source": [
    "a = np.arange(6).reshape(2,3)\n",
    "for x in np.nditer(a):\n",
    "    print(x, end=' ')"
   ]
  },
  {
   "cell_type": "code",
   "execution_count": null,
   "metadata": {},
   "outputs": [],
   "source": []
  },
  {
   "cell_type": "code",
   "execution_count": null,
   "metadata": {},
   "outputs": [],
   "source": []
  },
  {
   "cell_type": "code",
   "execution_count": 1,
   "metadata": {},
   "outputs": [],
   "source": [
    "import numpy as np"
   ]
  },
  {
   "cell_type": "code",
   "execution_count": 4,
   "metadata": {},
   "outputs": [],
   "source": [
    "np.random?"
   ]
  },
  {
   "cell_type": "code",
   "execution_count": 5,
   "metadata": {},
   "outputs": [
    {
     "data": {
      "text/plain": [
       "'C:\\\\Users\\\\hp\\\\python'"
      ]
     },
     "execution_count": 5,
     "metadata": {},
     "output_type": "execute_result"
    }
   ],
   "source": [
    "pwd"
   ]
  },
  {
   "cell_type": "code",
   "execution_count": 7,
   "metadata": {},
   "outputs": [
    {
     "name": "stdout",
     "output_type": "stream",
     "text": [
      " Volume in drive C has no label.\n",
      " Volume Serial Number is DE60-73D4\n",
      "\n",
      " Directory of C:\\Users\\hp\\python\n",
      "\n",
      "09-03-2021  08:03    <DIR>          .\n",
      "09-03-2021  08:03    <DIR>          ..\n",
      "09-03-2021  08:03    <DIR>          .ipynb_checkpoints\n",
      "25-02-2021  10:59            32,810 imagesinnumpy.ipynb\n",
      "26-02-2021  09:07           381,589 imagesinnumpy1.ipynb\n",
      "15-02-2021  11:30            32,652 NIELIT Assignment 5-checkpoint.ipynb\n",
      "23-02-2021  19:55            59,934 NIELIT Module 2 (Data Science).1-checkpoint.ipynb\n",
      "06-02-2021  15:17             2,690 number game.ipynb\n",
      "26-02-2021  08:56            48,861 Numpy practical examples.ipynb\n",
      "26-02-2021  12:34            79,398 numpy_basic3.ipynb\n",
      "09-03-2021  08:03            17,161 Numpy_basics.ipynb\n",
      "22-02-2021  11:17            18,574 Numpy_basics1.ipynb\n",
      "23-02-2021  10:09            19,500 numpy_basics2.ipynb\n",
      "24-02-2021  08:43             9,187 numpyassign1.ipynb\n",
      "26-02-2021  08:36           315,381 prog1.ipynb\n",
      "05-02-2021  09:20            13,432 pyhtonbasic2.ipynb\n",
      "06-03-2021  14:11            25,963 pythonbasic.ipynb\n",
      "03-02-2021  13:27            16,403 pythonbasic1.ipynb\n",
      "08-02-2021  08:59            12,039 pythonbasic3.ipynb\n",
      "12-02-2021  09:35            28,721 pythonbasic4.ipynb\n",
      "12-02-2021  09:30            28,165 pythonbasic5.ipynb\n",
      "15-02-2021  08:19            13,336 pythonbasic6.ipynb\n",
      "26-02-2021  09:45            13,372 tkinkter basics.ipynb\n",
      "19-02-2021  09:08             9,748 tkinkter self.ipynb\n",
      "25-02-2021  09:37            77,190 wines_numpy.ipynb\n",
      "              22 File(s)      1,256,106 bytes\n",
      "               3 Dir(s)  17,090,809,856 bytes free\n"
     ]
    }
   ],
   "source": [
    "ls"
   ]
  },
  {
   "cell_type": "code",
   "execution_count": 12,
   "metadata": {},
   "outputs": [
    {
     "name": "stdout",
     "output_type": "stream",
     "text": [
      "Did you know that 'word' is a word?\n",
      "did you know that 'word' is a word?\n"
     ]
    }
   ],
   "source": [
    "print(\"Did you know that 'word' is a word?\")\n",
    "print('did you know that \\'word\\' is a word?')"
   ]
  },
  {
   "cell_type": "code",
   "execution_count": 14,
   "metadata": {},
   "outputs": [
    {
     "data": {
      "text/plain": [
       "'105'"
      ]
     },
     "execution_count": 14,
     "metadata": {},
     "output_type": "execute_result"
    }
   ],
   "source": []
  }
 ],
 "metadata": {
  "kernelspec": {
   "display_name": "Python 3",
   "language": "python",
   "name": "python3"
  },
  "language_info": {
   "codemirror_mode": {
    "name": "ipython",
    "version": 3
   },
   "file_extension": ".py",
   "mimetype": "text/x-python",
   "name": "python",
   "nbconvert_exporter": "python",
   "pygments_lexer": "ipython3",
   "version": "3.8.5"
  }
 },
 "nbformat": 4,
 "nbformat_minor": 4
}
