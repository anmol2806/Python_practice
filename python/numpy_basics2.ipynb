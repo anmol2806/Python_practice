{
 "cells": [
  {
   "cell_type": "code",
   "execution_count": 2,
   "metadata": {},
   "outputs": [
    {
     "name": "stdout",
     "output_type": "stream",
     "text": [
      "[[[[2 8 7]\n",
      "   [9 5 4]\n",
      "   [6 1 3]]\n",
      "\n",
      "  [[1 6 5]\n",
      "   [7 3 2]\n",
      "   [8 4 9]]\n",
      "\n",
      "  [[9 4 3]\n",
      "   [1 6 8]\n",
      "   [7 5 2]]]\n",
      "\n",
      "\n",
      " [[[8 7 9]\n",
      "   [4 2 1]\n",
      "   [3 6 5]]\n",
      "\n",
      "  [[6 5 1]\n",
      "   [3 9 8]\n",
      "   [4 2 7]]\n",
      "\n",
      "  [[2 3 4]\n",
      "   [6 7 5]\n",
      "   [8 9 1]]]\n",
      "\n",
      "\n",
      " [[[1 9 8]\n",
      "   [5 4 2]\n",
      "   [7 3 6]]\n",
      "\n",
      "  [[5 7 3]\n",
      "   [9 1 6]\n",
      "   [2 8 4]]\n",
      "\n",
      "  [[4 2 6]\n",
      "   [3 8 7]\n",
      "   [5 1 9]]]]\n"
     ]
    }
   ],
   "source": [
    "import numpy as np\n",
    "sudoku = np.array([\n",
    "[2, 8, 7, 1, 6, 5, 9, 4, 3],\n",
    "[9, 5, 4, 7, 3, 2, 1, 6, 8],\n",
    "[6, 1, 3, 8, 4, 9, 7, 5, 2],\n",
    "[8, 7, 9, 6, 5, 1, 2, 3, 4],\n",
    "[4, 2, 1, 3, 9, 8, 6, 7, 5],\n",
    "[3, 6, 5, 4, 2, 7, 8, 9, 1],\n",
    "[1, 9, 8, 5, 7, 3, 4, 2, 6],\n",
    "[5, 4, 2, 9, 1, 6, 3, 8, 7],\n",
    "[7, 3, 6, 2, 8, 4, 5, 1, 9]\n",
    "])\n",
    "shape = (3, 3, 3, 3)\n",
    "strides = sudoku.itemsize * np.array([27, 3, 9, 1])\n",
    "squares = np.lib.stride_tricks.as_strided(sudoku, shape=shape,\n",
    "strides=strides)\n",
    "print(squares)"
   ]
  },
  {
   "cell_type": "code",
   "execution_count": 4,
   "metadata": {},
   "outputs": [
    {
     "data": {
      "text/plain": [
       "' aaaaaaaaaaaaa\\nbbb\\'\\'\\'bbbbbbbbbb\"\"bbbbbbb\\'bbbb\\ncccccccccccccc'"
      ]
     },
     "execution_count": 4,
     "metadata": {},
     "output_type": "execute_result"
    }
   ],
   "source": [
    "msg = \"\"\" aaaaaaaaaaaaa\n",
    "bbb'''bbbbbbbbbb\"\"bbbbbbb'bbbb\n",
    "cccccccccccccc\"\"\"\n",
    "msg\n"
   ]
  },
  {
   "cell_type": "code",
   "execution_count": 16,
   "metadata": {},
   "outputs": [
    {
     "name": "stdout",
     "output_type": "stream",
     "text": [
      "[[  0   1   2   3   4   5]\n",
      " [ 10  11  12  13  14  15]\n",
      " [ 20  21  22  23  24  25]\n",
      " [ 30  31  32  33  34  35]\n",
      " [ 40  41  42  43  44  45]\n",
      " [ 50  51  52  53  54  55]\n",
      " [150 156 162 168 174 180]]\n",
      "[[  0   1   2   3   4   5]\n",
      " [ 10  11  12  13  14  15]\n",
      " [ 20  21  22  23  24  25]\n",
      " [ 30  31  32  33  34  35]\n",
      " [ 40  41  42  43  44  45]\n",
      " [ 50  51  52  53  54  55]\n",
      " [150 156 162 168 174 180]]\n",
      "shape is  (1, 7)\n",
      "[[  0   1   2   3   4   5  15]\n",
      " [ 10  11  12  13  14  15  75]\n",
      " [ 20  21  22  23  24  25 135]\n",
      " [ 30  31  32  33  34  35 195]\n",
      " [ 40  41  42  43  44  45 255]\n",
      " [ 50  51  52  53  54  55 315]\n",
      " [150 156 162 168 174 180 990]]\n"
     ]
    }
   ],
   "source": [
    "#add a row wise sum list  in array\n",
    "a=np.array([[0,1,2,3,4,5],\n",
    "            [10,11,12,13,14,15],\n",
    "            [20,21,22,23,24,25],\n",
    "            [30,31,32,33,34,35],\n",
    "            [40,41,42,43,44,45],\n",
    "            [50,51,52,53,54,55]])\n",
    "a=np.append(a,[np.sum(a,axis=0)],axis=0)\n",
    "print(a)\n",
    "#This calculates the column\n",
    "col=np.array([np.sum(a,axis=1)])\n",
    "print(a)\n",
    "print(\"shape is \",col.shape)\n",
    "#Finally we add the column\n",
    "a=np.concatenate((a,col.T),axis=1)\n",
    "print(a)"
   ]
  },
  {
   "cell_type": "code",
   "execution_count": null,
   "metadata": {},
   "outputs": [],
   "source": [
    "#5 by 4 array\n",
    "n=5\n",
    "k=4\n",
    "a=np.zeros([n,k])\n",
    "print(a)\n",
    "for i in range(n):\n",
    "    for j in range(k):\n",
    "        a[i][j]=i+2*j\n",
    "        \n",
    "#rowwise colwise sum to be added\n",
    "#This adds the row\n",
    "a=np.append(a,[np.sum(a,axis=0)],axis=0)\n",
    "#This calculates the column\n",
    "col=np.array([np.sum(a,axis=1)])\n",
    "print(\"shape is \",col.shape)\n",
    "#Finally we add the column\n",
    "a=np.concatenate((a,col.T),axis=1)\n",
    "print(a)"
   ]
  },
  {
   "cell_type": "code",
   "execution_count": 48,
   "metadata": {},
   "outputs": [
    {
     "name": "stdout",
     "output_type": "stream",
     "text": [
      "[[0.44233709 0.81668584 0.47392122 0.14352003]\n",
      " [0.60249408 0.47694624 0.02950927 0.80675076]\n",
      " [0.69141826 0.75341697 0.2421303  0.95622329]]\n"
     ]
    }
   ],
   "source": [
    "x=np.random.rand(3,4)\n",
    "print(x)\n",
    "# [[0.98444724 0.41360892 0.7250693  0.39440123]\n",
    "#  [0.46126023 0.11151939 0.95527915 0.76568655]\n",
    "#  [0.29534511 0.25065745 0.21581712 0.62155136]]"
   ]
  },
  {
   "cell_type": "code",
   "execution_count": 14,
   "metadata": {},
   "outputs": [
    {
     "data": {
      "text/plain": [
       "array([174,  49, 119, 194,  69, 197, 105,  11,  23,  38])"
      ]
     },
     "execution_count": 14,
     "metadata": {},
     "output_type": "execute_result"
    }
   ],
   "source": [
    "import numpy as np\n",
    "np.random.seed(0)\n",
    "v=np.random.randint(2,200,10)\n",
    "v"
   ]
  },
  {
   "cell_type": "code",
   "execution_count": null,
   "metadata": {},
   "outputs": [],
   "source": []
  },
  {
   "cell_type": "code",
   "execution_count": 47,
   "metadata": {},
   "outputs": [],
   "source": [
    "np.random.seed?"
   ]
  },
  {
   "cell_type": "code",
   "execution_count": 17,
   "metadata": {},
   "outputs": [
    {
     "data": {
      "text/plain": [
       "array([174,  49, 119, 194,  69, 197, 105,  11,  23,  38])"
      ]
     },
     "execution_count": 17,
     "metadata": {},
     "output_type": "execute_result"
    }
   ],
   "source": [
    "import numpy as np\n",
    "np.random.seed(0)\n",
    "v=np.random.randint(2,200,10)\n",
    "v"
   ]
  },
  {
   "cell_type": "code",
   "execution_count": null,
   "metadata": {},
   "outputs": [],
   "source": [
    "array([112, 158,  71, 168,  80,  21,  68, 145,   3,  66])"
   ]
  },
  {
   "cell_type": "code",
   "execution_count": null,
   "metadata": {},
   "outputs": [],
   "source": [
    "# #You are given 5 cylindrical containers with different radius\n",
    "# #and heights ranging between 5 and 25 cm. \n",
    "# #Find out\n",
    "# Hint:\n",
    "#     make a numpy array 10 random numbers generate \n",
    "#     reshape array \n",
    "#     separate radius array and height array use slicing(1 d arrays)\n",
    "#     volume and sum\n",
    "    \n",
    "#     dot product\n",
    "#     max... argmax    min argmin\n",
    "    \n",
    "#     mean...... make a list or tuple\n",
    "    \n",
    "# a) the volume of water that each container can contain,\n",
    "# b) the total volume of water that all containers can contain,\n",
    "# c) which container can hold the highest volume and how much,\n",
    "# d) which container can hold the least volume and how much,\n",
    "# e) what is the mean, median and standard deviation of the volumes \n",
    "# #of water that can be contained in the containers?"
   ]
  },
  {
   "cell_type": "code",
   "execution_count": 61,
   "metadata": {},
   "outputs": [
    {
     "name": "stdout",
     "output_type": "stream",
     "text": [
      "[[17 20]\n",
      " [ 5  8]\n",
      " [ 8 12]\n",
      " [14 24]\n",
      " [23  9]]\n",
      "[17  5  8 14 23]\n",
      "[20  8 12 24  9]\n",
      "[18158.40553775   628.31853072  2412.74315796 14778.05184249\n",
      " 14957.12262374]\n",
      "50934.64169265132\n",
      "50934.64169265132\n",
      "18158.405537749004\n",
      "0\n",
      "628.3185307179587\n",
      "1\n",
      "10186.928338530264\n",
      "14778.051842486386\n",
      "7199.758245451731\n"
     ]
    }
   ],
   "source": [
    "np.random.seed(0)\n",
    "v=np.random.randint(5,25,10)\n",
    "v=v.reshape(5,2)\n",
    "print(v)\n",
    "\n",
    "\n",
    "#radius and height\n",
    "r = v[:,0]\n",
    "h = v[:,1]\n",
    "print(r)\n",
    "print(h)\n",
    "\n",
    "\n",
    "#individual volume\n",
    "volume = np.pi*(r**2)*h\n",
    "print(volume)\n",
    "\n",
    "\n",
    "#total volume by function\n",
    "total_volume = volume.sum()\n",
    "\n",
    "\n",
    "#total volume by dot product\n",
    "radius_squared = np.square(r)\n",
    "dot_product = np.dot(radius_squared, h)\n",
    "total_volume_by_dot_product = np.pi*dot_product\n",
    "\n",
    "print(total_volume)\n",
    "print(total_volume_by_dot_product)\n",
    "\n",
    "\n",
    "#max volume\n",
    "max_volume = volume.max()\n",
    "index_of_max_volume = volume.argmax()\n",
    "print(max_volume)\n",
    "print(index_of_max_volume)\n",
    "\n",
    "\n",
    "#min volume\n",
    "min_volume = volume.min()\n",
    "index_of_min_volume = volume.argmin()\n",
    "print(min_volume)\n",
    "print(index_of_min_volume)\n",
    "\n",
    "\n",
    "#volume mean\n",
    "volume_mean = np.mean(volume)\n",
    "print(volume_mean)\n",
    "\n",
    "\n",
    "#volume median\n",
    "volume_median = np.median(volume)\n",
    "print(volume_median)\n",
    "\n",
    "\n",
    "#volume standard deviation\n",
    "volume_standard_deviation = np.std(volume)\n",
    "print(volume_standard_deviation)\n",
    "\n",
    "\n"
   ]
  },
  {
   "cell_type": "code",
   "execution_count": 119,
   "metadata": {},
   "outputs": [
    {
     "data": {
      "text/plain": [
       "[10186.928338530264, 14778.051842486386, 7199.758245451731]"
      ]
     },
     "execution_count": 119,
     "metadata": {},
     "output_type": "execute_result"
    }
   ],
   "source": [
    "stats=[]\n",
    "stats.append(volume_mean)\n",
    "stats.append(volume_median)\n",
    "stats.append(volume_standard_deviation)\n",
    "stats"
   ]
  },
  {
   "cell_type": "markdown",
   "metadata": {},
   "source": [
    "\n",
    "### Self Practice"
   ]
  },
  {
   "cell_type": "code",
   "execution_count": 71,
   "metadata": {},
   "outputs": [
    {
     "name": "stdout",
     "output_type": "stream",
     "text": [
      "0.6157662833145425\n"
     ]
    }
   ],
   "source": [
    "# Create a random vector of size 30 and find the mean value\n",
    "np.random.seed(0)\n",
    "Z = np.random.random(10)\n",
    "m = Z.mean()\n",
    "print (m)"
   ]
  },
  {
   "cell_type": "code",
   "execution_count": 79,
   "metadata": {},
   "outputs": [
    {
     "name": "stdout",
     "output_type": "stream",
     "text": [
      "[[1 0 0 0 0]\n",
      " [0 2 0 0 0]\n",
      " [0 0 3 0 0]\n",
      " [0 0 0 4 0]\n",
      " [0 0 0 0 5]]\n"
     ]
    }
   ],
   "source": [
    "#diagonal array\n",
    "Z = np.diag(np.arange(1,6))\n",
    "print (Z)"
   ]
  },
  {
   "cell_type": "code",
   "execution_count": null,
   "metadata": {},
   "outputs": [],
   "source": [
    "#checkerboard using tile\n",
    "array= np.array([[0,1], [1,0]])\n",
    "Z = np.tile(array,(4,4))\n",
    "print (Z)\n",
    "\n"
   ]
  },
  {
   "cell_type": "code",
   "execution_count": 80,
   "metadata": {},
   "outputs": [
    {
     "name": "stdout",
     "output_type": "stream",
     "text": [
      "[[3. 3.]\n",
      " [3. 3.]\n",
      " [3. 3.]\n",
      " [3. 3.]\n",
      " [3. 3.]]\n"
     ]
    }
   ],
   "source": [
    "# Multiply a 5x3 matrix by a 3x2 matrix (real matrix product)\n",
    "Z= np.dot(np.ones((5,3)), np.ones((3,2)))\n",
    "print (Z)"
   ]
  },
  {
   "cell_type": "code",
   "execution_count": 83,
   "metadata": {},
   "outputs": [
    {
     "name": "stdout",
     "output_type": "stream",
     "text": [
      "[[0. 1. 2. 3. 4.]\n",
      " [0. 1. 2. 3. 4.]\n",
      " [0. 1. 2. 3. 4.]\n",
      " [0. 1. 2. 3. 4.]\n",
      " [0. 1. 2. 3. 4.]]\n"
     ]
    }
   ],
   "source": [
    "# Create a 5x5 matrix with row values ranging from 0 to 4\n",
    "Z = np.zeros((5,5))\n",
    "Z += np.arange(5)\n",
    "print(Z)"
   ]
  },
  {
   "cell_type": "code",
   "execution_count": 86,
   "metadata": {},
   "outputs": [
    {
     "name": "stdout",
     "output_type": "stream",
     "text": [
      "[ 0.  1.  2.  3.  4.  5.  6.  7.  8.  9. 10.]\n"
     ]
    }
   ],
   "source": [
    "#  Consider a generator function that generates 10 integers and use it to build an array\n",
    "\n",
    "\n",
    "def generate(): \n",
    "    for x in range(11):\n",
    "        yield x\n",
    "        \n",
    "Z = np.fromiter(generate(), dtype=float, count=-1)\n",
    "print (Z)\n",
    "\n"
   ]
  },
  {
   "cell_type": "code",
   "execution_count": 89,
   "metadata": {},
   "outputs": [
    {
     "name": "stdout",
     "output_type": "stream",
     "text": [
      "[0.09090909 0.18181818 0.27272727 0.36363636 0.45454545 0.54545455\n",
      " 0.63636364 0.72727273 0.81818182 0.90909091]\n"
     ]
    }
   ],
   "source": [
    "# Create a vector of size 10 with values ranging from 0 to 1, both excluded\n",
    "\n",
    "Z = np.linspace(0,1,12,endpoint=True)[1:-1]\n",
    "print(Z)"
   ]
  },
  {
   "cell_type": "code",
   "execution_count": 93,
   "metadata": {},
   "outputs": [
    {
     "name": "stdout",
     "output_type": "stream",
     "text": [
      "False\n"
     ]
    }
   ],
   "source": [
    "# Consider two random array A anb B, check if they are equal\n",
    "\n",
    "A = np.random.randint(0,2,5)\n",
    "B = np.random.randint(0,2,5)\n",
    "equal = np.allclose(A,B)\n",
    "print(equal)\n",
    "\n"
   ]
  },
  {
   "cell_type": "code",
   "execution_count": 100,
   "metadata": {},
   "outputs": [
    {
     "name": "stdout",
     "output_type": "stream",
     "text": [
      "[[6 9 9]\n",
      " [7 6 9]\n",
      " [1 0 1]]\n",
      "[[1 0 1]\n",
      " [7 6 9]\n",
      " [6 9 9]]\n"
     ]
    }
   ],
   "source": [
    "Z = np.random.randint(0,10,(3,3))\n",
    "print(Z)\n",
    "print(Z[Z[:,1].argsort()])\n",
    "\n"
   ]
  },
  {
   "cell_type": "code",
   "execution_count": 116,
   "metadata": {},
   "outputs": [
    {
     "name": "stdout",
     "output_type": "stream",
     "text": [
      "[ 1  2  3  4  5  6  7  8  9 10 11 12 13 14 15 16 17 18 19 20 21 22 23 24\n",
      " 25]\n",
      "[21 19 23 13 20 25  3 24  2 16  4 18  8  5 15  1  7 12 11  9 14 10  6 17\n",
      " 22]\n",
      "[[21 19 23 13 20]\n",
      " [25  3 24  2 16]\n",
      " [ 4 18  8  5 15]\n",
      " [ 1  7 12 11  9]\n",
      " [14 10  6 17 22]]\n",
      "[[1. 0. 0. 0. 0.]\n",
      " [0. 1. 0. 0. 0.]\n",
      " [0. 0. 1. 0. 0.]\n",
      " [0. 0. 0. 1. 0.]\n",
      " [0. 0. 0. 0. 1.]]\n",
      "[[21.  0.  0.  0.  0.]\n",
      " [ 0.  3.  0.  0.  0.]\n",
      " [ 0.  0.  8.  0.  0.]\n",
      " [ 0.  0.  0. 11.  0.]\n",
      " [ 0.  0.  0.  0. 22.]]\n",
      "[[  0. -19. -23. -13. -20.]\n",
      " [-25.   0. -24.  -2. -16.]\n",
      " [ -4. -18.   0.  -5. -15.]\n",
      " [ -1.  -7. -12.   0.  -9.]\n",
      " [-14. -10.  -6. -17.   0.]]\n",
      "[[ 21. -19. -23. -13. -20.]\n",
      " [-25.   3. -24.  -2. -16.]\n",
      " [ -4. -18.   8.  -5. -15.]\n",
      " [ -1.  -7. -12.  11.  -9.]\n",
      " [-14. -10.  -6. -17.  22.]]\n",
      "[-54. -64. -34. -18. -25.]\n",
      "winner is\n",
      "3\n"
     ]
    }
   ],
   "source": [
    "# Problem 2\n",
    "# 25 cards numbered 1 through 25 are randomly distributed equally amongst 5 people. \n",
    "# Find the sum of cards for each person such that for the 1st person,\n",
    "# the sum is the value of 1st card minus the sum of rest of the cards; \n",
    "# for the 2nd person, the sum is the value of 2nd card minus the sum of rest of the cards, \n",
    "# and so on. The person for whom the sum of the cards is greatest will be the winner. Find the winner.\n",
    "\n",
    "numbers = np.arange(1,26)\n",
    "print(numbers)\n",
    "\n",
    "\n",
    "#shuffling\n",
    "np.random.shuffle(numbers)\n",
    "print(numbers)\n",
    "\n",
    "\n",
    "#reshaping\n",
    "reshaped_numbers = numbers.reshape(5,5)\n",
    "print(reshaped_numbers)\n",
    "\n",
    "\n",
    "#generate identity matrix\n",
    "I = np.eye(5)\n",
    "print(I)\n",
    "\n",
    "\n",
    "#diagonal elements * identity\n",
    "diagonal_matrix = np.multiply(reshaped_numbers,I)\n",
    "print(diagonal_matrix)\n",
    "\n",
    "\n",
    "\n",
    "U = np.ones((5,5))\n",
    "I_minus_U = I - U\n",
    "negative_diagonal_matrix = np.multiply(reshaped_numbers,I_minus_U)\n",
    "print(negative_diagonal_matrix)\n",
    "\n",
    "\n",
    "combined_matrix = np.add(diagonal_matrix, negative_diagonal_matrix)\n",
    "print(combined_matrix)\n",
    "\n",
    "\n",
    "sum_matrix = combined_matrix.sum(axis=1)\n",
    "print(sum_matrix)\n",
    "\n",
    "\n",
    "\n",
    "winner = np.argmax(sum_matrix)\n",
    "print(\"winner is\")\n",
    "print(winner)"
   ]
  },
  {
   "cell_type": "code",
   "execution_count": 117,
   "metadata": {},
   "outputs": [
    {
     "data": {
      "text/plain": [
       "array([0.        , 0.55555556, 1.11111111, 1.66666667, 2.22222222,\n",
       "       2.77777778, 3.33333333, 3.88888889, 4.44444444, 5.        ])"
      ]
     },
     "execution_count": 117,
     "metadata": {},
     "output_type": "execute_result"
    }
   ],
   "source": [
    "# Problem 3\n",
    "# You are given a rope of length 5m. Cut the rope into 9 parts such that each part is of equal length.\n",
    "\n",
    "# Solution 3\n",
    "# We need to cut the rope at equidistant points such that there are 9 parts. So, besides the start and end points,\n",
    "# we need 8 more points; a total of 10 points.\n",
    "\n",
    "\n",
    "start = 0\n",
    "end = 5\n",
    "no_of_points = 10\n",
    "\n",
    "\n",
    "np.linspace(start, end, no_of_points)"
   ]
  },
  {
   "cell_type": "markdown",
   "metadata": {},
   "source": [
    "### CSV"
   ]
  },
  {
   "cell_type": "code",
   "execution_count": null,
   "metadata": {},
   "outputs": [],
   "source": [
    "np.genfromtxt(\"winequality_red.csv\", delimiter=\",\",skip_header=1)"
   ]
  },
  {
   "cell_type": "code",
   "execution_count": 118,
   "metadata": {},
   "outputs": [
    {
     "name": "stdout",
     "output_type": "stream",
     "text": [
      "[[7.400e+00 7.000e-01 0.000e+00 1.900e+00 7.600e-02 1.100e+01 3.400e+01\n",
      "  9.978e-01 3.510e+00 5.600e-01 9.400e+00 5.000e+00]\n",
      " [7.800e+00 8.800e-01 0.000e+00 2.600e+00 9.800e-02 2.500e+01 6.700e+01\n",
      "  9.968e-01 3.200e+00 6.800e-01 9.800e+00 5.000e+00]\n",
      " [7.800e+00 7.600e-01 4.000e-02 2.300e+00 9.200e-02 1.500e+01 5.400e+01\n",
      "  9.970e-01 3.260e+00 6.500e-01 9.800e+00 5.000e+00]]\n"
     ]
    }
   ],
   "source": [
    "import csv\n",
    "wines=np.genfromtxt(\"wines\\winequality-red.csv\", delimiter=\";\",skip_header=1)\n",
    "print(wines[0:3])\n"
   ]
  },
  {
   "cell_type": "code",
   "execution_count": null,
   "metadata": {},
   "outputs": [],
   "source": []
  }
 ],
 "metadata": {
  "kernelspec": {
   "display_name": "Python 3",
   "language": "python",
   "name": "python3"
  },
  "language_info": {
   "codemirror_mode": {
    "name": "ipython",
    "version": 3
   },
   "file_extension": ".py",
   "mimetype": "text/x-python",
   "name": "python",
   "nbconvert_exporter": "python",
   "pygments_lexer": "ipython3",
   "version": "3.8.5"
  }
 },
 "nbformat": 4,
 "nbformat_minor": 4
}
