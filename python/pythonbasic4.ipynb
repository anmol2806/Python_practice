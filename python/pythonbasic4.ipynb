{
 "cells": [
  {
   "cell_type": "code",
   "execution_count": 1,
   "metadata": {},
   "outputs": [
    {
     "name": "stdout",
     "output_type": "stream",
     "text": [
      "Enter first number 25\n",
      "Enter second number 24\n",
      "49\n"
     ]
    }
   ],
   "source": [
    "a= eval(input(\"Enter first number \"))\n",
    "b =eval(input(\"Enter second number \"))\n",
    "c=a+b\n",
    "print(c)\n"
   ]
  },
  {
   "cell_type": "code",
   "execution_count": 13,
   "metadata": {},
   "outputs": [
    {
     "name": "stdout",
     "output_type": "stream",
     "text": [
      "46\n",
      "sum of 34 and  12 is 3412\n",
      "sum of 34 and 12 is 3412\n"
     ]
    }
   ],
   "source": [
    "a='34'\n",
    "b=12\n",
    "print(int(a)+b)\n",
    "print(\"sum of\", a ,\"and \", b, \"is\",a+str(b))\n",
    "total=\"sum of \"+ (a) +\" and \"+ str(b) +\" is \"+a+str(b)\n",
    "print(total)"
   ]
  },
  {
   "cell_type": "code",
   "execution_count": 21,
   "metadata": {},
   "outputs": [
    {
     "name": "stdout",
     "output_type": "stream",
     "text": [
      "40\n",
      "30\n",
      "20\n"
     ]
    },
    {
     "ename": "ValueError",
     "evalue": "not enough values to unpack (expected 3, got 2)",
     "output_type": "error",
     "traceback": [
      "\u001b[1;31m---------------------------------------------------------------------------\u001b[0m",
      "\u001b[1;31mValueError\u001b[0m                                Traceback (most recent call last)",
      "\u001b[1;32m<ipython-input-21-ecf205dfe2e2>\u001b[0m in \u001b[0;36m<module>\u001b[1;34m\u001b[0m\n\u001b[0;32m      7\u001b[0m \u001b[1;31m# error\u001b[0m\u001b[1;33m\u001b[0m\u001b[1;33m\u001b[0m\u001b[1;33m\u001b[0m\u001b[0m\n\u001b[0;32m      8\u001b[0m \u001b[1;31m#x,y=40,30,50     too many values to unpack (expected 2)\u001b[0m\u001b[1;33m\u001b[0m\u001b[1;33m\u001b[0m\u001b[1;33m\u001b[0m\u001b[0m\n\u001b[1;32m----> 9\u001b[1;33m \u001b[0mx\u001b[0m\u001b[1;33m,\u001b[0m\u001b[0my\u001b[0m\u001b[1;33m,\u001b[0m\u001b[0mz\u001b[0m\u001b[1;33m=\u001b[0m\u001b[1;36m40\u001b[0m\u001b[1;33m,\u001b[0m\u001b[1;36m30\u001b[0m\u001b[1;33m\u001b[0m\u001b[1;33m\u001b[0m\u001b[0m\n\u001b[0m\u001b[0;32m     10\u001b[0m \u001b[1;33m\u001b[0m\u001b[0m\n",
      "\u001b[1;31mValueError\u001b[0m: not enough values to unpack (expected 3, got 2)"
     ]
    }
   ],
   "source": [
    "a=b=c=0\n",
    "#tuple\n",
    "(a,b,c)=(40,30,20)\n",
    "print(a)\n",
    "print(b)\n",
    "print(c)\n",
    "# error\n",
    "#x,y=40,30,50     too many values to unpack (expected 2)\n",
    "#error\n",
    "#x,y,z=40,30      not enough values to unpack (expected 3, got 2\n",
    "\n"
   ]
  },
  {
   "cell_type": "code",
   "execution_count": null,
   "metadata": {},
   "outputs": [],
   "source": [
    "a= eval(input(\"Enter first number \"))\n",
    "b =eval(input(\"Enter second number \"))\n",
    "c= eval(input(\"Enter third number \"))\n",
    "if a>b:\n",
    "    if a>c:\n",
    "        print(\"The greater number is a =\",a)\n",
    "    else:\n",
    "        print(\"The greater number is c =\",c)\n",
    "else: \n",
    "    if b>c:\n",
    "        print(\"The greater number is b\",b)\n",
    "    else\n",
    "    "
   ]
  },
  {
   "cell_type": "markdown",
   "metadata": {},
   "source": [
    "# dictionary"
   ]
  },
  {
   "cell_type": "code",
   "execution_count": 4,
   "metadata": {},
   "outputs": [
    {
     "name": "stdout",
     "output_type": "stream",
     "text": [
      "{'one': 'this is one', 2: 'this is two'}\n",
      "dict_keys(['one', 2])\n",
      "dict_values(['this is one', 'this is two'])\n"
     ]
    }
   ],
   "source": [
    "dict={}  #empty dictionary\n",
    "dict['one']=\"this is one\"\n",
    "dict[2]=\"this is two\"\n",
    "print(dict)\n",
    "print(dict.keys())\n",
    "print(dict.values())"
   ]
  },
  {
   "cell_type": "code",
   "execution_count": 18,
   "metadata": {},
   "outputs": [
    {
     "name": "stdout",
     "output_type": "stream",
     "text": [
      "1\n",
      "1\n"
     ]
    }
   ],
   "source": [
    "d3={'food':{'ham':1,'eggs':2}}\n",
    "print(d3['food']['ham'])\n",
    "#print(d3.has_keys('food'))\n",
    "print(len(d3))\n",
    "d2={'spam':2,'eggs':3}\n"
   ]
  },
  {
   "cell_type": "code",
   "execution_count": 17,
   "metadata": {},
   "outputs": [
    {
     "name": "stdout",
     "output_type": "stream",
     "text": [
      "{'fname': 'anmol', 'lname': 'nagpal', 'age': 21, 'friends': ['moksh', 'kartik', 'aseem'], 'pets': {'dog': 'dubo', 'cat': 'cutie'}}\n",
      "cutie\n",
      "kartik\n"
     ]
    }
   ],
   "source": [
    "person={}\n",
    "person['fname']='anmol'\n",
    "person['lname']='nagpal'\n",
    "person['age']=21\n",
    "person['friends']=['moksh','kartik','aseem']\n",
    "person['pets']={'dog':'dubo','cat':'cutie'}\n",
    "print(person)\n",
    "print(person['pets']['cat'])\n",
    "print(person['friends'][-2])"
   ]
  },
  {
   "cell_type": "code",
   "execution_count": 96,
   "metadata": {},
   "outputs": [
    {
     "name": "stdout",
     "output_type": "stream",
     "text": [
      "{'swaroop': 'swaroop@swaroopch.com', 'larry': 'larry@wall.org', 'spammer': 'aa@gmail.com', 'anmol': 'anmol@gmail.com', 'moksh': 'moksH@gil.com', 'kartik': 'kartik@gil.com', 'h': 'mH@gmail.com', 'anmeeol': 'anmol@gmail.com', 'moksssh': 'moksH@yahoo.com', 'karxxtik': 'kartik@gil.com'}\n"
     ]
    }
   ],
   "source": [
    "def createdic():\n",
    "    ab={'swaroop':'swaroop@swaroopch.com',\n",
    "    'larry':'larry@wall.org',\n",
    "       'spammer':'spameer@hotnmail.com',\n",
    "       'anmol':'anmol@gmail.com',\n",
    "       'moksh':'moksH@gil.com',\n",
    "       'kartik':'kartik@gol.com'\n",
    "       \n",
    "       \n",
    "       }\n",
    "    #ab['spammer']='aa@gmail.com' #overwrite as key is same\n",
    "\n",
    "   \n",
    "    ab['h']='mH@gmail.com'\n",
    "    ab['anmeeol']='anmol@gmail.com'\n",
    "    ab['moksssh']='moksH@yahoo.com'\n",
    "    ab['karxxtik']='kartik@gil.com'\n",
    "    ab['h']='mH@gmail.com'\n",
    "    return ab\n",
    "print(ab)"
   ]
  },
  {
   "cell_type": "code",
   "execution_count": 44,
   "metadata": {},
   "outputs": [
    {
     "name": "stdout",
     "output_type": "stream",
     "text": [
      "{'swaroop': 'swaroop@swaroopch.com', 'larry': 'larry@wall.org', 'spammer': 'aa@gmail.com', 'anmol': 'anmol@gmail.com', 'moksh': 'moksH@gmail.com', 'kartik': 'kartik@gmail.com', 'h': 'mH@gmail.com'}\n"
     ]
    }
   ],
   "source": [
    "ab['anmol']='anmol@gmail.com'\n",
    "ab['moksh']='moksH@gmail.com'\n",
    "ab['kartik']='kartik@gmail.com'\n",
    "ab['h']='mH@gmail.com'\n",
    "\n",
    "print(ab)"
   ]
  },
  {
   "cell_type": "code",
   "execution_count": 30,
   "metadata": {},
   "outputs": [
    {
     "name": "stdout",
     "output_type": "stream",
     "text": [
      "dict_keys(['swaroop', 'larry', 'spammer', 'anmol', 'moksh', 'kartik', 'h'])\n",
      "dict_values(['swaroop@swaroopch.com', 'larry@wall.org', 'aa', 'anmol@gmail.com', 'moksH@gmail.com', 'kartik@gmail.com', 'mH@gmail.com'])\n"
     ]
    }
   ],
   "source": [
    "print(ab.keys()) #unordered   storage is in ordeer dict is stored\n",
    "#hashing  =key to address mapping\n",
    "\n",
    "\n",
    "print(ab.values())"
   ]
  },
  {
   "cell_type": "code",
   "execution_count": 32,
   "metadata": {
    "scrolled": false
   },
   "outputs": [
    {
     "data": {
      "text/plain": [
       "'anmol@gmail.com'"
      ]
     },
     "execution_count": 32,
     "metadata": {},
     "output_type": "execute_result"
    }
   ],
   "source": [
    "#error\n",
    "# ab[1]\n",
    "# ---------------------------------------------------------------------------\n",
    "# KeyError                                  Traceback (most recent call last)\n",
    "# <ipython-input-31-d9570912aa32> in <module>\n",
    "# ----> 1 ab[1]\n",
    "\n",
    "# KeyError: 1\n",
    "a='anmol'\n",
    "ab[a]"
   ]
  },
  {
   "cell_type": "code",
   "execution_count": 35,
   "metadata": {},
   "outputs": [
    {
     "name": "stdout",
     "output_type": "stream",
     "text": [
      "94884832\n",
      "94887512\n"
     ]
    }
   ],
   "source": [
    "print(id(ab['anmol']))\n",
    "print(id(ab['moksh']))"
   ]
  },
  {
   "cell_type": "code",
   "execution_count": 1,
   "metadata": {},
   "outputs": [
    {
     "name": "stdout",
     "output_type": "stream",
     "text": [
      "swaroopch.com\n",
      "wall.org\n",
      "hotnmail.com\n",
      "gmail.com\n",
      "gil.com\n",
      "gol.com\n",
      "gmail.com\n",
      "gmail.com\n",
      "yahoo.com\n",
      "gil.com\n",
      "gmail.com\n",
      "count of email is  {'swaroopch.com': 1, 'wall.org': 1, 'hotnmail.com': 1, 'gmail.com': 4, 'gil.com': 2, 'gol.com': 1, 'yahoo.com': 1}\n",
      "enter the username for which mail to be searched: anmol\n",
      "email of  anmol is  anmol@gmail.com\n",
      "Reversed dictionary is  {1: 'yahoo.com', 4: 'gmail.com', 2: 'gil.com'}\n"
     ]
    }
   ],
   "source": [
    "def createdic():\n",
    "    ab={'swaroop':'swaroop@swaroopch.com',\n",
    "    'larry':'larry@wall.org',\n",
    "       'spammer':'spameer@hotnmail.com',\n",
    "       'anmol':'anmol@gmail.com',\n",
    "       'moksh':'moksH@gil.com',\n",
    "       'kartik':'kartik@gol.com',\n",
    "        'h1':'mH@gmail.com',\n",
    "        'anmeeol':'anmeeol@gmail.com',\n",
    "        'moksssh':'moksH@yahoo.com',\n",
    "        'karxxtik':'kartik@gil.com',\n",
    "        'h':'mH@gmail.com'\n",
    "      }\n",
    "    #ab['spammer']='aa@gmail.com' #overwrite as key is same\n",
    "    \n",
    "    return ab\n",
    "\n",
    "\n",
    "\n",
    "\n",
    "#network analyst\n",
    "gm=0\n",
    "lst=[]\n",
    "revd={}\n",
    "histo={}  #empty dictionary  or histogram\n",
    "def hist(ab):\n",
    "    for i in ab.values():\n",
    "        s=i.find('@')\n",
    "        a=i[i.find('@')+1:]\n",
    "        print(a)\n",
    "        lst.append(a)\n",
    "        if a in histo:\n",
    "            #this email id is already present in dictionary\n",
    "            histo[a]=histo[a]+1\n",
    "        else:\n",
    "            #this email id is  not already present in dictionary\n",
    "            histo[a]=1\n",
    "\n",
    "#reverse dict\n",
    "# {0:['yahoo.com','hotmail.com'],1:[wal.org]}\n",
    "# def revdict(ab): \n",
    "    \n",
    "def lookupdict(dict,value):\n",
    "    if value in dict:\n",
    "        return dict[value]\n",
    "    else:\n",
    "        print(\"not found\")\n",
    "    \n",
    "    \n",
    "    \n",
    "def main():\n",
    "    mail=input('enter the username for which mail to be searched: ')\n",
    "    v=lookupdict(ab,mail)\n",
    "    print(\"email of \", mail , \"is \",v)\n",
    "         \n",
    "            \n",
    "    \n",
    "def main1():\n",
    "    ab=createdic()\n",
    "    hist(ab)\n",
    "    print(\"count of email is \",histo)\n",
    "    mail=input('enter the username for which mail to be searched: ')\n",
    "    v=lookupdict(ab,'anmol')\n",
    "    print(\"email of \", mail , \"is \",v)\n",
    "    \n",
    "    \n",
    "    revd= {value : key for (key, value) in histo.items()}\n",
    "    print(\"Reversed dictionary is \", revd)   \n",
    "    \n",
    "    \n",
    "main1()\n",
    "\n",
    "#histogram\n",
    "#{'swaroopch.com': 1, 'wall.org': 1, 'gmail.com': 3, 'gil.com': 2}\n",
    "\n",
    "\n",
    "\n",
    "#reverse dict\n",
    "# {0:['yahoo.com','hotmail.com'],1:[wal.org]}\n"
   ]
  },
  {
   "cell_type": "code",
   "execution_count": 60,
   "metadata": {},
   "outputs": [
    {
     "name": "stdout",
     "output_type": "stream",
     "text": [
      "{'swaroopch.com': 1, 'wall.org': 1, 'gmail.com': 4}\n"
     ]
    }
   ],
   "source": [
    "lst1=[1,1,3,4]\n",
    "res={}\n",
    "for key in lst:\n",
    "    for value in lst1:\n",
    "        res[key]=value\n",
    "        lst1.remove(value)\n",
    "        break\n",
    "        \n",
    "print(str(res))"
   ]
  },
  {
   "cell_type": "code",
   "execution_count": 62,
   "metadata": {},
   "outputs": [
    {
     "name": "stdout",
     "output_type": "stream",
     "text": [
      "anmol@gmail.com\n"
     ]
    }
   ],
   "source": [
    "if 'anmol' in ab:\n",
    "    print(ab['anmol'])"
   ]
  },
  {
   "cell_type": "code",
   "execution_count": 78,
   "metadata": {},
   "outputs": [
    {
     "name": "stdout",
     "output_type": "stream",
     "text": [
      "enter the username for which mail to be searched: anmol\n",
      "email of  anmol is  anmol@gmail.com\n",
      "enter the username for which mail to be searched: moksh\n",
      "email of  moksh is  moksH@gil.com\n"
     ]
    }
   ],
   "source": [
    "#finding a value in dict\n",
    "#lookup in a dictionary\n",
    "def lookupdict(dict,value):\n",
    "    if value in dict:\n",
    "        return dict[value]\n",
    "    else:\n",
    "        print(\"not found\")\n",
    "    \n",
    "    \n",
    "    \n",
    "def main():\n",
    "    mail=input('enter the username for which mail to be searched: ')\n",
    "    v=lookupdict(ab,mail)\n",
    "    print(\"email of \", mail , \"is \",v)\n",
    "main()\n",
    "main()"
   ]
  },
  {
   "cell_type": "code",
   "execution_count": null,
   "metadata": {},
   "outputs": [],
   "source": [
    "#reverse dict\n",
    "# {1:['yahoo.com','hotmail.com'],0:[rediff.com]}\n"
   ]
  },
  {
   "cell_type": "code",
   "execution_count": 114,
   "metadata": {},
   "outputs": [
    {
     "ename": "KeyError",
     "evalue": "'swaroopch.com'",
     "output_type": "error",
     "traceback": [
      "\u001b[1;31m---------------------------------------------------------------------------\u001b[0m",
      "\u001b[1;31mKeyError\u001b[0m                                  Traceback (most recent call last)",
      "\u001b[1;32m<ipython-input-114-b5a7be571ee0>\u001b[0m in \u001b[0;36m<module>\u001b[1;34m\u001b[0m\n\u001b[0;32m     27\u001b[0m     \u001b[0mrevd\u001b[0m \u001b[1;33m=\u001b[0m \u001b[0mrevdict\u001b[0m\u001b[1;33m(\u001b[0m\u001b[0mhist\u001b[0m\u001b[1;33m)\u001b[0m\u001b[1;33m\u001b[0m\u001b[1;33m\u001b[0m\u001b[0m\n\u001b[0;32m     28\u001b[0m     \u001b[0mprint\u001b[0m\u001b[1;33m(\u001b[0m\u001b[1;34m\"Reversed dictionary is \"\u001b[0m\u001b[1;33m,\u001b[0m \u001b[0mrevd\u001b[0m\u001b[1;33m)\u001b[0m\u001b[1;33m\u001b[0m\u001b[1;33m\u001b[0m\u001b[0m\n\u001b[1;32m---> 29\u001b[1;33m \u001b[0mmain\u001b[0m\u001b[1;33m(\u001b[0m\u001b[1;33m)\u001b[0m\u001b[1;33m\u001b[0m\u001b[1;33m\u001b[0m\u001b[0m\n\u001b[0m\u001b[0;32m     30\u001b[0m     \u001b[1;31m#reverse dictionary\u001b[0m\u001b[1;33m\u001b[0m\u001b[1;33m\u001b[0m\u001b[1;33m\u001b[0m\u001b[0m\n\u001b[0;32m     31\u001b[0m \u001b[1;31m#{1: ['yahoo.com', 'hotmail.com'],  2: ['rediff.com'], 3: ['gmail.com', 'nielit.com']    }\u001b[0m\u001b[1;33m\u001b[0m\u001b[1;33m\u001b[0m\u001b[1;33m\u001b[0m\u001b[0m\n",
      "\u001b[1;32m<ipython-input-114-b5a7be571ee0>\u001b[0m in \u001b[0;36mmain\u001b[1;34m()\u001b[0m\n\u001b[0;32m     21\u001b[0m \u001b[1;32mdef\u001b[0m \u001b[0mmain\u001b[0m\u001b[1;33m(\u001b[0m\u001b[1;33m)\u001b[0m\u001b[1;33m:\u001b[0m\u001b[1;33m\u001b[0m\u001b[1;33m\u001b[0m\u001b[0m\n\u001b[0;32m     22\u001b[0m     \u001b[0mmaildict\u001b[0m\u001b[1;33m=\u001b[0m\u001b[0mcreatedic\u001b[0m\u001b[1;33m(\u001b[0m\u001b[1;33m)\u001b[0m\u001b[1;33m\u001b[0m\u001b[1;33m\u001b[0m\u001b[0m\n\u001b[1;32m---> 23\u001b[1;33m     \u001b[0mhist\u001b[0m\u001b[1;33m=\u001b[0m \u001b[0mhistogram\u001b[0m\u001b[1;33m(\u001b[0m\u001b[0mmaildict\u001b[0m\u001b[1;33m)\u001b[0m\u001b[1;33m\u001b[0m\u001b[1;33m\u001b[0m\u001b[0m\n\u001b[0m\u001b[0;32m     24\u001b[0m     \u001b[0mprint\u001b[0m\u001b[1;33m(\u001b[0m\u001b[1;34m\"count of emails is \"\u001b[0m\u001b[1;33m,\u001b[0m \u001b[0mhist\u001b[0m\u001b[1;33m)\u001b[0m\u001b[1;33m\u001b[0m\u001b[1;33m\u001b[0m\u001b[0m\n\u001b[0;32m     25\u001b[0m     \u001b[0mv\u001b[0m\u001b[1;33m=\u001b[0m\u001b[0mlookup\u001b[0m\u001b[1;33m(\u001b[0m\u001b[0mmaildic\u001b[0m\u001b[1;33m,\u001b[0m\u001b[1;34m\"rajat\"\u001b[0m\u001b[1;33m)\u001b[0m\u001b[1;33m\u001b[0m\u001b[1;33m\u001b[0m\u001b[0m\n",
      "\u001b[1;32m<ipython-input-114-b5a7be571ee0>\u001b[0m in \u001b[0;36mhistogram\u001b[1;34m(maildict)\u001b[0m\n\u001b[0;32m     12\u001b[0m         \u001b[1;32mif\u001b[0m \u001b[0mmailid\u001b[0m \u001b[1;32min\u001b[0m \u001b[0mcount\u001b[0m\u001b[1;33m:\u001b[0m\u001b[1;33m\u001b[0m\u001b[1;33m\u001b[0m\u001b[0m\n\u001b[0;32m     13\u001b[0m             \u001b[1;31m#this email id already present in dict\u001b[0m\u001b[1;33m\u001b[0m\u001b[1;33m\u001b[0m\u001b[1;33m\u001b[0m\u001b[0m\n\u001b[1;32m---> 14\u001b[1;33m             \u001b[0mhist\u001b[0m\u001b[1;33m[\u001b[0m\u001b[0mmailid\u001b[0m\u001b[1;33m]\u001b[0m \u001b[1;33m=\u001b[0m \u001b[0mhist\u001b[0m\u001b[1;33m[\u001b[0m\u001b[0mmailid\u001b[0m\u001b[1;33m]\u001b[0m \u001b[1;33m+\u001b[0m \u001b[1;36m1\u001b[0m\u001b[1;33m\u001b[0m\u001b[1;33m\u001b[0m\u001b[0m\n\u001b[0m\u001b[0;32m     15\u001b[0m         \u001b[1;32melse\u001b[0m\u001b[1;33m:\u001b[0m\u001b[1;33m\u001b[0m\u001b[1;33m\u001b[0m\u001b[0m\n\u001b[0;32m     16\u001b[0m             \u001b[1;31m#this is a new value or not present in dict\u001b[0m\u001b[1;33m\u001b[0m\u001b[1;33m\u001b[0m\u001b[1;33m\u001b[0m\u001b[0m\n",
      "\u001b[1;31mKeyError\u001b[0m: 'swaroopch.com'"
     ]
    }
   ],
   "source": [
    "# # hashing is the fastest search technique\n",
    "# #loop\n",
    "# def lookupdict( maildict, mail  ):\n",
    "#     if mail in maildict:\n",
    "#         return maildict[mail]\n",
    "#     else:\n",
    "#         return \"Not Found\" \n",
    "# def histogram(maildict):\n",
    "#     hist={}\n",
    "#     for i in maildict.values():\n",
    "#         mailid=(i[i.find(\"@\")+1: ])\n",
    "#         if mailid in count:\n",
    "#             #this email id already present in dict\n",
    "#             hist[mailid] = hist[mailid] + 1\n",
    "#         else:\n",
    "#             #this is a new value or not present in dict\n",
    "#             hist[mailid] = 1\n",
    "#     return hist\n",
    "# #building a histogram\n",
    "# #gmail.com :5  , nielit.gov.in: 6, yahoo.com : 2, \n",
    "# def main():\n",
    "#     maildict=createdic()\n",
    "#     hist= histogram(maildict)\n",
    "#     print(\"count of emails is \", hist)\n",
    "#     v=lookup(maildic,\"rajat\")\n",
    "#     print(\"Email of\", mail, \" is \", v)\n",
    "#     revd = revdict(hist)\n",
    "#     print(\"Reversed dictionary is \", revd)\n",
    "# main()   \n",
    "#     #reverse dictionary\n",
    "# #{1: ['yahoo.com', 'hotmail.com'],  2: ['rediff.com'], 3: ['gmail.com', 'nielit.com']    }"
   ]
  },
  {
   "cell_type": "code",
   "execution_count": null,
   "metadata": {},
   "outputs": [
    {
     "name": "stdout",
     "output_type": "stream",
     "text": [
      "Count of email is  {'swaroopch.com': 1, 'wall.org': 1, 'hotnmail.com': 1, 'gmail.com': 4, 'gil.com': 2, 'gol.com': 1, 'yahoo.com': 1}\n"
     ]
    }
   ],
   "source": [
    "def createdic():\n",
    "    ab={'swaroop':'swaroop@swaroopch.com',\n",
    "    'larry':'larry@wall.org',\n",
    "       'spammer':'spameer@hotnmail.com',\n",
    "       'anmol':'anmol@gmail.com',\n",
    "       'moksh':'moksH@gil.com',\n",
    "       'kartik':'kartik@gol.com',\n",
    "        'h1':'mH@gmail.com',\n",
    "        'anmeeol':'anmeeol@gmail.com',\n",
    "        'moksssh':'moksH@yahoo.com',\n",
    "        'karxxtik':'kartik@gil.com',\n",
    "        'h':'mH@gmail.com'\n",
    "      }\n",
    "    #ab['spammer']='aa@gmail.com' #overwrite as key is same\n",
    "    \n",
    "    return ab\n",
    "\n",
    "\n",
    "\n",
    "\n",
    "#network analyst\n",
    "gm=0\n",
    "lst=[]\n",
    "revd={}\n",
    "histo={}  #empty dictionary  or histogram\n",
    "def hist(ab):\n",
    "    for i in ab.values():\n",
    "        s=i.find('@')\n",
    "        a=i[i.find('@')+1:]\n",
    "        lst.append(a)\n",
    "        if a in histo:\n",
    "            #this email id is already present in dictionary\n",
    "            histo[a]=histo[a]+1\n",
    "        else:\n",
    "            #this email id is  not already present in dictionary\n",
    "            histo[a]=1\n",
    "\n",
    "#reverse dict\n",
    "# {0:['yahoo.com','hotmail.com'],1:[wal.org]}\n",
    "# def revdict(ab): \n",
    "    \n",
    "def lookupdict(dict,value):\n",
    "    if value in dict:\n",
    "        return dict[value]\n",
    "    else:\n",
    "        print(\"not found\")\n",
    "        \n",
    "def revdict(hist):\n",
    "    revd={}\n",
    "    for key,value in histo.items():\n",
    "        if value in revd:\n",
    "            revd[value].append(key)\n",
    "        else:\n",
    "            revd[value]=[key]\n",
    "    return revd    \n",
    "    \n",
    "    \n",
    "def main():\n",
    "    mail=input('Enter the username for which mail to be searched: ')\n",
    "    v=lookupdict(ab,mail)\n",
    "    print(\"email of \", mail , \"is \",v)\n",
    "         \n",
    "            \n",
    "    \n",
    "def main1():\n",
    "    ab=createdic()\n",
    "    hist(ab)\n",
    "    print(\"Count of email is \",histo)\n",
    "    mail=input('Enter the username for which mail to be searched: ')\n",
    "    v=lookupdict(ab,mail)\n",
    "    print(\"email of \", mail , \"is \",v)\n",
    "    \n",
    "    \n",
    "    revd= revdict(histo)\n",
    "    print(\"Reversed dictionary is \", revd)   \n",
    "    \n",
    "    \n",
    "main1()\n",
    "print(histo.items())\n",
    "#histogram\n",
    "#{'swaroopch.com': 1, 'wall.org': 1, 'gmail.com': 3, 'gil.com': 2}\n",
    "\n",
    "\n",
    "\n",
    "#reverse dict\n",
    "# {0:['yahoo.com','hotmail.com'],1:[wal.org]}\n"
   ]
  },
  {
   "cell_type": "code",
   "execution_count": 28,
   "metadata": {},
   "outputs": [
    {
     "name": "stdout",
     "output_type": "stream",
     "text": [
      "[('swaroop', 'swaroop@swaroopch.com'), ('larry', 'larry@wall.org'), ('spammer', 'spameer@hotnmail.com')]\n"
     ]
    }
   ],
   "source": [
    "#convert dict to list\n",
    "\n",
    "ab={'swaroop':'swaroop@swaroopch.com',\n",
    "    'larry':'larry@wall.org',\n",
    "       'spammer':'spameer@hotnmail.com'}\n",
    "    \n",
    "k=list(ab.items())\n",
    "type(k)\n",
    "print(k)"
   ]
  },
  {
   "cell_type": "code",
   "execution_count": 30,
   "metadata": {},
   "outputs": [
    {
     "data": {
      "text/plain": [
       "('swaroop', 'swaroop@swaroopch.com')"
      ]
     },
     "execution_count": 30,
     "metadata": {},
     "output_type": "execute_result"
    }
   ],
   "source": [
    "k1=list(ab.items())[0]\n",
    "k1\n"
   ]
  },
  {
   "cell_type": "code",
   "execution_count": 34,
   "metadata": {},
   "outputs": [
    {
     "name": "stdout",
     "output_type": "stream",
     "text": [
      "{1: 2, 3: 4}\n"
     ]
    },
    {
     "data": {
      "text/plain": [
       "dict"
      ]
     },
     "execution_count": 34,
     "metadata": {},
     "output_type": "execute_result"
    }
   ],
   "source": [
    "#convert list to dict\n",
    "lst=[(1,2),(3,4)]\n",
    "g=dict(lst)\n",
    "\n",
    "print(g)\n",
    "type(g)"
   ]
  },
  {
   "cell_type": "code",
   "execution_count": 37,
   "metadata": {},
   "outputs": [
    {
     "name": "stdout",
     "output_type": "stream",
     "text": [
      "<class 'set'>\n"
     ]
    },
    {
     "data": {
      "text/plain": [
       "{1, 6, 7, 10}"
      ]
     },
     "execution_count": 37,
     "metadata": {},
     "output_type": "execute_result"
    }
   ],
   "source": [
    "#sets\n",
    "a={1,6,7}\n",
    "print(type(a))\n",
    "a.add(10)\n",
    "a\n",
    "\n"
   ]
  },
  {
   "cell_type": "code",
   "execution_count": 38,
   "metadata": {},
   "outputs": [
    {
     "name": "stdout",
     "output_type": "stream",
     "text": [
      "unique in a {1, 2, 3}\n",
      "unique in b {1, 2, 3, 5, 6, 7, 8, 9}\n"
     ]
    },
    {
     "data": {
      "text/plain": [
       "[5, 6, 7, 8, 9]"
      ]
     },
     "execution_count": 38,
     "metadata": {},
     "output_type": "execute_result"
    }
   ],
   "source": [
    "#take two lists\n",
    "a=[1,2,3,1,2]\n",
    "b=[1,5,6,2,3,1,5,6,7,8,9,2]\n",
    "#output = [5,6,7,8,9]\n",
    "a=set(a)\n",
    "print(\"unique in a\",a)\n",
    "b=set(b)\n",
    "print(\"unique in b\",b)\n",
    "lst2=list(b.difference(a))\n",
    "lst2"
   ]
  },
  {
   "cell_type": "code",
   "execution_count": 40,
   "metadata": {},
   "outputs": [
    {
     "data": {
      "text/plain": [
       "[5, 6, 7, 8, 9]"
      ]
     },
     "execution_count": 40,
     "metadata": {},
     "output_type": "execute_result"
    }
   ],
   "source": [
    "list(set(b)-set(a))"
   ]
  },
  {
   "cell_type": "code",
   "execution_count": null,
   "metadata": {},
   "outputs": [],
   "source": [
    "#adding values\n",
    "##lists -> append\n",
    "# dictionary-> d[newkey]=value\n",
    "# set-> set.add\n",
    "\n",
    "\n"
   ]
  },
  {
   "cell_type": "code",
   "execution_count": null,
   "metadata": {},
   "outputs": [],
   "source": [
    "#pangrams\n",
    "#Enter a string ..... print whether its a pangram\n",
    "str=\"a quick brown fox jumps over the lazy dog\"\n",
    "alpha= \"abcdefghijklmnopqrstuvwxyz\"\n",
    "temp=0\n",
    "for i in alpha:\n",
    "    if i in str:\n",
    "        temp=1     \n",
    "    else:\n",
    "        temp=0\n",
    "        break\n",
    "if temp==1:\n",
    "    print(\"its a panagram\")\n",
    "else:\n",
    "    print(\"its not a panagram\")"
   ]
  },
  {
   "cell_type": "code",
   "execution_count": 41,
   "metadata": {},
   "outputs": [
    {
     "name": "stdout",
     "output_type": "stream",
     "text": [
      "{'r', 'a', 'p', 'c', 'n', 'q', 'h', 'o', 'w', 't', 'v', 's', 'g', 'i', 'j', 'z', 'm', 'k', 'e', 'l', 'b', 'd', 'y', 'u', 'x', 'f'}\n"
     ]
    },
    {
     "data": {
      "text/plain": [
       "True"
      ]
     },
     "execution_count": 41,
     "metadata": {},
     "output_type": "execute_result"
    }
   ],
   "source": [
    "import string\n",
    "def ispangram(str,a=string.ascii_lowercase):\n",
    "    b=set(a)\n",
    "    print(b)\n",
    "    return b <= set(str.lower()) \n",
    "ispangram(\"a quick Brown fox jumps over the lazy dog\")"
   ]
  },
  {
   "cell_type": "code",
   "execution_count": 43,
   "metadata": {},
   "outputs": [],
   "source": [
    "# Q1 Write a program that reads a word list from a ﬁle (see Section 9.1) and prints all the sets of words that are anagrams. \n",
    "# Here is an example of what the output might look like:\n",
    "# ['deltas', 'desalt', 'lasted', 'salted', 'slated', 'staled'] ['retainers', 'ternaries'] ['generating', 'greatening'] \n",
    "# ['resmelts', 'smelters', 'termless']\n",
    "# Hint: you might want to build a dictionary that maps from a set of letters to a list of words that can be spelled\n",
    "#     with those letters. The question is, how can you represent the set of letters in a way that can be used as a key?\n",
    "# Q2. Modify the previous program so that it prints the largest set of anagrams ﬁrst,followed by the second largest set, \n",
    "# and so on.\n",
    "\n",
    "\n"
   ]
  },
  {
   "cell_type": "code",
   "execution_count": 49,
   "metadata": {},
   "outputs": [
    {
     "data": {
      "text/plain": [
       "{1: 2, 3: 4, 5: 6}"
      ]
     },
     "execution_count": 49,
     "metadata": {},
     "output_type": "execute_result"
    }
   ],
   "source": [
    "h=[1,2,3,4,5,6]\n",
    "dict(zip(h[0::2],h[1::2]))\n"
   ]
  },
  {
   "cell_type": "code",
   "execution_count": 61,
   "metadata": {},
   "outputs": [
    {
     "name": "stdout",
     "output_type": "stream",
     "text": [
      "a-brown-dog-fox-jumps-lazy-over-quick-the\n"
     ]
    }
   ],
   "source": [
    "s=\"a quick brown fox jumps over the lazy dog\"\n",
    "a=s.split(' ')\n",
    "a.sort()\n",
    "\n",
    "print(\"-\".join(a))\n",
    "# b=(\"-\".join(a))"
   ]
  }
 ],
 "metadata": {
  "kernelspec": {
   "display_name": "Python 3",
   "language": "python",
   "name": "python3"
  },
  "language_info": {
   "codemirror_mode": {
    "name": "ipython",
    "version": 3
   },
   "file_extension": ".py",
   "mimetype": "text/x-python",
   "name": "python",
   "nbconvert_exporter": "python",
   "pygments_lexer": "ipython3",
   "version": "3.8.5"
  }
 },
 "nbformat": 4,
 "nbformat_minor": 4
}
