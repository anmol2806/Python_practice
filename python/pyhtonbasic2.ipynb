{
 "cells": [
  {
   "cell_type": "code",
   "execution_count": 45,
   "metadata": {},
   "outputs": [
    {
     "name": "stdout",
     "output_type": "stream",
     "text": [
      "7.0\n"
     ]
    }
   ],
   "source": [
    "names=[\"anmol\",\"kartik\",\"moksh\",\"tom\"]\n",
    "value=[10,9,1,8]\n",
    "mapped=zip(names,value)\n",
    "l=list(mapped)\n",
    "l[2][0]\n",
    "sum=0\n",
    "for i in range(4):\n",
    "    sum=sum+l[i][1]\n",
    "print(sum/4)\n",
    "\n"
   ]
  },
  {
   "cell_type": "code",
   "execution_count": null,
   "metadata": {},
   "outputs": [],
   "source": [
    "def average():\n",
    "    name = [ \"Manjeet\", \"Nikhil\", \"Shambhavi\", \"Astha\" ]\n",
    "    roll_no = [ 4, 1, 3, 2 ]\n",
    "    marks = [ 40, 50, 60, 70 ]\n",
    "    # using zip() to map values\n",
    "    mapped = zip(name, roll_no, marks)\n",
    "    student= list(mapped)\n",
    "    student[0][0]\n",
    "    student[1][0]\n",
    "    student[2][0]\n",
    "    student[3][0]\n",
    "    sum=0\n",
    "    for i in range(4):\n",
    "        sum=sum + student[i][2]\n",
    "    avg=sum/4\n",
    "    print(avg)\n",
    "average()\n",
    "from Anita Budhiraja to everyone:    1:29 PM\n",
    "#build a list\n",
    "def makelist():\n",
    "    oddlst=[]\n",
    "    evenlst=[]\n",
    "    for i in range (1,6):\n",
    "        n=int(input(\"enter the number\")) \n",
    "        if n%2 ==0:\n",
    "            evenlst.append(n)\n",
    "        else:\n",
    "            oddlst.append(n)\n",
    "    \n",
    "    return oddlst, evenlst\n",
    "o,e=makelist( )\n",
    "print(\"Odd list is \" , o)\n",
    "print(\"Even list is \", e)\n"
   ]
  },
  {
   "cell_type": "code",
   "execution_count": 20,
   "metadata": {},
   "outputs": [
    {
     "name": "stdout",
     "output_type": "stream",
     "text": [
      "S,a,m,m,y, ,h,a,s, ,a, ,b,a,l,l,o,o,n\n",
      "n o o l l a b   a   s a h   y m m a S\n"
     ]
    }
   ],
   "source": [
    "balloon= \"Sammy has a balloon\"\n",
    "print(\",\".join(balloon))\n",
    "print(\" \".join(reversed(balloon)))\n"
   ]
  },
  {
   "cell_type": "code",
   "execution_count": 35,
   "metadata": {},
   "outputs": [
    {
     "name": "stdout",
     "output_type": "stream",
     "text": [
      "id of s is 1411282224\n",
      "id of a is 1411282144\n",
      "id of b is 1411282160\n",
      "9\n",
      "id of s1 is 1411282224\n",
      "1411282224\n"
     ]
    }
   ],
   "source": [
    "#functions\n",
    "#modules=set of functions which are self sufficient\n",
    "#functions are used to do repetitive task\n",
    "#def is used to define a functions\n",
    "def sum(a,b):\n",
    "    s=a+b\n",
    "    print(\"id of s is\",id(s))\n",
    "   \n",
    "    return s\n",
    "s1=sum(4,5)\n",
    "print(s1)\n",
    "print(\"id of s1 is\",id(s1))\n",
    "s2=9\n",
    "print(id(s2))\n"
   ]
  },
  {
   "cell_type": "code",
   "execution_count": 38,
   "metadata": {},
   "outputs": [
    {
     "name": "stdout",
     "output_type": "stream",
     "text": [
      "id of s is 1411282224\n",
      "9\n"
     ]
    }
   ],
   "source": [
    "#calling of function within function\n",
    "def sum(a,b):\n",
    "    s=a+b\n",
    "    print(\"id of s is\",id(s))\n",
    "   \n",
    "    return s\n",
    "def callsum():\n",
    "    s1=sum(4,5)\n",
    "    print(s1)\n",
    "callsum()\n",
    "\n",
    "#output\n",
    "# id of s is 1411282224\n",
    "# 9\n",
    "\n",
    "\n",
    "\n",
    "\n",
    "#if we enter only \"callsum\" then it will show\n",
    "# <function __main__.callsum()>"
   ]
  },
  {
   "cell_type": "code",
   "execution_count": 69,
   "metadata": {},
   "outputs": [
    {
     "name": "stdout",
     "output_type": "stream",
     "text": [
      "enter first number85\n",
      "enter second number5\n",
      "sum of numbers is 90\n",
      "subtraction of numbers is 80\n",
      "multiplication of numbers is 425\n",
      "division of numbers is 17.0\n"
     ]
    }
   ],
   "source": [
    "#add,sub,div,mul of two numbers using functions\n",
    "\n",
    "def sum(a,b):\n",
    "    s=a+b\n",
    "    return s\n",
    "def sub(a,b):\n",
    "    s=a-b\n",
    "    return s\n",
    "def mult(a,b):\n",
    "    s=a*b\n",
    "    return s\n",
    "def divide(a,b):\n",
    "    s=a/b\n",
    "    return s\n",
    "def inpt():\n",
    "    a=int(input(\"enter first number\"))\n",
    "    b=int(input(\"enter second number\"))\n",
    "    return a,b\n",
    "def calc(a,b):\n",
    "    print(\"sum of numbers is\",sum(a,b))\n",
    "    print(\"subtraction of numbers is\",sub(a,b))\n",
    "    print(\"multiplication of numbers is\",mult(a,b))\n",
    "    print(\"division of numbers is\",divide(a,b))\n",
    "def main1():\n",
    "    a,b=inpt()\n",
    "    calc(a,b)\n",
    "    \n",
    "    \n",
    "main1()\n"
   ]
  },
  {
   "cell_type": "code",
   "execution_count": null,
   "metadata": {},
   "outputs": [],
   "source": [
    "def sum(a,b):\n",
    "    s=a+b\n",
    "    return s\n",
    "def sub(a,b):\n",
    "    s=a-b\n",
    "    return s\n",
    "def mult(a,b):\n",
    "    s=a*b\n",
    "    return s\n",
    "def divide(a,b):\n",
    "    s=a/b\n",
    "    return s\n",
    "\n",
    "def calc():\n",
    "    a=int(input(\"enter first number\"))\n",
    "    b=int(input(\"enter second number\"))\n",
    "    print(\"sum of numbers is\",sum(a,b))\n",
    "    print(\"subtraction of numbers is\",sub(a,b))\n",
    "    print(\"multiplication of numbers is\",mult(a,b))\n",
    "    print(\"division of numbers is\",divide(a,b))"
   ]
  },
  {
   "cell_type": "code",
   "execution_count": 84,
   "metadata": {},
   "outputs": [
    {
     "name": "stdout",
     "output_type": "stream",
     "text": [
      "Enter a number55845\n",
      "9\n"
     ]
    }
   ],
   "source": [
    "#sum of digits of number by me\n",
    "\n",
    "def sumofdigits():\n",
    "    n= int(input(\"Enter a number\"))\n",
    "    sum=0\n",
    "    while(n>0 or sum>9):\n",
    "        if(n == 0): \n",
    "            n = sum\n",
    "            sum = 0\n",
    "        sum=sum+ int(n%10)\n",
    "        n=int(n/10)\n",
    "    \n",
    "    print(sum)\n",
    "sumofdigits()"
   ]
  },
  {
   "cell_type": "code",
   "execution_count": 89,
   "metadata": {},
   "outputs": [
    {
     "name": "stdout",
     "output_type": "stream",
     "text": [
      "Enter a no. = 55569\n",
      "Sum of digits = 3\n"
     ]
    }
   ],
   "source": [
    "#sum of digits of number by me again\n",
    "a = eval(input(\"Enter a no. = \"))\n",
    "def main3(a):\n",
    "    b = add(a)\n",
    "    if b<10:\n",
    "        print(\"Sum of digits =\",b)\n",
    "    else:\n",
    "        main3(b)    \n",
    "\n",
    "    \n",
    "def add(n):\n",
    "    b=0\n",
    "    while n>0:\n",
    "        b += n%10\n",
    "        n //= 10\n",
    "    return b\n",
    "main3(a)"
   ]
  },
  {
   "cell_type": "code",
   "execution_count": 96,
   "metadata": {},
   "outputs": [
    {
     "name": "stdout",
     "output_type": "stream",
     "text": [
      "Sum 29\n"
     ]
    }
   ],
   "source": [
    "#74567 by maam\n",
    "def sumdigit(n):\n",
    "    sum=0\n",
    "    while n!=0:\n",
    "        q=n//10      #q=7456, 745,74,7,0\n",
    "        r=n%10       #r =7,6,5,4,7\n",
    "        sum=sum+r    #sum+7,sum+6,sum+5,sum+4,sum+7\n",
    "        n=q          #n=q=7456,    745,74,7\n",
    "    print(\"Sum of digits is \" ,sum)  \n",
    "sumdigit(74567)\n",
    "\n",
    "\n",
    "\n"
   ]
  },
  {
   "cell_type": "code",
   "execution_count": 105,
   "metadata": {},
   "outputs": [
    {
     "name": "stdout",
     "output_type": "stream",
     "text": [
      "enter number454885\n",
      "Sum of digits is  7\n"
     ]
    }
   ],
   "source": [
    "#74567 by maam using two functions for sum upto single digit\n",
    "def sumdigit(n):\n",
    "    sum=0\n",
    "    while n!=0:\n",
    "        q=n//10      #q=7456, 745,74,7,0\n",
    "        r=n%10       #r =7,6,5,4,7\n",
    "        sum=sum+r    #sum+7,sum+6,sum+5,sum+4,sum+7\n",
    "        n=q          #n=q=7456,    745,74,7,0\n",
    "    return sum\n",
    "    \n",
    "def a():\n",
    "    n=int(input(\"enter number\"))\n",
    "    while (n>9):\n",
    "        n=sumdigit(n)\n",
    "    print(\"Sum of digits is \" ,n) \n",
    "    \n",
    "a() \n"
   ]
  },
  {
   "cell_type": "code",
   "execution_count": 118,
   "metadata": {},
   "outputs": [
    {
     "name": "stdout",
     "output_type": "stream",
     "text": [
      "How many No's for average2\n",
      "Enter :2426\n",
      "Enter :2425\n",
      "average is  2425.5\n",
      "list is [2426, 2425]\n",
      "[2426, 2425]\n",
      "101422472\n",
      "101127112\n"
     ]
    }
   ],
   "source": [
    "#find avg\n",
    "n= int(input(\"How many No's for average\"))\n",
    "sum=0\n",
    "lst=[]\n",
    "for i in range(n):\n",
    "    \n",
    "    s= int(input(\"Enter :\"))\n",
    "    #lst.append(s)\n",
    "    lst=lst+[s]\n",
    "    sum=sum+s\n",
    "avg=sum/n\n",
    "print(\"average is \",avg)\n",
    "print(\"list is\",lst)\n",
    "\n",
    "k=lst.copy()\n",
    "print(k)\n",
    "print(id(k))\n",
    "print(id(lst))"
   ]
  },
  {
   "cell_type": "code",
   "execution_count": 120,
   "metadata": {},
   "outputs": [
    {
     "name": "stdout",
     "output_type": "stream",
     "text": [
      "average is  15.0\n",
      "list is [4, 5, 6, 7, 8]\n",
      "[566, 5, 6, 7, 8]\n",
      "[566, 5, 6, 7, 8]\n"
     ]
    }
   ],
   "source": [
    "#list element also changes if if we change k[0] \n",
    "lst2=[4,5,6,7,8]\n",
    "sum=0\n",
    "for i in range(len(lst2)):\n",
    "    sum =sum+lst2[i]\n",
    "avg=sum/n\n",
    "print(\"average is \",avg)\n",
    "print(\"list is\",lst2)\n",
    "\n",
    "k=lst2\n",
    "k[0]=566\n",
    "print(k)\n",
    "print(lst2)\n"
   ]
  },
  {
   "cell_type": "code",
   "execution_count": 124,
   "metadata": {},
   "outputs": [
    {
     "name": "stdout",
     "output_type": "stream",
     "text": [
      "4\n",
      "[4, 5, 6, 7, 8, 4, 5, 6, 8, 4, 4, 'a', 'b', 'c', 'd']\n"
     ]
    }
   ],
   "source": [
    "\n",
    "lst2=[4,5,6,7,8,4,5,6,8,4,4]\n",
    "lst3=['a','b','c','d']\n",
    "print(lst2.count(4))\n",
    "lst2.extend(lst3)\n",
    "print(lst2)\n"
   ]
  },
  {
   "cell_type": "code",
   "execution_count": 132,
   "metadata": {},
   "outputs": [
    {
     "name": "stdout",
     "output_type": "stream",
     "text": [
      "[4, 5, 6, 7, 8, 4, 5, 6, 8, 4, 4, 'a', 'b', 'c', 'd']\n",
      "id of lst2 is 93228360\n",
      "id of lst3 is 15005664\n"
     ]
    }
   ],
   "source": [
    "lst2=[4,5,6,7,8,4,5,6,8,4,4]\n",
    "lst3=['a','b','c','d']\n",
    "lst2=lst2+lst3\n",
    "print(lst2)\n",
    "print(\"id of lst2 is\",id(lst2))\n",
    "# print(\"id of lst3 is\",id(lst3))\n",
    "# print(\"id of lst3 is\",id(lst3[0]))\n",
    "# print(\"id of lst3 is\",id(lst3[1]))\n",
    "# print(\"id of lst3 is\",id(lst3[2]))\n",
    "# id of lst3 is 47728640\n",
    "# id of lst3 is 47760256\n",
    "# id of lst3 is 47671744\n",
    "lst3.insert(2,'x')\n",
    "print(\"id of lst3 is\",id(lst3[2]))\n"
   ]
  },
  {
   "cell_type": "code",
   "execution_count": 141,
   "metadata": {},
   "outputs": [
    {
     "name": "stdout",
     "output_type": "stream",
     "text": [
      "82203984\n",
      "(4, 5, 6, 7)\n",
      "82203984\n"
     ]
    }
   ],
   "source": [
    "#list are mutable but tuples are immutable\n",
    "t=4,5,6,7\n",
    "t[3]\n",
    "print(id(t))\n",
    "# t[3]=4\n",
    "# 'tuple' object does not support item assignment\n",
    "t[0:4]+(t)\n",
    "print(t)\n",
    "print(id(t))"
   ]
  },
  {
   "cell_type": "code",
   "execution_count": 158,
   "metadata": {},
   "outputs": [
    {
     "name": "stdout",
     "output_type": "stream",
     "text": [
      "103202480\n",
      "102009984\n",
      "102707144\n",
      "103202480\n",
      "102707144\n",
      "103232848\n"
     ]
    }
   ],
   "source": [
    "# p=(4,5,6,7)\n",
    "# print(id(p))\n",
    "# p=(4,5,6,7)\n",
    "# print(id(p))\n",
    "# p=(4,5,6,7)\n",
    "# print(id(p))\n",
    "# p=(4,5,6,7)\n",
    "# print(id(p))\n",
    "# p=(4,5,6,7)\n",
    "# print(id(p))\n",
    "# p=(4,5,6,7)\n",
    "# print(id(p))\n",
    "# p=(4,5,6,7)\n",
    "# print(id(p))\n",
    "# 103036480\n",
    "# 103035920\n",
    "# 103036480\n",
    "# 103035920\n",
    "# 103036480\n",
    "# 103035920\n",
    "# 103036480\n",
    "# p=(4,5,6,7)\n",
    "# print(id(p))\n",
    "# p=(4,58,9,6,7)\n",
    "# print(id(p))\n",
    "# p=(4,58,9,6,11)\n",
    "# print(id(p))\n",
    "# p=(4,5,6,8)\n",
    "# print(id(p))\n",
    "# p=(4,58,9,68,7)\n",
    "# print(id(p))\n",
    "# p=(4,58,9,6,21)\n",
    "# print(id(p))\n",
    "# 103202480\n",
    "# 102009984\n",
    "# 102707144\n",
    "# 103202480\n",
    "# 102707144\n",
    "# 103232848"
   ]
  }
 ],
 "metadata": {
  "kernelspec": {
   "display_name": "Python 3",
   "language": "python",
   "name": "python3"
  },
  "language_info": {
   "codemirror_mode": {
    "name": "ipython",
    "version": 3
   },
   "file_extension": ".py",
   "mimetype": "text/x-python",
   "name": "python",
   "nbconvert_exporter": "python",
   "pygments_lexer": "ipython3",
   "version": "3.8.5"
  }
 },
 "nbformat": 4,
 "nbformat_minor": 4
}
